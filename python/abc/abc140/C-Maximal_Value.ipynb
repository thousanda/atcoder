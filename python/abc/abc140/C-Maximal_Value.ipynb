{
 "cells": [
  {
   "cell_type": "code",
   "execution_count": 1,
   "metadata": {},
   "outputs": [
    {
     "data": {
      "application/vnd.jupyter.widget-view+json": {
       "model_id": "fde4ac043f954d699598085b3e761175",
       "version_major": 2,
       "version_minor": 0
      },
      "text/plain": [
       "Textarea(value='')"
      ]
     },
     "metadata": {},
     "output_type": "display_data"
    }
   ],
   "source": [
    "from ipywidgets import Textarea\n",
    "\n",
    "def get_input(change):\n",
    "    global Input\n",
    "    Input=change[\"new\"].splitlines()\n",
    "textarea = Textarea()\n",
    "textarea.observe(get_input, names='value')\n",
    "display(textarea)"
   ]
  },
  {
   "cell_type": "code",
   "execution_count": 2,
   "metadata": {},
   "outputs": [],
   "source": [
    "N = int(Input[0])\n",
    "B = list(map(int, Input[1].split()))"
   ]
  },
  {
   "cell_type": "markdown",
   "metadata": {},
   "source": [
    "$$\n",
    "B_i \\ge max(A_n, A_{n+1}) \\; (n = 1, \\ldots, N-1) \\\\\n",
    "$$\n",
    "$$\n",
    "B_i \\ge max(A_i, A_{i+1}) \\; (i = 0, \\ldots, N-2) \\\\\n",
    "$$\n",
    "$$\n",
    "\\Leftrightarrow \\left\\{\n",
    "  \\begin{align}\n",
    "    B_i \\ge A_i \\; (i = 0, \\ldots, N-2) \\\\\n",
    "    B_i \\ge A_{i+1} \\; (i = 0, \\ldots, N-2)\n",
    "  \\end{align}\n",
    "\\right. \\\\\n",
    "$$\n",
    "$$\n",
    "\\Leftrightarrow \\left\\{\n",
    "  \\begin{align}\n",
    "    B_i \\ge A_i \\; (i = 0, \\ldots, N-2) \\\\\n",
    "    B_{i-1} \\ge A_{i} \\; (i = 1, \\ldots, N-1)\n",
    "  \\end{align}\n",
    "\\right. \\\\\n",
    "$$"
   ]
  },
  {
   "cell_type": "markdown",
   "metadata": {},
   "source": [
    "## debug"
   ]
  },
  {
   "cell_type": "code",
   "execution_count": 7,
   "metadata": {},
   "outputs": [
    {
     "name": "stdout",
     "output_type": "stream",
     "text": [
      "[2, 2, 5]\n",
      "9\n"
     ]
    }
   ],
   "source": [
    "A = [0]*N\n",
    "A[0] = B[0]\n",
    "for i in range(1, N-1):\n",
    "    A[i] = min(B[i-1], B[i])\n",
    "A[-1] = B[-1]\n",
    "print(A)\n",
    "print(sum(A))"
   ]
  },
  {
   "cell_type": "markdown",
   "metadata": {},
   "source": [
    "## submit"
   ]
  },
  {
   "cell_type": "code",
   "execution_count": 9,
   "metadata": {},
   "outputs": [
    {
     "name": "stdin",
     "output_type": "stream",
     "text": [
      " 6\n",
      " 0 153 10 10 23\n"
     ]
    },
    {
     "name": "stdout",
     "output_type": "stream",
     "text": [
      "53\n"
     ]
    }
   ],
   "source": [
    "def main():\n",
    "    N = int(input())\n",
    "    B = list(map(int, input().split()))\n",
    "    A = [0]*N\n",
    "    A[0] = B[0]\n",
    "    for i in range(1, N-1):\n",
    "        A[i] = min(B[i-1], B[i])\n",
    "    A[-1] = B[-1]\n",
    "    print(sum(A))\n",
    "main()"
   ]
  }
 ],
 "metadata": {
  "kernelspec": {
   "display_name": "Python 3",
   "language": "python",
   "name": "python3"
  },
  "language_info": {
   "codemirror_mode": {
    "name": "ipython",
    "version": 3
   },
   "file_extension": ".py",
   "mimetype": "text/x-python",
   "name": "python",
   "nbconvert_exporter": "python",
   "pygments_lexer": "ipython3",
   "version": "3.8.1"
  }
 },
 "nbformat": 4,
 "nbformat_minor": 4
}
