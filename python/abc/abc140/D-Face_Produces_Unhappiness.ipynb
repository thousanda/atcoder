{
 "cells": [
  {
   "cell_type": "code",
   "execution_count": 1,
   "metadata": {},
   "outputs": [
    {
     "data": {
      "application/vnd.jupyter.widget-view+json": {
       "model_id": "9416d8a9f6214770807c6152da8652ba",
       "version_major": 2,
       "version_minor": 0
      },
      "text/plain": [
       "Textarea(value='')"
      ]
     },
     "metadata": {},
     "output_type": "display_data"
    }
   ],
   "source": [
    "from ipywidgets import Textarea\n",
    "\n",
    "def get_input(change):\n",
    "    global Input\n",
    "    Input=change[\"new\"].splitlines()\n",
    "textarea = Textarea()\n",
    "textarea.observe(get_input, names='value')\n",
    "display(textarea)"
   ]
  },
  {
   "cell_type": "code",
   "execution_count": 82,
   "metadata": {},
   "outputs": [],
   "source": [
    "N, K = map(int, Input[0].split())\n",
    "S = Input[1]"
   ]
  },
  {
   "cell_type": "raw",
   "metadata": {},
   "source": [
    "できるだけ隣と同じ方向を向かせる問題  \n",
    "=> 区間が連続するほどいい\n",
    "\n",
    "例1:\n",
    "1 2 3 4 5 6\n",
    "L R L R R L    score = 1\n",
    "2-5\n",
    "L L L R L L    score = 3\n",
    "\n",
    "例2:\n",
    "1 2 3 4 5 6\n",
    "L R L R R L    score = 1\n",
    "1-1\n",
    "L L L R R L    score = 3"
   ]
  },
  {
   "cell_type": "markdown",
   "metadata": {},
   "source": [
    "# 隙間の数を数える!!!\n",
    "隙間の両サイドの人が同じ方向いてたらOK (scoreが1増える)．  \n",
    "隙間はN-1箇所あって、両サイドの人が同じ方を向いてない隙間がa個あったとすると、  \n",
    "1回の操作でscoreは最大2増えるので、答えは min(N-1, N-1-a+2K)"
   ]
  },
  {
   "cell_type": "markdown",
   "metadata": {},
   "source": [
    "## debug"
   ]
  },
  {
   "cell_type": "code",
   "execution_count": 84,
   "metadata": {},
   "outputs": [
    {
     "name": "stdout",
     "output_type": "stream",
     "text": [
      "8\n",
      "9\n"
     ]
    }
   ],
   "source": [
    "# 開始時のscore\n",
    "score = 0\n",
    "for i in range(1, N):\n",
    "    if S[i-1] == S[i]:\n",
    "        score += 1\n",
    "print(score)\n",
    "\n",
    "# 答え\n",
    "print(min(N-1, score + 2*K))"
   ]
  },
  {
   "cell_type": "markdown",
   "metadata": {},
   "source": [
    "## submit"
   ]
  },
  {
   "cell_type": "code",
   "execution_count": 87,
   "metadata": {},
   "outputs": [
    {
     "name": "stdin",
     "output_type": "stream",
     "text": [
      " 6 1\n",
      " LRLRRL\n"
     ]
    },
    {
     "name": "stdout",
     "output_type": "stream",
     "text": [
      "3\n"
     ]
    }
   ],
   "source": [
    "def main():\n",
    "    N, K = map(int, input().split())\n",
    "    S = input()\n",
    "    score = 0\n",
    "    for i in range(1, N):\n",
    "        if S[i-1] == S[i]:\n",
    "            score += 1\n",
    "    print(min(N-1, score + 2*K))\n",
    "main()"
   ]
  },
  {
   "cell_type": "code",
   "execution_count": null,
   "metadata": {},
   "outputs": [],
   "source": []
  },
  {
   "cell_type": "code",
   "execution_count": null,
   "metadata": {},
   "outputs": [],
   "source": []
  },
  {
   "cell_type": "code",
   "execution_count": null,
   "metadata": {},
   "outputs": [],
   "source": []
  },
  {
   "cell_type": "markdown",
   "metadata": {},
   "source": [
    "# TLEのパターン\n",
    "1回の処理で増えるscoreは最大で2．LLLもしくはRRRの塊を丸ごと反転させる (配置の変更は気にしなくてよくなる)  \n",
    "LLLRRRLLLRRLLL  \n",
    "LLLLLLLLLRRLLL  \n",
    "LLLLLLLLLLLLLL  "
   ]
  },
  {
   "cell_type": "markdown",
   "metadata": {},
   "source": [
    "## debug"
   ]
  },
  {
   "cell_type": "code",
   "execution_count": 79,
   "metadata": {},
   "outputs": [
    {
     "name": "stdout",
     "output_type": "stream",
     "text": [
      "[-1, -1, -1, -1, -1, 1, 1, 1, 1, 1]\n",
      "8\n",
      "l=5, r=10\n",
      "[-1, -1, -1, -1, -1, -1, -1, -1, -1, -1]\n",
      "9\n",
      "\n",
      "9\n"
     ]
    }
   ],
   "source": [
    "def evaluate(directions):\n",
    "    N = len(directions)\n",
    "    ans = 0\n",
    "    for i, d in enumerate(directions):\n",
    "        if 0 <= i+d and i+d <= N-1:\n",
    "            if directions[i] == directions[i+d]:\n",
    "                ans += 1\n",
    "    return ans\n",
    "\n",
    "def find_lr(directions):\n",
    "    N = len(directions)\n",
    "    for i in range(1, N):\n",
    "        if directions[i-1] != directions[i]:\n",
    "            l = i\n",
    "            break\n",
    "    else:\n",
    "        l = None\n",
    "        return None, None\n",
    "    \n",
    "    for i in range(l+1, N):\n",
    "        if directions[i-1] != directions[i]:\n",
    "            r = i\n",
    "            break\n",
    "    else:\n",
    "        r = N\n",
    "    return l, r\n",
    "\n",
    "def solve(directions):\n",
    "    l, r = find_lr(directions)\n",
    "    print(f'{l=}, {r=}')\n",
    "    if l is None:\n",
    "        return False\n",
    "    else:\n",
    "        if l is not None:\n",
    "            for i in range(l, r):\n",
    "                directions[i] *= -1\n",
    "        return True \n",
    "    \n",
    "\n",
    "directions = [1 if s==\"R\" else -1 for s in S]\n",
    "print(directions)\n",
    "print(evaluate(directions))\n",
    "\n",
    "for k in range(K):\n",
    "    result = solve(directions)\n",
    "    print(directions)\n",
    "    print(evaluate(directions))\n",
    "    print()\n",
    "    if result == False:\n",
    "        break\n",
    "    \n",
    "print(evaluate(directions))"
   ]
  },
  {
   "cell_type": "markdown",
   "metadata": {},
   "source": [
    "## submit"
   ]
  },
  {
   "cell_type": "code",
   "execution_count": 80,
   "metadata": {},
   "outputs": [
    {
     "name": "stdin",
     "output_type": "stream",
     "text": [
      " 3 1\n",
      " LLR\n"
     ]
    },
    {
     "name": "stdout",
     "output_type": "stream",
     "text": [
      "2\n"
     ]
    }
   ],
   "source": [
    "def evaluate(directions):\n",
    "    ans = 0\n",
    "    for i, d in enumerate(directions):\n",
    "        if 0 <= i+d and i+d <= N-1:\n",
    "            if directions[i] == directions[i+d]:\n",
    "                ans += 1\n",
    "    return ans\n",
    "\n",
    "def find_lr(directions):\n",
    "    N = len(directions)\n",
    "    for i in range(1, N):\n",
    "        if directions[i-1] != directions[i]:\n",
    "            l = i\n",
    "            break\n",
    "    else:\n",
    "        l = None\n",
    "        return None, None\n",
    "    \n",
    "    for i in range(l+1, N):\n",
    "        if directions[i-1] != directions[i]:\n",
    "            r = i\n",
    "            break\n",
    "    else:\n",
    "        r = N\n",
    "    return l, r\n",
    "\n",
    "def solve(directions):\n",
    "    l, r = find_lr(directions)\n",
    "    if l is None:\n",
    "        return False\n",
    "    else:\n",
    "        if l is not None:\n",
    "            for i in range(l, r):\n",
    "                directions[i] *= -1\n",
    "        return True \n",
    "    \n",
    "N, K = map(int, input().split())\n",
    "S = input()\n",
    "directions = [1 if s==\"R\" else -1 for s in S]\n",
    "for k in range(K):\n",
    "    result = solve(directions)\n",
    "    if result == False:\n",
    "        break\n",
    "    \n",
    "print(evaluate(directions))"
   ]
  },
  {
   "cell_type": "code",
   "execution_count": null,
   "metadata": {},
   "outputs": [],
   "source": []
  },
  {
   "cell_type": "code",
   "execution_count": null,
   "metadata": {},
   "outputs": [],
   "source": []
  },
  {
   "cell_type": "code",
   "execution_count": null,
   "metadata": {},
   "outputs": [],
   "source": []
  },
  {
   "cell_type": "markdown",
   "metadata": {},
   "source": [
    "# できなかったパターン\n",
    "左から探して最初に違う向きを向いてるやつのいる場所 $l$ を見つける  \n",
    "右から探して、$0, 1, \\ldots, l-1$ 番目まで続いたやつと違うのが出てくる場所 $r$ を見つける  \n",
    "$l$ から $r$ を反転"
   ]
  },
  {
   "cell_type": "code",
   "execution_count": 33,
   "metadata": {},
   "outputs": [
    {
     "name": "stdout",
     "output_type": "stream",
     "text": [
      "[-1, 1, -1, 1, 1, -1]\n",
      "l=1, r=4\n",
      "\n",
      "r-l=3\n",
      "i=0, r-i=4\n",
      "i=1, r-i=3\n",
      "i=2, r-i=2\n",
      "i=3, r-i=1\n",
      "[-1, -1, 1, -1]\n",
      "[-1, -1, -1, 1, -1, -1]\n"
     ]
    }
   ],
   "source": [
    "directions = [1 if s==\"R\" else -1 for s in S]\n",
    "print(directions)\n",
    "\n",
    "for i in range(1, N):\n",
    "    if directions[i-1] != directions[i]:\n",
    "        l = i\n",
    "        break\n",
    "else:\n",
    "    l = -1\n",
    "        \n",
    "for i in range(N-1, l, -1):\n",
    "    if directions[i] != directions[l-1]:\n",
    "        r = i\n",
    "        break\n",
    "else:\n",
    "    r = 0\n",
    "        \n",
    "print(f'{l=}, {r=}')\n",
    "print()\n",
    "if r <= l:\n",
    "    print(None)\n",
    "else:\n",
    "    copied = [0]*(r-l+1)\n",
    "    print(f'{r-l=}')\n",
    "    for i in range(r-l+1):\n",
    "        # rotate\n",
    "        print(f'{i=}, {r-i=}')\n",
    "        copied[i] = directions[r-i] * (-1)\n",
    "    for i in range(r-l+1):\n",
    "        directions[l+i] = copied[i]\n",
    "    print(copied)\n",
    "    print(directions)"
   ]
  },
  {
   "cell_type": "code",
   "execution_count": 42,
   "metadata": {},
   "outputs": [
    {
     "name": "stdout",
     "output_type": "stream",
     "text": [
      "[-1, 1, 1, -1, 1, -1, 1, 1, -1, 1, -1, -1, 1]\n",
      "\n",
      "Take 1\n",
      "l=1, r=12\n",
      "\n",
      "r-l=11\n",
      "i=0, r-i=12\n",
      "i=1, r-i=11\n",
      "i=2, r-i=10\n",
      "i=3, r-i=9\n",
      "i=4, r-i=8\n",
      "i=5, r-i=7\n",
      "i=6, r-i=6\n",
      "i=7, r-i=5\n",
      "i=8, r-i=4\n",
      "i=9, r-i=3\n",
      "i=10, r-i=2\n",
      "i=11, r-i=1\n",
      "[-1, 1, 1, -1, 1, -1, -1, 1, -1, 1, -1, -1]\n",
      "[-1, -1, 1, 1, -1, 1, -1, -1, 1, -1, 1, -1, -1]\n",
      "\n",
      "Take 2\n",
      "l=2, r=10\n",
      "\n",
      "r-l=8\n",
      "i=0, r-i=10\n",
      "i=1, r-i=9\n",
      "i=2, r-i=8\n",
      "i=3, r-i=7\n",
      "i=4, r-i=6\n",
      "i=5, r-i=5\n",
      "i=6, r-i=4\n",
      "i=7, r-i=3\n",
      "i=8, r-i=2\n",
      "[-1, 1, -1, 1, 1, -1, 1, -1, -1]\n",
      "[-1, -1, -1, 1, -1, 1, 1, -1, 1, -1, -1, -1, -1]\n",
      "\n",
      "Take 3\n",
      "l=3, r=8\n",
      "\n",
      "r-l=5\n",
      "i=0, r-i=8\n",
      "i=1, r-i=7\n",
      "i=2, r-i=6\n",
      "i=3, r-i=5\n",
      "i=4, r-i=4\n",
      "i=5, r-i=3\n",
      "[-1, 1, -1, -1, 1, -1]\n",
      "[-1, -1, -1, -1, 1, -1, -1, 1, -1, -1, -1, -1, -1]\n",
      "\n",
      "8\n"
     ]
    }
   ],
   "source": [
    "directions = [1 if s==\"R\" else -1 for s in S]\n",
    "print(directions)\n",
    "print()\n",
    "\n",
    "### sub ###\n",
    "def find_lr(directions):\n",
    "    N = len(directions)\n",
    "    for i in range(1, N):\n",
    "        if directions[i-1] != directions[i]:\n",
    "            l = i\n",
    "            break\n",
    "    else:\n",
    "        l = -1\n",
    "    for i in range(N-1, l, -1):\n",
    "        if directions[i] != directions[l-1]:\n",
    "            r = i\n",
    "            break\n",
    "    else:\n",
    "        r = 0\n",
    "    return l, r\n",
    "\n",
    "def rotate(directions, l, r):\n",
    "    if r <= l:\n",
    "        return False\n",
    "    else:\n",
    "        copied = [0]*(r-l+1)\n",
    "        print(f'{r-l=}')\n",
    "        for i in range(r-l+1):\n",
    "            # rotate\n",
    "            print(f'{i=}, {r-i=}')\n",
    "            copied[i] = directions[r-i] * (-1)\n",
    "        for i in range(r-l+1):\n",
    "            directions[l+i] = copied[i]\n",
    "        print(copied)\n",
    "        return True\n",
    "###########\n",
    "\n",
    "\n",
    "def solve(directions):\n",
    "    l, r = find_lr(directions)\n",
    "    print(f'{l=}, {r=}')\n",
    "    print()\n",
    "    result = rotate(directions, l, r)\n",
    "    print(directions)\n",
    "    print()\n",
    "    return result\n",
    "\n",
    "def evaluate(directions):\n",
    "    ans = 0\n",
    "    for i, d in enumerate(directions):\n",
    "        if 0 <= i+d and i+d <= N-1:\n",
    "            if directions[i] == directions[i+d]:\n",
    "                ans += 1\n",
    "    return ans\n",
    "\n",
    "# directionsは参照渡し\n",
    "for i in range(K):\n",
    "    print(f'Take {i+1}')\n",
    "    result = solve(directions)\n",
    "    if result == False:\n",
    "        break\n",
    "print(evaluate(directions))"
   ]
  },
  {
   "cell_type": "code",
   "execution_count": null,
   "metadata": {},
   "outputs": [],
   "source": []
  }
 ],
 "metadata": {
  "kernelspec": {
   "display_name": "Python 3",
   "language": "python",
   "name": "python3"
  },
  "language_info": {
   "codemirror_mode": {
    "name": "ipython",
    "version": 3
   },
   "file_extension": ".py",
   "mimetype": "text/x-python",
   "name": "python",
   "nbconvert_exporter": "python",
   "pygments_lexer": "ipython3",
   "version": "3.8.1"
  }
 },
 "nbformat": 4,
 "nbformat_minor": 4
}
