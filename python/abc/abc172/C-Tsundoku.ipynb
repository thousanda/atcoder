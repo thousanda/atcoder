{
 "cells": [
  {
   "cell_type": "code",
   "execution_count": 1,
   "metadata": {},
   "outputs": [
    {
     "data": {
      "application/vnd.jupyter.widget-view+json": {
       "model_id": "c0fb180feec34e2bab85d17ca11860cd",
       "version_major": 2,
       "version_minor": 0
      },
      "text/plain": [
       "Textarea(value='')"
      ]
     },
     "metadata": {},
     "output_type": "display_data"
    }
   ],
   "source": [
    "from ipywidgets import Textarea\n",
    "\n",
    "def get_input(change):\n",
    "    global Input\n",
    "    Input=change[\"new\"].splitlines()\n",
    "textarea = Textarea()\n",
    "textarea.observe(get_input, names='value')\n",
    "display(textarea)"
   ]
  },
  {
   "cell_type": "markdown",
   "metadata": {},
   "source": [
    "## debug"
   ]
  },
  {
   "cell_type": "code",
   "execution_count": 52,
   "metadata": {},
   "outputs": [
    {
     "name": "stdout",
     "output_type": "stream",
     "text": [
      "max_num_A=1, total_time_A=60\n",
      "\n",
      "len(read_book_nums)=2\n",
      "\n",
      "remain=940, num_B=1, total_time_B=900\n",
      "\n",
      "n=0, num_A=0, remain=1000\n",
      "num_B=1, total_time_B=900\n",
      "\n",
      "\n",
      "\n",
      "[1, 2]\n"
     ]
    }
   ],
   "source": [
    "def count_books(books, limit):\n",
    "    num_books = len(books)\n",
    "    total_time = 0\n",
    "    for i, time in enumerate(books):\n",
    "        if total_time + time > limit:\n",
    "            num_books = i\n",
    "            break\n",
    "        total_time += time\n",
    "    return [num_books, total_time]\n",
    "\n",
    "# input\n",
    "N, M, K = map(int, Input[0].split())\n",
    "A = list(map(int, Input[1].split()))\n",
    "B = list(map(int, Input[2].split()))\n",
    "\n",
    "# 全部Aから読んだ場合\n",
    "max_num_A, total_time_A = count_books(A, K)\n",
    "print(f'{max_num_A=}, {total_time_A=}\\n')\n",
    "\n",
    "# Aの冊数に対応する要素数のlistを持っておく (答え用)\n",
    "read_book_nums = [0] * (max_num_A + 1)\n",
    "print(f'{len(read_book_nums)=}\\n')\n",
    "\n",
    "# 全部Aにしたときに追加でBを何冊読めるか\n",
    "remain = K - total_time_A\n",
    "num_B, total_time_B = count_books(B, remain)\n",
    "print(f'{remain=}, {num_B=}, {total_time_B=}\\n')\n",
    "read_book_nums[-1] = max_num_A + num_B\n",
    "\n",
    "# Aを1冊ずつ減らしてBをチェック\n",
    "num_A = max_num_A\n",
    "m = 0\n",
    "total_time_B = 0\n",
    "for n in range(max_num_A-1, -1, -1):\n",
    "    num_A -= 1\n",
    "    remain += A[n]\n",
    "    print(f'{n=}, {num_A=}, {remain=}')\n",
    "\n",
    "    while m < M and total_time_B + B[m] <= remain:\n",
    "        total_time_B += B[m]\n",
    "        m += 1\n",
    "    num_B = m\n",
    "    print(f'{num_B=}, {total_time_B=}\\n')\n",
    "    \n",
    "    read_book_nums[n] = num_A + num_B\n",
    "\n",
    "print('\\n')\n",
    "print(read_book_nums)"
   ]
  },
  {
   "cell_type": "code",
   "execution_count": null,
   "metadata": {},
   "outputs": [],
   "source": []
  },
  {
   "cell_type": "markdown",
   "metadata": {},
   "source": [
    "## submit"
   ]
  },
  {
   "cell_type": "code",
   "execution_count": 46,
   "metadata": {},
   "outputs": [
    {
     "name": "stdin",
     "output_type": "stream",
     "text": [
      " 3 4 730\n",
      " 60 90 120\n",
      " 80 150 80 150\n"
     ]
    },
    {
     "name": "stdout",
     "output_type": "stream",
     "text": [
      "7\n"
     ]
    }
   ],
   "source": [
    "def count_books(books, limit):\n",
    "    num_books = len(books)\n",
    "    total_time = 0\n",
    "    for i, time in enumerate(books):\n",
    "        if total_time + time > limit:\n",
    "            num_books = i\n",
    "            break\n",
    "        total_time += time\n",
    "    return [num_books, total_time]\n",
    "\n",
    "def main():\n",
    "    N, M, K = map(int, input().split())\n",
    "    A = list(map(int, input().split()))\n",
    "    B = list(map(int, input().split()))\n",
    "\n",
    "    max_num_A, total_time_A = count_books(A, K)\n",
    "\n",
    "    read_book_nums = [0] * (max_num_A + 1)\n",
    "\n",
    "    remain = K - total_time_A\n",
    "    num_B, total_time_B = count_books(B, remain)\n",
    "    read_book_nums[-1] = max_num_A + num_B\n",
    "\n",
    "    num_A = max_num_A\n",
    "    m = 0\n",
    "    total_time_B = 0\n",
    "    for n in range(max_num_A-1, -1, -1):\n",
    "        num_A -= 1\n",
    "        remain += A[n]\n",
    "\n",
    "        while m < M and total_time_B + B[m] <= remain:\n",
    "            total_time_B += B[m]\n",
    "            m += 1\n",
    "        num_B = m\n",
    "\n",
    "        read_book_nums[n] = num_A + num_B\n",
    "\n",
    "    print(max(read_book_nums))\n",
    "    \n",
    "main()"
   ]
  },
  {
   "cell_type": "code",
   "execution_count": null,
   "metadata": {},
   "outputs": [],
   "source": []
  },
  {
   "cell_type": "code",
   "execution_count": null,
   "metadata": {},
   "outputs": [],
   "source": []
  },
  {
   "cell_type": "code",
   "execution_count": null,
   "metadata": {},
   "outputs": [],
   "source": []
  },
  {
   "cell_type": "markdown",
   "metadata": {},
   "source": [
    "## TLE"
   ]
  },
  {
   "cell_type": "code",
   "execution_count": 23,
   "metadata": {},
   "outputs": [
    {
     "name": "stdin",
     "output_type": "stream",
     "text": [
      " 3 4 240\n",
      " 60 90 120\n",
      " 80 150 80 150\n"
     ]
    },
    {
     "name": "stdout",
     "output_type": "stream",
     "text": [
      "3\n"
     ]
    }
   ],
   "source": [
    "def count_books(books, limit):\n",
    "    num_books = len(books)\n",
    "    total_time = 0\n",
    "    for i, time in enumerate(books):\n",
    "        if total_time + time > limit:\n",
    "            num_books = i\n",
    "            break\n",
    "        total_time += time\n",
    "    return [num_books, total_time]\n",
    "\n",
    "def main():\n",
    "    N, M, K = map(int, input().split())\n",
    "    A = list(map(int, input().split()))\n",
    "    B = list(map(int, input().split()))\n",
    "\n",
    "    max_num_A, total_time_A = count_books(A, K)\n",
    "    read_book_nums = [0] * (max_num_A + 1)\n",
    "\n",
    "    remain = K - total_time_A\n",
    "    num_B, total_time_B = count_books(B, remain)\n",
    "    read_book_nums[-1] = max_num_A + num_B\n",
    "\n",
    "    num_A = max_num_A\n",
    "    for n in range(max_num_A-1, -1, -1):\n",
    "        num_A -= 1\n",
    "        remain += A[n-1]\n",
    "        num_B, total_time_B = count_books(B, remain)\n",
    "        read_book_nums[n] = num_A + num_B\n",
    "\n",
    "    print(max(read_book_nums))\n",
    "    \n",
    "main()"
   ]
  },
  {
   "cell_type": "code",
   "execution_count": null,
   "metadata": {},
   "outputs": [],
   "source": [
    "def main():\n",
    "    \n",
    "    \n",
    "main()"
   ]
  }
 ],
 "metadata": {
  "kernelspec": {
   "display_name": "Python 3",
   "language": "python",
   "name": "python3"
  },
  "language_info": {
   "codemirror_mode": {
    "name": "ipython",
    "version": 3
   },
   "file_extension": ".py",
   "mimetype": "text/x-python",
   "name": "python",
   "nbconvert_exporter": "python",
   "pygments_lexer": "ipython3",
   "version": "3.8.1"
  }
 },
 "nbformat": 4,
 "nbformat_minor": 4
}
