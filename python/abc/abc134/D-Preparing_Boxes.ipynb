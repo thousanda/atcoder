{
 "cells": [
  {
   "cell_type": "code",
   "execution_count": 1,
   "metadata": {},
   "outputs": [
    {
     "data": {
      "application/vnd.jupyter.widget-view+json": {
       "model_id": "74fd9a0d5e1345e8b65a6a8d5e06b1b8",
       "version_major": 2,
       "version_minor": 0
      },
      "text/plain": [
       "Textarea(value='')"
      ]
     },
     "metadata": {},
     "output_type": "display_data"
    }
   ],
   "source": [
    "from ipywidgets import Textarea\n",
    "\n",
    "def get_input(change):\n",
    "    global Input\n",
    "    Input=change[\"new\"].splitlines()\n",
    "textarea = Textarea()\n",
    "textarea.observe(get_input, names='value')\n",
    "display(textarea)"
   ]
  },
  {
   "cell_type": "code",
   "execution_count": 15,
   "metadata": {},
   "outputs": [],
   "source": [
    "N = int(Input[0])\n",
    "a = [None]+list(map(int, Input[1].split()))"
   ]
  },
  {
   "cell_type": "markdown",
   "metadata": {},
   "source": [
    "## debug"
   ]
  },
  {
   "cell_type": "code",
   "execution_count": 5,
   "metadata": {},
   "outputs": [
    {
     "name": "stdout",
     "output_type": "stream",
     "text": [
      "(0, 0, 0)\n",
      "(0, 0, 1)\n",
      "(0, 1, 0)\n",
      "(0, 1, 1)\n",
      "(1, 0, 0)\n",
      "(1, 0, 1)\n",
      "(1, 1, 0)\n",
      "(1, 1, 1)\n"
     ]
    }
   ],
   "source": [
    "# bit全探索は多分間に合わない\n",
    "'''\n",
    "from itertools import product\n",
    "for i in product(*[range(2) for _ in range(N)]):\n",
    "    print(i)\n",
    "'''"
   ]
  },
  {
   "cell_type": "code",
   "execution_count": 30,
   "metadata": {},
   "outputs": [
    {
     "name": "stdout",
     "output_type": "stream",
     "text": [
      "3\n",
      "[[3, [0]]]\n",
      "2\n",
      "[[2, [0]]]\n",
      "1\n",
      "[[1, [0]], [2, [0]], [3, [0]]]\n",
      "1 0 0\n",
      "1\n",
      "1\n"
     ]
    }
   ],
   "source": [
    "b = [None] + [0]*N\n",
    "# 降順でfor\n",
    "for i in range(N, 0, -1):\n",
    "    print(i)\n",
    "    print([[j, [b[j]]] for j in range(i, N+1, i)])\n",
    "    # iの倍数の箱の状態を全部確認して、条件を満たしてないならi番目の箱にボールを入れる\n",
    "    ball = [b[j] for j in range(i, N+1, i)]\n",
    "    if sum(ball) % 2 != a[i]:\n",
    "        b[i] = 1\n",
    "        \n",
    "print(' '.join(map(str, b[1:])))\n",
    "\n",
    "# 1になってるところのindexだけ取ってくる\n",
    "# 0番目にはNoneが入れてあるからずらさなく大丈夫\n",
    "ans = [str(i) for i, n in enumerate(b) if n==1]\n",
    "print(len(ans))\n",
    "print(' '.join(map(str, ans)))"
   ]
  },
  {
   "cell_type": "markdown",
   "metadata": {},
   "source": [
    "## submit"
   ]
  },
  {
   "cell_type": "code",
   "execution_count": 33,
   "metadata": {},
   "outputs": [
    {
     "name": "stdin",
     "output_type": "stream",
     "text": [
      " 3\n",
      " 1 0 0\n"
     ]
    },
    {
     "name": "stdout",
     "output_type": "stream",
     "text": [
      "1\n",
      "1\n"
     ]
    }
   ],
   "source": [
    "def main():\n",
    "    N = int(input())\n",
    "    a = [None] + list(map(int, input().split()))\n",
    "    b = [None] + [0]*N\n",
    "    for i in range(N, 0, -1):\n",
    "        ball = [b[j] for j in range(i, N+1, i)]\n",
    "        if sum(ball) % 2 != a[i]:\n",
    "            b[i] = 1\n",
    "    ans = [str(i) for i, n in enumerate(b) if n==1]\n",
    "    print(len(ans))\n",
    "    print(' '.join(map(str, ans)))\n",
    "main()"
   ]
  }
 ],
 "metadata": {
  "kernelspec": {
   "display_name": "Python 3",
   "language": "python",
   "name": "python3"
  },
  "language_info": {
   "codemirror_mode": {
    "name": "ipython",
    "version": 3
   },
   "file_extension": ".py",
   "mimetype": "text/x-python",
   "name": "python",
   "nbconvert_exporter": "python",
   "pygments_lexer": "ipython3",
   "version": "3.8.1"
  }
 },
 "nbformat": 4,
 "nbformat_minor": 4
}
