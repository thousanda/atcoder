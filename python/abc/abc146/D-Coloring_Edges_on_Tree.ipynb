{
 "cells": [
  {
   "cell_type": "code",
   "execution_count": 1,
   "metadata": {},
   "outputs": [
    {
     "data": {
      "application/vnd.jupyter.widget-view+json": {
       "model_id": "83d6f182e28e45debeeb0ba48068d3d2",
       "version_major": 2,
       "version_minor": 0
      },
      "text/plain": [
       "Textarea(value='')"
      ]
     },
     "metadata": {},
     "output_type": "display_data"
    }
   ],
   "source": [
    "from ipywidgets import Textarea\n",
    "\n",
    "def get_input(change):\n",
    "    global Input\n",
    "    Input=change[\"new\"].splitlines()\n",
    "textarea = Textarea()\n",
    "textarea.observe(get_input, names='value')\n",
    "display(textarea)"
   ]
  },
  {
   "cell_type": "markdown",
   "metadata": {},
   "source": [
    "## debug"
   ]
  },
  {
   "cell_type": "code",
   "execution_count": 45,
   "metadata": {},
   "outputs": [
    {
     "name": "stdout",
     "output_type": "stream",
     "text": [
      "{1: {2: -1}, 2: {1: -1, 3: -1}, 3: {2: -1}}\n",
      "2 {1: -1, 3: -1} 1\n",
      "v=1, c=-1\n",
      "v=3, c=-1\n",
      "1 {2: 1} 2\n",
      "v=2, c=1\n",
      "This is parent: continue\n",
      "3 {2: 2} 1\n",
      "v=2, c=2\n",
      "This is parent: continue\n",
      "\n",
      "{1: {2: 1}, 2: {1: 1, 3: 2}, 3: {2: 2}}\n",
      "\n",
      "2\n",
      "1\n",
      "2\n"
     ]
    }
   ],
   "source": [
    "from queue import Queue\n",
    "\n",
    "class Graph():\n",
    "    def __init__(self):\n",
    "        self.adjacency_dict = {}\n",
    "\n",
    "    def add_vertex(self, v):\n",
    "        self.adjacency_dict[v] = {}\n",
    "        \n",
    "    def add_edge(self, v1, v2):\n",
    "        self.adjacency_dict[v1][v2] = -1\n",
    "        self.adjacency_dict[v2][v1] = -1\n",
    "    \n",
    "    def paint(self, v1, v2, color):\n",
    "        self.adjacency_dict[v1][v2] = color\n",
    "        self.adjacency_dict[v2][v1] = color\n",
    "        \n",
    "    def get_color(self, v1, v2):\n",
    "        return self.adjacency_dict[v1][v2]\n",
    "    \n",
    "    def next_vertices(self, v):\n",
    "        return self.adjacency_dict[v]\n",
    "\n",
    "    def __str__(self):\n",
    "        return self.adjacency_dict.__str__()\n",
    "\n",
    "N = int(Input[0])\n",
    "edges = [list(map(int, i.split())) for i in Input[1:]]\n",
    "\n",
    "tree = Graph()\n",
    "for i in range(1, N+1):\n",
    "    tree.add_vertex(i)\n",
    "for a,b in edges:\n",
    "    tree.add_edge(a, b)\n",
    "print(tree)\n",
    "\n",
    "# 次数が色の数の最大値になる\n",
    "# 一番隣接する頂点が多い頂点を探す\n",
    "most_edges_vertex = -1\n",
    "max_colors = 0\n",
    "for k,v in tree.adjacency_dict.items():\n",
    "    if len(v) > max_colors:\n",
    "        most_edges_vertex = k\n",
    "        max_colors = len(v)\n",
    "\n",
    "\n",
    "# そこからBFSすることにする (DFSでもOK\n",
    "q = Queue()\n",
    "q.put([most_edges_vertex, -1])  # [vertex, prev_color]\n",
    "while not q.empty():\n",
    "    vertex, prev_color = q.get()\n",
    "    nexts = tree.next_vertices(vertex)\n",
    "    color = 1 if prev_color != 1 else 2\n",
    "    print(vertex, nexts, color)\n",
    "\n",
    "    for v,c in nexts.items():\n",
    "        print(f'{v=}, {c=}')\n",
    "        if c > 0:\n",
    "            print('This is parent: continue')\n",
    "            continue\n",
    "        q.put([v, color])\n",
    "        \n",
    "        # 色ぬり\n",
    "        tree.paint(vertex, v, color)\n",
    "        \n",
    "        # 次の色\n",
    "        color += 1\n",
    "        if color == prev_color:\n",
    "            color += 1\n",
    "\n",
    "print()\n",
    "print(tree)\n",
    "\n",
    "print()\n",
    "print(max_colors)\n",
    "for v1,v2 in edges:\n",
    "    print(tree.get_color(v1, v2))"
   ]
  },
  {
   "cell_type": "code",
   "execution_count": 14,
   "metadata": {},
   "outputs": [],
   "source": []
  },
  {
   "cell_type": "code",
   "execution_count": null,
   "metadata": {},
   "outputs": [],
   "source": []
  },
  {
   "cell_type": "code",
   "execution_count": null,
   "metadata": {},
   "outputs": [],
   "source": []
  },
  {
   "cell_type": "markdown",
   "metadata": {},
   "source": [
    "## submit"
   ]
  },
  {
   "cell_type": "code",
   "execution_count": 46,
   "metadata": {},
   "outputs": [
    {
     "name": "stdin",
     "output_type": "stream",
     "text": [
      " 3\n",
      " 1 2\n",
      " 2 3\n"
     ]
    },
    {
     "name": "stdout",
     "output_type": "stream",
     "text": [
      "2\n",
      "1\n",
      "2\n"
     ]
    }
   ],
   "source": [
    "from queue import Queue\n",
    "\n",
    "class Graph():\n",
    "    def __init__(self):\n",
    "        self.adjacency_dict = {}\n",
    "\n",
    "    def add_vertex(self, v):\n",
    "        self.adjacency_dict[v] = {}\n",
    "        \n",
    "    def add_edge(self, v1, v2):\n",
    "        self.adjacency_dict[v1][v2] = -1\n",
    "        self.adjacency_dict[v2][v1] = -1\n",
    "    \n",
    "    def paint(self, v1, v2, color):\n",
    "        self.adjacency_dict[v1][v2] = color\n",
    "        self.adjacency_dict[v2][v1] = color\n",
    "        \n",
    "    def get_color(self, v1, v2):\n",
    "        return self.adjacency_dict[v1][v2]\n",
    "    \n",
    "    def next_vertices(self, v):\n",
    "        return self.adjacency_dict[v]\n",
    "\n",
    "\n",
    "N = int(input())\n",
    "edges = [list(map(int, input().split())) for _ in range(N-1)]\n",
    "\n",
    "\n",
    "tree = Graph()\n",
    "for i in range(1, N+1):\n",
    "    tree.add_vertex(i)\n",
    "for a,b in edges:\n",
    "    tree.add_edge(a, b)\n",
    "\n",
    "most_edges_vertex = -1\n",
    "max_colors = 0\n",
    "for k,v in tree.adjacency_dict.items():\n",
    "    if len(v) > max_colors:\n",
    "        most_edges_vertex = k\n",
    "        max_colors = len(v)\n",
    "\n",
    "\n",
    "# BFS\n",
    "q = Queue()\n",
    "q.put([most_edges_vertex, -1])  # [vertex, prev_color]\n",
    "while not q.empty():\n",
    "    vertex, prev_color = q.get()\n",
    "    nexts = tree.next_vertices(vertex)\n",
    "    color = 1 if prev_color != 1 else 2\n",
    "\n",
    "    for v,c in nexts.items():\n",
    "        if c > 0:\n",
    "            continue\n",
    "        q.put([v, color])\n",
    "        \n",
    "        # 色ぬり\n",
    "        tree.paint(vertex, v, color)\n",
    "        \n",
    "        # 次の色\n",
    "        color += 1\n",
    "        if color == prev_color:\n",
    "            color += 1\n",
    "\n",
    "print(max_colors)\n",
    "for v1,v2 in edges:\n",
    "    print(tree.get_color(v1, v2))"
   ]
  },
  {
   "cell_type": "code",
   "execution_count": null,
   "metadata": {},
   "outputs": [],
   "source": []
  }
 ],
 "metadata": {
  "kernelspec": {
   "display_name": "Python 3",
   "language": "python",
   "name": "python3"
  },
  "language_info": {
   "codemirror_mode": {
    "name": "ipython",
    "version": 3
   },
   "file_extension": ".py",
   "mimetype": "text/x-python",
   "name": "python",
   "nbconvert_exporter": "python",
   "pygments_lexer": "ipython3",
   "version": "3.8.1"
  }
 },
 "nbformat": 4,
 "nbformat_minor": 4
}
