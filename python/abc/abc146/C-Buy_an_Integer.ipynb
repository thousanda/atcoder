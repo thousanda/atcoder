{
 "cells": [
  {
   "cell_type": "markdown",
   "metadata": {},
   "source": [
    "# 二分探索する"
   ]
  },
  {
   "cell_type": "code",
   "execution_count": 132,
   "metadata": {},
   "outputs": [
    {
     "name": "stdin",
     "output_type": "stream",
     "text": [
      " 1 1 102\n"
     ]
    },
    {
     "name": "stdout",
     "output_type": "stream",
     "text": [
      "99\n"
     ]
    }
   ],
   "source": [
    "import math\n",
    "import sys\n",
    "\n",
    "class Binary_Searcher:\n",
    "    def __init__(self, a, b, money):\n",
    "        self.a = a\n",
    "        self.b = b\n",
    "        self.money = money\n",
    "    def _value(self, n):\n",
    "        return self.a*n + self.b*len(str(n))\n",
    "    def search(self, scope):\n",
    "        if scope[1] - scope[0] + 1 <= 8:\n",
    "            for i in range(scope[0]+1, scope[1]+1):\n",
    "                if self._value(i) > self.money:\n",
    "                    return i - 1\n",
    "            return scope[1]\n",
    "        half = (scope[0] + scope[1]) // 2\n",
    "        if self._value(half) > self.money:\n",
    "            return self.search([scope[0], half-1])\n",
    "        else:\n",
    "            return self.search([half, scope[1]])\n",
    "\n",
    "def main():\n",
    "    A, B, X = map(int, input().split())\n",
    "    if A + B > X:\n",
    "        print(0)\n",
    "        sys.exit()\n",
    "    if A*(10**9) + B*10 < X:\n",
    "        print(10**9)\n",
    "        sys.exit(0)\n",
    "\n",
    "    scope = [0, 10**9]\n",
    "    searcher = Binary_Searcher(A, B, X)\n",
    "    print(searcher.search(scope))\n",
    "    \n",
    "main()"
   ]
  },
  {
   "cell_type": "code",
   "execution_count": null,
   "metadata": {},
   "outputs": [],
   "source": []
  },
  {
   "cell_type": "code",
   "execution_count": null,
   "metadata": {},
   "outputs": [],
   "source": []
  },
  {
   "cell_type": "markdown",
   "metadata": {},
   "source": [
    "# 真ん中の値段が所持金と一致した場合はそれ以上探索しなくてもそこで終わりにできるはずと思ったんだけど、はじめそれを実装してたら一部 WA\n",
    "# 謎"
   ]
  },
  {
   "cell_type": "code",
   "execution_count": 1,
   "metadata": {},
   "outputs": [
    {
     "data": {
      "application/vnd.jupyter.widget-view+json": {
       "model_id": "b94f54a0bad94be2a1717c2afa647653",
       "version_major": 2,
       "version_minor": 0
      },
      "text/plain": [
       "Textarea(value='')"
      ]
     },
     "metadata": {},
     "output_type": "display_data"
    }
   ],
   "source": [
    "from ipywidgets import Textarea\n",
    "\n",
    "def get_input(change):\n",
    "    global Input\n",
    "    Input=change[\"new\"].splitlines()\n",
    "textarea = Textarea()\n",
    "textarea.observe(get_input, names='value')\n",
    "display(textarea)"
   ]
  },
  {
   "cell_type": "markdown",
   "metadata": {},
   "source": [
    "## debug"
   ]
  },
  {
   "cell_type": "code",
   "execution_count": 133,
   "metadata": {},
   "outputs": [
    {
     "name": "stdout",
     "output_type": "stream",
     "text": [
      "scope=[0, 1000000000]\n",
      "value of 500000000 = 500000009, self.money=15\n",
      "scope=[0, 499999999]\n",
      "value of 249999999 = 250000008, self.money=15\n",
      "scope=[0, 249999998]\n",
      "value of 124999999 = 125000008, self.money=15\n",
      "scope=[0, 124999998]\n",
      "value of 62499999 = 62500007, self.money=15\n",
      "scope=[0, 62499998]\n",
      "value of 31249999 = 31250007, self.money=15\n",
      "scope=[0, 31249998]\n",
      "value of 15624999 = 15625007, self.money=15\n",
      "scope=[0, 15624998]\n",
      "value of 7812499 = 7812506, self.money=15\n",
      "scope=[0, 7812498]\n",
      "value of 3906249 = 3906256, self.money=15\n",
      "scope=[0, 3906248]\n",
      "value of 1953124 = 1953131, self.money=15\n",
      "scope=[0, 1953123]\n",
      "value of 976561 = 976567, self.money=15\n",
      "scope=[0, 976560]\n",
      "value of 488280 = 488286, self.money=15\n",
      "scope=[0, 488279]\n",
      "value of 244139 = 244145, self.money=15\n",
      "scope=[0, 244138]\n",
      "value of 122069 = 122075, self.money=15\n",
      "scope=[0, 122068]\n",
      "value of 61034 = 61039, self.money=15\n",
      "scope=[0, 61033]\n",
      "value of 30516 = 30521, self.money=15\n",
      "scope=[0, 30515]\n",
      "value of 15257 = 15262, self.money=15\n",
      "scope=[0, 15256]\n",
      "value of 7628 = 7632, self.money=15\n",
      "scope=[0, 7627]\n",
      "value of 3813 = 3817, self.money=15\n",
      "scope=[0, 3812]\n",
      "value of 1906 = 1910, self.money=15\n",
      "scope=[0, 1905]\n",
      "value of 952 = 955, self.money=15\n",
      "scope=[0, 951]\n",
      "value of 475 = 478, self.money=15\n",
      "scope=[0, 474]\n",
      "value of 237 = 240, self.money=15\n",
      "scope=[0, 236]\n",
      "value of 118 = 121, self.money=15\n",
      "scope=[0, 117]\n",
      "value of 58 = 60, self.money=15\n",
      "scope=[0, 57]\n",
      "value of 28 = 30, self.money=15\n",
      "scope=[0, 27]\n",
      "value of 13 = 15, self.money=15\n",
      "13\n"
     ]
    }
   ],
   "source": [
    "import sys\n",
    "\n",
    "class Binary_Searcher:\n",
    "    def __init__(self, a, b, money):\n",
    "        self.a = a\n",
    "        self.b = b\n",
    "        self.money = money\n",
    "    def _value(self, n):\n",
    "        return self.a*n + self.b*len(str(n))\n",
    "    def search(self, scope):\n",
    "        print(f'{scope=}')\n",
    "        if scope[1] - scope[0] + 1 <= 8:  # ある程度減ったら残りは全探索 (8はてきとう)\n",
    "            print('Final check...')\n",
    "            for i in range(scope[0]+1, scope[1]+1):\n",
    "                print(i)\n",
    "                if self._value(i) > self.money:\n",
    "                    print(f'Over! ans={i-1}')\n",
    "                    return i - 1\n",
    "            return scope[1]\n",
    "        # 真ん中取ってみる\n",
    "        half = (scope[0] + scope[1]) // 2\n",
    "        value_of_half = self._value(half)\n",
    "        print(f'value of {half} = {value_of_half}, {self.money=}')\n",
    "        if value_of_half == self.money:\n",
    "            return half\n",
    "        elif value_of_half > self.money:\n",
    "            return self.search([scope[0], half-1])\n",
    "        else:\n",
    "            return self.search([half+1, scope[1]])\n",
    "\n",
    "\n",
    "A, B, X = map(int, Input[0].split())\n",
    "if A + B > X:\n",
    "    print(0)\n",
    "    sys.exit()\n",
    "if A*(10**9) + B*10 < X:\n",
    "    print(10**9)\n",
    "    sys.exit(0)\n",
    "\n",
    "scope = [0, 10**9]\n",
    "searcher = Binary_Searcher(A, B, X)\n",
    "print(searcher.search(scope))"
   ]
  },
  {
   "cell_type": "markdown",
   "metadata": {},
   "source": [
    "## submit"
   ]
  },
  {
   "cell_type": "code",
   "execution_count": 131,
   "metadata": {},
   "outputs": [
    {
     "name": "stdin",
     "output_type": "stream",
     "text": [
      " 1 1 103\n"
     ]
    },
    {
     "name": "stdout",
     "output_type": "stream",
     "text": [
      "100\n"
     ]
    }
   ],
   "source": [
    "import math\n",
    "import sys\n",
    "\n",
    "class Binary_Searcher:\n",
    "    def __init__(self, a, b, money):\n",
    "        self.a = a\n",
    "        self.b = b\n",
    "        self.money = money\n",
    "    def _value(self, n):\n",
    "        return self.a*n + self.b*len(str(n))\n",
    "    def search(self, scope):\n",
    "        if scope[1] - scope[0] + 1 <= 8:\n",
    "            for i in range(scope[0]+1, scope[1]+1):\n",
    "                if self._value(i) > self.money:\n",
    "                    return i - 1\n",
    "            return scope[1]\n",
    "        half = (scope[0] + scope[1]) // 2\n",
    "        value_of_half = self._value(half)\n",
    "        if value_of_half == self.money:\n",
    "            return half\n",
    "        elif value_of_half > self.money:\n",
    "            return self.search([scope[0], half-1])\n",
    "        else:\n",
    "            return self.search([half+1, scope[1]])\n",
    "\n",
    "\n",
    "def main():\n",
    "    A, B, X = map(int, input().split())\n",
    "    if A + B > X:\n",
    "        print(0)\n",
    "        sys.exit()\n",
    "    if A*(10**9) + B*10 < X:\n",
    "        print(10**9)\n",
    "        sys.exit(0)\n",
    "\n",
    "    scope = [0, 10**9]\n",
    "    searcher = Binary_Searcher(A, B, X)\n",
    "    print(searcher.search(scope))\n",
    "    \n",
    "main()"
   ]
  },
  {
   "cell_type": "code",
   "execution_count": null,
   "metadata": {},
   "outputs": [],
   "source": []
  },
  {
   "cell_type": "code",
   "execution_count": null,
   "metadata": {},
   "outputs": [],
   "source": []
  },
  {
   "cell_type": "markdown",
   "metadata": {},
   "source": [
    "# シンプルバージョン\n",
    "こんな感じでACしてる人がいたけどうまく再現できなかった  \n",
    "桁数の境目あたりでおかしくならない？"
   ]
  },
  {
   "cell_type": "markdown",
   "metadata": {},
   "source": [
    "A*N + B*d(N) <= X\n",
    "d(N)を決める\n",
    "A*N + B*d <= X\n",
    "A*N <= X - B*d\n",
    "N <= (X - B*d) / A"
   ]
  },
  {
   "cell_type": "code",
   "execution_count": 138,
   "metadata": {},
   "outputs": [
    {
     "name": "stdin",
     "output_type": "stream",
     "text": [
      " 1 1 102\n"
     ]
    },
    {
     "name": "stdout",
     "output_type": "stream",
     "text": [
      "d=0: A*(10**d)+B*(d+1)=2\n",
      "d=1: A*(10**d)+B*(d+1)=12\n",
      "d=2: A*(10**d)+B*(d+1)=103\n",
      "100\n"
     ]
    }
   ],
   "source": [
    "# bugあり\n",
    "A, B, X = map(int, input().split())\n",
    "for d in range(0, 11):\n",
    "    print(f'{d=}: {A*(10**d)+B*(d+1)=}')\n",
    "    if A*(10**d) + B*(d+1) > X:\n",
    "        break\n",
    "if d == 0:\n",
    "    print(0)\n",
    "else:\n",
    "    print(min((X - B*d) // A, 10**9))"
   ]
  },
  {
   "cell_type": "markdown",
   "metadata": {},
   "source": [
    "# 参考: これは通るらしい"
   ]
  },
  {
   "cell_type": "code",
   "execution_count": 139,
   "metadata": {},
   "outputs": [
    {
     "name": "stdin",
     "output_type": "stream",
     "text": [
      " 1 1 102\n"
     ]
    },
    {
     "name": "stdout",
     "output_type": "stream",
     "text": [
      "99\n"
     ]
    }
   ],
   "source": [
    "a, b, x = map(int, input().split())\n",
    "n = 0\n",
    "while a * 10**n + b * n <= x and n < 10:\n",
    "    n += 1\n",
    "if n>0:\n",
    "    print(min((x - b * n) // a, 10**9))\n",
    "else:\n",
    "    print(n)"
   ]
  }
 ],
 "metadata": {
  "kernelspec": {
   "display_name": "Python 3",
   "language": "python",
   "name": "python3"
  },
  "language_info": {
   "codemirror_mode": {
    "name": "ipython",
    "version": 3
   },
   "file_extension": ".py",
   "mimetype": "text/x-python",
   "name": "python",
   "nbconvert_exporter": "python",
   "pygments_lexer": "ipython3",
   "version": "3.8.1"
  }
 },
 "nbformat": 4,
 "nbformat_minor": 4
}
