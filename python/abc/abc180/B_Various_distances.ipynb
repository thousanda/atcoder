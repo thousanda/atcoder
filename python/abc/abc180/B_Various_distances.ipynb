{
 "cells": [
  {
   "cell_type": "code",
   "execution_count": 2,
   "metadata": {},
   "outputs": [
    {
     "name": "stdin",
     "output_type": "stream",
     "text": [
      " 10\n",
      " 3 -1 -4 1 -5 9 2 -6 5 -3\n"
     ]
    },
    {
     "name": "stdout",
     "output_type": "stream",
     "text": [
      "39\n",
      "14.38749456993816\n",
      "9\n"
     ]
    }
   ],
   "source": [
    "n = int(input())\n",
    "x = list(map(int, input().split()))\n",
    "\n",
    "l1 = 0\n",
    "l2 = 0\n",
    "for xi in x:\n",
    "    l1 += abs(xi)\n",
    "    l2 += xi**2\n",
    "\n",
    "print(l1)\n",
    "print(l2**(1/2))\n",
    "print(max(map(abs, x)))"
   ]
  },
  {
   "cell_type": "code",
   "execution_count": null,
   "metadata": {},
   "outputs": [],
   "source": []
  }
 ],
 "metadata": {
  "kernelspec": {
   "display_name": "Python 3",
   "language": "python",
   "name": "python3"
  },
  "language_info": {
   "codemirror_mode": {
    "name": "ipython",
    "version": 3
   },
   "file_extension": ".py",
   "mimetype": "text/x-python",
   "name": "python",
   "nbconvert_exporter": "python",
   "pygments_lexer": "ipython3",
   "version": "3.8.1"
  }
 },
 "nbformat": 4,
 "nbformat_minor": 4
}
