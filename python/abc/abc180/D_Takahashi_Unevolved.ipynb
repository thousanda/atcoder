{
 "cells": [
  {
   "cell_type": "code",
   "execution_count": 1,
   "metadata": {},
   "outputs": [
    {
     "data": {
      "application/vnd.jupyter.widget-view+json": {
       "model_id": "d7ec9418c3e440a8bfedc63ddca9cc42",
       "version_major": 2,
       "version_minor": 0
      },
      "text/plain": [
       "Textarea(value='')"
      ]
     },
     "metadata": {},
     "output_type": "display_data"
    }
   ],
   "source": [
    "from ipywidgets import Textarea\n",
    "\n",
    "def get_input(change):\n",
    "    global Input\n",
    "    Input=change[\"new\"].splitlines()\n",
    "textarea = Textarea()\n",
    "textarea.observe(get_input, names='value')\n",
    "display(textarea)"
   ]
  },
  {
   "cell_type": "code",
   "execution_count": 12,
   "metadata": {},
   "outputs": [
    {
     "name": "stdin",
     "output_type": "stream",
     "text": [
      " 4 20 2 10\n"
     ]
    },
    {
     "name": "stdout",
     "output_type": "stream",
     "text": [
      "16 2\n",
      "2\n"
     ]
    }
   ],
   "source": [
    "X, Y, A, B = map(int, input().split())\n",
    "#X, Y, A, B = map(int, Input[0].split())\n",
    "\n",
    "\n",
    "power = X\n",
    "exp = 0\n",
    "\n",
    "while power*A < (power+B) and power*A < Y:\n",
    "    power *= A\n",
    "    exp += 1\n",
    "\n",
    "print(power, exp)\n",
    "    \n",
    "remain = Y - power - 1\n",
    "if remain >= B:\n",
    "    times = remain // B\n",
    "    power += B * times\n",
    "    exp += times\n",
    "    \n",
    "print(exp)"
   ]
  },
  {
   "cell_type": "code",
   "execution_count": 13,
   "metadata": {},
   "outputs": [
    {
     "name": "stdin",
     "output_type": "stream",
     "text": [
      " 4 20 2 10\n"
     ]
    },
    {
     "name": "stdout",
     "output_type": "stream",
     "text": [
      "2\n"
     ]
    }
   ],
   "source": [
    "X, Y, A, B = map(int, input().split())\n",
    "\n",
    "power = X\n",
    "exp = 0\n",
    "\n",
    "while power*A < (power+B) and power*A < Y:\n",
    "    power *= A\n",
    "    exp += 1\n",
    "\n",
    "remain = Y - power - 1\n",
    "if remain >= B:\n",
    "    times = remain // B\n",
    "    power += B * times\n",
    "    exp += times\n",
    "    \n",
    "print(exp)"
   ]
  }
 ],
 "metadata": {
  "kernelspec": {
   "display_name": "Python 3",
   "language": "python",
   "name": "python3"
  },
  "language_info": {
   "codemirror_mode": {
    "name": "ipython",
    "version": 3
   },
   "file_extension": ".py",
   "mimetype": "text/x-python",
   "name": "python",
   "nbconvert_exporter": "python",
   "pygments_lexer": "ipython3",
   "version": "3.8.1"
  }
 },
 "nbformat": 4,
 "nbformat_minor": 4
}
