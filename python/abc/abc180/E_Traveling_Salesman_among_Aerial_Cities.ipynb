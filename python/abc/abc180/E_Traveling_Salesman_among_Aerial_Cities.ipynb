{
 "cells": [
  {
   "cell_type": "code",
   "execution_count": 1,
   "metadata": {},
   "outputs": [
    {
     "data": {
      "application/vnd.jupyter.widget-view+json": {
       "model_id": "10a2e77942504bf5a967eee1c7a5a556",
       "version_major": 2,
       "version_minor": 0
      },
      "text/plain": [
       "Textarea(value='')"
      ]
     },
     "metadata": {},
     "output_type": "display_data"
    }
   ],
   "source": [
    "from ipywidgets import Textarea\n",
    "\n",
    "def get_input(change):\n",
    "    global Input\n",
    "    Input=change[\"new\"].splitlines()\n",
    "textarea = Textarea()\n",
    "textarea.observe(get_input, names='value')\n",
    "display(textarea)"
   ]
  },
  {
   "cell_type": "code",
   "execution_count": 22,
   "metadata": {},
   "outputs": [
    {
     "name": "stdout",
     "output_type": "stream",
     "text": [
      "[[0, 2], [None, None]]\n"
     ]
    }
   ],
   "source": [
    "def calc_cost(p1, p2):\n",
    "    return abs(p2[0]-p1[0]) + abs(p2[1]-p1[1]) + max(0, p2[2]-p1[2])\n",
    "\n",
    "N = int(Input[0])\n",
    "XYZ = [list(map(int, i.split())) for i in Input[1:]]\n",
    "\n",
    "distance_table = [[0]*N for _ in range(N)]\n",
    "for i in range(N):\n",
    "    for j in range(N):\n",
    "        distance_table[i][j] = calc_cost(XYZ[i], XYZ[j])\n",
    "\n",
    "dp = [[None]*(N-1) for i in range(N-1, 0, -1)]\n",
    "for i in range(N-1):\n",
    "    dp[0][i] = distance_table[i][0]\n",
    "print(dp)\n",
    "for i in range(0):\n",
    "    for j in range(0):\n",
    "        continue\n",
    "        "
   ]
  },
  {
   "cell_type": "code",
   "execution_count": null,
   "metadata": {},
   "outputs": [],
   "source": []
  },
  {
   "cell_type": "code",
   "execution_count": null,
   "metadata": {},
   "outputs": [],
   "source": [
    "N = int(input())\n",
    "XYZ = [list(map(int, input().split())) for _ in range(N)]"
   ]
  }
 ],
 "metadata": {
  "kernelspec": {
   "display_name": "Python 3",
   "language": "python",
   "name": "python3"
  },
  "language_info": {
   "codemirror_mode": {
    "name": "ipython",
    "version": 3
   },
   "file_extension": ".py",
   "mimetype": "text/x-python",
   "name": "python",
   "nbconvert_exporter": "python",
   "pygments_lexer": "ipython3",
   "version": "3.8.1"
  }
 },
 "nbformat": 4,
 "nbformat_minor": 4
}
