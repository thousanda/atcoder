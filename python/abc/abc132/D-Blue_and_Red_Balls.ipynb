{
 "cells": [
  {
   "cell_type": "markdown",
   "metadata": {},
   "source": [
    "# 整数の割り算はスラッシュ2つ!!!!!!  \n",
    "# あとでint()してもだめ!!!!"
   ]
  },
  {
   "cell_type": "markdown",
   "metadata": {},
   "source": [
    "# ばらばらに考えた\n",
    "oxo  \n",
    "oxox, xoxo  \n",
    "xoxox  \n",
    "  => 理由はわからないけどWA"
   ]
  },
  {
   "cell_type": "markdown",
   "metadata": {},
   "source": [
    "## debug"
   ]
  },
  {
   "cell_type": "code",
   "execution_count": 33,
   "metadata": {},
   "outputs": [
    {
     "name": "stdin",
     "output_type": "stream",
     "text": [
      " 2000 3\n"
     ]
    },
    {
     "name": "stdout",
     "output_type": "stream",
     "text": [
      "i=1\n",
      "p_blue=1\n",
      "i  : p_red=2\n",
      "i+1: p_red=1998\n",
      "1998\n",
      "i=2\n",
      "p_blue=2\n",
      "i-1: p_red=1\n",
      "i  : p_red=3993\n",
      "i+1: p_red=1995003\n",
      "3990006\n",
      "i=3\n",
      "p_blue=1\n",
      "i-1: p_red=1996\n",
      "i  : p_red=3984016\n",
      "i+1: p_red=327341989\n",
      "327341989\n"
     ]
    }
   ],
   "source": [
    "from math import factorial as fct\n",
    "MOD = 10**9 + 7\n",
    "\n",
    "N, K = map(int, input().split())\n",
    "\n",
    "b = K\n",
    "r = N - K\n",
    "\n",
    "for i in range(1, K+1):\n",
    "    print(f'{i=}')\n",
    "    '''\n",
    "    b個のりんごをi人にあげる\n",
    "      => 重複順列\n",
    "    ただし、最低一つはりんごあげる\n",
    "    つまり、b-i個のりんごをi人にあげる\n",
    "      => りんごがb-i個, 仕切りがi-1個\n",
    "    '''\n",
    "    p_blue = (fct((b-i)+(i-1)) // fct(b-i) // fct(i-1)) % MOD\n",
    "    print(f'{p_blue=}')\n",
    "\n",
    "    # redはi-1人, i人(*2), i+1人にあげるパターンがある\n",
    "    p_red = 0\n",
    "    if r >= i-1 and i-1 >= 1:\n",
    "        # i-1人にあげる\n",
    "        n = i - 1\n",
    "        p_red += (fct((r-n+(n-1))) // fct(r-n) // fct(n-1)) % MOD  \n",
    "        print(f'i-1: {p_red=}')\n",
    "    if r >= i:\n",
    "        # i人にあげる\n",
    "        n = i\n",
    "        p_red += (fct((r-n)+(n-1)) // fct(r-n) // fct(n-1)) * 2 % MOD\n",
    "        print(f'i  : {p_red=}')\n",
    "    if r >= i+1:\n",
    "        # i+1人にあげる\n",
    "        n = i + 1\n",
    "        p_red += (fct((r-n)+n-1) // fct(r-n) // fct(n-1)) % MOD\n",
    "        print(f'i+1: {p_red=}')\n",
    "\n",
    "    print((p_blue * p_red) % MOD)"
   ]
  },
  {
   "cell_type": "markdown",
   "metadata": {},
   "source": [
    "## submit"
   ]
  },
  {
   "cell_type": "code",
   "execution_count": 35,
   "metadata": {},
   "outputs": [
    {
     "name": "stdin",
     "output_type": "stream",
     "text": [
      " 5 3\n"
     ]
    },
    {
     "name": "stdout",
     "output_type": "stream",
     "text": [
      "3\n",
      "6\n",
      "1\n"
     ]
    }
   ],
   "source": [
    "from math import factorial as fct\n",
    "def main():\n",
    "    MOD = 10**9 + 7\n",
    "    N, K = map(int, input().split())\n",
    "    b = K\n",
    "    r = N - K\n",
    "    for i in range(1, K+1):\n",
    "        p_blue = (fct((b-i)+(i-1)) // fct(b-i) // fct(i-1)) % MOD\n",
    "        p_red = 0\n",
    "        if r >= i-1 and i-1 >= 1:\n",
    "            n = i - 1\n",
    "            p_red += (fct((r-n)+(n-1)) // fct(r-n) // fct(n-1)) % MOD\n",
    "            p_red %= MOD\n",
    "        if r >= i:\n",
    "            n = i\n",
    "            p_red += (fct((r-n)+(n-1)) // fct(r-n) // fct(n-1)) * 2 % MOD\n",
    "            p_red %= MOD\n",
    "        if r >= i+1:\n",
    "            n = i + 1\n",
    "            p_red += (fct((r-n)+(n-1)) // fct(r-n) // fct(n-1)) % MOD\n",
    "            p_red %= MOD\n",
    "        print((p_blue * p_red) % MOD)\n",
    "main()"
   ]
  },
  {
   "cell_type": "markdown",
   "metadata": {},
   "source": [
    "# 両端の子たち以外は最低1個保証\n",
    "### AC"
   ]
  },
  {
   "cell_type": "markdown",
   "metadata": {},
   "source": [
    "## debug"
   ]
  },
  {
   "cell_type": "code",
   "execution_count": 43,
   "metadata": {},
   "outputs": [
    {
     "name": "stdin",
     "output_type": "stream",
     "text": [
      " 5 3\n"
     ]
    },
    {
     "name": "stdout",
     "output_type": "stream",
     "text": [
      "i=1\n",
      "p_blue=1\n",
      "p_red=3\n",
      "3\n",
      "i=2\n",
      "p_blue=2\n",
      "p_red=3\n",
      "6\n",
      "i=3\n",
      "p_blue=1\n",
      "p_red=1\n",
      "1\n"
     ]
    }
   ],
   "source": [
    "from math import factorial as fct\n",
    "MOD = 10**9 + 7\n",
    "\n",
    "N, K = map(int, input().split())\n",
    "\n",
    "b = K\n",
    "r = N - K\n",
    "\n",
    "for i in range(1, K+1):\n",
    "    print(f'{i=}')\n",
    "    '''\n",
    "    b個のりんごをi人にあげる\n",
    "      => 重複順列\n",
    "    ただし、最低一つはりんごあげる\n",
    "    つまり、b-i個のりんごをi人にあげる\n",
    "      => りんごがb-i個, 仕切りがi-1個\n",
    "    '''\n",
    "    p_blue = (fct((b-i)+(i-1)) // fct(b-i) // fct(i-1)) % MOD\n",
    "    print(f'{p_blue=}')\n",
    "\n",
    "    '''\n",
    "    redはi-1人, i人(*2), i+1人にあげるパターンがある\n",
    "    と思い込んでいたけど、\n",
    "    r個のりんごをi+1人にあげる。ただし、両端の子たちはもらえなくてもいい。\n",
    "      => 両端以外のi-1人にはあらかじめ配っておく\n",
    "        => りんごがr-(i-1)個, 仕切りがi個\n",
    "    '''\n",
    "    if r >= i-1:\n",
    "        p_red = (fct((r-(i-1))+i) // fct(r-(i-1)) // fct(i)) % MOD\n",
    "    else:\n",
    "        p_red = 0\n",
    "    print(f'{p_red=}')\n",
    "\n",
    "    print((p_blue * p_red) % MOD)"
   ]
  },
  {
   "cell_type": "markdown",
   "metadata": {},
   "source": [
    "## submit"
   ]
  },
  {
   "cell_type": "code",
   "execution_count": 45,
   "metadata": {},
   "outputs": [
    {
     "name": "stdin",
     "output_type": "stream",
     "text": [
      " 2000 3\n"
     ]
    },
    {
     "name": "stdout",
     "output_type": "stream",
     "text": [
      "1998\n",
      "3990006\n",
      "327341989\n"
     ]
    }
   ],
   "source": [
    "from math import factorial as fct\n",
    "def main():\n",
    "    MOD = 10**9 + 7\n",
    "    N, K = map(int, input().split())\n",
    "    b = K\n",
    "    r = N - K\n",
    "    for i in range(1, K+1):\n",
    "        p_blue = (fct((b-i)+(i-1)) // fct(b-i) // fct(i-1)) % MOD\n",
    "        if r >= i-1:\n",
    "            p_red = (fct((r-(i-1))+i) // fct(r-(i-1)) // fct(i)) % MOD\n",
    "        else:\n",
    "            p_red = 0\n",
    "        print((p_blue * p_red) % MOD)\n",
    "main()"
   ]
  }
 ],
 "metadata": {
  "kernelspec": {
   "display_name": "Python 3",
   "language": "python",
   "name": "python3"
  },
  "language_info": {
   "codemirror_mode": {
    "name": "ipython",
    "version": 3
   },
   "file_extension": ".py",
   "mimetype": "text/x-python",
   "name": "python",
   "nbconvert_exporter": "python",
   "pygments_lexer": "ipython3",
   "version": "3.8.1"
  }
 },
 "nbformat": 4,
 "nbformat_minor": 4
}
