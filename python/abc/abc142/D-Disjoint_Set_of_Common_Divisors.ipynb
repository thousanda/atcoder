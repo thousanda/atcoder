{
 "cells": [
  {
   "cell_type": "markdown",
   "metadata": {},
   "source": [
    "## debug"
   ]
  },
  {
   "cell_type": "code",
   "execution_count": 16,
   "metadata": {},
   "outputs": [
    {
     "name": "stdout",
     "output_type": "stream",
     "text": [
      "pf_A=[[1, 1]]\n",
      "pf_B=[[3, 1], [673, 1]]\n",
      "[]\n",
      "1\n"
     ]
    }
   ],
   "source": [
    "import sys\n",
    "\n",
    "def factorization(n):\n",
    "    arr = []\n",
    "    temp = n\n",
    "    for i in range(2, int(-(-n**0.5//1))+1):\n",
    "        if temp%i==0:\n",
    "            cnt=0\n",
    "            while temp%i==0:\n",
    "                cnt+=1\n",
    "                temp //= i\n",
    "            arr.append([i, cnt])\n",
    "    if temp!=1:\n",
    "        arr.append([temp, 1])\n",
    "    if arr==[]:\n",
    "        arr.append([n, 1])\n",
    "    return arr\n",
    "\n",
    "# A, B = map(int, input().split())\n",
    "A, B = 12, 18\n",
    "A, B = 420, 660\n",
    "A, B = 1, 2019\n",
    "\n",
    "pf_A = factorization(A)\n",
    "pf_B = factorization(B)\n",
    "\n",
    "print(f'{pf_A=}')\n",
    "print(f'{pf_B=}')\n",
    "\n",
    "# 両方に出てくる素因数を数えればいい\n",
    "# (factorization()で1を素因数分解すると[1,1]が返ってくるから例外処理)\n",
    "if pf_A[0][0] == 1 or pf_B[0][0] == 1:\n",
    "    pfs = []\n",
    "else:\n",
    "    pfs = set([i for i,num in pf_A]) & set([i for i,num in pf_B])\n",
    "    \n",
    "print(pfs)\n",
    "\n",
    "# 1も公約数なので、1パターン追加\n",
    "print(len(pfs)+1)"
   ]
  },
  {
   "cell_type": "markdown",
   "metadata": {},
   "source": [
    "## submit"
   ]
  },
  {
   "cell_type": "code",
   "execution_count": 17,
   "metadata": {},
   "outputs": [
    {
     "name": "stdin",
     "output_type": "stream",
     "text": [
      " 420 660\n"
     ]
    },
    {
     "name": "stdout",
     "output_type": "stream",
     "text": [
      "4\n"
     ]
    }
   ],
   "source": [
    "import sys\n",
    "\n",
    "def factorization(n):\n",
    "    arr = []\n",
    "    temp = n\n",
    "    for i in range(2, int(-(-n**0.5//1))+1):\n",
    "        if temp%i==0:\n",
    "            cnt=0\n",
    "            while temp%i==0:\n",
    "                cnt+=1\n",
    "                temp //= i\n",
    "            arr.append([i, cnt])\n",
    "    if temp!=1:\n",
    "        arr.append([temp, 1])\n",
    "    if arr==[]:\n",
    "        arr.append([n, 1])\n",
    "    return arr\n",
    "\n",
    "def main():\n",
    "    A, B = map(int, input().split())\n",
    "\n",
    "    pf_A = factorization(A)\n",
    "    pf_B = factorization(B)\n",
    "\n",
    "    if pf_A[0][0] == 1 or pf_B[0][0] == 1:\n",
    "        pfs = []\n",
    "    else:\n",
    "        pfs = set([i for i,num in pf_A]) & set([i for i,num in pf_B])\n",
    "\n",
    "    print(len(pfs)+1)\n",
    "main()"
   ]
  }
 ],
 "metadata": {
  "kernelspec": {
   "display_name": "Python 3",
   "language": "python",
   "name": "python3"
  },
  "language_info": {
   "codemirror_mode": {
    "name": "ipython",
    "version": 3
   },
   "file_extension": ".py",
   "mimetype": "text/x-python",
   "name": "python",
   "nbconvert_exporter": "python",
   "pygments_lexer": "ipython3",
   "version": "3.8.1"
  }
 },
 "nbformat": 4,
 "nbformat_minor": 4
}
