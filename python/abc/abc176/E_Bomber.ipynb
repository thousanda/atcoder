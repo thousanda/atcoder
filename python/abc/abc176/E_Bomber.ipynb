{
 "cells": [
  {
   "cell_type": "markdown",
   "metadata": {},
   "source": [
    "# 終了10分後AC\n",
    "Good => a in set  \n",
    "Bad => a in list"
   ]
  },
  {
   "cell_type": "code",
   "execution_count": 1,
   "metadata": {},
   "outputs": [
    {
     "data": {
      "application/vnd.jupyter.widget-view+json": {
       "model_id": "cb51eab5b1034e30bef10b3ee1dbb6ec",
       "version_major": 2,
       "version_minor": 0
      },
      "text/plain": [
       "Textarea(value='')"
      ]
     },
     "metadata": {},
     "output_type": "display_data"
    }
   ],
   "source": [
    "from ipywidgets import Textarea\n",
    "\n",
    "def get_input(change):\n",
    "    global Input\n",
    "    Input=change[\"new\"].splitlines()\n",
    "textarea = Textarea()\n",
    "textarea.observe(get_input, names='value')\n",
    "display(textarea)"
   ]
  },
  {
   "cell_type": "code",
   "execution_count": 18,
   "metadata": {},
   "outputs": [
    {
     "name": "stdout",
     "output_type": "stream",
     "text": [
      "6\n"
     ]
    }
   ],
   "source": [
    "H, W, N = map(int, Input[0].split())\n",
    "hw = [list(map(int, i.split())) for i in Input[1:]]\n",
    "\n",
    "h_count = {}\n",
    "w_count = {}\n",
    "for h,w in hw:\n",
    "    if h in h_count:\n",
    "        h_count[h] += 1\n",
    "    else:\n",
    "        h_count[h] = 1\n",
    "    if w in w_count:\n",
    "        w_count[w] += 1\n",
    "    else:\n",
    "        w_count[w] = 1\n",
    "\n",
    "max_h = max(h_count.values())\n",
    "max_w = max(w_count.values())\n",
    "ans = max_h + max_w\n",
    "\n",
    "max_h_list = set([k for k,v in h_count.items() if v == max_h])\n",
    "max_w_list = set([k for k,v in w_count.items() if v == max_w])\n",
    "\n",
    "num = 0\n",
    "for h,w in hw:\n",
    "    if h in max_h_list and w in max_w_list:\n",
    "        num += 1\n",
    "\n",
    "if num < len(max_h_list)*len(max_w_list):\n",
    "    print(ans)\n",
    "else:\n",
    "    print(ans-1)"
   ]
  },
  {
   "cell_type": "code",
   "execution_count": null,
   "metadata": {},
   "outputs": [],
   "source": []
  },
  {
   "cell_type": "code",
   "execution_count": 17,
   "metadata": {},
   "outputs": [
    {
     "name": "stdin",
     "output_type": "stream",
     "text": [
      " 2 3 3\n",
      " 2 2\n",
      " 1 1\n",
      " 1 3\n"
     ]
    },
    {
     "name": "stdout",
     "output_type": "stream",
     "text": [
      "3\n"
     ]
    },
    {
     "ename": "SystemExit",
     "evalue": "",
     "output_type": "error",
     "traceback": [
      "An exception has occurred, use %tb to see the full traceback.\n",
      "\u001b[0;31mSystemExit\u001b[0m\n"
     ]
    }
   ],
   "source": [
    "H, W, M = map(int, input().split())\n",
    "hw = [list(map(int, input().split())) for _ in range(M)]\n",
    "\n",
    "h_count = {}\n",
    "w_count = {}\n",
    "for h,w in hw:\n",
    "    if h in h_count:\n",
    "        h_count[h] += 1\n",
    "    else:\n",
    "        h_count[h] = 1\n",
    "    if w in w_count:\n",
    "        w_count[w] += 1\n",
    "    else:\n",
    "        w_count[w] = 1\n",
    "\n",
    "max_h = max(h_count.values())\n",
    "max_w = max(w_count.values())\n",
    "ans = max_h + max_w\n",
    "\n",
    "max_h_list = set([k for k,v in h_count.items() if v == max_h])\n",
    "max_w_list = set([k for k,v in w_count.items() if v == max_w])\n",
    "\n",
    "num = 0\n",
    "for h,w in hw:\n",
    "    if h in max_h_list and w in max_w_list:\n",
    "        num += 1\n",
    "\n",
    "if num < len(max_h_list)*len(max_w_list):\n",
    "    print(ans)\n",
    "else:\n",
    "    print(ans-1)"
   ]
  }
 ],
 "metadata": {
  "kernelspec": {
   "display_name": "Python 3",
   "language": "python",
   "name": "python3"
  },
  "language_info": {
   "codemirror_mode": {
    "name": "ipython",
    "version": 3
   },
   "file_extension": ".py",
   "mimetype": "text/x-python",
   "name": "python",
   "nbconvert_exporter": "python",
   "pygments_lexer": "ipython3",
   "version": "3.8.1"
  }
 },
 "nbformat": 4,
 "nbformat_minor": 4
}
