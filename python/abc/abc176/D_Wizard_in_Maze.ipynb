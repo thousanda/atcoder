{
 "cells": [
  {
   "cell_type": "markdown",
   "metadata": {},
   "source": [
    "# 方針は合ってそうだったけど実装間に合わず"
   ]
  },
  {
   "cell_type": "code",
   "execution_count": 1,
   "metadata": {},
   "outputs": [
    {
     "data": {
      "application/vnd.jupyter.widget-view+json": {
       "model_id": "290ffe3bed6e4340ba6c06eb440b0b67",
       "version_major": 2,
       "version_minor": 0
      },
      "text/plain": [
       "Textarea(value='')"
      ]
     },
     "metadata": {},
     "output_type": "display_data"
    }
   ],
   "source": [
    "from ipywidgets import Textarea\n",
    "\n",
    "def get_input(change):\n",
    "    global Input\n",
    "    Input=change[\"new\"].splitlines()\n",
    "textarea = Textarea()\n",
    "textarea.observe(get_input, names='value')\n",
    "display(textarea)"
   ]
  },
  {
   "cell_type": "code",
   "execution_count": 16,
   "metadata": {},
   "outputs": [
    {
     "name": "stdout",
     "output_type": "stream",
     "text": [
      "(0, 0)\n",
      "(0, 1)\n",
      "(1, 1)\n",
      "(1, 0)\n",
      "(2, 0)\n",
      "(3, 0)\n"
     ]
    }
   ],
   "source": [
    "H, W = map(int, Input[0].split())\n",
    "C = list(map(int, Input[1].split()))\n",
    "D = list(map(int, Input[2].split()))\n",
    "S = [list(i) for i in Input[3:]]\n",
    "\n",
    "c = {'h': C[0]-1, 'w': C[1]-1 }\n",
    "d = {'h': D[0]-1, 'w': D[1]-1 }\n",
    "\n",
    "\n",
    "dy = [0, 1, 0, -1]  # y軸方向への変位\n",
    "dx = [1, 0, -1, 0]  # x軸方向への変位\n",
    "\n",
    "visited = [[False for j in range(W)] for i in range(H)]\n",
    "groups = [[]]\n",
    "def dfs(y, x, group_idx):\n",
    "    print(f\"({y}, {x})\")\n",
    "    visited[y][x] = True\n",
    "    groups[group_idx].append([y, x])\n",
    "    # 周囲4方位のマスを探索\n",
    "    for i in range(4):\n",
    "        ny = y + dy[i]\n",
    "        nx = x + dx[i]\n",
    "        if (ny >= 0 and nx >= 0 and ny < H and nx < W) and (S[ny][nx] == '.') and not visited[ny][nx]:\n",
    "            dfs(ny, nx, group_idx)\n",
    "\n",
    "i = 0\n",
    "coor = [c['h'], c['w']]\n",
    "while True:\n",
    "    dfs(coor[0], coor[1], i)\n",
    "    if [d['h'], d['w']] in groups[i]:\n",
    "        print(i)\n",
    "    i += 1"
   ]
  },
  {
   "cell_type": "code",
   "execution_count": null,
   "metadata": {},
   "outputs": [],
   "source": []
  },
  {
   "cell_type": "code",
   "execution_count": null,
   "metadata": {},
   "outputs": [],
   "source": []
  },
  {
   "cell_type": "code",
   "execution_count": null,
   "metadata": {},
   "outputs": [],
   "source": []
  },
  {
   "cell_type": "code",
   "execution_count": null,
   "metadata": {},
   "outputs": [],
   "source": [
    "H, W = map(int, input().split())\n",
    "C = list(map(int, input().split()))\n",
    "D = list(map(int, input().split()))\n",
    "S = [list(map(int, input().split())) for _ in range(H)]"
   ]
  }
 ],
 "metadata": {
  "kernelspec": {
   "display_name": "Python 3",
   "language": "python",
   "name": "python3"
  },
  "language_info": {
   "codemirror_mode": {
    "name": "ipython",
    "version": 3
   },
   "file_extension": ".py",
   "mimetype": "text/x-python",
   "name": "python",
   "nbconvert_exporter": "python",
   "pygments_lexer": "ipython3",
   "version": "3.8.1"
  }
 },
 "nbformat": 4,
 "nbformat_minor": 4
}
