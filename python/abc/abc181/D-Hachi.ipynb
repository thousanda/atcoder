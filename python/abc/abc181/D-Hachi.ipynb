{
 "cells": [
  {
   "cell_type": "code",
   "execution_count": 30,
   "metadata": {},
   "outputs": [
    {
     "name": "stdin",
     "output_type": "stream",
     "text": [
      " 1234\n"
     ]
    },
    {
     "name": "stdout",
     "output_type": "stream",
     "text": [
      "{1: 1, 2: 1, 3: 1, 4: 1}\n",
      "432\n",
      "n=2\n",
      "n=3\n",
      "n=4\n",
      "yeeeeees\n",
      "{1: 1, 2: 1, 3: 1, 4: 1}\n",
      "440\n",
      "n=0\n",
      "break\n"
     ]
    }
   ],
   "source": [
    "import copy\n",
    "\n",
    "\n",
    "S = list(map(int, list(input())))\n",
    "\n",
    "if len(S) == 1:\n",
    "    if S[0] == 8:\n",
    "        print('Yes')\n",
    "if len(S) == 2:\n",
    "    if ((S[0]*10 + S[1]) % 8 == 0) or ((S[1]*10 + S[0]) % 8 == 0):\n",
    "        print('Yes')\n",
    "\n",
    "\n",
    "S_dict = {}\n",
    "for s in S:\n",
    "    if s in S_dict:\n",
    "        S_dict[s] += 1\n",
    "    else:\n",
    "        S_dict[s] = 1\n",
    "\n",
    "\n",
    "yes = False\n",
    "for i in range(104, 1001, 8):\n",
    "    s_dict = copy.copy(S_dict)\n",
    "    print(s_dict)\n",
    "    print(i)\n",
    "    for j in range(3):\n",
    "        n = i % 10\n",
    "        print(f'{n=}')\n",
    "        if (n not in s_dict) or (s_dict[n] <= 0):\n",
    "            print('break')\n",
    "            break\n",
    "        s_dict[n] -= 1\n",
    "        i //= 10\n",
    "    else:\n",
    "        print('yeeeeees')\n",
    "        yes = True"
   ]
  },
  {
   "cell_type": "code",
   "execution_count": 37,
   "metadata": {},
   "outputs": [
    {
     "name": "stdin",
     "output_type": "stream",
     "text": [
      " 1333\n"
     ]
    },
    {
     "name": "stdout",
     "output_type": "stream",
     "text": [
      "No\n"
     ]
    }
   ],
   "source": [
    "import copy\n",
    "import sys\n",
    "\n",
    "S = list(map(int, list(input())))\n",
    "\n",
    "if len(S) == 1:\n",
    "    if S[0] == 8:\n",
    "        print('Yes')\n",
    "    else:\n",
    "        print('No')\n",
    "    sys.exit()\n",
    "elif len(S) == 2:\n",
    "    if ((S[0]*10 + S[1]) % 8 == 0) or ((S[1]*10 + S[0]) % 8 == 0):\n",
    "        print('Yes')\n",
    "    else:\n",
    "        print('No')\n",
    "    sys.exit()\n",
    "\n",
    "\n",
    "S_dict = {}\n",
    "for s in S:\n",
    "    if s in S_dict:\n",
    "        S_dict[s] += 1\n",
    "    else:\n",
    "        S_dict[s] = 1\n",
    "\n",
    "\n",
    "yes = False\n",
    "for i in range(104, 1001, 8):\n",
    "    s_dict = copy.copy(S_dict)\n",
    "    for j in range(3):\n",
    "        n = i % 10\n",
    "        if (n not in s_dict) or (s_dict[n] <= 0):\n",
    "            break\n",
    "        s_dict[n] -= 1\n",
    "        i //= 10\n",
    "    else:\n",
    "        yes = True\n",
    "\n",
    "if yes:\n",
    "    print('Yes')\n",
    "else:\n",
    "    print('No')"
   ]
  },
  {
   "cell_type": "code",
   "execution_count": 38,
   "metadata": {},
   "outputs": [
    {
     "data": {
      "text/plain": [
       "0"
      ]
     },
     "execution_count": 38,
     "metadata": {},
     "output_type": "execute_result"
    }
   ],
   "source": [
    "104 % 8"
   ]
  }
 ],
 "metadata": {
  "kernelspec": {
   "display_name": "Python 3",
   "language": "python",
   "name": "python3"
  },
  "language_info": {
   "codemirror_mode": {
    "name": "ipython",
    "version": 3
   },
   "file_extension": ".py",
   "mimetype": "text/x-python",
   "name": "python",
   "nbconvert_exporter": "python",
   "pygments_lexer": "ipython3",
   "version": "3.8.1"
  }
 },
 "nbformat": 4,
 "nbformat_minor": 4
}
