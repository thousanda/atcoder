{
 "cells": [
  {
   "cell_type": "code",
   "execution_count": 1,
   "metadata": {},
   "outputs": [
    {
     "data": {
      "application/vnd.jupyter.widget-view+json": {
       "model_id": "e9d6254b89684297b1c698920690c185",
       "version_major": 2,
       "version_minor": 0
      },
      "text/plain": [
       "Textarea(value='')"
      ]
     },
     "metadata": {},
     "output_type": "display_data"
    }
   ],
   "source": [
    "from ipywidgets import Textarea\n",
    "\n",
    "def get_input(change):\n",
    "    global Input\n",
    "    Input=change[\"new\"].splitlines()\n",
    "textarea = Textarea()\n",
    "textarea.observe(get_input, names='value')\n",
    "display(textarea)"
   ]
  },
  {
   "cell_type": "code",
   "execution_count": 50,
   "metadata": {},
   "outputs": [
    {
     "name": "stdout",
     "output_type": "stream",
     "text": [
      "ih=0, w=189\n",
      "total=335\n",
      "ih=2, w=306\n",
      "total=398\n",
      "ih=4, w=496\n",
      "total=252\n",
      "ih=6, w=567\n",
      "total=239\n",
      "ih=8, w=732\n",
      "total=390\n",
      "ih=10, w=732\n",
      "total=302\n",
      "ih=12, w=759\n",
      "total=369\n",
      "ih=14, w=759\n",
      "total=411\n",
      "239\n"
     ]
    }
   ],
   "source": [
    "N, M = map(int, Input[0].split())\n",
    "H = sorted(list(map(int, Input[1].split())))\n",
    "W = sorted(list(map(int, Input[2].split())))\n",
    "\n",
    "#N, M = [1, 1]\n",
    "#H = [3]\n",
    "#W = [4]\n",
    "\n",
    "\n",
    "totals_even = [0]*(N//2+1)\n",
    "for i in range(1, N//2+1):\n",
    "    totals_even[i] = totals_even[i-1] + (H[2*i-1] - H[2*i-2])\n",
    "\n",
    "totals_odd = [0]*(N//2+1)\n",
    "for i in range(N//2-1, -1, -1):\n",
    "    totals_odd[i] = totals_odd[i+1] + (H[2*i+2] - H[2*i+1])\n",
    "\n",
    "ans = float('inf')\n",
    "iw = 0\n",
    "for ih in range(0, N, 2):\n",
    "    h = H[ih]\n",
    "    while iw < M-1 and (abs(h-W[iw]) > abs(h-W[iw+1])):\n",
    "        iw += 1\n",
    "    w = W[iw]\n",
    "    print(f'{ih=}, {w=}')\n",
    "    total = totals_even[ih//2] + abs(w-h) + totals_odd[ih//2]\n",
    "    print(f'{total=}')\n",
    "    ans = min(ans, total)\n",
    "    \n",
    "print(ans)"
   ]
  },
  {
   "cell_type": "code",
   "execution_count": 48,
   "metadata": {},
   "outputs": [
    {
     "name": "stdin",
     "output_type": "stream",
     "text": [
      " 5 3\n",
      " 1 2 3 4 7\n",
      " 1 3 8\n"
     ]
    },
    {
     "name": "stdout",
     "output_type": "stream",
     "text": [
      "3\n"
     ]
    }
   ],
   "source": [
    "N, M = map(int, input().split())\n",
    "H = sorted(list(map(int, input().split())))\n",
    "W = sorted(list(map(int, input().split())))\n",
    "\n",
    "totals_even = [0]*(N//2+1)\n",
    "for i in range(1, N//2+1):\n",
    "    totals_even[i] = totals_even[i-1] + (H[2*i-1] - H[2*i-2])\n",
    "\n",
    "totals_odd = [0]*(N//2+1)\n",
    "for i in range(N//2-1, -1, -1):\n",
    "    totals_odd[i] = totals_odd[i+1] + (H[2*i+2] - H[2*i+1])\n",
    "\n",
    "ans = float('inf')\n",
    "iw = 0\n",
    "for ih in range(0, N, 2):\n",
    "    h = H[ih]\n",
    "    while iw < M-1 and (abs(h-W[iw]) > abs(h-W[iw+1])):\n",
    "        iw += 1\n",
    "    w = W[iw]\n",
    "    total = totals_even[ih//2] + abs(w-h) + totals_odd[ih//2]\n",
    "    ans = min(ans, total)\n",
    "    \n",
    "print(ans)"
   ]
  },
  {
   "cell_type": "code",
   "execution_count": null,
   "metadata": {},
   "outputs": [],
   "source": []
  },
  {
   "cell_type": "code",
   "execution_count": null,
   "metadata": {},
   "outputs": [],
   "source": []
  }
 ],
 "metadata": {
  "kernelspec": {
   "display_name": "Python 3",
   "language": "python",
   "name": "python3"
  },
  "language_info": {
   "codemirror_mode": {
    "name": "ipython",
    "version": 3
   },
   "file_extension": ".py",
   "mimetype": "text/x-python",
   "name": "python",
   "nbconvert_exporter": "python",
   "pygments_lexer": "ipython3",
   "version": "3.8.1"
  }
 },
 "nbformat": 4,
 "nbformat_minor": 4
}
