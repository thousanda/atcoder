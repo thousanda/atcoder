{
 "cells": [
  {
   "cell_type": "code",
   "execution_count": 1,
   "metadata": {},
   "outputs": [
    {
     "data": {
      "application/vnd.jupyter.widget-view+json": {
       "model_id": "adba7ba62bb04da1923f0e39c6e6d376",
       "version_major": 2,
       "version_minor": 0
      },
      "text/plain": [
       "Textarea(value='')"
      ]
     },
     "metadata": {},
     "output_type": "display_data"
    }
   ],
   "source": [
    "from ipywidgets import Textarea\n",
    "\n",
    "def get_input(change):\n",
    "    global Input\n",
    "    Input=change[\"new\"].splitlines()\n",
    "textarea = Textarea()\n",
    "textarea.observe(get_input, names='value')\n",
    "display(textarea)"
   ]
  },
  {
   "cell_type": "code",
   "execution_count": 7,
   "metadata": {},
   "outputs": [
    {
     "name": "stdout",
     "output_type": "stream",
     "text": [
      "Yes\n"
     ]
    }
   ],
   "source": [
    "N = int(Input[0])\n",
    "XY = [list(map(int, i.split())) for i in Input[1:]]\n",
    "\n",
    "yes = False\n",
    "\n",
    "for i in range(N):\n",
    "    p1 = XY[i]\n",
    "    \n",
    "    j = i + 1\n",
    "    while j < N:\n",
    "        p2 = XY[j]\n",
    "        vec1 = [p2[0]-p1[0], p2[1]-p1[1]]\n",
    "        \n",
    "        k = j + 1\n",
    "        while k < N:\n",
    "            # print(i, j, k)\n",
    "            p3 = XY[k]\n",
    "            vec2 = [p3[0]-p1[0], p3[1]-p1[1]]\n",
    "            if vec1[0]*vec2[1] == vec2[0]*vec1[1]:\n",
    "                yes = True\n",
    "            k += 1\n",
    "        \n",
    "        j += 1\n",
    "        \n",
    "if yes:\n",
    "    print('Yes')\n",
    "else:\n",
    "    print('No')"
   ]
  },
  {
   "cell_type": "code",
   "execution_count": null,
   "metadata": {},
   "outputs": [],
   "source": []
  },
  {
   "cell_type": "code",
   "execution_count": null,
   "metadata": {},
   "outputs": [],
   "source": []
  },
  {
   "cell_type": "code",
   "execution_count": 9,
   "metadata": {},
   "outputs": [
    {
     "name": "stdin",
     "output_type": "stream",
     "text": [
      " 4\n",
      " 0 1\n",
      " 0 2\n",
      " 0 3\n",
      " 1 1\n"
     ]
    },
    {
     "name": "stdout",
     "output_type": "stream",
     "text": [
      "Yes\n"
     ]
    }
   ],
   "source": [
    "N = int(input())\n",
    "XY = [list(map(int, input().split())) for _ in range(N)]\n",
    "\n",
    "yes = False\n",
    "\n",
    "for i in range(N):\n",
    "    p1 = XY[i]\n",
    "    \n",
    "    j = i + 1\n",
    "    while j < N:\n",
    "        p2 = XY[j]\n",
    "        vec1 = [p2[0]-p1[0], p2[1]-p1[1]]\n",
    "        \n",
    "        k = j + 1\n",
    "        while k < N:\n",
    "            p3 = XY[k]\n",
    "            vec2 = [p3[0]-p1[0], p3[1]-p1[1]]\n",
    "            if vec1[0]*vec2[1] == vec2[0]*vec1[1]:\n",
    "                yes = True\n",
    "            k += 1\n",
    "        \n",
    "        j += 1\n",
    "        \n",
    "if yes:\n",
    "    print('Yes')\n",
    "else:\n",
    "    print('No')"
   ]
  }
 ],
 "metadata": {
  "kernelspec": {
   "display_name": "Python 3",
   "language": "python",
   "name": "python3"
  },
  "language_info": {
   "codemirror_mode": {
    "name": "ipython",
    "version": 3
   },
   "file_extension": ".py",
   "mimetype": "text/x-python",
   "name": "python",
   "nbconvert_exporter": "python",
   "pygments_lexer": "ipython3",
   "version": "3.8.1"
  }
 },
 "nbformat": 4,
 "nbformat_minor": 4
}
