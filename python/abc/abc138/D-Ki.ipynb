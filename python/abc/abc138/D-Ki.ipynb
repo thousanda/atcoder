{
 "cells": [
  {
   "cell_type": "code",
   "execution_count": 2,
   "metadata": {},
   "outputs": [
    {
     "data": {
      "application/vnd.jupyter.widget-view+json": {
       "model_id": "d6948078baa148188fdcc26860e4d5fc",
       "version_major": 2,
       "version_minor": 0
      },
      "text/plain": [
       "Textarea(value='')"
      ]
     },
     "metadata": {},
     "output_type": "display_data"
    }
   ],
   "source": [
    "from ipywidgets import Textarea\n",
    "\n",
    "def get_input(change):\n",
    "    global Input\n",
    "    Input=change[\"new\"].splitlines()\n",
    "textarea = Textarea()\n",
    "textarea.observe(get_input, names='value')\n",
    "display(textarea)"
   ]
  },
  {
   "cell_type": "code",
   "execution_count": 12,
   "metadata": {},
   "outputs": [],
   "source": [
    "N, Q = map(int, Input[0].split())\n",
    "edge = [list(map(int, i.split())) for i in Input[1:N]]\n",
    "P = [list(map(int, i.split())) for i in Input[N:]]"
   ]
  },
  {
   "cell_type": "markdown",
   "metadata": {},
   "source": [
    "# forの頭でif breakとか再帰関数の先頭でif returnとか遅くなるからしない\n",
    "\n",
    "# 木じゃなくて配列だったらどう？\n",
    "配列は枝分かれのない木とみなせる。\n",
    "\n",
    "[ 1, 2, ..., n, n+1, ..., N ] という配列があったときに、  \n",
    "n番目以降に1を足すよう指定された場合、  \n",
    "n, n+1, ..., N 番目 の頂点に1を足すの代わりに\n",
    "\n",
    "- n番目だけに1を足す\n",
    "- 数え上げるときに累積和をとる\n",
    "\n",
    "という方針でいく\n",
    "\n",
    "**=> imos法** "
   ]
  },
  {
   "cell_type": "markdown",
   "metadata": {},
   "source": [
    "## debug"
   ]
  },
  {
   "cell_type": "code",
   "execution_count": 15,
   "metadata": {},
   "outputs": [
    {
     "name": "stdout",
     "output_type": "stream",
     "text": [
      "edge=[[1, 2], [1, 3], [2, 4], [3, 6], [2, 5]]\n",
      "P=[[1, 10], [1, 10]]\n",
      "\n",
      "tree=[[], [2, 3], [1, 4, 5], [1, 6], [2], [2], [3]]\n",
      "counter=[0, 20, 0, 0, 0, 0, 0]\n",
      "now=1\n",
      "now=2\n",
      "now=4\n",
      "now=5\n",
      "now=3\n",
      "now=6\n",
      "20 20 20 20 20 20\n"
     ]
    }
   ],
   "source": [
    "# TLE\n",
    "import sys\n",
    "sys.setrecursionlimit(10**6)\n",
    "\n",
    "def dfs(now, total, tree, counter, result):\n",
    "    if result[now] > 0:\n",
    "        return\n",
    "    print(f'{now=}')\n",
    "    result[now] = total + counter[now]\n",
    "    for child in tree[now]:\n",
    "        dfs(child, result[now], tree, counter, result)\n",
    "\n",
    "print(f'{edge=}')\n",
    "print(f'{P=}')\n",
    "print()\n",
    "\n",
    "tree = [[] for _ in range(N+1)]\n",
    "counter = [0 for _ in range(N+1)]\n",
    "\n",
    "for a,b in edge:\n",
    "    tree[a].append(b)\n",
    "    tree[b].append(a)\n",
    "print(f'{tree=}')\n",
    "\n",
    "for p,x in P:\n",
    "    counter[p] += x\n",
    "print(f'{counter=}')\n",
    "\n",
    "# 深さ優先探索しつつ累積和をとる\n",
    "result = [0]*(N+1)\n",
    "dfs(1, 0, tree, counter, result)\n",
    "\n",
    "print(' '.join(map(str, result[1:])))"
   ]
  },
  {
   "cell_type": "code",
   "execution_count": 21,
   "metadata": {},
   "outputs": [
    {
     "name": "stdout",
     "output_type": "stream",
     "text": [
      "edge=[[1, 2], [1, 3], [2, 4], [3, 6], [2, 5]]\n",
      "P=[[1, 10], [1, 10]]\n",
      "\n",
      "tree=[[], [2, 3], [1, 4, 5], [1, 6], [2], [2], [3]]\n",
      "counter=[0, 20, 0, 0, 0, 0, 0]\n",
      "now=1\n",
      "now=2\n",
      "now=4\n",
      "now=5\n",
      "now=3\n",
      "now=6\n",
      "20 20 20 20 20 20\n"
     ]
    }
   ],
   "source": [
    "# AC\n",
    "import sys\n",
    "sys.setrecursionlimit(10**7)\n",
    "\n",
    "def dfs(now, parent, total):\n",
    "    print(f'{now=}')\n",
    "    result[now] = total + counter[now]\n",
    "    for child in tree[now]:\n",
    "        if child == parent:\n",
    "            continue\n",
    "        dfs(child, now, result[now])\n",
    "\n",
    "print(f'{edge=}')\n",
    "print(f'{P=}')\n",
    "print()\n",
    "\n",
    "tree = [[] for _ in range(N+1)]\n",
    "counter = [0 for _ in range(N+1)]\n",
    "\n",
    "for a,b in edge:\n",
    "    tree[a].append(b)\n",
    "    tree[b].append(a)\n",
    "print(f'{tree=}')\n",
    "\n",
    "for p,x in P:\n",
    "    counter[p] += x\n",
    "print(f'{counter=}')\n",
    "\n",
    "# 深さ優先探索しつつ累積和をとる\n",
    "result = [0]*(N+1)\n",
    "dfs(1, 0, 0)\n",
    "\n",
    "print(' '.join(map(str, result[1:])))"
   ]
  },
  {
   "cell_type": "markdown",
   "metadata": {},
   "source": [
    "## submit"
   ]
  },
  {
   "cell_type": "code",
   "execution_count": 17,
   "metadata": {},
   "outputs": [
    {
     "name": "stdin",
     "output_type": "stream",
     "text": [
      " 4 3\n",
      " 1 2\n",
      " 2 3\n",
      " 2 4\n",
      " 2 10\n",
      " 1 100\n",
      " 3 1\n"
     ]
    },
    {
     "name": "stdout",
     "output_type": "stream",
     "text": [
      "100 110 111 110\n"
     ]
    }
   ],
   "source": [
    "import sys\n",
    "sys.setrecursionlimit(10**6)\n",
    "\n",
    "def input():\n",
    "    return sys.stdin.readline()[:-1]\n",
    "\n",
    "def dfs(now, total, tree, counter, result):\n",
    "    if result[now] > 0:\n",
    "        return\n",
    "    result[now] = total + counter[now]\n",
    "    for child in tree[now]:\n",
    "        dfs(child, result[now], tree, counter, result)\n",
    "\n",
    "def main():\n",
    "    N, Q = map(int, input().split())\n",
    "    edge = [list(map(int, input().split())) for _ in range(N-1)]\n",
    "    P = [list(map(int, input().split())) for _ in range(Q)]\n",
    "\n",
    "    tree = [[] for _ in range(N+1)]\n",
    "    counter = [0 for _ in range(N+1)]\n",
    "\n",
    "    for a,b in edge:\n",
    "        tree[a].append(b)\n",
    "        tree[b].append(a)\n",
    "\n",
    "    for p,x in P:\n",
    "        counter[p] += x\n",
    "\n",
    "    result = [0]*(N+1)\n",
    "    dfs(1, 0, tree, counter, result)\n",
    "\n",
    "    print(' '.join(map(str, result[1:])))\n",
    "\n",
    "main()"
   ]
  },
  {
   "cell_type": "code",
   "execution_count": 19,
   "metadata": {},
   "outputs": [
    {
     "ename": "ValueError",
     "evalue": "not enough values to unpack (expected 2, got 0)",
     "output_type": "error",
     "traceback": [
      "\u001b[0;31m---------------------------------------------------------------------------\u001b[0m",
      "\u001b[0;31mValueError\u001b[0m                                Traceback (most recent call last)",
      "\u001b[0;32m<ipython-input-19-cf547e93bea5>\u001b[0m in \u001b[0;36m<module>\u001b[0;34m\u001b[0m\n\u001b[1;32m     13\u001b[0m \u001b[0;34m\u001b[0m\u001b[0m\n\u001b[1;32m     14\u001b[0m \u001b[0;34m\u001b[0m\u001b[0m\n\u001b[0;32m---> 15\u001b[0;31m \u001b[0mN\u001b[0m\u001b[0;34m,\u001b[0m \u001b[0mQ\u001b[0m \u001b[0;34m=\u001b[0m \u001b[0mmap\u001b[0m\u001b[0;34m(\u001b[0m\u001b[0mint\u001b[0m\u001b[0;34m,\u001b[0m \u001b[0minput\u001b[0m\u001b[0;34m(\u001b[0m\u001b[0;34m)\u001b[0m\u001b[0;34m.\u001b[0m\u001b[0msplit\u001b[0m\u001b[0;34m(\u001b[0m\u001b[0;34m)\u001b[0m\u001b[0;34m)\u001b[0m\u001b[0;34m\u001b[0m\u001b[0;34m\u001b[0m\u001b[0m\n\u001b[0m\u001b[1;32m     16\u001b[0m \u001b[0medge\u001b[0m \u001b[0;34m=\u001b[0m \u001b[0;34m[\u001b[0m\u001b[0mlist\u001b[0m\u001b[0;34m(\u001b[0m\u001b[0mmap\u001b[0m\u001b[0;34m(\u001b[0m\u001b[0mint\u001b[0m\u001b[0;34m,\u001b[0m \u001b[0minput\u001b[0m\u001b[0;34m(\u001b[0m\u001b[0;34m)\u001b[0m\u001b[0;34m.\u001b[0m\u001b[0msplit\u001b[0m\u001b[0;34m(\u001b[0m\u001b[0;34m)\u001b[0m\u001b[0;34m)\u001b[0m\u001b[0;34m)\u001b[0m \u001b[0;32mfor\u001b[0m \u001b[0m_\u001b[0m \u001b[0;32min\u001b[0m \u001b[0mrange\u001b[0m\u001b[0;34m(\u001b[0m\u001b[0mN\u001b[0m\u001b[0;34m-\u001b[0m\u001b[0;36m1\u001b[0m\u001b[0;34m)\u001b[0m\u001b[0;34m]\u001b[0m\u001b[0;34m\u001b[0m\u001b[0;34m\u001b[0m\u001b[0m\n\u001b[1;32m     17\u001b[0m \u001b[0mP\u001b[0m \u001b[0;34m=\u001b[0m \u001b[0;34m[\u001b[0m\u001b[0mlist\u001b[0m\u001b[0;34m(\u001b[0m\u001b[0mmap\u001b[0m\u001b[0;34m(\u001b[0m\u001b[0mint\u001b[0m\u001b[0;34m,\u001b[0m \u001b[0minput\u001b[0m\u001b[0;34m(\u001b[0m\u001b[0;34m)\u001b[0m\u001b[0;34m.\u001b[0m\u001b[0msplit\u001b[0m\u001b[0;34m(\u001b[0m\u001b[0;34m)\u001b[0m\u001b[0;34m)\u001b[0m\u001b[0;34m)\u001b[0m \u001b[0;32mfor\u001b[0m \u001b[0m_\u001b[0m \u001b[0;32min\u001b[0m \u001b[0mrange\u001b[0m\u001b[0;34m(\u001b[0m\u001b[0mQ\u001b[0m\u001b[0;34m)\u001b[0m\u001b[0;34m]\u001b[0m\u001b[0;34m\u001b[0m\u001b[0;34m\u001b[0m\u001b[0m\n",
      "\u001b[0;31mValueError\u001b[0m: not enough values to unpack (expected 2, got 0)"
     ]
    }
   ],
   "source": [
    "import sys\n",
    "sys.setrecursionlimit(10**7)\n",
    "\n",
    "def input():\n",
    "    return sys.stdin.readline()[:-1]\n",
    "\n",
    "def dfs(now, parent, total):\n",
    "    result[now] = total + counter[now]\n",
    "    for child in tree[now]:\n",
    "        if child == parent:\n",
    "            continue\n",
    "        dfs(child, now, result[now])\n",
    "\n",
    "N, Q = map(int, input().split())\n",
    "edge = [list(map(int, input().split())) for _ in range(N-1)]\n",
    "P = [list(map(int, input().split())) for _ in range(Q)]\n",
    "\n",
    "tree = [[] for _ in range(N+1)]\n",
    "counter = [0 for _ in range(N+1)]\n",
    "\n",
    "for a,b in edge:\n",
    "    tree[a].append(b)\n",
    "    tree[b].append(a)\n",
    "\n",
    "for p,x in P:\n",
    "    counter[p] += x\n",
    "\n",
    "result = [0]*(N+1)\n",
    "dfs(1, 0, 0)\n",
    "\n",
    "print(' '.join(map(str, result[1:])))"
   ]
  },
  {
   "cell_type": "code",
   "execution_count": null,
   "metadata": {},
   "outputs": [],
   "source": [
    " 4 3\n",
    " 1 2\n",
    " 2 3\n",
    " 2 4\n",
    " 2 10\n",
    " 1 100\n",
    " 3 1"
   ]
  },
  {
   "cell_type": "code",
   "execution_count": 33,
   "metadata": {},
   "outputs": [],
   "source": [
    "del input"
   ]
  }
 ],
 "metadata": {
  "kernelspec": {
   "display_name": "Python 3",
   "language": "python",
   "name": "python3"
  },
  "language_info": {
   "codemirror_mode": {
    "name": "ipython",
    "version": 3
   },
   "file_extension": ".py",
   "mimetype": "text/x-python",
   "name": "python",
   "nbconvert_exporter": "python",
   "pygments_lexer": "ipython3",
   "version": "3.8.1"
  }
 },
 "nbformat": 4,
 "nbformat_minor": 4
}
