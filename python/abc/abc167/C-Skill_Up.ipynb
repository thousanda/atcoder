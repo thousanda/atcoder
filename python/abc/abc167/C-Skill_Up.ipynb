{
 "cells": [
  {
   "cell_type": "code",
   "execution_count": 30,
   "metadata": {},
   "outputs": [
    {
     "name": "stdin",
     "output_type": "stream",
     "text": [
      " 3 3 10\n",
      " 60 2 2 4\n",
      " 70 8 7 9\n",
      " 50 2 3 9\n"
     ]
    }
   ],
   "source": [
    "import numpy as np\n",
    "N, M, X = map(int, input().split())\n",
    "books = [list(map(int, input().split())) for n in range(N)]\n",
    "npbooks = np.array(books)"
   ]
  },
  {
   "cell_type": "code",
   "execution_count": 36,
   "metadata": {},
   "outputs": [
    {
     "name": "stdout",
     "output_type": "stream",
     "text": [
      "120\n"
     ]
    }
   ],
   "source": [
    "def can_achieve(points, target):\n",
    "    return all(points >= target)\n",
    "\n",
    "def make_subsets(whole_list):\n",
    "    subsets = []\n",
    "    for i in range(1 << len(whole_list)):\n",
    "        output = []\n",
    "        for j in range(len(whole_list)):\n",
    "            if ((i >> j) & 1) == 1:\n",
    "                output.append(whole_list[j])\n",
    "        subsets.append(output)\n",
    "    return subsets[1:]\n",
    "\n",
    "subsets = make_subsets([i for i in range(N)])\n",
    "values = []\n",
    "for subset in subsets:\n",
    "    total = np.array([0 for _ in range(M+1)])\n",
    "    for idx in subset:\n",
    "        total += books[idx]\n",
    "    if can_achieve(total[1:], X):\n",
    "        values.append(total[0])\n",
    "if values == []:\n",
    "    print(-1)\n",
    "else:\n",
    "    print(min(values))"
   ]
  },
  {
   "cell_type": "code",
   "execution_count": null,
   "metadata": {},
   "outputs": [],
   "source": []
  }
 ],
 "metadata": {
  "kernelspec": {
   "display_name": "Python 3",
   "language": "python",
   "name": "python3"
  },
  "language_info": {
   "codemirror_mode": {
    "name": "ipython",
    "version": 3
   },
   "file_extension": ".py",
   "mimetype": "text/x-python",
   "name": "python",
   "nbconvert_exporter": "python",
   "pygments_lexer": "ipython3",
   "version": "3.8.1"
  }
 },
 "nbformat": 4,
 "nbformat_minor": 4
}
