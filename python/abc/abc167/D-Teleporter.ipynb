{
 "cells": [
  {
   "cell_type": "code",
   "execution_count": 1,
   "metadata": {},
   "outputs": [
    {
     "name": "stdin",
     "output_type": "stream",
     "text": [
      " 4 5\n",
      " 3 2 4 1\n"
     ]
    }
   ],
   "source": [
    "N, K = map(int, input().split())\n",
    "A = [-1] + list(map(int, input().split()))"
   ]
  },
  {
   "cell_type": "code",
   "execution_count": 38,
   "metadata": {},
   "outputs": [],
   "source": [
    "N = 6\n",
    "K = 727202214173249351\n",
    "A = [-1, 6, 5, 2, 5, 3, 2]"
   ]
  },
  {
   "cell_type": "code",
   "execution_count": 46,
   "metadata": {},
   "outputs": [],
   "source": [
    "N = 4\n",
    "K = 5\n",
    "A = [-1, 3, 2, 4, 1]"
   ]
  },
  {
   "cell_type": "code",
   "execution_count": 47,
   "metadata": {},
   "outputs": [
    {
     "name": "stdout",
     "output_type": "stream",
     "text": [
      "seen[idx]=0, i=3\n",
      "4\n"
     ]
    }
   ],
   "source": [
    "def teleport(graph, times):\n",
    "    now = 1\n",
    "    for i in times:\n",
    "        now = graph[i]\n",
    "    return now\n",
    "\n",
    "idx = 1\n",
    "seen = [-1 for _ in range(N+1)]\n",
    "states = []\n",
    "for i, n in enumerate(range(N+1)):\n",
    "    if seen[idx] >= 0:\n",
    "        break\n",
    "    states.append(idx)\n",
    "    seen[idx] = i\n",
    "    idx = A[idx]\n",
    "\n",
    "loop_size = i - seen[idx]\n",
    "firsts = len(states) - loop_size\n",
    "loop = states[firsts:]\n",
    "    \n",
    "if K <= firsts:\n",
    "    print(teleport(A, K))\n",
    "else:\n",
    "    remain = (K - firsts) % len(loop)\n",
    "    print(loop[remain])"
   ]
  },
  {
   "cell_type": "code",
   "execution_count": null,
   "metadata": {},
   "outputs": [],
   "source": []
  }
 ],
 "metadata": {
  "kernelspec": {
   "display_name": "Python 3",
   "language": "python",
   "name": "python3"
  },
  "language_info": {
   "codemirror_mode": {
    "name": "ipython",
    "version": 3
   },
   "file_extension": ".py",
   "mimetype": "text/x-python",
   "name": "python",
   "nbconvert_exporter": "python",
   "pygments_lexer": "ipython3",
   "version": "3.8.1"
  }
 },
 "nbformat": 4,
 "nbformat_minor": 4
}
