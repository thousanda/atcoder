{
 "cells": [
  {
   "cell_type": "markdown",
   "metadata": {},
   "source": [
    "## AC\n",
    "sorted()しないと時間がなかった"
   ]
  },
  {
   "cell_type": "code",
   "execution_count": 6,
   "metadata": {},
   "outputs": [
    {
     "name": "stdin",
     "output_type": "stream",
     "text": [
      " 3\n",
      " 101 9901 999999000001\n"
     ]
    },
    {
     "name": "stdout",
     "output_type": "stream",
     "text": [
      "-1\n"
     ]
    }
   ],
   "source": [
    "import sys\n",
    "\n",
    "N = int(input())\n",
    "A = list(map(int, input().split()))\n",
    "\n",
    "if 0 in A:\n",
    "    print(0)\n",
    "    sys.exit();\n",
    "\n",
    "ans = 1\n",
    "for a in sorted(A, reverse=True):\n",
    "    ans *= a\n",
    "    if ans > 10**18:\n",
    "        print(-1)\n",
    "        break\n",
    "else:\n",
    "    print(ans)\n",
    "\n"
   ]
  },
  {
   "cell_type": "code",
   "execution_count": null,
   "metadata": {},
   "outputs": [],
   "source": []
  },
  {
   "cell_type": "markdown",
   "metadata": {},
   "source": [
    "## TLE"
   ]
  },
  {
   "cell_type": "code",
   "execution_count": 1,
   "metadata": {},
   "outputs": [
    {
     "name": "stdout",
     "output_type": "stream",
     "text": [
      "-1\n"
     ]
    }
   ],
   "source": [
    "A = [101, 9901, 999999000001]\n",
    "\n",
    "import sys\n",
    "ans = 1\n",
    "for a in A:\n",
    "    ans *= a\n",
    "    if ans > 10**18:\n",
    "        print(-1)\n",
    "        sys.exit()\n",
    "else:\n",
    "    print(ans)"
   ]
  },
  {
   "cell_type": "code",
   "execution_count": 3,
   "metadata": {},
   "outputs": [
    {
     "name": "stdin",
     "output_type": "stream",
     "text": [
      " 2\n",
      " 1000000000 1000000000\n"
     ]
    },
    {
     "name": "stdout",
     "output_type": "stream",
     "text": [
      "1000000000000000000\n"
     ]
    }
   ],
   "source": [
    "import sys\n",
    "\n",
    "N = int(input())\n",
    "A = list(map(int, input().split()))\n",
    "ans = 1\n",
    "for a in A:\n",
    "    if a == 0:\n",
    "        print(0)\n",
    "        sys.exit()\n",
    "    ans *= a\n",
    "\n",
    "if ans > 10**18:\n",
    "    print(-1)\n",
    "else:\n",
    "    print(ans)\n"
   ]
  },
  {
   "cell_type": "code",
   "execution_count": null,
   "metadata": {},
   "outputs": [],
   "source": []
  },
  {
   "cell_type": "markdown",
   "metadata": {},
   "source": [
    "## c++"
   ]
  },
  {
   "cell_type": "raw",
   "metadata": {},
   "source": [
    "#include <iostream>\n",
    "using namespace std;\n",
    "int main(void){\n",
    "  int n;\n",
    "  long long a[100000];\n",
    "  cin>>n;\n",
    "  for(int i=0;i<n;i++){\n",
    "    cin>>a[i];\n",
    "  }\n",
    "  \n",
    "  long long ans = 1;\n",
    "  for(int i=0;i<n;i++) {\n",
    "    if (a[i] == 0) {\n",
    "      cout << \"0\";\n",
    "      return 0;\n",
    "    }\n",
    "\n",
    "    if (ans > 0) {\n",
    "      ans *= a[i];\n",
    "    }\n",
    "    if (ans>1000000000000000000) {\n",
    "      ans = -1;\n",
    "    }\n",
    "  }\n",
    "\n",
    "  cout << ans;\n",
    "}"
   ]
  }
 ],
 "metadata": {
  "kernelspec": {
   "display_name": "Python 3",
   "language": "python",
   "name": "python3"
  },
  "language_info": {
   "codemirror_mode": {
    "name": "ipython",
    "version": 3
   },
   "file_extension": ".py",
   "mimetype": "text/x-python",
   "name": "python",
   "nbconvert_exporter": "python",
   "pygments_lexer": "ipython3",
   "version": "3.8.1"
  }
 },
 "nbformat": 4,
 "nbformat_minor": 4
}
