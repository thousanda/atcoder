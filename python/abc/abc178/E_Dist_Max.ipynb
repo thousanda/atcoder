{
 "cells": [
  {
   "cell_type": "code",
   "execution_count": 1,
   "metadata": {},
   "outputs": [
    {
     "data": {
      "application/vnd.jupyter.widget-view+json": {
       "model_id": "18a2b5a0499b4b7ea1888f633ef42ca8",
       "version_major": 2,
       "version_minor": 0
      },
      "text/plain": [
       "Textarea(value='')"
      ]
     },
     "metadata": {},
     "output_type": "display_data"
    }
   ],
   "source": [
    "from ipywidgets import Textarea\n",
    "\n",
    "def get_input(change):\n",
    "    global Input\n",
    "    Input=change[\"new\"].splitlines()\n",
    "textarea = Textarea()\n",
    "textarea.observe(get_input, names='value')\n",
    "display(textarea)"
   ]
  },
  {
   "cell_type": "markdown",
   "metadata": {},
   "source": [
    "# 解けなかった: マンハッタン距離でよく使う45度回転"
   ]
  },
  {
   "cell_type": "markdown",
   "metadata": {},
   "source": [
    "## submit"
   ]
  },
  {
   "cell_type": "code",
   "execution_count": 30,
   "metadata": {},
   "outputs": [
    {
     "name": "stdin",
     "output_type": "stream",
     "text": [
      " 2\n",
      " 1 1\n",
      " 1 1\n"
     ]
    },
    {
     "name": "stdout",
     "output_type": "stream",
     "text": [
      "0\n"
     ]
    }
   ],
   "source": [
    "N = int(input())\n",
    "XY = [list(map(int, input().split())) for _ in range(N)]\n",
    "\n",
    "min_diff = 10**9\n",
    "max_diff = -10**9\n",
    "min_sum = 2 * 10**9\n",
    "max_sum = 2\n",
    "\n",
    "for x,y in XY:\n",
    "    min_diff = min(x-y, min_diff)\n",
    "    max_diff = max(x-y, max_diff)\n",
    "    min_sum = min(x+y, min_sum)\n",
    "    max_sum = max(x+y, max_sum)\n",
    "\n",
    "print(max(max_sum-min_sum, max_diff-min_diff))"
   ]
  },
  {
   "cell_type": "markdown",
   "metadata": {},
   "source": [
    "## 以下、コンテスト中に書いたやつ"
   ]
  },
  {
   "cell_type": "code",
   "execution_count": 16,
   "metadata": {},
   "outputs": [
    {
     "name": "stdout",
     "output_type": "stream",
     "text": [
      "(7, 4) (2, 1)\n",
      "(7, 4) (6, 5)\n",
      "(2, 1) (6, 5)\n",
      "8\n"
     ]
    }
   ],
   "source": [
    "from itertools import combinations\n",
    "\n",
    "N = int(Input[0])\n",
    "XY = [list(map(int, i.split())) for i in Input[1:]]\n",
    "\n",
    "min_diff = 10**9\n",
    "max_diff = 1\n",
    "min_sum = 2 * 10**9\n",
    "max_sum = 2\n",
    "\n",
    "for x,y in XY:\n",
    "    min_diff = min(x-y, min_diff)\n",
    "    max_diff = max(x-y, max_diff)\n",
    "    min_sum = min(x+y, min_sum)\n",
    "    max_sum = max(x+y, max_sum)\n",
    "\n",
    "cand_set = set()\n",
    "for x,y in XY:\n",
    "    if x-y in (min_diff, max_diff) or x+y in (min_sum, max_sum):\n",
    "        cand_set.add((x, y))\n",
    "\n",
    "dist = 0\n",
    "for p1, p2 in combinations(cand_set, 2):\n",
    "    print(p1, p2)\n",
    "    dist = max(dist, abs(p1[0]-p2[0]) + abs(p1[1]-p2[1]))\n",
    "    \n",
    "print(dist)"
   ]
  },
  {
   "cell_type": "code",
   "execution_count": null,
   "metadata": {},
   "outputs": [],
   "source": []
  },
  {
   "cell_type": "code",
   "execution_count": null,
   "metadata": {},
   "outputs": [],
   "source": []
  }
 ],
 "metadata": {
  "kernelspec": {
   "display_name": "Python 3",
   "language": "python",
   "name": "python3"
  },
  "language_info": {
   "codemirror_mode": {
    "name": "ipython",
    "version": 3
   },
   "file_extension": ".py",
   "mimetype": "text/x-python",
   "name": "python",
   "nbconvert_exporter": "python",
   "pygments_lexer": "ipython3",
   "version": "3.8.1"
  }
 },
 "nbformat": 4,
 "nbformat_minor": 4
}
