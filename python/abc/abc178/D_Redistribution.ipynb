{
 "cells": [
  {
   "cell_type": "code",
   "execution_count": 1,
   "metadata": {},
   "outputs": [
    {
     "data": {
      "application/vnd.jupyter.widget-view+json": {
       "model_id": "8b6a65a837a5449db8326eff6912c6af",
       "version_major": 2,
       "version_minor": 0
      },
      "text/plain": [
       "Textarea(value='')"
      ]
     },
     "metadata": {},
     "output_type": "display_data"
    }
   ],
   "source": [
    "from ipywidgets import Textarea\n",
    "\n",
    "def get_input(change):\n",
    "    global Input\n",
    "    Input=change[\"new\"].splitlines()\n",
    "textarea = Textarea()\n",
    "textarea.observe(get_input, names='value')\n",
    "display(textarea)"
   ]
  },
  {
   "cell_type": "code",
   "execution_count": 31,
   "metadata": {},
   "outputs": [
    {
     "name": "stdin",
     "output_type": "stream",
     "text": [
      " 9\n"
     ]
    },
    {
     "name": "stdout",
     "output_type": "stream",
     "text": [
      "i=1: div_num=1, remain=6, num=1\n",
      "i=2: div_num=2, remain=3, num=4\n",
      "i=3: div_num=3, remain=0, num=1\n",
      "6\n"
     ]
    }
   ],
   "source": [
    "from operator import mul\n",
    "from functools import reduce\n",
    "\n",
    "def cmb(n,r):\n",
    "    r = min(n-r,r)\n",
    "    if r == 0: return 1\n",
    "    over = reduce(mul, range(n, n - r, -1))\n",
    "    under = reduce(mul, range(1,r + 1))\n",
    "    return over // under\n",
    "\n",
    "MOD = 10**9 + 7\n",
    "\n",
    "\n",
    "S = int(input())\n",
    "\n",
    "ans = 0\n",
    "\n",
    "max_div_num = S // 3\n",
    "\n",
    "for i in range(1, max_div_num+1):\n",
    "    div_num = i\n",
    "    remain = S - (3 * div_num)\n",
    "\n",
    "    num = cmb(div_num+remain-1, div_num-1)\n",
    "    \n",
    "    print(f'{i=}: {div_num=}, {remain=}, {num=}')\n",
    "\n",
    "    ans = (ans + num) % MOD\n",
    "    \n",
    "print(ans)"
   ]
  },
  {
   "cell_type": "code",
   "execution_count": 32,
   "metadata": {},
   "outputs": [
    {
     "name": "stdin",
     "output_type": "stream",
     "text": [
      " 1729\n"
     ]
    },
    {
     "name": "stdout",
     "output_type": "stream",
     "text": [
      "294867501\n"
     ]
    }
   ],
   "source": [
    "from operator import mul\n",
    "from functools import reduce\n",
    "\n",
    "def cmb(n,r):\n",
    "    r = min(n-r,r)\n",
    "    if r == 0: return 1\n",
    "    over = reduce(mul, range(n, n - r, -1))\n",
    "    under = reduce(mul, range(1,r + 1))\n",
    "    return over // under\n",
    "\n",
    "MOD = 10**9 + 7\n",
    "\n",
    "\n",
    "S = int(input())\n",
    "\n",
    "ans = 0\n",
    "\n",
    "max_div_num = S // 3\n",
    "\n",
    "for i in range(1, max_div_num+1):\n",
    "    div_num = i\n",
    "    remain = S - (3 * div_num)\n",
    "\n",
    "    num = cmb(div_num+remain-1, div_num-1)\n",
    "    ans = (ans + num) % MOD\n",
    "    \n",
    "print(ans)"
   ]
  }
 ],
 "metadata": {
  "kernelspec": {
   "display_name": "Python 3",
   "language": "python",
   "name": "python3"
  },
  "language_info": {
   "codemirror_mode": {
    "name": "ipython",
    "version": 3
   },
   "file_extension": ".py",
   "mimetype": "text/x-python",
   "name": "python",
   "nbconvert_exporter": "python",
   "pygments_lexer": "ipython3",
   "version": "3.8.1"
  }
 },
 "nbformat": 4,
 "nbformat_minor": 4
}
