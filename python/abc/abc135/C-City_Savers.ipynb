{
 "cells": [
  {
   "cell_type": "code",
   "execution_count": 1,
   "metadata": {},
   "outputs": [
    {
     "data": {
      "application/vnd.jupyter.widget-view+json": {
       "model_id": "7aa0e43572d84b87ae5f5e19ff78f9d7",
       "version_major": 2,
       "version_minor": 0
      },
      "text/plain": [
       "Textarea(value='')"
      ]
     },
     "metadata": {},
     "output_type": "display_data"
    }
   ],
   "source": [
    "from ipywidgets import Textarea\n",
    "\n",
    "def get_input(change):\n",
    "    global Input\n",
    "    Input=change[\"new\"].splitlines()\n",
    "textarea = Textarea()\n",
    "textarea.observe(get_input, names='value')\n",
    "display(textarea)"
   ]
  },
  {
   "cell_type": "code",
   "execution_count": 7,
   "metadata": {},
   "outputs": [],
   "source": [
    "N = int(Input[0])\n",
    "A = list(map(int, Input[1].split()))\n",
    "B = list(map(int, Input[2].split()))"
   ]
  },
  {
   "cell_type": "markdown",
   "metadata": {},
   "source": [
    "## debug"
   ]
  },
  {
   "cell_type": "code",
   "execution_count": 8,
   "metadata": {},
   "outputs": [],
   "source": [
    "num_monster = 0\n",
    "res = 0  # 余力\n",
    "for i in range(N):\n",
    "    a = A[i] - res  # 前の人が倒しといてくれた分を引く\n",
    "    b = B[i]\n",
    "    if b <= a:  # 目の前の敵を倒し切れるかあやしい\n",
    "        num_monster += b\n",
    "        res = 0\n",
    "    elif b <= a+A[i+1]:  # 次の敵の一部まで倒せる\n",
    "        num_monster += b\n",
    "        res = b - a\n",
    "    else:  # 次の敵まで全部倒せる\n",
    "        num_monster += a+A[i+1]\n",
    "        res = A[i+1]"
   ]
  },
  {
   "cell_type": "markdown",
   "metadata": {},
   "source": [
    "## submit"
   ]
  },
  {
   "cell_type": "code",
   "execution_count": null,
   "metadata": {},
   "outputs": [],
   "source": [
    "def main():\n",
    "    N = int(input())\n",
    "    A = list(map(int, input().split()))\n",
    "    B = list(map(int, input().split()))\n",
    "    num_monster = 0\n",
    "    res = 0  # 余力\n",
    "    for i in range(N):\n",
    "        a = A[i] - res  # 前の人が倒しといてくれた分を引く\n",
    "        b = B[i]\n",
    "        if b <= a:  # 目の前の敵を倒し切れるかあやしい\n",
    "            num_monster += b\n",
    "            res = 0\n",
    "        elif b <= a+A[i+1]:  # 次の敵の一部まで倒せる\n",
    "            num_monster += b\n",
    "            res = b - a\n",
    "        else:  # 次の敵まで全部倒せる\n",
    "            num_monster += a+A[i+1]\n",
    "            res = A[i+1]\n",
    "    print(num_monster)\n",
    "main()"
   ]
  }
 ],
 "metadata": {
  "kernelspec": {
   "display_name": "Python 3",
   "language": "python",
   "name": "python3"
  },
  "language_info": {
   "codemirror_mode": {
    "name": "ipython",
    "version": 3
   },
   "file_extension": ".py",
   "mimetype": "text/x-python",
   "name": "python",
   "nbconvert_exporter": "python",
   "pygments_lexer": "ipython3",
   "version": "3.8.1"
  }
 },
 "nbformat": 4,
 "nbformat_minor": 4
}
