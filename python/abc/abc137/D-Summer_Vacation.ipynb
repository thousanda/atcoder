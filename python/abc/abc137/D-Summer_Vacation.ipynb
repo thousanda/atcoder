{
 "cells": [
  {
   "cell_type": "code",
   "execution_count": 1,
   "metadata": {},
   "outputs": [
    {
     "data": {
      "application/vnd.jupyter.widget-view+json": {
       "model_id": "ea407b9af2994c4cbcbff64d1d7e1eec",
       "version_major": 2,
       "version_minor": 0
      },
      "text/plain": [
       "Textarea(value='')"
      ]
     },
     "metadata": {},
     "output_type": "display_data"
    }
   ],
   "source": [
    "from ipywidgets import Textarea\n",
    "\n",
    "def get_input(change):\n",
    "    global Input\n",
    "    Input=change[\"new\"].splitlines()\n",
    "textarea = Textarea()\n",
    "textarea.observe(get_input, names='value')\n",
    "display(textarea)"
   ]
  },
  {
   "cell_type": "code",
   "execution_count": 72,
   "metadata": {},
   "outputs": [],
   "source": [
    "N, M = map(int, Input[0].split())\n",
    "AB = sorted([list(map(int, i.split())) for i in Input[1:]], key=lambda x: x[0])"
   ]
  },
  {
   "cell_type": "markdown",
   "metadata": {},
   "source": [
    "# Temp list に Heap Queue を使う\n",
    "期間が短い方から処理して貪欲でできるっていう発想はOK"
   ]
  },
  {
   "cell_type": "code",
   "execution_count": null,
   "metadata": {},
   "outputs": [],
   "source": [
    "# こういうのが遅くなるらしい\n",
    "'''\n",
    "for a,b in AB:\n",
    "    if a > 3:\n",
    "        break\n",
    "'''"
   ]
  },
  {
   "cell_type": "markdown",
   "metadata": {},
   "source": [
    "## debug"
   ]
  },
  {
   "cell_type": "code",
   "execution_count": 73,
   "metadata": {},
   "outputs": [
    {
     "name": "stdout",
     "output_type": "stream",
     "text": [
      "[[1, 2], [1, 3], [1, 4], [2, 1], [2, 3]]\n",
      "\n",
      "m=1: pointer=3, ans=0, [4, 2, 3]\n",
      "      => [3, 2], ans=4\n",
      "\n",
      "m=2: pointer=5, ans=4, [3, 3, 1, 2]\n",
      "      => [3, 2, 1], ans=7\n",
      "\n",
      "m=3: pointer=5, ans=7, [3, 2, 1]\n",
      "      => [2, 1], ans=10\n",
      "\n",
      "10\n"
     ]
    }
   ],
   "source": [
    "from heapq import heappush as hpush\n",
    "from heapq import heappop as hpop\n",
    "\n",
    "class Descending_HeapQueue:\n",
    "    def __init__(self, hq=[]):\n",
    "        self.hq = []\n",
    "        for i in hq:\n",
    "            self.push(i)\n",
    "    def push(self, n):\n",
    "        hpush(self.hq, -n)\n",
    "    def pop(self):\n",
    "        return -hpop(self.hq)\n",
    "    def __len__(self):\n",
    "        return len(self.hq)\n",
    "    def __str__(self):\n",
    "        return [-i for i in self.hq].__str__()\n",
    "\n",
    "print(AB)\n",
    "print()\n",
    "\n",
    "ans = 0\n",
    "dhq = Descending_HeapQueue()\n",
    "pointer = 0\n",
    "\n",
    "for m in range(1, M+1):\n",
    "    while (pointer < N) and (AB[pointer][0] <= m):\n",
    "        dhq.push(AB[pointer][1])\n",
    "        pointer += 1\n",
    "    print(f'{m=}: {pointer=}, {ans=}, {dhq}')\n",
    "\n",
    "    if len(dhq) > 0:\n",
    "        ans += dhq.pop()\n",
    "    print(f'      => {dhq}, {ans=}\\n')\n",
    "\n",
    "print(ans)"
   ]
  },
  {
   "cell_type": "markdown",
   "metadata": {},
   "source": [
    "## submit"
   ]
  },
  {
   "cell_type": "code",
   "execution_count": 74,
   "metadata": {},
   "outputs": [
    {
     "name": "stdin",
     "output_type": "stream",
     "text": [
      " 3 4\n",
      " 4 3\n",
      " 4 1\n",
      " 2 2\n"
     ]
    },
    {
     "name": "stdout",
     "output_type": "stream",
     "text": [
      "5\n"
     ]
    }
   ],
   "source": [
    "from heapq import heappush as hpush\n",
    "from heapq import heappop as hpop\n",
    "\n",
    "class Descending_HeapQueue:\n",
    "    def __init__(self, hq=[]):\n",
    "        self.hq = []\n",
    "        for i in hq:\n",
    "            self.push(i)\n",
    "    def push(self, n):\n",
    "        hpush(self.hq, -n)\n",
    "    def pop(self):\n",
    "        return -hpop(self.hq)\n",
    "    def __len__(self):\n",
    "        return len(self.hq)\n",
    "\n",
    "def main():\n",
    "    N, M = map(int, input().split())\n",
    "    AB = sorted([list(map(int, input().split())) for _ in range(N)], key=lambda x: x[0])\n",
    "    ans = 0\n",
    "    dhq = Descending_HeapQueue()\n",
    "    pointer = 0\n",
    "    for m in range(1, M+1):\n",
    "        while (pointer < N) and (AB[pointer][0] <= m):\n",
    "            dhq.push(AB[pointer][1])\n",
    "            pointer += 1\n",
    "        if len(dhq) > 0:\n",
    "            ans += dhq.pop()\n",
    "    print(ans)\n",
    "main()"
   ]
  },
  {
   "cell_type": "code",
   "execution_count": null,
   "metadata": {},
   "outputs": [],
   "source": []
  },
  {
   "cell_type": "code",
   "execution_count": 66,
   "metadata": {},
   "outputs": [
    {
     "name": "stdout",
     "output_type": "stream",
     "text": [
      "[1, 2, 4, 3, 5, 7, 6, 8]\n",
      "1\n",
      "[2, 3, 4, 8, 5, 7, 6]\n",
      "2\n",
      "[3, 5, 4, 8, 6, 7]\n"
     ]
    }
   ],
   "source": [
    "from heapq import heappush, heappop\n",
    "hq = []\n",
    "for i in (8, 6, 2, 1, 5, 7, 4, 3):\n",
    "    heappush(hq, i)\n",
    "\n",
    "print(hq)\n",
    "print(heappop(hq))\n",
    "print(hq)\n",
    "print(heappop(hq))\n",
    "print(hq)"
   ]
  },
  {
   "cell_type": "code",
   "execution_count": 67,
   "metadata": {},
   "outputs": [
    {
     "name": "stdout",
     "output_type": "stream",
     "text": [
      "[8, 6, 7, 3, 5, 2, 4, 1]\n",
      "8\n",
      "[7, 6, 4, 3, 5, 2, 1]\n",
      "7\n",
      "[6, 5, 4, 3, 1, 2]\n"
     ]
    }
   ],
   "source": [
    "from heapq import heappush as hpush\n",
    "from heapq import heappop as hpop\n",
    "\n",
    "class Descending_HeapQueue:\n",
    "    def __init__(self, hq=[]):\n",
    "        self.hq = []\n",
    "        for i in hq:\n",
    "            self.push(i)\n",
    "    def push(self, n):\n",
    "        hpush(self.hq, -n)\n",
    "    def pop(self):\n",
    "        return -hpop(self.hq)\n",
    "    def __len__(self):\n",
    "        return len(self.hq)\n",
    "    def __str__(self):\n",
    "        return [-i for i in self.hq].__str__()\n",
    "    \n",
    "dhq = Descending_HeapQueue([8, 6, 2, 1, 5, 7, 4, 3])\n",
    "print(dhq)\n",
    "print(dhq.pop())\n",
    "print(dhq)\n",
    "print(dhq.pop())\n",
    "print(dhq)"
   ]
  },
  {
   "cell_type": "code",
   "execution_count": null,
   "metadata": {},
   "outputs": [],
   "source": []
  }
 ],
 "metadata": {
  "kernelspec": {
   "display_name": "Python 3",
   "language": "python",
   "name": "python3"
  },
  "language_info": {
   "codemirror_mode": {
    "name": "ipython",
    "version": 3
   },
   "file_extension": ".py",
   "mimetype": "text/x-python",
   "name": "python",
   "nbconvert_exporter": "python",
   "pygments_lexer": "ipython3",
   "version": "3.8.1"
  }
 },
 "nbformat": 4,
 "nbformat_minor": 4
}
