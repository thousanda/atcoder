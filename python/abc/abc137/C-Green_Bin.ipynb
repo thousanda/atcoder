{
 "cells": [
  {
   "cell_type": "code",
   "execution_count": 1,
   "metadata": {},
   "outputs": [
    {
     "data": {
      "application/vnd.jupyter.widget-view+json": {
       "model_id": "9efa6e78720140b2a489c086dea6bca5",
       "version_major": 2,
       "version_minor": 0
      },
      "text/plain": [
       "Textarea(value='')"
      ]
     },
     "metadata": {},
     "output_type": "display_data"
    }
   ],
   "source": [
    "from ipywidgets import Textarea\n",
    "\n",
    "def get_input(change):\n",
    "    global Input\n",
    "    Input=change[\"new\"].splitlines()\n",
    "textarea = Textarea()\n",
    "textarea.observe(get_input, names='value')\n",
    "display(textarea)"
   ]
  },
  {
   "cell_type": "code",
   "execution_count": 28,
   "metadata": {},
   "outputs": [],
   "source": [
    "N = int(Input[0])\n",
    "S = [''.join(sorted(Input[1:][i])) for i in range(N)]"
   ]
  },
  {
   "cell_type": "markdown",
   "metadata": {},
   "source": [
    "## debug"
   ]
  },
  {
   "cell_type": "code",
   "execution_count": 29,
   "metadata": {},
   "outputs": [
    {
     "name": "stdout",
     "output_type": "stream",
     "text": [
      "{'aaaaaaaaab': 3, 'elnoopstuw': 2}\n",
      "4\n"
     ]
    }
   ],
   "source": [
    "def nC2(n):\n",
    "    if n < 2:\n",
    "        return 0\n",
    "    return n * (n-1) // 2\n",
    "\n",
    "counter = {}\n",
    "for s in S:\n",
    "    if s in counter:\n",
    "        counter[s] += 1\n",
    "    else:\n",
    "        counter[s] = 1\n",
    "\n",
    "print(counter)\n",
    "\n",
    "ans = 0\n",
    "for v in counter.values():\n",
    "    ans += nC2(v)\n",
    "print(ans)"
   ]
  },
  {
   "cell_type": "markdown",
   "metadata": {},
   "source": [
    "## submit"
   ]
  },
  {
   "cell_type": "code",
   "execution_count": 25,
   "metadata": {},
   "outputs": [
    {
     "name": "stdin",
     "output_type": "stream",
     "text": [
      " 3\n",
      " asdfghcnvb\n",
      " asdfghcnvb\n",
      " asdfghcnvb\n"
     ]
    },
    {
     "name": "stdout",
     "output_type": "stream",
     "text": [
      "3\n"
     ]
    }
   ],
   "source": [
    "def nC2(n):\n",
    "    if n < 2:\n",
    "        return 0\n",
    "    return n * (n-1) // 2\n",
    "\n",
    "def main():\n",
    "    N = int(input())\n",
    "    S = [''.join(sorted(input())) for _ in range(N)]\n",
    "    counter = {}\n",
    "    for s in S:\n",
    "        if s in counter:\n",
    "            counter[s] += 1\n",
    "        else:\n",
    "            counter[s] = 1\n",
    "    ans = sum([nC2(v) for v in counter.values()])\n",
    "    print(ans)\n",
    "\n",
    "main()"
   ]
  },
  {
   "cell_type": "code",
   "execution_count": 26,
   "metadata": {},
   "outputs": [
    {
     "name": "stdout",
     "output_type": "stream",
     "text": [
      "0\n",
      "0\n",
      "1\n",
      "3\n",
      "6\n",
      "10\n",
      "15\n",
      "21\n",
      "28\n",
      "36\n"
     ]
    }
   ],
   "source": [
    "for i in range(10):\n",
    "    print(nC2(i))"
   ]
  }
 ],
 "metadata": {
  "kernelspec": {
   "display_name": "Python 3",
   "language": "python",
   "name": "python3"
  },
  "language_info": {
   "codemirror_mode": {
    "name": "ipython",
    "version": 3
   },
   "file_extension": ".py",
   "mimetype": "text/x-python",
   "name": "python",
   "nbconvert_exporter": "python",
   "pygments_lexer": "ipython3",
   "version": "3.8.1"
  }
 },
 "nbformat": 4,
 "nbformat_minor": 4
}
