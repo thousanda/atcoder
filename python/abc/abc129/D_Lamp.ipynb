{
 "cells": [
  {
   "cell_type": "markdown",
   "metadata": {},
   "source": [
    "# まとめ\n",
    "まず、Pypyなら通ったけど、pythonでは通らなかった。  \n",
    "1回のループで全部計算するやつの方が、バラバラに4回回すやつよりすこし速かった。  \n",
    "余計なelseは使わない。初期値と同じ値を代入するelse文が遅くしてた。"
   ]
  },
  {
   "cell_type": "code",
   "execution_count": 3,
   "metadata": {},
   "outputs": [
    {
     "data": {
      "application/vnd.jupyter.widget-view+json": {
       "model_id": "470493901ff44d6bb66ccba67cdfb544",
       "version_major": 2,
       "version_minor": 0
      },
      "text/plain": [
       "Textarea(value='')"
      ]
     },
     "metadata": {},
     "output_type": "display_data"
    }
   ],
   "source": [
    "from ipywidgets import Textarea\n",
    "\n",
    "def get_input(change):\n",
    "    global Input\n",
    "    Input=change[\"new\"].splitlines()\n",
    "textarea = Textarea()\n",
    "textarea.observe(get_input, names='value')\n",
    "display(textarea)"
   ]
  },
  {
   "cell_type": "code",
   "execution_count": 20,
   "metadata": {},
   "outputs": [],
   "source": [
    "H, W = map(int, Input[0].split())\n",
    "S = [list(i) for i in Input[1:]]"
   ]
  },
  {
   "cell_type": "markdown",
   "metadata": {},
   "source": [
    "# Loop for left, right, up, down respectively\n",
    "'.' じゃない場合のelseがあるとTLEになる。  \n",
    "あと、PyPyで出さないとTLEになる。"
   ]
  },
  {
   "cell_type": "markdown",
   "metadata": {},
   "source": [
    "## debug"
   ]
  },
  {
   "cell_type": "code",
   "execution_count": 24,
   "metadata": {},
   "outputs": [
    {
     "name": "stdout",
     "output_type": "stream",
     "text": [
      "13\n"
     ]
    }
   ],
   "source": [
    "left = [[-1]*W for _ in range(H)]\n",
    "right = [[-1]*W for _ in range(H)]\n",
    "up = [[-1]*W for _ in range(H)]\n",
    "down = [[-1]*W for _ in range(H)]\n",
    "\n",
    "for i in range(H):\n",
    "    for j in range(W):\n",
    "        if S[i][j] == '.':\n",
    "            if j == 0:\n",
    "                left[i][j] = 0\n",
    "            else:\n",
    "                left[i][j] = left[i][j-1] + 1\n",
    "\n",
    "for i in range(H):\n",
    "    for j in range(W):\n",
    "        if S[-1-i][-1-j] == '.':        \n",
    "            if j == 0:\n",
    "                right[-1-i][-1-j] = 0\n",
    "            else:\n",
    "                right[-1-i][-1-j] = right[-1-i][-1-(j-1)] + 1\n",
    "\n",
    "for i in range(H):\n",
    "    for j in range(W):\n",
    "        if S[i][j] == '.':\n",
    "            if i == 0:\n",
    "                up[i][j] = 0\n",
    "            else:\n",
    "                up[i][j] = up[i-1][j] + 1\n",
    "\n",
    "for i in range(H):\n",
    "    for j in range(W):\n",
    "        if S[-1-i][-1-j] == '.':\n",
    "            if i == 0:\n",
    "                down[-1-i][-1-j] = 0\n",
    "            else:\n",
    "                down[-1-i][-1-j] = down[-1-(i-1)][-1-j] + 1\n",
    "            \n",
    "ans = 0\n",
    "temp = [0] * W\n",
    "for i in range(H):\n",
    "    for j in range(W):\n",
    "        temp[j] = left[i][j] + right[i][j] + down[i][j] + up[i][j] + 1\n",
    "    ans = max(ans, max(temp))\n",
    "print(ans)"
   ]
  },
  {
   "cell_type": "markdown",
   "metadata": {},
   "source": [
    "## submit"
   ]
  },
  {
   "cell_type": "code",
   "execution_count": 23,
   "metadata": {},
   "outputs": [
    {
     "name": "stdin",
     "output_type": "stream",
     "text": [
      " 4 6\n",
      " #..#..\n",
      " .....#\n",
      " ....#.\n",
      " #.#...\n"
     ]
    },
    {
     "ename": "NameError",
     "evalue": "name 'N' is not defined",
     "output_type": "error",
     "traceback": [
      "\u001b[0;31m---------------------------------------------------------------------------\u001b[0m",
      "\u001b[0;31mNameError\u001b[0m                                 Traceback (most recent call last)",
      "\u001b[0;32m<ipython-input-23-eb55ec3d1f19>\u001b[0m in \u001b[0;36m<module>\u001b[0;34m\u001b[0m\n\u001b[1;32m     48\u001b[0m     \u001b[0mprint\u001b[0m\u001b[0;34m(\u001b[0m\u001b[0mans\u001b[0m\u001b[0;34m)\u001b[0m\u001b[0;34m\u001b[0m\u001b[0;34m\u001b[0m\u001b[0m\n\u001b[1;32m     49\u001b[0m \u001b[0;34m\u001b[0m\u001b[0m\n\u001b[0;32m---> 50\u001b[0;31m \u001b[0mmain\u001b[0m\u001b[0;34m(\u001b[0m\u001b[0;34m)\u001b[0m\u001b[0;34m\u001b[0m\u001b[0;34m\u001b[0m\u001b[0m\n\u001b[0m",
      "\u001b[0;32m<ipython-input-23-eb55ec3d1f19>\u001b[0m in \u001b[0;36mmain\u001b[0;34m()\u001b[0m\n\u001b[1;32m      5\u001b[0m     \u001b[0mleft\u001b[0m \u001b[0;34m=\u001b[0m \u001b[0;34m[\u001b[0m\u001b[0;34m[\u001b[0m\u001b[0;34m-\u001b[0m\u001b[0;36m1\u001b[0m\u001b[0;34m]\u001b[0m\u001b[0;34m*\u001b[0m\u001b[0mW\u001b[0m \u001b[0;32mfor\u001b[0m \u001b[0m_\u001b[0m \u001b[0;32min\u001b[0m \u001b[0mrange\u001b[0m\u001b[0;34m(\u001b[0m\u001b[0mH\u001b[0m\u001b[0;34m)\u001b[0m\u001b[0;34m]\u001b[0m\u001b[0;34m\u001b[0m\u001b[0;34m\u001b[0m\u001b[0m\n\u001b[1;32m      6\u001b[0m     \u001b[0mright\u001b[0m \u001b[0;34m=\u001b[0m \u001b[0;34m[\u001b[0m\u001b[0;34m[\u001b[0m\u001b[0;34m-\u001b[0m\u001b[0;36m1\u001b[0m\u001b[0;34m]\u001b[0m\u001b[0;34m*\u001b[0m\u001b[0mW\u001b[0m \u001b[0;32mfor\u001b[0m \u001b[0m_\u001b[0m \u001b[0;32min\u001b[0m \u001b[0mrange\u001b[0m\u001b[0;34m(\u001b[0m\u001b[0mH\u001b[0m\u001b[0;34m)\u001b[0m\u001b[0;34m]\u001b[0m\u001b[0;34m\u001b[0m\u001b[0;34m\u001b[0m\u001b[0m\n\u001b[0;32m----> 7\u001b[0;31m     \u001b[0mup\u001b[0m \u001b[0;34m=\u001b[0m \u001b[0;34m[\u001b[0m\u001b[0;34m[\u001b[0m\u001b[0mN\u001b[0m\u001b[0;34m]\u001b[0m\u001b[0;34m*\u001b[0m\u001b[0mW\u001b[0m \u001b[0;32mfor\u001b[0m \u001b[0m_\u001b[0m \u001b[0;32min\u001b[0m \u001b[0mrange\u001b[0m\u001b[0;34m(\u001b[0m\u001b[0mH\u001b[0m\u001b[0;34m)\u001b[0m\u001b[0;34m]\u001b[0m\u001b[0;34m\u001b[0m\u001b[0;34m\u001b[0m\u001b[0m\n\u001b[0m\u001b[1;32m      8\u001b[0m     \u001b[0mdown\u001b[0m \u001b[0;34m=\u001b[0m \u001b[0;34m[\u001b[0m\u001b[0;34m[\u001b[0m\u001b[0;32mNone\u001b[0m\u001b[0;34m]\u001b[0m\u001b[0;34m*\u001b[0m\u001b[0mW\u001b[0m \u001b[0;32mfor\u001b[0m \u001b[0m_\u001b[0m \u001b[0;32min\u001b[0m \u001b[0mrange\u001b[0m\u001b[0;34m(\u001b[0m\u001b[0mH\u001b[0m\u001b[0;34m)\u001b[0m\u001b[0;34m]\u001b[0m\u001b[0;34m\u001b[0m\u001b[0;34m\u001b[0m\u001b[0m\n\u001b[1;32m      9\u001b[0m \u001b[0;34m\u001b[0m\u001b[0m\n",
      "\u001b[0;32m<ipython-input-23-eb55ec3d1f19>\u001b[0m in \u001b[0;36m<listcomp>\u001b[0;34m(.0)\u001b[0m\n\u001b[1;32m      5\u001b[0m     \u001b[0mleft\u001b[0m \u001b[0;34m=\u001b[0m \u001b[0;34m[\u001b[0m\u001b[0;34m[\u001b[0m\u001b[0;34m-\u001b[0m\u001b[0;36m1\u001b[0m\u001b[0;34m]\u001b[0m\u001b[0;34m*\u001b[0m\u001b[0mW\u001b[0m \u001b[0;32mfor\u001b[0m \u001b[0m_\u001b[0m \u001b[0;32min\u001b[0m \u001b[0mrange\u001b[0m\u001b[0;34m(\u001b[0m\u001b[0mH\u001b[0m\u001b[0;34m)\u001b[0m\u001b[0;34m]\u001b[0m\u001b[0;34m\u001b[0m\u001b[0;34m\u001b[0m\u001b[0m\n\u001b[1;32m      6\u001b[0m     \u001b[0mright\u001b[0m \u001b[0;34m=\u001b[0m \u001b[0;34m[\u001b[0m\u001b[0;34m[\u001b[0m\u001b[0;34m-\u001b[0m\u001b[0;36m1\u001b[0m\u001b[0;34m]\u001b[0m\u001b[0;34m*\u001b[0m\u001b[0mW\u001b[0m \u001b[0;32mfor\u001b[0m \u001b[0m_\u001b[0m \u001b[0;32min\u001b[0m \u001b[0mrange\u001b[0m\u001b[0;34m(\u001b[0m\u001b[0mH\u001b[0m\u001b[0;34m)\u001b[0m\u001b[0;34m]\u001b[0m\u001b[0;34m\u001b[0m\u001b[0;34m\u001b[0m\u001b[0m\n\u001b[0;32m----> 7\u001b[0;31m     \u001b[0mup\u001b[0m \u001b[0;34m=\u001b[0m \u001b[0;34m[\u001b[0m\u001b[0;34m[\u001b[0m\u001b[0mN\u001b[0m\u001b[0;34m]\u001b[0m\u001b[0;34m*\u001b[0m\u001b[0mW\u001b[0m \u001b[0;32mfor\u001b[0m \u001b[0m_\u001b[0m \u001b[0;32min\u001b[0m \u001b[0mrange\u001b[0m\u001b[0;34m(\u001b[0m\u001b[0mH\u001b[0m\u001b[0;34m)\u001b[0m\u001b[0;34m]\u001b[0m\u001b[0;34m\u001b[0m\u001b[0;34m\u001b[0m\u001b[0m\n\u001b[0m\u001b[1;32m      8\u001b[0m     \u001b[0mdown\u001b[0m \u001b[0;34m=\u001b[0m \u001b[0;34m[\u001b[0m\u001b[0;34m[\u001b[0m\u001b[0;32mNone\u001b[0m\u001b[0;34m]\u001b[0m\u001b[0;34m*\u001b[0m\u001b[0mW\u001b[0m \u001b[0;32mfor\u001b[0m \u001b[0m_\u001b[0m \u001b[0;32min\u001b[0m \u001b[0mrange\u001b[0m\u001b[0;34m(\u001b[0m\u001b[0mH\u001b[0m\u001b[0;34m)\u001b[0m\u001b[0;34m]\u001b[0m\u001b[0;34m\u001b[0m\u001b[0;34m\u001b[0m\u001b[0m\n\u001b[1;32m      9\u001b[0m \u001b[0;34m\u001b[0m\u001b[0m\n",
      "\u001b[0;31mNameError\u001b[0m: name 'N' is not defined"
     ]
    }
   ],
   "source": [
    "def main():\n",
    "    H, W = map(int, input().split())\n",
    "    S = [list(input()) for _ in range(H)]\n",
    "\n",
    "    left = [[-1]*W for _ in range(H)]\n",
    "    right = [[-1]*W for _ in range(H)]\n",
    "    up = [[-1]*W for _ in range(H)]\n",
    "    down = [[-1]*W for _ in range(H)]\n",
    "\n",
    "    for i in range(H):\n",
    "        for j in range(W):\n",
    "            if S[i][j] == '.':\n",
    "                if j == 0:\n",
    "                    left[i][j] = 0\n",
    "                else:\n",
    "                    left[i][j] = left[i][j-1] + 1\n",
    "\n",
    "    for i in range(H):\n",
    "        for j in range(W):\n",
    "            if S[-1-i][-1-j] == '.':        \n",
    "                if j == 0:\n",
    "                    right[-1-i][-1-j] = 0\n",
    "                else:\n",
    "                    right[-1-i][-1-j] = right[-1-i][-1-(j-1)] + 1\n",
    "\n",
    "    for i in range(H):\n",
    "        for j in range(W):\n",
    "            if S[i][j] == '.':\n",
    "                if i == 0:\n",
    "                    up[i][j] = 0\n",
    "                else:\n",
    "                    up[i][j] = up[i-1][j] + 1\n",
    "\n",
    "    for i in range(H):\n",
    "        for j in range(W):\n",
    "            if S[-1-i][-1-j] == '.':\n",
    "                if i == 0:\n",
    "                    down[-1-i][-1-j] = 0\n",
    "                else:\n",
    "                    down[-1-i][-1-j] = down[-1-(i-1)][-1-j] + 1\n",
    "            \n",
    "    ans = 0\n",
    "    temp = [0] * W\n",
    "    for i in range(H):\n",
    "        for j in range(W):\n",
    "            temp[j] = left[i][j] + right[i][j] + down[i][j] + up[i][j] + 1\n",
    "        ans = max(ans, max(temp))\n",
    "    print(ans)\n",
    "\n",
    "main()"
   ]
  },
  {
   "cell_type": "markdown",
   "metadata": {},
   "source": [
    "# Numpy\n",
    "else消しても速度変わらず。"
   ]
  },
  {
   "cell_type": "markdown",
   "metadata": {},
   "source": [
    "## debug"
   ]
  },
  {
   "cell_type": "code",
   "execution_count": 25,
   "metadata": {},
   "outputs": [
    {
     "name": "stdout",
     "output_type": "stream",
     "text": [
      "13\n"
     ]
    }
   ],
   "source": [
    "import numpy as np\n",
    "\n",
    "left = np.zeros([H, W], dtype=np.int) - 1\n",
    "right = np.zeros([H, W], dtype=np.int) - 1\n",
    "up = np.zeros([H, W], dtype=np.int) - 1\n",
    "down = np.zeros([H, W], dtype=np.int) - 1 \n",
    "\n",
    "for i in range(H):\n",
    "    for j in range(W):\n",
    "        if S[i][j] == '.':\n",
    "            if j == 0:\n",
    "                left[i][j] = 0\n",
    "            else:\n",
    "                left[i][j] = left[i][j-1] + 1\n",
    "            if i == 0:\n",
    "                up[i][j] = 0\n",
    "            else:\n",
    "                up[i][j] = up[i-1][j] + 1\n",
    "            \n",
    "        if S[-1-i][-1-j] == '.':\n",
    "            if j == 0:\n",
    "                right[-1-i][-1-j] = 0\n",
    "            else:\n",
    "                right[-1-i][-1-j] = right[-1-i][-1-(j-1)] + 1\n",
    "            if i == 0:\n",
    "                down[-1-i][-1-j] = 0\n",
    "            else:\n",
    "                down[-1-i][-1-j] = down[-1-(i-1)][-1-j] + 1\n",
    "\n",
    "print(np.max(left+right+up+down) + 1)"
   ]
  },
  {
   "cell_type": "code",
   "execution_count": 61,
   "metadata": {},
   "outputs": [
    {
     "name": "stdout",
     "output_type": "stream",
     "text": [
      "['#', '.', '.', '#', '.', '.']\n",
      "['.', '.', '.', '.', '.', '#']\n",
      "['.', '.', '.', '.', '#', '.']\n",
      "['#', '.', '#', '.', '.', '.']\n",
      "left\n",
      " [[-1  0  1 -1  0  1]\n",
      " [ 0  1  2  3  4 -1]\n",
      " [ 0  1  2  3 -1  0]\n",
      " [-1  0 -1  0  1  2]]\n",
      "right\n",
      " [[-1  1  0 -1  1  0]\n",
      " [ 4  3  2  1  0 -1]\n",
      " [ 3  2  1  0 -1  0]\n",
      " [-1  0 -1  2  1  0]]\n",
      "up\n",
      " [[-1  0  0 -1  0  0]\n",
      " [ 0  1  1  0  1 -1]\n",
      " [ 1  2  2  1 -1  0]\n",
      " [-1  3 -1  2  0  1]]\n",
      "down\n",
      " [[-1  3  2 -1  1  0]\n",
      " [ 1  2  1  2  0 -1]\n",
      " [ 0  1  0  1 -1  1]\n",
      " [-1  0 -1  0  0  0]]\n",
      "horizontal\n",
      " [[-2  1  1 -2  1  1]\n",
      " [ 4  4  4  4  4 -2]\n",
      " [ 3  3  3  3 -2  0]\n",
      " [-2  0 -2  2  2  2]]\n",
      "vertical\n",
      " [[-2  3  2 -2  1  0]\n",
      " [ 1  3  2  2  1 -2]\n",
      " [ 1  3  2  2 -2  1]\n",
      " [-2  3 -2  2  0  1]]\n",
      "all\n",
      " [[-4  4  3 -4  2  1]\n",
      " [ 5  7  6  6  5 -4]\n",
      " [ 4  6  5  5 -4  1]\n",
      " [-4  3 -4  4  2  3]]\n"
     ]
    }
   ],
   "source": [
    "for s in S:\n",
    "    print(s)\n",
    "print('left\\n', left)\n",
    "print('right\\n', right)\n",
    "print('up\\n', up)\n",
    "print('down\\n', down)\n",
    "print('horizontal\\n', left+right)\n",
    "print('vertical\\n', up+down)\n",
    "print('all\\n', left+right+up+down)"
   ]
  },
  {
   "cell_type": "markdown",
   "metadata": {},
   "source": [
    "## submit\n",
    "<span style=\"color: red; \"><u>TLE</u></span>"
   ]
  },
  {
   "cell_type": "code",
   "execution_count": 47,
   "metadata": {},
   "outputs": [
    {
     "name": "stdin",
     "output_type": "stream",
     "text": [
      " 8 8\n",
      " ..#...#.\n",
      " ....#...\n",
      " ##......\n",
      " ..###..#\n",
      " ...#..#.\n",
      " ##....#.\n",
      " #...#...\n",
      " ###.#..#\n"
     ]
    },
    {
     "name": "stdout",
     "output_type": "stream",
     "text": [
      "13\n"
     ]
    }
   ],
   "source": [
    "import numpy as np\n",
    "\n",
    "def main():\n",
    "    H, W = map(int, input().split())\n",
    "    S = [list(input()) for _ in range(H)]\n",
    "    \n",
    "    left = np.zeros([H, W], dtype=np.int) - 1\n",
    "    right = np.zeros([H, W], dtype=np.int) - 1\n",
    "    up = np.zeros([H, W], dtype=np.int) - 1\n",
    "    down = np.zeros([H, W], dtype=np.int) - 1\n",
    "\n",
    "    for i in range(H):\n",
    "        for j in range(W):\n",
    "            if S[i][j] == '.':\n",
    "                if j == 0:\n",
    "                    left[i][j] = 0\n",
    "                else:\n",
    "                    left[i][j] = left[i][j-1] + 1\n",
    "                if i == 0:\n",
    "                    up[i][j] = 0\n",
    "                else:\n",
    "                    up[i][j] = up[i-1][j] + 1\n",
    "            \n",
    "            if S[-1-i][-1-j] == '.':\n",
    "                if j == 0:\n",
    "                    right[-1-i][-1-j] = 0\n",
    "                else:\n",
    "                    right[-1-i][-1-j] = right[-1-i][-1-(j-1)] + 1\n",
    "                if i == 0:\n",
    "                    down[-1-i][-1-j] = 0\n",
    "                else:\n",
    "                    down[-1-i][-1-j] = down[-1-(i-1)][-1-j] + 1\n",
    "                \n",
    "    print(np.max(left+right+up+down) + 1)\n",
    "\n",
    "main()"
   ]
  },
  {
   "cell_type": "markdown",
   "metadata": {},
   "source": [
    "### memo"
   ]
  },
  {
   "cell_type": "raw",
   "metadata": {},
   "source": [
    "8 8\n",
    "..#...#.\n",
    "....#...\n",
    "##......\n",
    "..###..#\n",
    "...#..#.\n",
    "##....#.\n",
    "#...#...\n",
    "###.#..#"
   ]
  },
  {
   "cell_type": "raw",
   "metadata": {},
   "source": [
    "4 6\n",
    "#..#..\n",
    ".....#\n",
    "....#.\n",
    "#.#..."
   ]
  },
  {
   "cell_type": "markdown",
   "metadata": {},
   "source": [
    "# Pypy"
   ]
  },
  {
   "cell_type": "markdown",
   "metadata": {},
   "source": [
    "## debug"
   ]
  },
  {
   "cell_type": "code",
   "execution_count": 27,
   "metadata": {},
   "outputs": [
    {
     "name": "stdout",
     "output_type": "stream",
     "text": [
      "13\n"
     ]
    }
   ],
   "source": [
    "left = [[-1]*W for _ in range(H)]\n",
    "right = [[-1]*W for _ in range(H)]\n",
    "up = [[-1]*W for _ in range(H)]\n",
    "down = [[-1]*W for _ in range(H)]\n",
    "\n",
    "for i in range(H):\n",
    "    for j in range(W):\n",
    "        if S[i][j] == '.':\n",
    "            if j == 0:\n",
    "                left[i][j] = 0\n",
    "            else:\n",
    "                left[i][j] = left[i][j-1] + 1\n",
    "            if i == 0:\n",
    "                up[i][j] = 0\n",
    "            else:\n",
    "                up[i][j] = up[i-1][j] + 1\n",
    "            \n",
    "        if S[-1-i][-1-j] == '.':\n",
    "            if j == 0:\n",
    "                right[-1-i][-1-j] = 0\n",
    "            else:\n",
    "                right[-1-i][-1-j] = right[-1-i][-1-(j-1)] + 1\n",
    "            if i == 0:\n",
    "                down[-1-i][-1-j] = 0\n",
    "            else:\n",
    "                down[-1-i][-1-j] = down[-1-(i-1)][-1-j] + 1\n",
    "\n",
    "ans = 0\n",
    "temp = [0] * W\n",
    "for i in range(H):\n",
    "    for j in range(W):\n",
    "        temp[j] = left[i][j] + right[i][j] + down[i][j] + up[i][j] + 1\n",
    "    ans = max(ans, max(temp))\n",
    "print(ans)"
   ]
  },
  {
   "cell_type": "markdown",
   "metadata": {},
   "source": [
    "## submit"
   ]
  },
  {
   "cell_type": "code",
   "execution_count": null,
   "metadata": {},
   "outputs": [],
   "source": [
    "def main():\n",
    "    H, W = map(int, input().split())\n",
    "    S = [list(input()) for _ in range(H)]\n",
    "    \n",
    "    left = [[-1]*W for _ in range(H)]\n",
    "    right = [[-1]*W for _ in range(H)]\n",
    "    up = [[-1]*W for _ in range(H)]\n",
    "    down = [[-1]*W for _ in range(H)]\n",
    "\n",
    "    for i in range(H):\n",
    "        for j in range(W):\n",
    "            if S[i][j] == '.':\n",
    "                if j == 0:\n",
    "                    left[i][j] = 0\n",
    "                else:\n",
    "                    left[i][j] = left[i][j-1] + 1\n",
    "                if i == 0:\n",
    "                    up[i][j] = 0\n",
    "                else:\n",
    "                    up[i][j] = up[i-1][j] + 1\n",
    "\n",
    "            if S[-1-i][-1-j] == '.':\n",
    "                if j == 0:\n",
    "                    right[-1-i][-1-j] = 0\n",
    "                else:\n",
    "                    right[-1-i][-1-j] = right[-1-i][-1-(j-1)] + 1\n",
    "                if i == 0:\n",
    "                    down[-1-i][-1-j] = 0\n",
    "                else:\n",
    "                    down[-1-i][-1-j] = down[-1-(i-1)][-1-j] + 1\n",
    "\n",
    "    ans = 0\n",
    "    temp = [0] * W\n",
    "    for i in range(H):\n",
    "        for j in range(W):\n",
    "            temp[j] = left[i][j] + right[i][j] + down[i][j] + up[i][j] + 1\n",
    "        ans = max(ans, max(temp))\n",
    "    print(ans)\n",
    "\n",
    "main()"
   ]
  }
 ],
 "metadata": {
  "kernelspec": {
   "display_name": "Python 3",
   "language": "python",
   "name": "python3"
  },
  "language_info": {
   "codemirror_mode": {
    "name": "ipython",
    "version": 3
   },
   "file_extension": ".py",
   "mimetype": "text/x-python",
   "name": "python",
   "nbconvert_exporter": "python",
   "pygments_lexer": "ipython3",
   "version": "3.8.1"
  }
 },
 "nbformat": 4,
 "nbformat_minor": 4
}
