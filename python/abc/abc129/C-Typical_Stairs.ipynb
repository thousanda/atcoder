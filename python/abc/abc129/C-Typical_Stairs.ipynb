{
 "cells": [
  {
   "cell_type": "code",
   "execution_count": 80,
   "metadata": {},
   "outputs": [
    {
     "data": {
      "application/vnd.jupyter.widget-view+json": {
       "model_id": "f9d7b897d56f493a94940ba5ce23ef51",
       "version_major": 2,
       "version_minor": 0
      },
      "text/plain": [
       "Textarea(value='')"
      ]
     },
     "metadata": {},
     "output_type": "display_data"
    }
   ],
   "source": [
    "from ipywidgets import Textarea\n",
    "\n",
    "def get_input(change):\n",
    "    global Input\n",
    "    Input=change[\"new\"].splitlines()\n",
    "\n",
    "textarea = Textarea()\n",
    "textarea.observe(get_input, names='value')\n",
    "display(textarea)"
   ]
  },
  {
   "cell_type": "code",
   "execution_count": 90,
   "metadata": {},
   "outputs": [],
   "source": [
    "N, M = map(int, Input[0].split())\n",
    "a = [int(i) for i in Input[1:]]"
   ]
  },
  {
   "cell_type": "markdown",
   "metadata": {},
   "source": [
    "# DP (Fibonatch)"
   ]
  },
  {
   "cell_type": "markdown",
   "metadata": {},
   "source": [
    "## debug"
   ]
  },
  {
   "cell_type": "code",
   "execution_count": 105,
   "metadata": {},
   "outputs": [
    {
     "name": "stdout",
     "output_type": "stream",
     "text": [
      "[1, 1, 0, 1, 1, 2, 3, 0, 3, 0, 3]\n"
     ]
    }
   ],
   "source": [
    "#MOD = 1_000_000_007\n",
    "MOD = 1000000007\n",
    "table = [1]*(N+1)\n",
    "for broken in a:\n",
    "    table[broken] = 0\n",
    "table[1] = table[0] * table[1]\n",
    "if N > 1:\n",
    "    for n in range(2, N+1):\n",
    "        table[n] = ((table[n-2] + table[n-1]) * table[n]) % MOD\n",
    "print(table)"
   ]
  },
  {
   "cell_type": "markdown",
   "metadata": {},
   "source": [
    "## submit"
   ]
  },
  {
   "cell_type": "code",
   "execution_count": 107,
   "metadata": {},
   "outputs": [
    {
     "name": "stdin",
     "output_type": "stream",
     "text": [
      " 1 0\n"
     ]
    },
    {
     "name": "stdout",
     "output_type": "stream",
     "text": [
      "1\n"
     ]
    }
   ],
   "source": [
    "def main():\n",
    "    MOD = 1_000_000_007\n",
    "    N, M = map(int, input().split())\n",
    "    a = [int(input()) for _ in range(M)]\n",
    "    table = [1]*(N+1)\n",
    "    for broken in a:\n",
    "        table[broken] = 0\n",
    "    table[1] = table[0] * table[1]\n",
    "    if N > 1:\n",
    "        for n in range(2, N+1):\n",
    "            table[n] = ((table[n-2] + table[n-1]) * table[n]) % MOD\n",
    "    print(table[-1])\n",
    "main()"
   ]
  },
  {
   "cell_type": "markdown",
   "metadata": {},
   "source": [
    "# nCr\n",
    "localでは正しく計算できたけど提出したらRE  \n",
    "=> 数字にアンダーバー入れたせい (この機能はpython3.6で実装)  \n",
    "一問だけTLE, 一段しかないやつのケアしてないのがWA?"
   ]
  },
  {
   "cell_type": "markdown",
   "metadata": {},
   "source": [
    "## debug"
   ]
  },
  {
   "cell_type": "code",
   "execution_count": 67,
   "metadata": {},
   "outputs": [],
   "source": [
    "from math import factorial\n",
    "MOD = 1_000_000_007\n",
    "\n",
    "def calc_nCr(n, r):\n",
    "    return int(factorial(n) / (factorial(r) * factorial(n - r)))\n",
    "def count_patterns(stairs):\n",
    "    print(f'{stairs=}')\n",
    "    if stairs == 0 or stairs == 1:\n",
    "        return 1\n",
    "    max_double_num = int(stairs/2)\n",
    "    combs = [None]*(max_double_num+1)\n",
    "    for i in range(max_double_num+1):\n",
    "        double = i\n",
    "        single = stairs - double*2\n",
    "        n = double + single\n",
    "        r = double\n",
    "        nCr = calc_nCr(n, r)\n",
    "        print(f'{double=}, {single=}, {n}C{r}={nCr}')\n",
    "        combs[i] = nCr\n",
    "    return sum(combs) % MOD"
   ]
  },
  {
   "cell_type": "code",
   "execution_count": 74,
   "metadata": {},
   "outputs": [
    {
     "name": "stdout",
     "output_type": "stream",
     "text": [
      "stairs=1\n",
      "0 -> 1 (broken=2) -> 3, num_pattern=1\n",
      "stairs=3\n",
      "double=0, single=3, 3C0=1\n",
      "double=1, single=1, 2C1=2\n",
      "3 -> 6 (broken=7) -> 8, num_pattern=3\n",
      "stairs=0\n",
      "8 -> 8 (broken=9) -> 10, num_pattern=1\n",
      "num_stairs=0\n",
      "10, -> 10\n",
      "stairs=0\n",
      "3\n"
     ]
    }
   ],
   "source": [
    "def main():\n",
    "    now = 0\n",
    "    total = 1\n",
    "\n",
    "    for broken in a:\n",
    "        # brokenが連続したら進めない\n",
    "        if broken <= now:\n",
    "            print(f'{now=} is broken. ({broken=})')\n",
    "            print(0)\n",
    "            break\n",
    "    \n",
    "        # count\n",
    "        num_stairs = broken - now - 1\n",
    "        num_pattern = count_patterns(num_stairs)\n",
    "        total = (total * num_pattern) % MOD\n",
    "    \n",
    "        # post proccess\n",
    "        next_now = broken + 1\n",
    "        print(f'{now} -> {broken-1} ({broken=}) -> {next_now}, {num_pattern=}')\n",
    "        now = next_now\n",
    "    else:\n",
    "        num_stairs = N - now\n",
    "        print(f'{num_stairs=}')\n",
    "        print(f'{now}, -> {N}')\n",
    "        total = (total * count_patterns(num_stairs)) % MOD\n",
    "        print(total)\n",
    "\n",
    "main()"
   ]
  },
  {
   "cell_type": "markdown",
   "metadata": {},
   "source": [
    "## submit"
   ]
  },
  {
   "cell_type": "code",
   "execution_count": 82,
   "metadata": {},
   "outputs": [],
   "source": [
    "from math import factorial\n",
    "# MOD = 1_000_000_007\n",
    "MOD = 1000000007\n",
    "\n",
    "def calc_nCr(n, r):\n",
    "    return (int(factorial(n) / (factorial(r) * factorial(n - r)))) % MOD\n",
    "def count_patterns(stairs):\n",
    "    if stairs == 0 or stairs == 1:\n",
    "        return 1\n",
    "    max_double_num = int(stairs/2)\n",
    "    combs = [None]*(max_double_num+1)\n",
    "    for i in range(max_double_num+1):\n",
    "        double = i\n",
    "        single = stairs - double*2\n",
    "        n = double + single\n",
    "        r = double\n",
    "        nCr = calc_nCr(n, r)\n",
    "        combs[i] = nCr\n",
    "    return sum(combs) % MOD"
   ]
  },
  {
   "cell_type": "code",
   "execution_count": 76,
   "metadata": {},
   "outputs": [
    {
     "name": "stdin",
     "output_type": "stream",
     "text": [
      " 6 1\n",
      " 3\n"
     ]
    }
   ],
   "source": [
    "N, M = map(int, input().split())\n",
    "a = [int(input()) for _ in range(M)]"
   ]
  },
  {
   "cell_type": "code",
   "execution_count": 83,
   "metadata": {},
   "outputs": [
    {
     "name": "stdout",
     "output_type": "stream",
     "text": [
      "608200469\n"
     ]
    }
   ],
   "source": [
    "def main():\n",
    "    now = 0\n",
    "    total = 1\n",
    "    for broken in a:\n",
    "        if broken <= now:\n",
    "            print(0)\n",
    "            break\n",
    "        total = (total * count_patterns(broken-now-1)) % MOD\n",
    "        now = broken + 1\n",
    "    else:\n",
    "        total = (total * count_patterns(N-now)) % MOD\n",
    "        print(total)\n",
    "main()"
   ]
  },
  {
   "cell_type": "code",
   "execution_count": null,
   "metadata": {},
   "outputs": [],
   "source": []
  }
 ],
 "metadata": {
  "kernelspec": {
   "display_name": "Python 3",
   "language": "python",
   "name": "python3"
  },
  "language_info": {
   "codemirror_mode": {
    "name": "ipython",
    "version": 3
   },
   "file_extension": ".py",
   "mimetype": "text/x-python",
   "name": "python",
   "nbconvert_exporter": "python",
   "pygments_lexer": "ipython3",
   "version": "3.8.1"
  }
 },
 "nbformat": 4,
 "nbformat_minor": 4
}
