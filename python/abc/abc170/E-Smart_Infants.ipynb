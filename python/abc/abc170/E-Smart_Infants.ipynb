{
 "cells": [
  {
   "cell_type": "code",
   "execution_count": 1,
   "metadata": {},
   "outputs": [
    {
     "data": {
      "application/vnd.jupyter.widget-view+json": {
       "model_id": "1d35846b904b453d8c2c53f3dd922b42",
       "version_major": 2,
       "version_minor": 0
      },
      "text/plain": [
       "Textarea(value='')"
      ]
     },
     "metadata": {},
     "output_type": "display_data"
    }
   ],
   "source": [
    "from ipywidgets import Textarea\n",
    "\n",
    "def get_input(change):\n",
    "    global Input\n",
    "    Input=change[\"new\"].splitlines()\n",
    "textarea = Textarea()\n",
    "textarea.observe(get_input, names='value')\n",
    "display(textarea)"
   ]
  },
  {
   "cell_type": "code",
   "execution_count": 35,
   "metadata": {},
   "outputs": [],
   "source": [
    "N, Q = map(int, Input[0].split())\n",
    "AB = [list(map(int, i.split())) for i in Input[1:N+1]]\n",
    "CD = [list(map(int, i.split())) for i in Input[N+1:]]"
   ]
  },
  {
   "cell_type": "markdown",
   "metadata": {},
   "source": [
    "# 方針から違った"
   ]
  },
  {
   "cell_type": "markdown",
   "metadata": {},
   "source": [
    "## debug"
   ]
  },
  {
   "cell_type": "code",
   "execution_count": 36,
   "metadata": {},
   "outputs": [
    {
     "name": "stdout",
     "output_type": "stream",
     "text": [
      "[4208]\n",
      "[3056]\n",
      "rate=4208, prev=1234\n",
      "hq_dict[prev] = [4208]\n",
      "hq_dict.keys()=dict_keys([1234, 5678, 2020])\n",
      "[]\n",
      "[-3056]\n",
      "[-4208]\n",
      "3056\n",
      "rate=3056, prev=5678\n",
      "hq_dict[prev] = [3056]\n",
      "hq_dict.keys()=dict_keys([1234, 5678, 2020])\n",
      "[]\n",
      "[]\n",
      "[-4208, -3056]\n",
      "4208\n"
     ]
    }
   ],
   "source": [
    "from heapq import heappush as hpush\n",
    "from heapq import heappop as hpop\n",
    "\n",
    "class Descending_HeapQueue:\n",
    "    def __init__(self, hq=[]):\n",
    "        self.hq = []\n",
    "        for i in hq:\n",
    "            self.push(i)\n",
    "    def push(self, n):\n",
    "        hpush(self.hq, -n)\n",
    "    def pop(self):\n",
    "        return -hpop(self.hq)\n",
    "    def remove(self, n):\n",
    "        self.hq.remove(-n)\n",
    "    def __str__(self):\n",
    "        return [-i for i in self.hq].__str__()\n",
    "\n",
    "hq_dict = {}\n",
    "rate_belongs = list(AB)\n",
    "\n",
    "for a,b in AB:\n",
    "    if b in hq_dict:\n",
    "        hq_dict[b].push(a)\n",
    "    else:\n",
    "        hq_dict[b] = Descending_HeapQueue([a,])\n",
    "\n",
    "for i in hq_dict.keys():\n",
    "    print(hq_dict[i])\n",
    "\n",
    "for c,d in CD:\n",
    "    rate, prev = rate_belongs[c-1]\n",
    "    print(f'{rate=}, {prev=}')\n",
    "    print(f'hq_dict[prev] =', hq_dict[prev])\n",
    "\n",
    "    hq_dict[prev].remove(rate)\n",
    "    AB[c-1] = d\n",
    "    \n",
    "    if d in hq_dict.keys():\n",
    "        hq_dict[d].push(rate)\n",
    "    else:\n",
    "        hq_dict[d] = Descending_HeapQueue([rate])\n",
    "        \n",
    "    print(f'{hq_dict.keys()=}')\n",
    "    maxs = set()\n",
    "    for k in hq_dict.keys():\n",
    "        hq = hq_dict[k]\n",
    "        print(hq.hq)\n",
    "        if len(hq.hq) == 0:\n",
    "            continue\n",
    "        max_rate = hq.pop()\n",
    "        maxs.add(max_rate)\n",
    "        hq.push(max_rate)\n",
    "    print(min(maxs))"
   ]
  },
  {
   "cell_type": "markdown",
   "metadata": {},
   "source": [
    "## submit"
   ]
  },
  {
   "cell_type": "code",
   "execution_count": 42,
   "metadata": {},
   "outputs": [
    {
     "name": "stdin",
     "output_type": "stream",
     "text": [
      " 6 3\n",
      " 8 1\n",
      " 6 2\n",
      " 9 3\n",
      " 1 1\n",
      " 2 2\n",
      " 1 3\n",
      " 4 3\n",
      " 2 1\n",
      " 1 2\n"
     ]
    },
    {
     "name": "stdout",
     "output_type": "stream",
     "text": [
      "6\n",
      "2\n",
      "6\n"
     ]
    }
   ],
   "source": [
    "import sys\n",
    "from heapq import heappush as hpush\n",
    "from heapq import heappop as hpop\n",
    "\n",
    "#def input():\n",
    "#    return sys.stdin.readline()[:-1]\n",
    "\n",
    "class Descending_HeapQueue:\n",
    "    def __init__(self, hq=[]):\n",
    "        self.hq = []\n",
    "        for i in hq:\n",
    "            self.push(i)\n",
    "    def push(self, n):\n",
    "        hpush(self.hq, -n)\n",
    "    def pop(self):\n",
    "        return -hpop(self.hq)\n",
    "    def remove(self, n):\n",
    "        self.hq.remove(-n)\n",
    "    def __str__(self):\n",
    "        return [-i for i in self.hq].__str__()\n",
    "    \n",
    "def main():\n",
    "    N, Q = map(int, input().split())\n",
    "    AB = [list(map(int, input().split())) for _ in range(N)]\n",
    "    CD = [list(map(int, input().split())) for _ in range(Q)]\n",
    "    \n",
    "    hq_dict = {}\n",
    "    rate_belongs = list(AB)\n",
    "\n",
    "    for a,b in AB:\n",
    "        if b in hq_dict:\n",
    "            hq_dict[b].push(a)\n",
    "        else:\n",
    "            hq_dict[b] = Descending_HeapQueue([a,])\n",
    "\n",
    "    for c,d in CD:\n",
    "        rate, prev = rate_belongs[c-1]\n",
    "        \n",
    "        hq_dict[prev].remove(rate)\n",
    "        AB[c-1] = d\n",
    "        \n",
    "        if d in hq_dict.keys():\n",
    "            hq_dict[d].push(rate)\n",
    "        else:\n",
    "            hq_dict[d] = Descending_HeapQueue([rate])\n",
    "\n",
    "        maxs = set()\n",
    "        for k in hq_dict.keys():\n",
    "            hq = hq_dict[k]\n",
    "            if len(hq.hq) == 0:\n",
    "                continue\n",
    "            max_rate = hq.pop()\n",
    "            maxs.add(max_rate)\n",
    "            hq.push(max_rate)\n",
    "        print(min(maxs))\n",
    "main()"
   ]
  },
  {
   "cell_type": "code",
   "execution_count": null,
   "metadata": {},
   "outputs": [],
   "source": [
    "import sys\n",
    "def input():\n",
    "    return sys.stdin.readline()[:-1]"
   ]
  },
  {
   "cell_type": "code",
   "execution_count": 41,
   "metadata": {},
   "outputs": [],
   "source": [
    "del input"
   ]
  }
 ],
 "metadata": {
  "kernelspec": {
   "display_name": "Python 3",
   "language": "python",
   "name": "python3"
  },
  "language_info": {
   "codemirror_mode": {
    "name": "ipython",
    "version": 3
   },
   "file_extension": ".py",
   "mimetype": "text/x-python",
   "name": "python",
   "nbconvert_exporter": "python",
   "pygments_lexer": "ipython3",
   "version": "3.8.1"
  }
 },
 "nbformat": 4,
 "nbformat_minor": 4
}
