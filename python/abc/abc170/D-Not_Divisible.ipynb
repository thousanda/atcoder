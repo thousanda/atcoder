{
 "cells": [
  {
   "cell_type": "code",
   "execution_count": 1,
   "metadata": {},
   "outputs": [
    {
     "data": {
      "application/vnd.jupyter.widget-view+json": {
       "model_id": "6436db01d56d410ba02e8ff251a1fb99",
       "version_major": 2,
       "version_minor": 0
      },
      "text/plain": [
       "Textarea(value='')"
      ]
     },
     "metadata": {},
     "output_type": "display_data"
    }
   ],
   "source": [
    "from ipywidgets import Textarea\n",
    "\n",
    "def get_input(change):\n",
    "    global Input\n",
    "    Input=change[\"new\"].splitlines()\n",
    "textarea = Textarea()\n",
    "textarea.observe(get_input, names='value')\n",
    "display(textarea)"
   ]
  },
  {
   "cell_type": "code",
   "execution_count": 43,
   "metadata": {},
   "outputs": [],
   "source": [
    "N = int(Input[0])\n",
    "A = list(map(int, Input[1].split()))"
   ]
  },
  {
   "cell_type": "markdown",
   "metadata": {},
   "source": [
    "# エラトステネスの篩 (ふるい)\n",
    "他のどの数でも割り切られないやつは何個？  \n",
    "解けなかった"
   ]
  },
  {
   "cell_type": "markdown",
   "metadata": {},
   "source": [
    "## ふるい落とす処理を、実際にリストを操作するんじゃなくて、真理値で持っておく\n",
    "## => AC"
   ]
  },
  {
   "cell_type": "markdown",
   "metadata": {},
   "source": [
    "## debug"
   ]
  },
  {
   "cell_type": "code",
   "execution_count": 56,
   "metadata": {},
   "outputs": [
    {
     "name": "stdout",
     "output_type": "stream",
     "text": [
      "A_list=[2, 4, 8, 18, 19, 28, 33, 45, 86, 89]\n",
      "{33: True, 18: True, 45: True, 28: True, 8: True, 19: True, 89: True, 86: True, 2: True, 4: True}\n",
      "a=2\n",
      "sieve={33: True, 18: False, 45: True, 28: False, 8: False, 19: True, 89: True, 86: False, 2: True, 4: False}\n",
      "a=4\n",
      "continue\n",
      "a=8\n",
      "continue\n",
      "a=18\n",
      "continue\n",
      "a=19\n",
      "sieve={33: True, 18: False, 45: True, 28: False, 8: False, 19: True, 89: True, 86: False, 2: True, 4: False}\n",
      "a=28\n",
      "continue\n",
      "a=33\n",
      "sieve={33: True, 18: False, 45: True, 28: False, 8: False, 19: True, 89: True, 86: False, 2: True, 4: False}\n",
      "a=45\n",
      "sieve={33: True, 18: False, 45: True, 28: False, 8: False, 19: True, 89: True, 86: False, 2: True, 4: False}\n",
      "a=86\n",
      "continue\n",
      "a=89\n",
      "sieve={33: True, 18: False, 45: True, 28: False, 8: False, 19: True, 89: True, 86: False, 2: True, 4: False}\n",
      "[1, 1, 1, 1, 1]\n"
     ]
    }
   ],
   "source": [
    "# その数が何回出てきたか数える\n",
    "A_dict = {}\n",
    "for a in A:\n",
    "    if a in A_dict.keys():\n",
    "        A_dict[a] += 1\n",
    "    else:\n",
    "        A_dict[a] = 1\n",
    "\n",
    "# 昇順リストの用意\n",
    "A_list = sorted(A_dict.keys())\n",
    "print(f'{A_list=}')\n",
    "limit = A_list[-1]\n",
    "\n",
    "# ふるい\n",
    "sieve = {i: True for i in A_dict.keys()}\n",
    "print(sieve)\n",
    "\n",
    "for a in A_list:\n",
    "    print(f'{a=}')\n",
    "    if not sieve[a]:\n",
    "        print('continue')\n",
    "        continue\n",
    "    for i in range(2*a, limit+1, a):\n",
    "        if i in sieve:\n",
    "            sieve[i] = False\n",
    "    print(f'{sieve=}')\n",
    "\n",
    "# ふるいがTrueかつ重複のない数の個数が答え\n",
    "print(sum([1 for i in sieve.keys() if sieve[i] and (A_dict[i]==1)]))"
   ]
  },
  {
   "cell_type": "markdown",
   "metadata": {},
   "source": [
    "## submit"
   ]
  },
  {
   "cell_type": "code",
   "execution_count": 58,
   "metadata": {},
   "outputs": [
    {
     "name": "stdin",
     "output_type": "stream",
     "text": [
      " 4\n",
      " 2 4 5 7\n"
     ]
    },
    {
     "name": "stdout",
     "output_type": "stream",
     "text": [
      "3\n"
     ]
    }
   ],
   "source": [
    "def main():\n",
    "    N = int(input())\n",
    "    A = list(map(int, input().split()))\n",
    "\n",
    "    A_dict = {}\n",
    "    for a in A:\n",
    "        if a in A_dict.keys():\n",
    "            A_dict[a] += 1\n",
    "        else:\n",
    "            A_dict[a] = 1\n",
    "\n",
    "    A_list = sorted(A_dict.keys())\n",
    "    limit = A_list[-1]\n",
    "\n",
    "    sieve = {i: True for i in A_dict.keys()}\n",
    "\n",
    "    for a in A_list:\n",
    "        if not sieve[a]:\n",
    "            continue\n",
    "        for i in range(2*a, limit+1, a):\n",
    "            if i in sieve:\n",
    "                sieve[i] = False\n",
    "\n",
    "    print(sum([1 for i in sieve.keys() if sieve[i] and (A_dict[i]==1)]))\n",
    "main()"
   ]
  },
  {
   "cell_type": "code",
   "execution_count": null,
   "metadata": {},
   "outputs": [],
   "source": []
  },
  {
   "cell_type": "markdown",
   "metadata": {},
   "source": [
    "## 以下、後から解き直したけどTLEだったやつ"
   ]
  },
  {
   "cell_type": "markdown",
   "metadata": {},
   "source": [
    "## debug"
   ]
  },
  {
   "cell_type": "code",
   "execution_count": 48,
   "metadata": {},
   "outputs": [
    {
     "name": "stdout",
     "output_type": "stream",
     "text": [
      "A_remain=[2, 4, 8, 18, 19, 28, 33, 45, 86, 89]\n",
      "a=2\n",
      "prime=[2]\n",
      "[19, 33, 45, 89]\n",
      "a=19\n",
      "prime=[2, 19]\n",
      "[33, 45, 89]\n",
      "a=33\n",
      "prime=[2, 19, 33]\n",
      "[45, 89]\n",
      "a=45\n",
      "prime=[2, 19, 33, 45]\n",
      "[89]\n",
      "prime=[2, 19, 33, 45, 89]\n",
      "5\n"
     ]
    }
   ],
   "source": [
    "# その数が何回出てきたか数える\n",
    "A_dict = {}\n",
    "for a in A:\n",
    "    if a in A_dict.keys():\n",
    "        A_dict[a] += 1\n",
    "    else:\n",
    "        A_dict[a] = 1\n",
    "\n",
    "A_remain = sorted(A_dict.keys())\n",
    "print(f'{A_remain=}')\n",
    "\n",
    "#エラストテネスの篩では k <= n**(1/2) で探索するけど、\n",
    "# 今回は 2k = n っていうパターンまで弾かないといけない\n",
    "limit = A_remain[-1] / 2\n",
    "\n",
    "prime = []\n",
    "a = A_remain[0]\n",
    "\n",
    "# 注目してる数がa\n",
    "# OKの数はprimeに入れる\n",
    "# ふるい落とされずに残ってる数をA_remainに入れる\n",
    "while a<=limit and len(A_remain)>0:\n",
    "    a = A_remain[0]\n",
    "    print(f'{a=}')\n",
    "    prime.append(a)\n",
    "    A_remain = [i for i in A_remain[1:] if i%a != 0]\n",
    "    print(f'{prime=}')\n",
    "    print(f'{A_remain}')\n",
    "\n",
    "# aが (Aの最大値/2) を超えるか、A_remainが空になったら終わり\n",
    "# この時点でふるい落とされてないやつはprimeに入れる\n",
    "prime.extend(A_remain)\n",
    "print(f'{prime=}')\n",
    "\n",
    "# 自身同士で割れちゃう重複のした数は除き、primeの数が答え\n",
    "print(sum([1 for i in prime if A_dict[i]==1]))"
   ]
  },
  {
   "cell_type": "markdown",
   "metadata": {},
   "source": [
    "## submit"
   ]
  },
  {
   "cell_type": "code",
   "execution_count": 49,
   "metadata": {},
   "outputs": [
    {
     "name": "stdin",
     "output_type": "stream",
     "text": [
      " 4\n",
      " 5 5 5 5\n"
     ]
    },
    {
     "name": "stdout",
     "output_type": "stream",
     "text": [
      "0\n"
     ]
    }
   ],
   "source": [
    "import sys\n",
    "def input():\n",
    "    return sys.stdin.readline()[:-1]\n",
    "\n",
    "def main():\n",
    "    N = int(input())\n",
    "    A = list(map(int, input().split()))\n",
    "    \n",
    "    A_dict = {}\n",
    "    for a in A:\n",
    "        if a in A_dict.keys():\n",
    "            A_dict[a] += 1\n",
    "        else:\n",
    "            A_dict[a] = 1\n",
    "\n",
    "    A_remain = sorted(A_dict.keys())\n",
    "    limit = A_remain[-1] / 2\n",
    "    prime = []\n",
    "    a = A_remain[0]\n",
    "\n",
    "    while a<=limit and len(A_remain)>0:\n",
    "        a = A_remain[0]\n",
    "        prime.append(a)\n",
    "        A_remain = [i for i in A_remain[1:] if i%a != 0]\n",
    "\n",
    "    prime.extend(A_remain)\n",
    "    print(sum([1 for i in prime if A_dict[i]==1]))\n",
    "\n",
    "main()"
   ]
  },
  {
   "cell_type": "code",
   "execution_count": null,
   "metadata": {},
   "outputs": [],
   "source": []
  },
  {
   "cell_type": "markdown",
   "metadata": {},
   "source": [
    "# 以下、コンテスト中に書いたやつ"
   ]
  },
  {
   "cell_type": "markdown",
   "metadata": {},
   "source": [
    "## debug"
   ]
  },
  {
   "cell_type": "code",
   "execution_count": 18,
   "metadata": {},
   "outputs": [
    {
     "name": "stdout",
     "output_type": "stream",
     "text": [
      "3\n"
     ]
    }
   ],
   "source": [
    "A_dict = {}\n",
    "for a in A:\n",
    "    if a in A_dict.keys():\n",
    "        A_dict[a] += 1\n",
    "    else:\n",
    "        A_dict[a] = 1\n",
    "\n",
    "black_list = []\n",
    "ans = 0\n",
    "for a in sorted(A_dict.keys()):\n",
    "    for b in black_list:\n",
    "        if a % b == 0:\n",
    "            break\n",
    "        if b > a**(1/2):\n",
    "            if A_dict[a] == 1:\n",
    "                ans += 1\n",
    "            black_list.append(a)\n",
    "            break\n",
    "    else:\n",
    "        if A_dict[a] == 1:\n",
    "            ans += 1\n",
    "        black_list.append(a)\n",
    "print(ans)"
   ]
  },
  {
   "cell_type": "markdown",
   "metadata": {},
   "source": [
    "## submit"
   ]
  },
  {
   "cell_type": "code",
   "execution_count": 20,
   "metadata": {},
   "outputs": [
    {
     "name": "stdin",
     "output_type": "stream",
     "text": [
      " 4\n",
      " 5 5 5 5\n"
     ]
    },
    {
     "name": "stdout",
     "output_type": "stream",
     "text": [
      "0\n"
     ]
    }
   ],
   "source": [
    "import sys\n",
    "#def input():\n",
    "#    return sys.stdin.readline()[:-1]\n",
    "\n",
    "def main():\n",
    "    N = int(input())\n",
    "    A = list(map(int, input().split()))\n",
    "    \n",
    "    A_dict = {}\n",
    "    for a in A:\n",
    "        if a in A_dict.keys():\n",
    "            A_dict[a] += 1\n",
    "        else:\n",
    "            A_dict[a] = 1\n",
    "\n",
    "    black_list = []\n",
    "    ans = 0\n",
    "    for a in sorted(A_dict.keys()):\n",
    "        for b in black_list:\n",
    "            if a % b == 0:\n",
    "                break\n",
    "            if b > a**(1/2):\n",
    "                if A_dict[a] == 1:\n",
    "                    ans += 1\n",
    "                black_list.append(a)\n",
    "                break\n",
    "        else:\n",
    "            if A_dict[a] == 1:\n",
    "                ans += 1\n",
    "            black_list.append(a)\n",
    "    print(ans)\n",
    "main()"
   ]
  },
  {
   "cell_type": "code",
   "execution_count": null,
   "metadata": {},
   "outputs": [],
   "source": [
    "import sys\n",
    "def input():\n",
    "    return sys.stdin.readline()[:-1]"
   ]
  },
  {
   "cell_type": "code",
   "execution_count": 19,
   "metadata": {},
   "outputs": [],
   "source": [
    "del input"
   ]
  }
 ],
 "metadata": {
  "kernelspec": {
   "display_name": "Python 3",
   "language": "python",
   "name": "python3"
  },
  "language_info": {
   "codemirror_mode": {
    "name": "ipython",
    "version": 3
   },
   "file_extension": ".py",
   "mimetype": "text/x-python",
   "name": "python",
   "nbconvert_exporter": "python",
   "pygments_lexer": "ipython3",
   "version": "3.8.1"
  }
 },
 "nbformat": 4,
 "nbformat_minor": 4
}
