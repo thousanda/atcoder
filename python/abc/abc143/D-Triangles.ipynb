{
 "cells": [
  {
   "cell_type": "code",
   "execution_count": 1,
   "metadata": {},
   "outputs": [
    {
     "data": {
      "application/vnd.jupyter.widget-view+json": {
       "model_id": "e0efee80b53e49ffbe610628aeba422c",
       "version_major": 2,
       "version_minor": 0
      },
      "text/plain": [
       "Textarea(value='')"
      ]
     },
     "metadata": {},
     "output_type": "display_data"
    }
   ],
   "source": [
    "from ipywidgets import Textarea\n",
    "\n",
    "def get_input(change):\n",
    "    global Input\n",
    "    Input=change[\"new\"].splitlines()\n",
    "textarea = Textarea()\n",
    "textarea.observe(get_input, names='value')\n",
    "display(textarea)"
   ]
  },
  {
   "cell_type": "markdown",
   "metadata": {},
   "source": [
    "## nC3の全探索すると O(n^3) で間に合わない\n",
    "## => 2つ固定して、3つ目を限られた範囲で探索"
   ]
  },
  {
   "cell_type": "markdown",
   "metadata": {},
   "source": [
    "$a < b + c \\quad \\rm{and} \\quad b < c + a \\quad \\rm{and} \\quad c < a + b$  \n",
    "$\\Leftrightarrow$  \n",
    "$a - b < c \\quad \\rm{and} \\quad b - a < c \\quad \\rm{and} \\quad c < a + b$  \n",
    "$\\Leftrightarrow$  \n",
    "$max(a - b, b - a) < c < a + b$  "
   ]
  },
  {
   "cell_type": "code",
   "execution_count": null,
   "metadata": {},
   "outputs": [],
   "source": []
  },
  {
   "cell_type": "markdown",
   "metadata": {},
   "source": [
    "# 2つを固定して、3つ目を2分探索する方法\n",
    "$O(n^2 \\log n)$  \n",
    "左端も二分探索で出したけど、その必要はなかった。  \n",
    "$a < b < c$ を仮定しており、$max(a - b, b - a) < b$ となるため。"
   ]
  },
  {
   "cell_type": "markdown",
   "metadata": {},
   "source": [
    "## debug"
   ]
  },
  {
   "cell_type": "code",
   "execution_count": 93,
   "metadata": {},
   "outputs": [
    {
     "name": "stdout",
     "output_type": "stream",
     "text": [
      "[1, 2, 3, 4]\n",
      "a=1, b=2\n",
      "ic: [2, 2]\n",
      "\n",
      "a=1, b=3\n",
      "ic: [3, 3]\n",
      "\n",
      "a=2, b=3\n",
      "ic: [3, 4]\n",
      "\n",
      "1\n"
     ]
    }
   ],
   "source": [
    "from bisect import bisect_left, bisect_right\n",
    "\n",
    "N = int(Input[0])\n",
    "L = sorted(list(map(int, Input[1].split())))\n",
    "print(L)\n",
    "\n",
    "ans = 0\n",
    "for ia in range(N):\n",
    "    for ib in range(ia+1, N-1):\n",
    "        a = L[ia]\n",
    "        b = L[ib]\n",
    "        print(f'{a=}, {b=}')\n",
    "        c_min = max(a-b, b-a)\n",
    "        c_max = a + b\n",
    "        ic_begin = bisect_right(L, c_min, lo=ib+1)\n",
    "        ic_end   = bisect_left( L, c_max, lo=ib+1)\n",
    "        print(f'ic: [{ic_begin}, {ic_end}]')\n",
    "        ans += ic_end - ic_begin\n",
    "        print()\n",
    "print(ans)"
   ]
  },
  {
   "cell_type": "markdown",
   "metadata": {},
   "source": [
    "## submit"
   ]
  },
  {
   "cell_type": "code",
   "execution_count": 53,
   "metadata": {},
   "outputs": [
    {
     "name": "stdin",
     "output_type": "stream",
     "text": [
      " 4\n",
      " 1 2 3 4\n"
     ]
    },
    {
     "name": "stdout",
     "output_type": "stream",
     "text": [
      "1\n"
     ]
    }
   ],
   "source": [
    "from bisect import bisect_left, bisect_right\n",
    "\n",
    "def main():\n",
    "    N = int(input())\n",
    "    L = sorted(list(map(int, input().split())))\n",
    "\n",
    "    ans = 0\n",
    "    for ia in range(N):\n",
    "        for ib in range(ia+1, N-1):\n",
    "            a = L[ia]\n",
    "            b = L[ib]\n",
    "\n",
    "            c_min = max(a-b, b-a)\n",
    "            c_max = a + b\n",
    "            ic_begin = bisect_right(L, c_min, lo=ib+1)\n",
    "            ic_end   = bisect_left( L, c_max, lo=ib+1)\n",
    "\n",
    "            ans += ic_end - ic_begin\n",
    "\n",
    "    print(ans)\n",
    "main()"
   ]
  },
  {
   "cell_type": "code",
   "execution_count": null,
   "metadata": {},
   "outputs": [],
   "source": []
  },
  {
   "cell_type": "markdown",
   "metadata": {},
   "source": [
    "# 上の方法の余計な探索を取り除いたversion\n",
    "左端は必ず ic_begin は必ず ib + 1"
   ]
  },
  {
   "cell_type": "markdown",
   "metadata": {},
   "source": [
    "## submit"
   ]
  },
  {
   "cell_type": "code",
   "execution_count": 84,
   "metadata": {},
   "outputs": [
    {
     "name": "stdin",
     "output_type": "stream",
     "text": [
      " 4\n",
      " 1 2 3 4\n"
     ]
    },
    {
     "name": "stdout",
     "output_type": "stream",
     "text": [
      "1\n"
     ]
    }
   ],
   "source": [
    "from bisect import bisect_left\n",
    "\n",
    "def main():\n",
    "    N = int(input())\n",
    "    L = sorted(list(map(int, input().split())))\n",
    "\n",
    "    ans = 0\n",
    "    for ia in range(N):\n",
    "        for ib in range(ia+1, N-1):\n",
    "            a = L[ia]\n",
    "            b = L[ib]\n",
    "            ic_end = bisect_left(L, a+b, lo=ib+1)\n",
    "            ans += ic_end - (ib+1)\n",
    "\n",
    "    print(ans)\n",
    "main()"
   ]
  },
  {
   "cell_type": "code",
   "execution_count": null,
   "metadata": {},
   "outputs": [],
   "source": []
  },
  {
   "cell_type": "markdown",
   "metadata": {},
   "source": [
    "# しゃくとり法でもできるらしい。\n",
    "aを固定しておいて、bとcを交互に動かしてくイメージ  \n",
    "$O(n^2)$"
   ]
  },
  {
   "cell_type": "markdown",
   "metadata": {},
   "source": [
    "## debug"
   ]
  },
  {
   "cell_type": "code",
   "execution_count": 114,
   "metadata": {},
   "outputs": [
    {
     "name": "stdout",
     "output_type": "stream",
     "text": [
      "[1, 2, 3, 4]\n",
      "\n",
      "## a=1 ##\n",
      "break!! ia=0, ib=1, ic=2\n",
      "ans += 0\n",
      "ans=0\n",
      "\n",
      "break!! ia=0, ib=2, ic=3\n",
      "ans += 0\n",
      "ans=0\n",
      "\n",
      "## a=2 ##\n",
      "break!! ia=1, ib=2, ic=4\n",
      "ans += 1\n",
      "ans=1\n",
      "\n",
      "1\n"
     ]
    }
   ],
   "source": [
    "N = int(Input[0])\n",
    "L = sorted(list(map(int, Input[1].split())))\n",
    "print(L)\n",
    "print()\n",
    "\n",
    "ans = 0\n",
    "\n",
    "# ia=0 < ib=1 < ic=2 から始める\n",
    "# aを固定してbとcでしゃくとり\n",
    "for ia in range(N-2):\n",
    "    a = L[ia]\n",
    "    print(f'## {a=} ##')\n",
    "    ic = ia + 2\n",
    "    for ib in range(ia+1, N-1):\n",
    "        b = L[ib]\n",
    "        \n",
    "        # c < a+b となってる間はicをインクリメントし続ける\n",
    "        # 条件を満たさなくなったら、breakしてbをひとつ進める\n",
    "        while ic < N and L[ic] < a+b:\n",
    "            ic += 1\n",
    "        \n",
    "        print(f'break!! {ia=}, {ib=}, {ic=}')\n",
    "        print(f'ans += {ic-(ib+1)}')\n",
    "        ans += ic - (ib + 1)\n",
    "            \n",
    "        print(f'{ans=}')\n",
    "        print()\n",
    "\n",
    "print(ans)"
   ]
  },
  {
   "cell_type": "markdown",
   "metadata": {},
   "source": [
    "## submit"
   ]
  },
  {
   "cell_type": "code",
   "execution_count": 115,
   "metadata": {},
   "outputs": [
    {
     "name": "stdin",
     "output_type": "stream",
     "text": [
      " 7\n",
      " 218 786 704 233 645 728 389\n"
     ]
    },
    {
     "name": "stdout",
     "output_type": "stream",
     "text": [
      "23\n"
     ]
    }
   ],
   "source": [
    "def main():\n",
    "    N = int(input())\n",
    "    L = sorted(list(map(int, input().split())))\n",
    "    ans = 0\n",
    "    for ia in range(N-2):\n",
    "        a = L[ia]\n",
    "        ic = ia + 2\n",
    "        for ib in range(ia+1, N-1):\n",
    "            b = L[ib]\n",
    "            while ic < N and L[ic] < a+b:\n",
    "                ic += 1\n",
    "            ans += ic - (ib + 1)\n",
    "    print(ans)\n",
    "main()"
   ]
  }
 ],
 "metadata": {
  "kernelspec": {
   "display_name": "Python 3",
   "language": "python",
   "name": "python3"
  },
  "language_info": {
   "codemirror_mode": {
    "name": "ipython",
    "version": 3
   },
   "file_extension": ".py",
   "mimetype": "text/x-python",
   "name": "python",
   "nbconvert_exporter": "python",
   "pygments_lexer": "ipython3",
   "version": "3.8.1"
  }
 },
 "nbformat": 4,
 "nbformat_minor": 4
}
