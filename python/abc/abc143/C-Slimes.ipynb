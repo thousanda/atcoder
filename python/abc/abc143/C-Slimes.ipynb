{
 "cells": [
  {
   "cell_type": "code",
   "execution_count": 1,
   "metadata": {},
   "outputs": [
    {
     "data": {
      "application/vnd.jupyter.widget-view+json": {
       "model_id": "5b713274d02548ef8b71682c6ce45d05",
       "version_major": 2,
       "version_minor": 0
      },
      "text/plain": [
       "Textarea(value='')"
      ]
     },
     "metadata": {},
     "output_type": "display_data"
    }
   ],
   "source": [
    "from ipywidgets import Textarea\n",
    "\n",
    "def get_input(change):\n",
    "    global Input\n",
    "    Input=change[\"new\"].splitlines()\n",
    "textarea = Textarea()\n",
    "textarea.observe(get_input, names='value')\n",
    "display(textarea)"
   ]
  },
  {
   "cell_type": "markdown",
   "metadata": {},
   "source": [
    "## debug"
   ]
  },
  {
   "cell_type": "code",
   "execution_count": 6,
   "metadata": {},
   "outputs": [
    {
     "name": "stdout",
     "output_type": "stream",
     "text": [
      "['x', 'z', 'a', 'f', 'e', 'd', 'f', 'k', 'l', 'q']\n",
      "10\n"
     ]
    }
   ],
   "source": [
    "N = int(Input[0])\n",
    "S = Input[1]\n",
    "\n",
    "fusion = [S[0]]\n",
    "prev = S[0]\n",
    "for s in S[1:]:\n",
    "    if s == prev:\n",
    "        continue\n",
    "    fusion.append(s)\n",
    "    prev = s\n",
    "    \n",
    "print(fusion)\n",
    "print(len(fusion))"
   ]
  },
  {
   "cell_type": "markdown",
   "metadata": {},
   "source": [
    "## submit"
   ]
  },
  {
   "cell_type": "code",
   "execution_count": 9,
   "metadata": {},
   "outputs": [
    {
     "name": "stdin",
     "output_type": "stream",
     "text": [
      " 5\n",
      " asdfg\n"
     ]
    },
    {
     "name": "stdout",
     "output_type": "stream",
     "text": [
      "5\n"
     ]
    }
   ],
   "source": [
    "def main():\n",
    "    N = int(input())\n",
    "    S = input()\n",
    "    fusion = [S[0]]\n",
    "    prev = S[0]\n",
    "    for s in S[1:]:\n",
    "        if s == prev:\n",
    "            continue\n",
    "        fusion.append(s)\n",
    "        prev = s\n",
    "    print(len(fusion))\n",
    "main()"
   ]
  },
  {
   "cell_type": "code",
   "execution_count": null,
   "metadata": {},
   "outputs": [],
   "source": []
  }
 ],
 "metadata": {
  "kernelspec": {
   "display_name": "Python 3",
   "language": "python",
   "name": "python3"
  },
  "language_info": {
   "codemirror_mode": {
    "name": "ipython",
    "version": 3
   },
   "file_extension": ".py",
   "mimetype": "text/x-python",
   "name": "python",
   "nbconvert_exporter": "python",
   "pygments_lexer": "ipython3",
   "version": "3.8.1"
  }
 },
 "nbformat": 4,
 "nbformat_minor": 4
}
