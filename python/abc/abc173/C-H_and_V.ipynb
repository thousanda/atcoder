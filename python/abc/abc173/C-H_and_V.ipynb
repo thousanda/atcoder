{
 "cells": [
  {
   "cell_type": "code",
   "execution_count": 1,
   "metadata": {},
   "outputs": [
    {
     "data": {
      "application/vnd.jupyter.widget-view+json": {
       "model_id": "283ad08c16c948c7ae5585fcabc49207",
       "version_major": 2,
       "version_minor": 0
      },
      "text/plain": [
       "Textarea(value='')"
      ]
     },
     "metadata": {},
     "output_type": "display_data"
    }
   ],
   "source": [
    "from ipywidgets import Textarea\n",
    "\n",
    "def get_input(change):\n",
    "    global Input\n",
    "    Input=change[\"new\"].splitlines()\n",
    "textarea = Textarea()\n",
    "textarea.observe(get_input, names='value')\n",
    "display(textarea)"
   ]
  },
  {
   "cell_type": "markdown",
   "metadata": {},
   "source": [
    "# 横と縦を両方bit全探索"
   ]
  },
  {
   "cell_type": "markdown",
   "metadata": {},
   "source": [
    "## debug"
   ]
  },
  {
   "cell_type": "code",
   "execution_count": 42,
   "metadata": {},
   "outputs": [
    {
     "name": "stdout",
     "output_type": "stream",
     "text": [
      "[[1 1]\n",
      " [1 1]]\n",
      "############\n",
      "h_bits=(0, 0)\n",
      "[[1 1]\n",
      " [1 1]]\n",
      "[[1 1]\n",
      " [1 1]]\n",
      "\n",
      "w_bits=(0, 0)\n",
      "[[1 1]\n",
      " [1 1]]\n",
      "\n",
      "\n",
      "w_bits=(0, 1)\n",
      "[[1 0]\n",
      " [1 0]]\n",
      "\n",
      "\n",
      "w_bits=(1, 0)\n",
      "[[0 1]\n",
      " [0 1]]\n",
      "\n",
      "\n",
      "w_bits=(1, 1)\n",
      "[[0 0]\n",
      " [0 0]]\n",
      "\n",
      "\n",
      "############\n",
      "h_bits=(0, 1)\n",
      "[[1 1]\n",
      " [1 1]]\n",
      "[[1 1]\n",
      " [0 0]]\n",
      "\n",
      "w_bits=(0, 0)\n",
      "[[1 1]\n",
      " [0 0]]\n",
      "\n",
      "\n",
      "w_bits=(0, 1)\n",
      "[[1 0]\n",
      " [0 0]]\n",
      "\n",
      "\n",
      "w_bits=(1, 0)\n",
      "[[0 1]\n",
      " [0 0]]\n",
      "\n",
      "\n",
      "w_bits=(1, 1)\n",
      "[[0 0]\n",
      " [0 0]]\n",
      "\n",
      "\n",
      "############\n",
      "h_bits=(1, 0)\n",
      "[[1 1]\n",
      " [1 1]]\n",
      "[[0 0]\n",
      " [1 1]]\n",
      "\n",
      "w_bits=(0, 0)\n",
      "[[0 0]\n",
      " [1 1]]\n",
      "\n",
      "\n",
      "w_bits=(0, 1)\n",
      "[[0 0]\n",
      " [1 0]]\n",
      "\n",
      "\n",
      "w_bits=(1, 0)\n",
      "[[0 0]\n",
      " [0 1]]\n",
      "\n",
      "\n",
      "w_bits=(1, 1)\n",
      "[[0 0]\n",
      " [0 0]]\n",
      "\n",
      "\n",
      "############\n",
      "h_bits=(1, 1)\n",
      "[[1 1]\n",
      " [1 1]]\n",
      "[[0 0]\n",
      " [0 0]]\n",
      "\n",
      "w_bits=(0, 0)\n",
      "[[0 0]\n",
      " [0 0]]\n",
      "\n",
      "\n",
      "w_bits=(0, 1)\n",
      "[[0 0]\n",
      " [0 0]]\n",
      "\n",
      "\n",
      "w_bits=(1, 0)\n",
      "[[0 0]\n",
      " [0 0]]\n",
      "\n",
      "\n",
      "w_bits=(1, 1)\n",
      "[[0 0]\n",
      " [0 0]]\n",
      "\n",
      "\n",
      "0\n"
     ]
    }
   ],
   "source": [
    "from itertools import product\n",
    "import numpy as np\n",
    "\n",
    "H, W, K = map(int, Input[0].split())\n",
    "C = [list(i) for i in Input[1:]]\n",
    "\n",
    "C = np.array(C)\n",
    "C = np.where(C == '.', 0, C)\n",
    "C = np.where(C == '#', 1, C)\n",
    "C = C.astype(np.int)\n",
    "print(C)\n",
    "\n",
    "ans = 0\n",
    "\n",
    "for h_bits in product(*[range(2) for _ in range(H)]):\n",
    "    print('############')\n",
    "    print(f'{h_bits=}')\n",
    "    ch = C.copy()\n",
    "    print(ch)\n",
    "    for i,h in enumerate(h_bits):\n",
    "        if h == 1:\n",
    "            ch[i] = 0\n",
    "    print(ch)\n",
    "    print()\n",
    "    for w_bits in product(*[range(2) for _ in range(W)]):\n",
    "        print(f'{w_bits=}')\n",
    "        cw = ch.copy()\n",
    "        for j,w in enumerate(w_bits):\n",
    "            if w == 1:\n",
    "                cw[:,j] = 0\n",
    "        if cw.sum() == K:\n",
    "            ans += 1\n",
    "        print(cw)\n",
    "        print('\\n')\n",
    "\n",
    "print(ans)"
   ]
  },
  {
   "cell_type": "code",
   "execution_count": null,
   "metadata": {},
   "outputs": [],
   "source": []
  },
  {
   "cell_type": "markdown",
   "metadata": {},
   "source": [
    "## submit"
   ]
  },
  {
   "cell_type": "code",
   "execution_count": 36,
   "metadata": {},
   "outputs": [
    {
     "name": "stdin",
     "output_type": "stream",
     "text": [
      " 2 3 2\n",
      " ..#\n",
      " ###\n"
     ]
    },
    {
     "name": "stdout",
     "output_type": "stream",
     "text": [
      "5\n"
     ]
    }
   ],
   "source": [
    "from itertools import product\n",
    "import numpy as np\n",
    "\n",
    "H, W, K = map(int, input().split())\n",
    "C = [list(input()) for _ in range(H)]\n",
    "\n",
    "C = np.array(C)\n",
    "C = np.where(C == '.', 0, C)\n",
    "C = np.where(C == '#', 1, C)\n",
    "C = C.astype(np.int)\n",
    "\n",
    "ans = 0\n",
    "\n",
    "for h_bits in product(*[range(2) for _ in range(H)]):\n",
    "    ch = C.copy()\n",
    "    for i,h in enumerate(h_bits):\n",
    "        if h == 1:\n",
    "            ch[i] = 0\n",
    "    for w_bits in product(*[range(2) for _ in range(W)]):\n",
    "        cw = ch.copy()\n",
    "        for j,w in enumerate(w_bits):\n",
    "            if w == 1:\n",
    "                cw[:,j] = 0\n",
    "        if cw.sum() == K:\n",
    "            ans += 1\n",
    "\n",
    "print(ans)"
   ]
  },
  {
   "cell_type": "code",
   "execution_count": null,
   "metadata": {},
   "outputs": [],
   "source": []
  },
  {
   "cell_type": "code",
   "execution_count": null,
   "metadata": {},
   "outputs": [],
   "source": []
  }
 ],
 "metadata": {
  "kernelspec": {
   "display_name": "Python 3",
   "language": "python",
   "name": "python3"
  },
  "language_info": {
   "codemirror_mode": {
    "name": "ipython",
    "version": 3
   },
   "file_extension": ".py",
   "mimetype": "text/x-python",
   "name": "python",
   "nbconvert_exporter": "python",
   "pygments_lexer": "ipython3",
   "version": "3.8.1"
  }
 },
 "nbformat": 4,
 "nbformat_minor": 4
}
