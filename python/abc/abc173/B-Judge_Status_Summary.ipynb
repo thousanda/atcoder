{
 "cells": [
  {
   "cell_type": "code",
   "execution_count": 1,
   "metadata": {},
   "outputs": [
    {
     "data": {
      "application/vnd.jupyter.widget-view+json": {
       "model_id": "f9b5f6ed76b343df9008c01f85752f93",
       "version_major": 2,
       "version_minor": 0
      },
      "text/plain": [
       "Textarea(value='')"
      ]
     },
     "metadata": {},
     "output_type": "display_data"
    }
   ],
   "source": [
    "from ipywidgets import Textarea\n",
    "\n",
    "def get_input(change):\n",
    "    global Input\n",
    "    Input=change[\"new\"].splitlines()\n",
    "textarea = Textarea()\n",
    "textarea.observe(get_input, names='value')\n",
    "display(textarea)"
   ]
  },
  {
   "cell_type": "markdown",
   "metadata": {},
   "source": [
    "## debug"
   ]
  },
  {
   "cell_type": "code",
   "execution_count": 11,
   "metadata": {},
   "outputs": [
    {
     "name": "stdout",
     "output_type": "stream",
     "text": [
      "AC x 10\n",
      "WA x 0\n",
      "TLE x 0\n",
      "RE x 0\n"
     ]
    }
   ],
   "source": [
    "N = int(Input[0])\n",
    "S = [i for i in Input[1:]]\n",
    "\n",
    "count = {'AC': 0, 'WA': 0, 'TLE': 0, 'RE': 0}\n",
    "for res in S:\n",
    "    count[res] += 1\n",
    "        \n",
    "for res in ['AC', 'WA', 'TLE', 'RE']:\n",
    "    print('{} x {}'.format(res, count[res]))"
   ]
  },
  {
   "cell_type": "code",
   "execution_count": null,
   "metadata": {},
   "outputs": [],
   "source": []
  },
  {
   "cell_type": "markdown",
   "metadata": {},
   "source": [
    "## submit"
   ]
  },
  {
   "cell_type": "code",
   "execution_count": 12,
   "metadata": {},
   "outputs": [
    {
     "name": "stdin",
     "output_type": "stream",
     "text": [
      " 3\n",
      " AC\n",
      " WA\n",
      " AC\n"
     ]
    },
    {
     "name": "stdout",
     "output_type": "stream",
     "text": [
      "AC x 2\n",
      "WA x 1\n",
      "TLE x 0\n",
      "RE x 0\n"
     ]
    }
   ],
   "source": [
    "N = int(input())\n",
    "S = [input() for _ in range(N)]\n",
    "\n",
    "count = {'AC': 0, 'WA': 0, 'TLE': 0, 'RE': 0}\n",
    "for res in S:\n",
    "    count[res] += 1\n",
    "        \n",
    "for res in ['AC', 'WA', 'TLE', 'RE']:\n",
    "    print('{} x {}'.format(res, count[res]))"
   ]
  }
 ],
 "metadata": {
  "kernelspec": {
   "display_name": "Python 3",
   "language": "python",
   "name": "python3"
  },
  "language_info": {
   "codemirror_mode": {
    "name": "ipython",
    "version": 3
   },
   "file_extension": ".py",
   "mimetype": "text/x-python",
   "name": "python",
   "nbconvert_exporter": "python",
   "pygments_lexer": "ipython3",
   "version": "3.8.1"
  }
 },
 "nbformat": 4,
 "nbformat_minor": 4
}
