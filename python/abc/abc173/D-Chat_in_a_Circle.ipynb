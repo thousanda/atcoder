{
 "cells": [
  {
   "cell_type": "code",
   "execution_count": 1,
   "metadata": {},
   "outputs": [
    {
     "data": {
      "application/vnd.jupyter.widget-view+json": {
       "model_id": "9f0df57884d145fc94a82ecc1db9f7f5",
       "version_major": 2,
       "version_minor": 0
      },
      "text/plain": [
       "Textarea(value='')"
      ]
     },
     "metadata": {},
     "output_type": "display_data"
    }
   ],
   "source": [
    "from ipywidgets import Textarea\n",
    "\n",
    "def get_input(change):\n",
    "    global Input\n",
    "    Input=change[\"new\"].splitlines()\n",
    "textarea = Textarea()\n",
    "textarea.observe(get_input, names='value')\n",
    "display(textarea)"
   ]
  },
  {
   "cell_type": "markdown",
   "metadata": {},
   "source": [
    "## debug"
   ]
  },
  {
   "cell_type": "code",
   "execution_count": 17,
   "metadata": {},
   "outputs": [
    {
     "name": "stdout",
     "output_type": "stream",
     "text": [
      "[7, 6, 5, 4, 3, 2, 1]\n",
      "+7, ans=7\n",
      "+6, ans=13\n",
      "+5, ans=18\n",
      "\n",
      "+6, ans=24\n",
      "+5, ans=29\n",
      "+4, ans=33\n",
      "\n",
      "33\n"
     ]
    }
   ],
   "source": [
    "import math\n",
    "\n",
    "N = int(Input[0])\n",
    "A = list(map(int, Input[1].split()))\n",
    "\n",
    "A_sorted = sorted(A, reverse=True)\n",
    "print(A_sorted)\n",
    "\n",
    "ans = 0\n",
    "\n",
    "# 上位半分のフレンドリーな人を配置\n",
    "for i in range(math.ceil(N/2) - 1):\n",
    "    ans += A_sorted[i]\n",
    "    print(f'+{A_sorted[i]}, {ans=}')\n",
    "\n",
    "print()\n",
    "\n",
    "# 下位半分のフレンドリーじゃない人をフレンドリーな人たちの間に配置\n",
    "for i in range(math.ceil(N/2) - 1):\n",
    "    ans += A_sorted[1+i]\n",
    "    print(f'+{A_sorted[1+i]}, {ans=}')\n",
    "# 偶数人のときは最後の1人の心地よさが例外\n",
    "if N % 2 == 0:\n",
    "    ans += A_sorted[N//2 - 1]\n",
    "\n",
    "print()\n",
    "print(ans)"
   ]
  },
  {
   "cell_type": "code",
   "execution_count": null,
   "metadata": {},
   "outputs": [],
   "source": []
  },
  {
   "cell_type": "markdown",
   "metadata": {},
   "source": [
    "## submit"
   ]
  },
  {
   "cell_type": "code",
   "execution_count": 20,
   "metadata": {},
   "outputs": [
    {
     "name": "stdin",
     "output_type": "stream",
     "text": [
      " 7\n",
      " 7 6 5 4 3 2 1\n"
     ]
    },
    {
     "name": "stdout",
     "output_type": "stream",
     "text": [
      "33\n"
     ]
    }
   ],
   "source": [
    "import math\n",
    "\n",
    "def main():\n",
    "    N = int(input())\n",
    "    A = list(map(int, input().split()))\n",
    "\n",
    "    A_sorted = sorted(A, reverse=True)\n",
    "    ans = 0\n",
    "\n",
    "    for i in range(math.ceil(N/2) - 1):\n",
    "        ans += A_sorted[i]\n",
    "\n",
    "    for i in range(math.ceil(N/2) - 1):\n",
    "        ans += A_sorted[1+i]\n",
    "    if N % 2 == 0:\n",
    "        ans += A_sorted[N//2 - 1]\n",
    "\n",
    "    print(ans)\n",
    "    \n",
    "main()"
   ]
  },
  {
   "cell_type": "code",
   "execution_count": null,
   "metadata": {},
   "outputs": [],
   "source": []
  }
 ],
 "metadata": {
  "kernelspec": {
   "display_name": "Python 3",
   "language": "python",
   "name": "python3"
  },
  "language_info": {
   "codemirror_mode": {
    "name": "ipython",
    "version": 3
   },
   "file_extension": ".py",
   "mimetype": "text/x-python",
   "name": "python",
   "nbconvert_exporter": "python",
   "pygments_lexer": "ipython3",
   "version": "3.8.1"
  }
 },
 "nbformat": 4,
 "nbformat_minor": 4
}
