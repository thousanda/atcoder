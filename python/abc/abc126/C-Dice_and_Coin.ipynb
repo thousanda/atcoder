{
 "cells": [
  {
   "cell_type": "code",
   "execution_count": 1,
   "metadata": {},
   "outputs": [
    {
     "data": {
      "application/vnd.jupyter.widget-view+json": {
       "model_id": "2ec0c260391f40fcb56b4d8026c45086",
       "version_major": 2,
       "version_minor": 0
      },
      "text/plain": [
       "Textarea(value='')"
      ]
     },
     "metadata": {},
     "output_type": "display_data"
    }
   ],
   "source": [
    "from ipywidgets import Textarea\n",
    "\n",
    "def get_input(change):\n",
    "    global Input\n",
    "    Input=change[\"new\"]\n",
    "\n",
    "textarea = Textarea()\n",
    "textarea.observe(get_input, names='value')\n",
    "display(textarea)"
   ]
  },
  {
   "cell_type": "code",
   "execution_count": 5,
   "metadata": {},
   "outputs": [],
   "source": [
    "import math"
   ]
  },
  {
   "cell_type": "code",
   "execution_count": null,
   "metadata": {},
   "outputs": [],
   "source": [
    "N, K = map(int, input().split())"
   ]
  },
  {
   "cell_type": "code",
   "execution_count": 45,
   "metadata": {},
   "outputs": [],
   "source": [
    "N, K = map(int, Input.split())"
   ]
  },
  {
   "cell_type": "code",
   "execution_count": 46,
   "metadata": {},
   "outputs": [
    {
     "name": "stdout",
     "output_type": "stream",
     "text": [
      "1: half_k=5.0 <= n < k=10, num_nums=5, p_i=0.20833333333333334\n",
      "2: half_k=2.5 <= n < k=5.0, num_nums=2, p_i=0.041666666666666664\n",
      "3: half_k=1.25 <= n < k=2.5, num_nums=1, p_i=0.010416666666666666\n",
      "4: half_k=0.625 <= n < k=1.25, num_nums=1, p_i=0.005208333333333333\n"
     ]
    }
   ],
   "source": [
    "p_win = 0\n",
    "if N >= K:\n",
    "    p_win += (N - K + 1) / N\n",
    "\n",
    "k = K\n",
    "i = 1\n",
    "while k >= 1:\n",
    "    half_k = k / 2\n",
    "    if N < k:\n",
    "        num_nums = max(N - math.ceil(half_k) + 1, 0)\n",
    "    else:\n",
    "        num_nums = math.ceil(k) - math.ceil(half_k)\n",
    "    p_i = (num_nums/N) * ((1/2)**i)\n",
    "    # print(f'{i}: {half_k=} <= n < {k=}, {num_nums=}, {p_i=}')\n",
    "    p_win += p_i\n",
    "    i += 1\n",
    "    k = half_k\n",
    "\n",
    "print(p_win)"
   ]
  },
  {
   "cell_type": "code",
   "execution_count": 42,
   "metadata": {},
   "outputs": [
    {
     "data": {
      "text/plain": [
       "0.28125"
      ]
     },
     "execution_count": 42,
     "metadata": {},
     "output_type": "execute_result"
    }
   ],
   "source": [
    "# N=6, K=10\n",
    "(2/6)*(1/2) + (2/6)*(1/4) + (1/6)*(1/8) + (1/6)*(1/16)"
   ]
  },
  {
   "cell_type": "code",
   "execution_count": 43,
   "metadata": {},
   "outputs": [
    {
     "data": {
      "text/plain": [
       "0.14583333333333334"
      ]
     },
     "execution_count": 43,
     "metadata": {},
     "output_type": "execute_result"
    }
   ],
   "source": [
    "# N=3, K=10\n",
    "(1/3)*(1/4) + (1/3)*(1/8) + (1/3)*(1/16)"
   ]
  },
  {
   "cell_type": "code",
   "execution_count": 44,
   "metadata": {},
   "outputs": [
    {
     "data": {
      "text/plain": [
       "0.515625"
      ]
     },
     "execution_count": 44,
     "metadata": {},
     "output_type": "execute_result"
    }
   ],
   "source": [
    "# N=12, K=10\n",
    "(3/12) + (5/12)*(1/2) + (2/12)*(1/4) + (1/12)*(1/8) + (1/12)*(1/16)"
   ]
  },
  {
   "cell_type": "code",
   "execution_count": null,
   "metadata": {},
   "outputs": [],
   "source": []
  }
 ],
 "metadata": {
  "kernelspec": {
   "display_name": "Python 3",
   "language": "python",
   "name": "python3"
  },
  "language_info": {
   "codemirror_mode": {
    "name": "ipython",
    "version": 3
   },
   "file_extension": ".py",
   "mimetype": "text/x-python",
   "name": "python",
   "nbconvert_exporter": "python",
   "pygments_lexer": "ipython3",
   "version": "3.8.1"
  }
 },
 "nbformat": 4,
 "nbformat_minor": 4
}
