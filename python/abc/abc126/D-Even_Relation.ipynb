{
 "cells": [
  {
   "cell_type": "code",
   "execution_count": 10,
   "metadata": {},
   "outputs": [
    {
     "data": {
      "application/vnd.jupyter.widget-view+json": {
       "model_id": "54e0c37a0ed04e25915d3af76c39d355",
       "version_major": 2,
       "version_minor": 0
      },
      "text/plain": [
       "Textarea(value='')"
      ]
     },
     "metadata": {},
     "output_type": "display_data"
    }
   ],
   "source": [
    "from ipywidgets import Textarea\n",
    "\n",
    "def get_input(change):\n",
    "    global Input\n",
    "    Input=change[\"new\"]\n",
    "\n",
    "textarea = Textarea()\n",
    "textarea.observe(get_input, names='value')\n",
    "display(textarea)"
   ]
  },
  {
   "cell_type": "code",
   "execution_count": 65,
   "metadata": {},
   "outputs": [],
   "source": [
    "splited = Input.splitlines()\n",
    "N = int(splited[0])\n",
    "dists = [list(map(int, i.split())) for i in splited[1:]]"
   ]
  },
  {
   "cell_type": "code",
   "execution_count": 64,
   "metadata": {},
   "outputs": [
    {
     "data": {
      "text/plain": [
       "50000"
      ]
     },
     "execution_count": 64,
     "metadata": {},
     "output_type": "execute_result"
    }
   ],
   "source": [
    "import sys\n",
    "sys.setrecursionlimit(50000)\n",
    "sys.getrecursionlimit()"
   ]
  },
  {
   "cell_type": "code",
   "execution_count": null,
   "metadata": {},
   "outputs": [],
   "source": [
    "N = int(input())\n",
    "dists = [list(map(int, input().split())) for _ in range(N-1)]"
   ]
  },
  {
   "cell_type": "code",
   "execution_count": 47,
   "metadata": {},
   "outputs": [],
   "source": [
    "class Graph():\n",
    "    def __init__(self):\n",
    "        self.adjacency_dict = {}\n",
    "\n",
    "    def add_vertex(self, v):\n",
    "        self.adjacency_dict[v] = []\n",
    "    \n",
    "    def add_edge(self, v1, v2, dist):\n",
    "        self.adjacency_dict[v1].append([v2, dist])\n",
    "        self.adjacency_dict[v2].append([v1, dist])\n",
    "    \n",
    "    def next_edges(self, v):\n",
    "        return self.adjacency_dict[v]\n",
    "\n",
    "    def __str__(self):\n",
    "        return self.adjacency_dict.__str__()"
   ]
  },
  {
   "cell_type": "code",
   "execution_count": 66,
   "metadata": {},
   "outputs": [],
   "source": [
    "graph = Graph()\n",
    "for i in range(1, N+1):\n",
    "    graph.add_vertex(i)\n",
    "for v1, v2, dist in dists:\n",
    "    graph.add_edge(v1, v2, dist)"
   ]
  },
  {
   "cell_type": "code",
   "execution_count": 67,
   "metadata": {},
   "outputs": [
    {
     "name": "stdout",
     "output_type": "stream",
     "text": [
      "0\n",
      "0\n",
      "0\n",
      "0\n",
      "0\n"
     ]
    }
   ],
   "source": [
    "# depth-first search\n",
    "# TODO:\n",
    "# implement DFS\n",
    "def dfs(start, group):\n",
    "    if visited[start] is not None:\n",
    "        return\n",
    "    visited[start] = group\n",
    "    # print(start)\n",
    "    for v, dist in graph.next_edges(start):\n",
    "        if dist % 2 == 0:\n",
    "            dfs(v, group)\n",
    "        else:\n",
    "            dfs(v, 1-group)\n",
    "\n",
    "visited = [None]*(N+1)\n",
    "dfs(1, 0)\n",
    "for i in visited[1:]:\n",
    "    print(i)"
   ]
  },
  {
   "cell_type": "code",
   "execution_count": 60,
   "metadata": {},
   "outputs": [
    {
     "name": "stdout",
     "output_type": "stream",
     "text": [
      "{1: [[2, 2]], 2: [[1, 2], [3, 1]], 3: [[2, 1]]}\n"
     ]
    }
   ],
   "source": [
    "# exapmle 1\n",
    "graph = Graph()\n",
    "for i in range(1, 4):\n",
    "    graph.add_vertex(i)\n",
    "graph.add_edge(1, 2, 2)\n",
    "graph.add_edge(2, 3, 1)\n",
    "print(graph)"
   ]
  },
  {
   "cell_type": "code",
   "execution_count": null,
   "metadata": {},
   "outputs": [],
   "source": []
  },
  {
   "cell_type": "code",
   "execution_count": null,
   "metadata": {},
   "outputs": [],
   "source": []
  },
  {
   "cell_type": "code",
   "execution_count": null,
   "metadata": {},
   "outputs": [],
   "source": [
    "# 以下は参考にしたグラフの実装"
   ]
  },
  {
   "cell_type": "code",
   "execution_count": 18,
   "metadata": {},
   "outputs": [],
   "source": [
    "class Graph():\n",
    "    def __init__(self):\n",
    "        \"\"\" ノードのつながりを辞書型で表現する \"\"\"\n",
    "        self.adjacency_dict = {}\n",
    "    \n",
    "    def add_vertex(self, v):\n",
    "        \"\"\" ノードを追加する \"\"\"\n",
    "        self.adjacency_dict[v] = []\n",
    "    def add_edge(self, v1, v2):\n",
    "        \"\"\" ノード同士をつなぐ。\"\"\"\n",
    "        # 無向グラフの場合は双方向。もし有向グラフなら片側のみ。\n",
    "        self.adjacency_dict[v1].append(v2)\n",
    "        self.adjacency_dict[v2].append(v1)\n",
    "    def remove_edge(self, v1, v2):\n",
    "        \"\"\" ノード同士のつながりを削除する。\"\"\"\n",
    "        self.adjacency_dict[v1].remove(v2)\n",
    "        self.adjacency_dict[v2].remove(v1)\n",
    "    def remove_vertex(self,v):\n",
    "        \"\"\" ノードを削除する。\"\"\"\n",
    "        while self.adjacency_dict[v] != []:\n",
    "            adjacent_vertex = self.adjacency_dict[v][-1]\n",
    "            self.remove_edge(v, adjacent_vertex)\n",
    "        del self.adjacency_dict[v]\n",
    "    \n",
    "    def print_graph(self):\n",
    "        print(self.adjacency_dict)"
   ]
  },
  {
   "cell_type": "code",
   "execution_count": 21,
   "metadata": {},
   "outputs": [
    {
     "name": "stdout",
     "output_type": "stream",
     "text": [
      "{1: [2], 2: [1], 3: []}\n"
     ]
    }
   ],
   "source": [
    "graph = Graph()\n",
    "for i in range(1, 4):\n",
    "    graph.add_vertex(i)\n",
    "graph.add_edge(1,2)\n",
    "graph.print_graph()"
   ]
  },
  {
   "cell_type": "code",
   "execution_count": null,
   "metadata": {},
   "outputs": [],
   "source": []
  }
 ],
 "metadata": {
  "kernelspec": {
   "display_name": "Python 3",
   "language": "python",
   "name": "python3"
  },
  "language_info": {
   "codemirror_mode": {
    "name": "ipython",
    "version": 3
   },
   "file_extension": ".py",
   "mimetype": "text/x-python",
   "name": "python",
   "nbconvert_exporter": "python",
   "pygments_lexer": "ipython3",
   "version": "3.8.1"
  }
 },
 "nbformat": 4,
 "nbformat_minor": 4
}
