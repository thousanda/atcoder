{
 "cells": [
  {
   "cell_type": "code",
   "execution_count": 1,
   "metadata": {},
   "outputs": [
    {
     "data": {
      "application/vnd.jupyter.widget-view+json": {
       "model_id": "bcb12220f9814dae833c1969bc4e121d",
       "version_major": 2,
       "version_minor": 0
      },
      "text/plain": [
       "Textarea(value='')"
      ]
     },
     "metadata": {},
     "output_type": "display_data"
    }
   ],
   "source": [
    "from ipywidgets import Textarea\n",
    "\n",
    "def get_input(change):\n",
    "    global Input\n",
    "    Input=change[\"new\"].splitlines()\n",
    "textarea = Textarea()\n",
    "textarea.observe(get_input, names='value')\n",
    "display(textarea)"
   ]
  },
  {
   "cell_type": "code",
   "execution_count": 20,
   "metadata": {},
   "outputs": [],
   "source": [
    "N = int(Input[0])\n",
    "H = list(map(int, Input[1].split()))"
   ]
  },
  {
   "cell_type": "markdown",
   "metadata": {},
   "source": [
    "## debug"
   ]
  },
  {
   "cell_type": "code",
   "execution_count": 21,
   "metadata": {},
   "outputs": [
    {
     "name": "stdout",
     "output_type": "stream",
     "text": [
      "Yes\n"
     ]
    }
   ],
   "source": [
    "if N == 1:\n",
    "    print('Yes')\n",
    "    print('sys.exit()')\n",
    "\n",
    "H_edit = [0]*N\n",
    "H_edit[0] = H[0] - 1\n",
    "\n",
    "for i in range(1, N):\n",
    "    h_prev = H_edit[i-1]\n",
    "    h = H[i]\n",
    "    H_edit[i] = h-1 if h_prev+1 <= h else h\n",
    "\n",
    "for i in range(N-1):\n",
    "    if H_edit[i] > H_edit[i+1]:\n",
    "        print('No')\n",
    "        break\n",
    "else:\n",
    "    print('Yes')"
   ]
  },
  {
   "cell_type": "markdown",
   "metadata": {},
   "source": [
    "## submit"
   ]
  },
  {
   "cell_type": "code",
   "execution_count": 19,
   "metadata": {},
   "outputs": [
    {
     "name": "stdin",
     "output_type": "stream",
     "text": [
      " 5\n",
      " 1 2 3 4 5\n"
     ]
    },
    {
     "name": "stdout",
     "output_type": "stream",
     "text": [
      "Yes\n"
     ]
    }
   ],
   "source": [
    "import sys\n",
    "def main():\n",
    "    N = int(input())\n",
    "    H = list(map(int, input().split()))\n",
    "    if N == 1:\n",
    "        print('Yes')\n",
    "        sys.exit()\n",
    "    H_edit = [0]*N\n",
    "    H_edit[0] = H[0] - 1\n",
    "    for i in range(1, N):\n",
    "        h_prev = H_edit[i-1]\n",
    "        h = H[i]\n",
    "        H_edit[i] = h-1 if h_prev+1 <= h else h\n",
    "    for i in range(N-1):\n",
    "        if H_edit[i] > H_edit[i+1]:\n",
    "            print('No')\n",
    "            break\n",
    "    else:\n",
    "        print('Yes')\n",
    "main()"
   ]
  },
  {
   "cell_type": "code",
   "execution_count": null,
   "metadata": {},
   "outputs": [],
   "source": []
  }
 ],
 "metadata": {
  "kernelspec": {
   "display_name": "Python 3",
   "language": "python",
   "name": "python3"
  },
  "language_info": {
   "codemirror_mode": {
    "name": "ipython",
    "version": 3
   },
   "file_extension": ".py",
   "mimetype": "text/x-python",
   "name": "python",
   "nbconvert_exporter": "python",
   "pygments_lexer": "ipython3",
   "version": "3.8.1"
  }
 },
 "nbformat": 4,
 "nbformat_minor": 4
}
