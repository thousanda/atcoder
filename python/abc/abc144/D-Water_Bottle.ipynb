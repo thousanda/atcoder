{
 "cells": [
  {
   "cell_type": "code",
   "execution_count": 1,
   "metadata": {},
   "outputs": [
    {
     "data": {
      "application/vnd.jupyter.widget-view+json": {
       "model_id": "b6ad66178232447ab17c94f47065d3f0",
       "version_major": 2,
       "version_minor": 0
      },
      "text/plain": [
       "Textarea(value='')"
      ]
     },
     "metadata": {},
     "output_type": "display_data"
    }
   ],
   "source": [
    "from ipywidgets import Textarea\n",
    "\n",
    "def get_input(change):\n",
    "    global Input\n",
    "    Input=change[\"new\"].splitlines()\n",
    "textarea = Textarea()\n",
    "textarea.observe(get_input, names='value')\n",
    "display(textarea)"
   ]
  },
  {
   "cell_type": "markdown",
   "metadata": {},
   "source": [
    "水筒の体積は $a^2 b$\n",
    "\n",
    "#### $0 < x \\le a^2 b / 2$ のとき\n",
    "角度 $\\theta (\\arctan{(b/a)} \\le \\theta < \\pi/2)$ 傾けたときに入れておける水の量の最大値を考える．\n",
    "\n",
    "水がある部分は，底面積 $a \\times b \\tan{(\\pi/2 - \\theta)}$，高さ $b$\n",
    "の立方体を半分に切った立体なので  \n",
    "体積 $x$ は $x = \\{a b^2 \\tan{(\\pi/2 - \\theta})\\} / 2$ となる．\n",
    "\n",
    "これを変形して  \n",
    "$\\tan{(\\pi/2 - \\theta)} = 2x / a b^2 $  \n",
    "$\\tan{\\theta} = a b^2 / 2x$  \n",
    "$\\theta = \\arctan{(a b^2 / 2x)}$\n",
    "\n",
    "\n",
    "#### $a^2 b / 2 \\le x \\le a^2 b$ のとき\n",
    "角度 $\\theta (0 < \\theta \\le \\arctan{(b/a)})$ 傾けた時に失う部分の体積を考えることにする．\n",
    "\n",
    "失う部分は，底面積 $a^2$，高さ $a \\tan{\\theta}$\n",
    "の立方体を半分に切った立体なので  \n",
    "体積は $(a^3 \\tan{\\theta}) / 2$ となる．\n",
    "\n",
    "角度 $\\theta$ 傾けた時に入れられる水の量 $x$ は  \n",
    "$x = a^2 b - (a^3 \\tan{\\theta}) / 2$\n",
    "\n",
    "これを式変形して  \n",
    "$a^3 \\tan{\\theta} = 2(a^2 b - x)$  \n",
    "$\\tan{\\theta} = 2(a^2b - x) / a^3$  \n",
    "$\\theta = \\arctan{\\{2(a^2b - x) / a^3\\}}$\n"
   ]
  },
  {
   "cell_type": "markdown",
   "metadata": {},
   "source": [
    "## debug"
   ]
  },
  {
   "cell_type": "code",
   "execution_count": 23,
   "metadata": {},
   "outputs": [
    {
     "name": "stdout",
     "output_type": "stream",
     "text": [
      "V=8\n",
      "少ない方！\n",
      "45.0\n"
     ]
    }
   ],
   "source": [
    "import math\n",
    "\n",
    "a, b, x = map(int, Input[0].split())\n",
    "V = a**2 * b\n",
    "print(f'{V=}')\n",
    "\n",
    "if x <= V/2:\n",
    "    print('少ない方！')\n",
    "    rad = math.atan(a * b**2 / (2*x))\n",
    "    print(math.degrees(rad))\n",
    "else:\n",
    "    print('多い方！')\n",
    "    rad = math.atan(2 * (a**2 * b - x) / a**3)\n",
    "    print(math.degrees(rad))"
   ]
  },
  {
   "cell_type": "code",
   "execution_count": null,
   "metadata": {},
   "outputs": [],
   "source": []
  },
  {
   "cell_type": "markdown",
   "metadata": {},
   "source": [
    "## submit"
   ]
  },
  {
   "cell_type": "code",
   "execution_count": 27,
   "metadata": {},
   "outputs": [
    {
     "name": "stdin",
     "output_type": "stream",
     "text": [
      " 3 1 8\n"
     ]
    },
    {
     "name": "stdout",
     "output_type": "stream",
     "text": [
      "4.23639479905884\n"
     ]
    }
   ],
   "source": [
    "import math\n",
    "\n",
    "def main():\n",
    "    a, b, x = map(int, input().split())\n",
    "    V = a**2 * b\n",
    "    if x <= V/2:\n",
    "        rad = math.atan(a * b**2 / (2*x))\n",
    "        print(math.degrees(rad))\n",
    "    else:\n",
    "        rad = math.atan(2 * (a**2 * b - x) / a**3)\n",
    "        print(math.degrees(rad))    \n",
    "main()"
   ]
  },
  {
   "cell_type": "code",
   "execution_count": null,
   "metadata": {},
   "outputs": [],
   "source": []
  }
 ],
 "metadata": {
  "kernelspec": {
   "display_name": "Python 3",
   "language": "python",
   "name": "python3"
  },
  "language_info": {
   "codemirror_mode": {
    "name": "ipython",
    "version": 3
   },
   "file_extension": ".py",
   "mimetype": "text/x-python",
   "name": "python",
   "nbconvert_exporter": "python",
   "pygments_lexer": "ipython3",
   "version": "3.8.1"
  }
 },
 "nbformat": 4,
 "nbformat_minor": 4
}
