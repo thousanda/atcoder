{
 "cells": [
  {
   "cell_type": "markdown",
   "metadata": {},
   "source": [
    "# N = x * y を総当たり\n",
    "$N \\le 10^{12}$ だから $O(N^{(1/2)})$ なら通る"
   ]
  },
  {
   "cell_type": "markdown",
   "metadata": {},
   "source": [
    "## debug"
   ]
  },
  {
   "cell_type": "code",
   "execution_count": 16,
   "metadata": {},
   "outputs": [
    {
     "name": "stdout",
     "output_type": "stream",
     "text": [
      "x=2\n",
      "min_sum_xy=82\n",
      "x=3\n",
      "y=27\n",
      "min_sum_xy=30\n",
      "x=4\n",
      "min_sum_xy=30\n",
      "x=5\n",
      "min_sum_xy=30\n",
      "x=6\n",
      "min_sum_xy=30\n",
      "x=7\n",
      "min_sum_xy=30\n",
      "x=8\n",
      "min_sum_xy=30\n",
      "x=9\n",
      "y=9\n",
      "min_sum_xy=18\n",
      "\n",
      "16\n"
     ]
    }
   ],
   "source": [
    "import math\n",
    "\n",
    "# N = 10\n",
    "# N = 50\n",
    "N = 81\n",
    "# N = 10000000019\n",
    "\n",
    "min_sum_xy = N + 1  # 以下のループで見つからないときはNが素数 (N = N * 1)\n",
    "for x in range(2, math.floor(N**(1/2))+1):\n",
    "    print(f'{x=}')\n",
    "    if N % x == 0:\n",
    "        y = N // x\n",
    "        print(f'{y=}')\n",
    "        min_sum_xy = min(x + y, min_sum_xy)\n",
    "    print(f'{min_sum_xy=}')\n",
    "\n",
    "print()\n",
    "print(min_sum_xy - 2)"
   ]
  },
  {
   "cell_type": "markdown",
   "metadata": {},
   "source": [
    "## submit"
   ]
  },
  {
   "cell_type": "code",
   "execution_count": 19,
   "metadata": {},
   "outputs": [
    {
     "name": "stdin",
     "output_type": "stream",
     "text": [
      " 1000000007\n"
     ]
    },
    {
     "name": "stdout",
     "output_type": "stream",
     "text": [
      "1000000006\n"
     ]
    }
   ],
   "source": [
    "import math\n",
    "def main():\n",
    "    N = int(input())\n",
    "    min_sum_xy = N + 1\n",
    "    for x in range(2, math.floor(N**(1/2))+1):\n",
    "        if N % x == 0:\n",
    "            y = N // x\n",
    "            min_sum_xy = min(x + y, min_sum_xy)\n",
    "    print(min_sum_xy - 2)\n",
    "main()"
   ]
  }
 ],
 "metadata": {
  "kernelspec": {
   "display_name": "Python 3",
   "language": "python",
   "name": "python3"
  },
  "language_info": {
   "codemirror_mode": {
    "name": "ipython",
    "version": 3
   },
   "file_extension": ".py",
   "mimetype": "text/x-python",
   "name": "python",
   "nbconvert_exporter": "python",
   "pygments_lexer": "ipython3",
   "version": "3.8.1"
  }
 },
 "nbformat": 4,
 "nbformat_minor": 4
}
