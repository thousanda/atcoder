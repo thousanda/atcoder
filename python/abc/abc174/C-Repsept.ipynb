{
 "cells": [
  {
   "cell_type": "code",
   "execution_count": 1,
   "metadata": {},
   "outputs": [
    {
     "data": {
      "application/vnd.jupyter.widget-view+json": {
       "model_id": "8d819e69c1544e7fba4efe42cbbe32a6",
       "version_major": 2,
       "version_minor": 0
      },
      "text/plain": [
       "Textarea(value='')"
      ]
     },
     "metadata": {},
     "output_type": "display_data"
    }
   ],
   "source": [
    "from ipywidgets import Textarea\n",
    "\n",
    "def get_input(change):\n",
    "    global Input\n",
    "    Input=change[\"new\"].splitlines()\n",
    "textarea = Textarea()\n",
    "textarea.observe(get_input, names='value')\n",
    "display(textarea)"
   ]
  },
  {
   "cell_type": "markdown",
   "metadata": {},
   "source": [
    "# 解説AC\n",
    "repseptをKで割った余りが0になるときのrepseptの桁数を答える．  \n",
    "このとき、普通にやると桁数が大きくなりすぎるが、余りが欲しいだけなので、毎回Kの剰余に置き換えていい．  \n",
    "余りの値はループするので、見たことあるやつが出てきたら終わり．  \n",
    "多くてもK回繰り返せばKの剰余は網羅されるから、最大繰り返し回数はK回．  \n",
    "ただし、見たことあるやつが出てきたら終わりと書いたが、そのあと続けてもループするだけなので、実装が簡単なのは「そんなこと気にせずK回回す」"
   ]
  },
  {
   "cell_type": "code",
   "execution_count": 16,
   "metadata": {},
   "outputs": [
    {
     "name": "stdin",
     "output_type": "stream",
     "text": [
      " 101\n"
     ]
    },
    {
     "name": "stdout",
     "output_type": "stream",
     "text": [
      "repsept=7\n",
      "repsept=77\n",
      "repsept=70\n",
      "repsept=0\n",
      "4\n"
     ]
    }
   ],
   "source": [
    "K = int(input())\n",
    "\n",
    "repsept = 7\n",
    "for i in range(1, K+1):\n",
    "    print(f'{repsept=}')\n",
    "    if repsept % K == 0:\n",
    "        print(i)\n",
    "        break\n",
    "    repsept = (repsept*10 + 7) % K\n",
    "else:\n",
    "    print(-1)"
   ]
  },
  {
   "cell_type": "code",
   "execution_count": 20,
   "metadata": {},
   "outputs": [
    {
     "name": "stdin",
     "output_type": "stream",
     "text": [
      " 999983\n"
     ]
    },
    {
     "name": "stdout",
     "output_type": "stream",
     "text": [
      "999982\n"
     ]
    }
   ],
   "source": [
    "K = int(input())\n",
    "\n",
    "repsept = 7\n",
    "for i in range(1, K+1):\n",
    "    if repsept % K == 0:\n",
    "        print(i)\n",
    "        break\n",
    "    repsept = (repsept*10 + 7) % K\n",
    "else:\n",
    "    print(-1)"
   ]
  },
  {
   "cell_type": "code",
   "execution_count": null,
   "metadata": {},
   "outputs": [],
   "source": []
  }
 ],
 "metadata": {
  "kernelspec": {
   "display_name": "Python 3",
   "language": "python",
   "name": "python3"
  },
  "language_info": {
   "codemirror_mode": {
    "name": "ipython",
    "version": 3
   },
   "file_extension": ".py",
   "mimetype": "text/x-python",
   "name": "python",
   "nbconvert_exporter": "python",
   "pygments_lexer": "ipython3",
   "version": "3.8.1"
  }
 },
 "nbformat": 4,
 "nbformat_minor": 4
}
