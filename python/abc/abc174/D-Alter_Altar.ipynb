{
 "cells": [
  {
   "cell_type": "code",
   "execution_count": 1,
   "metadata": {},
   "outputs": [
    {
     "data": {
      "application/vnd.jupyter.widget-view+json": {
       "model_id": "e13eaa1f278944dfbab90c5a2c84b0cf",
       "version_major": 2,
       "version_minor": 0
      },
      "text/plain": [
       "Textarea(value='')"
      ]
     },
     "metadata": {},
     "output_type": "display_data"
    }
   ],
   "source": [
    "from ipywidgets import Textarea\n",
    "\n",
    "def get_input(change):\n",
    "    global Input\n",
    "    Input=change[\"new\"].splitlines()\n",
    "textarea = Textarea()\n",
    "textarea.observe(get_input, names='value')\n",
    "display(textarea)"
   ]
  },
  {
   "cell_type": "code",
   "execution_count": 28,
   "metadata": {},
   "outputs": [
    {
     "name": "stdout",
     "output_type": "stream",
     "text": [
      "2 4\n",
      "1\n"
     ]
    }
   ],
   "source": [
    "N = int(Input[0])\n",
    "c = [0 if s=='R' else 1 for s in Input[1]]\n",
    "\n",
    "l = 0\n",
    "r = N - 1\n",
    "\n",
    "ans = 0\n",
    "while l < r:\n",
    "    while c[l] == 0:\n",
    "        l += 1\n",
    "    while c[r] == 1:\n",
    "        r -= 1\n",
    "    print(l, r)\n",
    "    ans += 1\n",
    "    l += 1\n",
    "    r -= 1\n",
    "print(ans)"
   ]
  },
  {
   "cell_type": "code",
   "execution_count": null,
   "metadata": {},
   "outputs": [],
   "source": []
  },
  {
   "cell_type": "code",
   "execution_count": 34,
   "metadata": {},
   "outputs": [
    {
     "name": "stdin",
     "output_type": "stream",
     "text": [
      " 8\n",
      " WRWWRWRR\n"
     ]
    },
    {
     "name": "stdout",
     "output_type": "stream",
     "text": [
      "3\n"
     ]
    }
   ],
   "source": [
    "N = int(input())\n",
    "c = [0 if s=='R' else 1 for s in input()]\n",
    "\n",
    "l = 0\n",
    "r = N - 1\n",
    "\n",
    "ans = 0\n",
    "while l < r:\n",
    "    while l < N and c[l] == 0:\n",
    "        l += 1\n",
    "    while r > 0 and c[r] == 1:\n",
    "        r -= 1\n",
    "    if l < r:\n",
    "        ans += 1\n",
    "    l += 1\n",
    "    r -= 1\n",
    "print(ans)"
   ]
  },
  {
   "cell_type": "code",
   "execution_count": null,
   "metadata": {},
   "outputs": [],
   "source": []
  }
 ],
 "metadata": {
  "kernelspec": {
   "display_name": "Python 3",
   "language": "python",
   "name": "python3"
  },
  "language_info": {
   "codemirror_mode": {
    "name": "ipython",
    "version": 3
   },
   "file_extension": ".py",
   "mimetype": "text/x-python",
   "name": "python",
   "nbconvert_exporter": "python",
   "pygments_lexer": "ipython3",
   "version": "3.8.1"
  }
 },
 "nbformat": 4,
 "nbformat_minor": 4
}
