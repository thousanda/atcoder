{
 "cells": [
  {
   "cell_type": "code",
   "execution_count": 1,
   "metadata": {},
   "outputs": [
    {
     "data": {
      "application/vnd.jupyter.widget-view+json": {
       "model_id": "a005f3e244d541b6b0ed2cfa153f417e",
       "version_major": 2,
       "version_minor": 0
      },
      "text/plain": [
       "Textarea(value='')"
      ]
     },
     "metadata": {},
     "output_type": "display_data"
    }
   ],
   "source": [
    "from ipywidgets import Textarea\n",
    "\n",
    "def get_input(change):\n",
    "    global Input\n",
    "    Input=change[\"new\"].splitlines()\n",
    "textarea = Textarea()\n",
    "textarea.observe(get_input, names='value')\n",
    "display(textarea)"
   ]
  },
  {
   "cell_type": "markdown",
   "metadata": {},
   "source": [
    "## debug"
   ]
  },
  {
   "cell_type": "code",
   "execution_count": 17,
   "metadata": {},
   "outputs": [
    {
     "name": "stdin",
     "output_type": "stream",
     "text": [
      " 20\n"
     ]
    },
    {
     "name": "stdout",
     "output_type": "stream",
     "text": [
      "x=1, y=1, z=1\n",
      "x=1, y=1, z=2\n",
      "x=1, y=1, z=3\n",
      "x=1, y=2, z=2\n",
      "1 0\n",
      "2 0\n",
      "3 0\n",
      "4 0\n",
      "5 0\n",
      "6 1\n",
      "7 0\n",
      "8 0\n",
      "9 0\n",
      "10 0\n",
      "11 3\n",
      "12 0\n",
      "13 0\n",
      "14 0\n",
      "15 0\n",
      "16 0\n",
      "17 3\n",
      "18 3\n",
      "19 0\n",
      "20 0\n"
     ]
    }
   ],
   "source": [
    "def left(x, y, z):\n",
    "    return x**2 + y**2 + z**2 + x*y + y*z + z*x\n",
    "\n",
    "def count(x, y, z):\n",
    "    uniq_num = len(set([x, y, z]))\n",
    "    if uniq_num == 3:\n",
    "        return 6  # 3!\n",
    "    elif uniq_num == 2:\n",
    "        return 3  # 3C1\n",
    "    else:\n",
    "        return 1\n",
    "\n",
    "def show_result(ans):\n",
    "    for n,fn in enumerate(ans[1:]):\n",
    "        print(n+1, fn)\n",
    "\n",
    "N = int(input())\n",
    "\n",
    "ans = [0]*(N+1)\n",
    "x = y = z = 1\n",
    "while x <= N and left(x, y, z) <= N:\n",
    "    while y <= N and left(x, y, z) <= N:\n",
    "        while z <= N and left(x, y, z) <= N:\n",
    "            print(f'{x=}, {y=}, {z=}')\n",
    "            l = left(x, y, z)\n",
    "            ans[l] = count(x, y, z)\n",
    "            z += 1\n",
    "        y += 1\n",
    "        z = y\n",
    "    x += 1\n",
    "    y = z = x\n",
    "show_result(ans)"
   ]
  },
  {
   "cell_type": "markdown",
   "metadata": {},
   "source": [
    "## submit"
   ]
  },
  {
   "cell_type": "code",
   "execution_count": 18,
   "metadata": {},
   "outputs": [
    {
     "name": "stdin",
     "output_type": "stream",
     "text": [
      " 20\n"
     ]
    },
    {
     "name": "stdout",
     "output_type": "stream",
     "text": [
      "0\n",
      "0\n",
      "0\n",
      "0\n",
      "0\n",
      "1\n",
      "0\n",
      "0\n",
      "0\n",
      "0\n",
      "3\n",
      "0\n",
      "0\n",
      "0\n",
      "0\n",
      "0\n",
      "3\n",
      "3\n",
      "0\n",
      "0\n"
     ]
    }
   ],
   "source": [
    "def left(x, y, z):\n",
    "    return x**2 + y**2 + z**2 + x*y + y*z + z*x\n",
    "\n",
    "def count(x, y, z):\n",
    "    uniq_num = len(set([x, y, z]))\n",
    "    if uniq_num == 3:\n",
    "        return 6  # 3!\n",
    "    elif uniq_num == 2:\n",
    "        return 3  # 3C1\n",
    "    else:\n",
    "        return 1\n",
    "\n",
    "def show_result(ans):\n",
    "    for n,fn in enumerate(ans[1:]):\n",
    "        print(fn)\n",
    "\n",
    "N = int(input())\n",
    "\n",
    "ans = [0]*(N+1)\n",
    "x = y = z = 1\n",
    "while x <= N-3 and left(x, y, z) <= N:\n",
    "    while y <= N-3 and left(x, y, z) <= N:\n",
    "        while z <= N-3 and left(x, y, z) <= N:\n",
    "            l = left(x, y, z)\n",
    "            ans[l] += count(x, y, z)\n",
    "            z += 1\n",
    "        y += 1\n",
    "        z = y\n",
    "    x += 1\n",
    "    y = z = x\n",
    "show_result(ans)"
   ]
  }
 ],
 "metadata": {
  "kernelspec": {
   "display_name": "Python 3",
   "language": "python",
   "name": "python3"
  },
  "language_info": {
   "codemirror_mode": {
    "name": "ipython",
    "version": 3
   },
   "file_extension": ".py",
   "mimetype": "text/x-python",
   "name": "python",
   "nbconvert_exporter": "python",
   "pygments_lexer": "ipython3",
   "version": "3.8.1"
  }
 },
 "nbformat": 4,
 "nbformat_minor": 4
}
