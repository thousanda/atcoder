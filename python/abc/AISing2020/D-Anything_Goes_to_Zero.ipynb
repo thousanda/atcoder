{
 "cells": [
  {
   "cell_type": "code",
   "execution_count": 1,
   "metadata": {},
   "outputs": [
    {
     "data": {
      "application/vnd.jupyter.widget-view+json": {
       "model_id": "b2f607db4a5c491d921e70b3c0119d87",
       "version_major": 2,
       "version_minor": 0
      },
      "text/plain": [
       "Textarea(value='')"
      ]
     },
     "metadata": {},
     "output_type": "display_data"
    }
   ],
   "source": [
    "from ipywidgets import Textarea\n",
    "\n",
    "def get_input(change):\n",
    "    global Input\n",
    "    Input=change[\"new\"].splitlines()\n",
    "textarea = Textarea()\n",
    "textarea.observe(get_input, names='value')\n",
    "display(textarea)"
   ]
  },
  {
   "cell_type": "markdown",
   "metadata": {},
   "source": [
    "## debug"
   ]
  },
  {
   "cell_type": "code",
   "execution_count": 86,
   "metadata": {},
   "outputs": [
    {
     "name": "stdout",
     "output_type": "stream",
     "text": [
      "2\n",
      "1\n",
      "1\n"
     ]
    }
   ],
   "source": [
    "'''\n",
    "def popcount(n):\n",
    "    count = 0\n",
    "    while n > 0:\n",
    "        if n % 2 == 1:\n",
    "            count += 1\n",
    "        n //= 2\n",
    "    return count\n",
    "'''\n",
    "\n",
    "def popcount(n):\n",
    "    return bin(n).count('1')\n",
    "\n",
    "\n",
    "#N = int(input())\n",
    "#X = input()\n",
    "\n",
    "N = 3\n",
    "X = '011'\n",
    "#N = 23\n",
    "#X = '00110111001011011001110'\n",
    "\n",
    "X_int = int(X, 2)\n",
    "\n",
    "### Point: popcount(X)を計算しておく ##########\n",
    "pcount_X = popcount(X_int)\n",
    "# 毎回やるとO(N)\n",
    "\n",
    "### Point: popcount(Xi)はpopcount(X) +1 or -1\n",
    "pcount_X_pls1 = pcount_X + 1\n",
    "pcount_X_mns1 = pcount_X - 1\n",
    "\n",
    "### Point: Xは巨大だからこの処理も重い\n",
    "X_mod_pcount_X_pls1 = X_int % pcount_X_pls1\n",
    "if pcount_X_mns1 != 0:\n",
    "    X_mod_pcount_X_mns1 = X_int % pcount_X_mns1\n",
    "#############################################\n",
    "\n",
    "# 0000010000000みたいな (上からi桁目のみ1)\n",
    "# mask = 1 << (N-i-1)\n",
    "# => mask = 2**(N-i-1)\n",
    "\n",
    "for i,bit in enumerate(X):\n",
    "    if bit == '0':\n",
    "        n = (X_mod_pcount_X_pls1 + pow(2, N-i-1, pcount_X_pls1)) % pcount_X_pls1\n",
    "    else:\n",
    "        # 全部0なら何もしない\n",
    "        if pcount_X_mns1 == 0:\n",
    "            print(0)\n",
    "            continue\n",
    "        n = (X_mod_pcount_X_mns1 - pow(2, N-i-1, pcount_X_mns1)) % pcount_X_mns1\n",
    "\n",
    "    # 重いのは n = Xi % popcount(Xi) だけで、\n",
    "    # 2回目以降の n %= popcount(n) は数字が十分小さくなってるから\n",
    "    # 言われた通り実装\n",
    "    ans = 1\n",
    "    while n > 0:\n",
    "        ans += 1\n",
    "        n %= popcount(n)\n",
    "    print(ans)"
   ]
  },
  {
   "cell_type": "code",
   "execution_count": null,
   "metadata": {},
   "outputs": [],
   "source": []
  },
  {
   "cell_type": "markdown",
   "metadata": {},
   "source": [
    "## submit"
   ]
  },
  {
   "cell_type": "code",
   "execution_count": 88,
   "metadata": {},
   "outputs": [
    {
     "name": "stdin",
     "output_type": "stream",
     "text": [
      " 3\n",
      " 001\n"
     ]
    },
    {
     "name": "stdout",
     "output_type": "stream",
     "text": [
      "2\n",
      "2\n",
      "0\n"
     ]
    }
   ],
   "source": [
    "def popcount(n):\n",
    "    return bin(n).count('1')\n",
    "\n",
    "\n",
    "def main():\n",
    "    N = int(input())\n",
    "    X = input()\n",
    "\n",
    "    X_int = int(X, 2)\n",
    "\n",
    "    pcount_X = popcount(X_int)\n",
    "\n",
    "    pcount_X_pls1 = pcount_X + 1\n",
    "    pcount_X_mns1 = pcount_X - 1\n",
    "    \n",
    "    X_mod_pcount_X_pls1 = X_int % pcount_X_pls1\n",
    "    if pcount_X_mns1 != 0:\n",
    "        X_mod_pcount_X_mns1 = X_int % pcount_X_mns1\n",
    "\n",
    "    for i,bit in enumerate(X):\n",
    "        bit = int(bit)\n",
    "        if bit == 0:\n",
    "            n = (X_mod_pcount_X_pls1 + pow(2, N-i-1, pcount_X_pls1)) % pcount_X_pls1\n",
    "        else:\n",
    "            if pcount_X_mns1 == 0:\n",
    "                print(0)\n",
    "                continue\n",
    "            n = (X_mod_pcount_X_mns1 - pow(2, N-i-1, pcount_X_mns1)) % pcount_X_mns1\n",
    "\n",
    "        ans = 1\n",
    "        while n > 0:\n",
    "            ans += 1\n",
    "            n %= popcount(n)\n",
    "        print(ans)\n",
    "        \n",
    "main()"
   ]
  },
  {
   "cell_type": "code",
   "execution_count": null,
   "metadata": {},
   "outputs": [],
   "source": []
  }
 ],
 "metadata": {
  "kernelspec": {
   "display_name": "Python 3",
   "language": "python",
   "name": "python3"
  },
  "language_info": {
   "codemirror_mode": {
    "name": "ipython",
    "version": 3
   },
   "file_extension": ".py",
   "mimetype": "text/x-python",
   "name": "python",
   "nbconvert_exporter": "python",
   "pygments_lexer": "ipython3",
   "version": "3.8.1"
  }
 },
 "nbformat": 4,
 "nbformat_minor": 4
}
