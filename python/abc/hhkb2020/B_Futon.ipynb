{
 "cells": [
  {
   "cell_type": "code",
   "execution_count": 1,
   "metadata": {},
   "outputs": [
    {
     "data": {
      "application/vnd.jupyter.widget-view+json": {
       "model_id": "66cd64aab64640419293f03a6f69a70b",
       "version_major": 2,
       "version_minor": 0
      },
      "text/plain": [
       "Textarea(value='')"
      ]
     },
     "metadata": {},
     "output_type": "display_data"
    }
   ],
   "source": [
    "from ipywidgets import Textarea\n",
    "\n",
    "def get_input(change):\n",
    "    global Input\n",
    "    Input=change[\"new\"].splitlines()\n",
    "textarea = Textarea()\n",
    "textarea.observe(get_input, names='value')\n",
    "display(textarea)"
   ]
  },
  {
   "cell_type": "code",
   "execution_count": 5,
   "metadata": {},
   "outputs": [
    {
     "name": "stdout",
     "output_type": "stream",
     "text": [
      "0\n"
     ]
    }
   ],
   "source": [
    "H, W = map(int, Input[0].split())\n",
    "S = [i for i in Input[1:]]\n",
    "\n",
    "ans = 0\n",
    "\n",
    "for i in range(H):\n",
    "    for j in range(W-1):\n",
    "        if S[i][j] == '.' and S[i][j+1] == '.':\n",
    "            ans += 1\n",
    "\n",
    "for j in range(W):\n",
    "    for i in range(H-1):\n",
    "        if S[i][j] == '.' and S[i+1][j] == '.':\n",
    "            ans += 1\n",
    "\n",
    "print(ans)"
   ]
  },
  {
   "cell_type": "code",
   "execution_count": 6,
   "metadata": {},
   "outputs": [
    {
     "name": "stdin",
     "output_type": "stream",
     "text": [
      " 2 3\n",
      " ..#\n",
      " #..\n"
     ]
    },
    {
     "name": "stdout",
     "output_type": "stream",
     "text": [
      "3\n"
     ]
    }
   ],
   "source": [
    "H, W = map(int, input().split())\n",
    "S = [input() for _ in range(H)]\n",
    "\n",
    "ans = 0\n",
    "\n",
    "for i in range(H):\n",
    "    for j in range(W-1):\n",
    "        if S[i][j] == '.' and S[i][j+1] == '.':\n",
    "            ans += 1\n",
    "\n",
    "for j in range(W):\n",
    "    for i in range(H-1):\n",
    "        if S[i][j] == '.' and S[i+1][j] == '.':\n",
    "            ans += 1\n",
    "\n",
    "print(ans)"
   ]
  }
 ],
 "metadata": {
  "kernelspec": {
   "display_name": "Python 3",
   "language": "python",
   "name": "python3"
  },
  "language_info": {
   "codemirror_mode": {
    "name": "ipython",
    "version": 3
   },
   "file_extension": ".py",
   "mimetype": "text/x-python",
   "name": "python",
   "nbconvert_exporter": "python",
   "pygments_lexer": "ipython3",
   "version": "3.8.1"
  }
 },
 "nbformat": 4,
 "nbformat_minor": 4
}
