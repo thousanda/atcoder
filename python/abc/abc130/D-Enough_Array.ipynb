{
 "cells": [
  {
   "cell_type": "code",
   "execution_count": 1,
   "metadata": {},
   "outputs": [
    {
     "data": {
      "application/vnd.jupyter.widget-view+json": {
       "model_id": "9c0868eb95e248f999d57ceca15b12f7",
       "version_major": 2,
       "version_minor": 0
      },
      "text/plain": [
       "Textarea(value='')"
      ]
     },
     "metadata": {},
     "output_type": "display_data"
    }
   ],
   "source": [
    "from ipywidgets import Textarea\n",
    "\n",
    "def get_input(change):\n",
    "    global Input\n",
    "    Input=change[\"new\"].splitlines()\n",
    "textarea = Textarea()\n",
    "textarea.observe(get_input, names='value')\n",
    "display(textarea)"
   ]
  },
  {
   "cell_type": "code",
   "execution_count": 84,
   "metadata": {},
   "outputs": [],
   "source": [
    "N, K = map(int, Input[0].split())\n",
    "a = list(map(int, Input[1].split()))"
   ]
  },
  {
   "cell_type": "markdown",
   "metadata": {},
   "source": [
    "# しゃくとり法!!\n",
    "intervalのsumを計算するときにsum()したらここがO(N)かかって全体がO(N^2)になるから気を付ける  \n",
    "O(n)でできる計算はPyPyよりPythonの方が速い?"
   ]
  },
  {
   "cell_type": "markdown",
   "metadata": {},
   "source": [
    "## debug"
   ]
  },
  {
   "cell_type": "code",
   "execution_count": 99,
   "metadata": {},
   "outputs": [
    {
     "name": "stdout",
     "output_type": "stream",
     "text": [
      "[103, 35322, 232, 342, 21099, 90000, 18843, 9010, 35221, 19352]\n",
      "left=0, right=0, interval=0 \n",
      "left=0, right=1, interval=103 \n",
      "left=0, right=2, interval=35425 \n",
      "left=0, right=3, interval=35657 \n",
      "left=0, right=4, interval=35999 \n",
      "left=0, right=5, interval=57098 ans += 6\n",
      "left=1, right=5, interval=56995 ans += 6\n",
      "left=2, right=5, interval=21673 \n",
      "left=2, right=6, interval=111673 ans += 5\n",
      "left=3, right=6, interval=111441 ans += 5\n",
      "left=4, right=6, interval=111099 ans += 5\n",
      "left=5, right=6, interval=90000 ans += 5\n",
      "left=6, right=6, interval=0 \n",
      "left=6, right=7, interval=18843 \n",
      "left=6, right=8, interval=27853 \n",
      "left=6, right=9, interval=63074 ans += 2\n",
      "left=7, right=9, interval=44231 \n",
      "left=7, right=10, interval=63583 ans += 1\n",
      "left=8, right=10, interval=54573 ans += 1\n",
      "left=9, right=10, interval=19352 \n",
      "36\n"
     ]
    }
   ],
   "source": [
    "interval = 0\n",
    "ans = 0\n",
    "left = 0\n",
    "right = 0\n",
    "print(a)\n",
    "while True:\n",
    "    print(f'{left=}, {right=}, {interval=}', end=' ')\n",
    "    if interval < K:\n",
    "        if right == N:\n",
    "            print()\n",
    "            break\n",
    "        interval += a[right]\n",
    "        right += 1\n",
    "    else:\n",
    "        ans += N - right + 1\n",
    "        print(f'ans += {N-right+1}', end='')\n",
    "        interval -= a[left]\n",
    "        left += 1\n",
    "    print()\n",
    "print(ans)"
   ]
  },
  {
   "cell_type": "markdown",
   "metadata": {},
   "source": [
    "## submit"
   ]
  },
  {
   "cell_type": "code",
   "execution_count": 104,
   "metadata": {},
   "outputs": [
    {
     "name": "stdin",
     "output_type": "stream",
     "text": [
      " 10 53462\n",
      " 103 35322 232 342 21099 90000 18843 9010 35221 19352\n"
     ]
    },
    {
     "name": "stdout",
     "output_type": "stream",
     "text": [
      "36\n"
     ]
    }
   ],
   "source": [
    "def main():\n",
    "    N, K = map(int, input().split())\n",
    "    a = list(map(int, input().split()))\n",
    "    interval = a[0]\n",
    "    ans = 0\n",
    "    left = 0\n",
    "    right = 1\n",
    "    while True:\n",
    "        if interval < K:\n",
    "            if right == N:\n",
    "                break\n",
    "            interval += a[right]\n",
    "            right += 1\n",
    "        else:\n",
    "            ans += N - right + 1\n",
    "            interval -= a[left]\n",
    "            left += 1\n",
    "    print(ans)\n",
    "main()"
   ]
  },
  {
   "cell_type": "markdown",
   "metadata": {},
   "source": [
    "# Numpy Conv Version\n",
    "かっこいいけど流石にTLE"
   ]
  },
  {
   "cell_type": "markdown",
   "metadata": {},
   "source": [
    "## debug"
   ]
  },
  {
   "cell_type": "code",
   "execution_count": 32,
   "metadata": {},
   "outputs": [
    {
     "name": "stdout",
     "output_type": "stream",
     "text": [
      "[6 1 2 7]\n",
      "[6. 1. 2. 7.] [False False False False]\n",
      "[7. 3. 9.] [False False False]\n",
      "[ 9. 10.] [False  True]\n",
      "[16.] [ True]\n",
      "2\n"
     ]
    }
   ],
   "source": [
    "import numpy as np\n",
    "\n",
    "num = 0\n",
    "seq = np.array(a)\n",
    "print(seq)\n",
    "\n",
    "for i in range(1, N+1):\n",
    "    kernel = np.ones(i)\n",
    "    conv = np.convolve(seq, kernel, mode='valid')\n",
    "    print(conv, conv >= K)\n",
    "    num += sum(conv >= K)\n",
    "    \n",
    "print(num)"
   ]
  },
  {
   "cell_type": "code",
   "execution_count": 20,
   "metadata": {},
   "outputs": [
    {
     "name": "stdout",
     "output_type": "stream",
     "text": [
      "[0 1 2 3 4 5 6 7 8 9] [0.5 0.5]\n"
     ]
    },
    {
     "data": {
      "text/plain": [
       "array([0.5, 1.5, 2.5, 3.5, 4.5, 5.5, 6.5, 7.5, 8.5])"
      ]
     },
     "execution_count": 20,
     "metadata": {},
     "output_type": "execute_result"
    }
   ],
   "source": [
    "signal = np.array(range(10))\n",
    "kernel = np.ones(2)/2\n",
    "print(signal, kernel)\n",
    "np.convolve(signal, kernel, mode='valid')"
   ]
  },
  {
   "cell_type": "code",
   "execution_count": 29,
   "metadata": {},
   "outputs": [
    {
     "data": {
      "text/plain": [
       "2"
      ]
     },
     "execution_count": 29,
     "metadata": {},
     "output_type": "execute_result"
    }
   ],
   "source": [
    "sum(np.array(range(5)) > 2)"
   ]
  },
  {
   "cell_type": "markdown",
   "metadata": {},
   "source": [
    "## submit"
   ]
  },
  {
   "cell_type": "code",
   "execution_count": 35,
   "metadata": {},
   "outputs": [
    {
     "name": "stdin",
     "output_type": "stream",
     "text": [
      " 10 53462\n",
      " 103 35322 232 342 21099 90000 18843 9010 35221 19352\n"
     ]
    },
    {
     "name": "stdout",
     "output_type": "stream",
     "text": [
      "36\n"
     ]
    }
   ],
   "source": [
    "import numpy as np\n",
    "\n",
    "def main():\n",
    "    N, K = map(int, input().split())\n",
    "    a = list(map(int, input().split()))\n",
    "    num = 0\n",
    "    seq = np.array(a)\n",
    "    for i in range(1, N+1):\n",
    "        num += sum(np.convolve(seq, np.ones(i), mode='valid') >= K)\n",
    "    print(num)\n",
    "main()"
   ]
  },
  {
   "cell_type": "markdown",
   "metadata": {},
   "source": [
    "# 真面目にDP Version\n",
    "PyPyで出したけどTLE  \n",
    "知ってた。  \n",
    "max(N) = 10^5  \n",
    "O(N(N+1)/2) = O(N^2)"
   ]
  },
  {
   "cell_type": "markdown",
   "metadata": {},
   "source": [
    "## debug"
   ]
  },
  {
   "cell_type": "code",
   "execution_count": 75,
   "metadata": {},
   "outputs": [
    {
     "name": "stdout",
     "output_type": "stream",
     "text": [
      "[103, 35322, 232, 342, 21099, 90000, 18843, 9010, 35221, 19352]\n",
      "i=1, N-i=9\n",
      "[35425, 35554, 574, 21441, 111099, 108843, 27853, 44231, 54573]\n",
      "num=3\n",
      "i=2, N-i=8\n",
      "[35657, 35896, 21673, 111441, 129942, 117853, 63074, 63583]\n",
      "num=5\n",
      "i=3, N-i=7\n",
      "[35999, 56995, 111673, 130284, 138952, 153074, 82426]\n",
      "num=6\n",
      "i=4, N-i=6\n",
      "[57098, 146995, 130516, 139294, 174173, 172426]\n",
      "num=6\n",
      "i=5, N-i=5\n",
      "[147098, 165838, 139526, 174515, 193525]\n",
      "num=5\n",
      "i=6, N-i=4\n",
      "[165941, 174848, 174747, 193867]\n",
      "num=4\n",
      "i=7, N-i=3\n",
      "[174951, 210069, 194099]\n",
      "num=3\n",
      "i=8, N-i=2\n",
      "[210172, 229421]\n",
      "num=2\n",
      "i=9, N-i=1\n",
      "[229524]\n",
      "num=1\n",
      "36\n"
     ]
    }
   ],
   "source": [
    "def count(seq, target):\n",
    "    return sum([1 if i >= target else 0 for i in seq])\n",
    "\n",
    "seq = list(a)\n",
    "ans = count(seq, K)\n",
    "print(seq)\n",
    "\n",
    "for i in range(1, N):\n",
    "    print(f'{i=}, {N-i=}')\n",
    "    conv = [0]*(N-i)\n",
    "    for j in range(N-i):\n",
    "        conv[j] = seq[j] + a[j+i]\n",
    "    print(conv)\n",
    "    num = count(conv, K)\n",
    "    print(f'{num=}')\n",
    "    ans += num\n",
    "    seq = conv\n",
    "\n",
    "print(ans)"
   ]
  },
  {
   "cell_type": "markdown",
   "metadata": {},
   "source": [
    "## submit"
   ]
  },
  {
   "cell_type": "code",
   "execution_count": 76,
   "metadata": {},
   "outputs": [
    {
     "name": "stdin",
     "output_type": "stream",
     "text": [
      " 10 53462\n",
      " 103 35322 232 342 21099 90000 18843 9010 35221 19352\n"
     ]
    },
    {
     "name": "stdout",
     "output_type": "stream",
     "text": [
      "36\n"
     ]
    }
   ],
   "source": [
    "def count(seq, target):\n",
    "    return sum([1 if i >= target else 0 for i in seq])\n",
    "def main():\n",
    "    N, K = map(int, input().split())\n",
    "    a = list(map(int, input().split()))\n",
    "\n",
    "    seq = list(a)\n",
    "    ans = count(seq, K)\n",
    "    for i in range(1, N):\n",
    "        conv = [0]*(N-i)\n",
    "        for j in range(N-i):\n",
    "            conv[j] = seq[j] + a[j+i]\n",
    "        ans += count(conv, K)\n",
    "        seq = conv\n",
    "    print(ans)\n",
    "main()"
   ]
  },
  {
   "cell_type": "code",
   "execution_count": null,
   "metadata": {},
   "outputs": [],
   "source": []
  }
 ],
 "metadata": {
  "kernelspec": {
   "display_name": "Python 3",
   "language": "python",
   "name": "python3"
  },
  "language_info": {
   "codemirror_mode": {
    "name": "ipython",
    "version": 3
   },
   "file_extension": ".py",
   "mimetype": "text/x-python",
   "name": "python",
   "nbconvert_exporter": "python",
   "pygments_lexer": "ipython3",
   "version": "3.8.1"
  }
 },
 "nbformat": 4,
 "nbformat_minor": 4
}
