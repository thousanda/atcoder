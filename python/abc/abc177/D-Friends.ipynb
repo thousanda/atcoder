{
 "cells": [
  {
   "cell_type": "code",
   "execution_count": 1,
   "metadata": {},
   "outputs": [
    {
     "data": {
      "application/vnd.jupyter.widget-view+json": {
       "model_id": "70f53385a68a4162a06c56ad7b1c7c3e",
       "version_major": 2,
       "version_minor": 0
      },
      "text/plain": [
       "Textarea(value='')"
      ]
     },
     "metadata": {},
     "output_type": "display_data"
    }
   ],
   "source": [
    "from ipywidgets import Textarea\n",
    "\n",
    "def get_input(change):\n",
    "    global Input\n",
    "    Input=change[\"new\"].splitlines()\n",
    "textarea = Textarea()\n",
    "textarea.observe(get_input, names='value')\n",
    "display(textarea)"
   ]
  },
  {
   "cell_type": "markdown",
   "metadata": {},
   "source": [
    "## debug"
   ]
  },
  {
   "cell_type": "code",
   "execution_count": 15,
   "metadata": {},
   "outputs": [
    {
     "name": "stdout",
     "output_type": "stream",
     "text": [
      "i=1 !!!\n",
      "1\n",
      "next vertices: [3, 4]\n",
      "3\n",
      "4\n",
      "next vertices: [1]\n",
      "next vertices: [1]\n",
      "[True, False, True, True, False, False, False, False, False, False]\n",
      "group_size=3\n",
      "\n",
      "i=2 !!!\n",
      "2\n",
      "next vertices: [6]\n",
      "6\n",
      "next vertices: [2]\n",
      "[True, True, True, True, False, True, False, False, False, False]\n",
      "group_size=2\n",
      "\n",
      "i=3 !!!\n",
      "\n",
      "i=4 !!!\n",
      "\n",
      "i=5 !!!\n",
      "5\n",
      "next vertices: [9]\n",
      "9\n",
      "next vertices: [5]\n",
      "[True, True, True, True, True, True, False, False, True, False]\n",
      "group_size=2\n",
      "\n",
      "i=6 !!!\n",
      "\n",
      "i=7 !!!\n",
      "7\n",
      "next vertices: []\n",
      "[True, True, True, True, True, True, True, False, True, False]\n",
      "group_size=1\n",
      "\n",
      "i=8 !!!\n",
      "8\n",
      "next vertices: []\n",
      "[True, True, True, True, True, True, True, True, True, False]\n",
      "group_size=1\n",
      "\n",
      "i=9 !!!\n",
      "\n",
      "i=10 !!!\n",
      "10\n",
      "next vertices: []\n",
      "[True, True, True, True, True, True, True, True, True, True]\n",
      "group_size=1\n",
      "\n",
      "3\n"
     ]
    }
   ],
   "source": [
    "from collections import deque\n",
    "\n",
    "class Graph():\n",
    "    def __init__(self):\n",
    "        \"\"\" ノードのつながりを辞書型で表現する \"\"\"\n",
    "        self.adjacency_dict = {}\n",
    "\n",
    "    def add_vertex(self, v):\n",
    "        \"\"\" ノードを追加する \"\"\"\n",
    "        self.adjacency_dict[v] = []\n",
    "    def add_edge(self, v1, v2):\n",
    "        \"\"\" ノード同士をつなぐ。\"\"\"\n",
    "        # 無向グラフの場合は双方向。もし有向グラフなら片側のみ。\n",
    "        self.adjacency_dict[v1].append(v2)\n",
    "        self.adjacency_dict[v2].append(v1)\n",
    "    def next_vertices(self, v):\n",
    "        \"\"\" 隣接したノードを返す \"\"\"\n",
    "        return self.adjacency_dict[v]\n",
    "    def remove_edge(self, v1, v2):\n",
    "        \"\"\" ノード同士のつながりを削除する。\"\"\"\n",
    "        self.adjacency_dict[v1].remove(v2)\n",
    "        self.adjacency_dict[v2].remove(v1)\n",
    "    def remove_vertex(self,v):\n",
    "        \"\"\" ノードを削除する。\"\"\"\n",
    "        while self.adjacency_dict[v] != []:\n",
    "            adjacent_vertex = self.adjacency_dict[v][-1]\n",
    "            self.remove_edge(v, adjacent_vertex)\n",
    "        del self.adjacency_dict[v]\n",
    "\n",
    "    def __str__(self):\n",
    "        return self.adjacency_dict.__str__()\n",
    "\n",
    "def bfs(start):\n",
    "    visited[start] = True\n",
    "    q = deque()\n",
    "    q.append(start)\n",
    "    print(start)\n",
    "\n",
    "    group_size = 1\n",
    "    while q:\n",
    "        v_now = q.popleft()\n",
    "        print(f'next vertices: {graph.next_vertices(v_now)}')\n",
    "        for v_next in graph.next_vertices(v_now):\n",
    "            if visited[v_next] == False:\n",
    "                print(v_next)\n",
    "                visited[v_next] = True\n",
    "                q.append(v_next)\n",
    "                group_size += 1\n",
    "    print(visited[1:])\n",
    "\n",
    "    return group_size\n",
    "    \n",
    "N, M = map(int, Input[0].split())\n",
    "AB = [list(map(int, i.split())) for i in Input[1:]]\n",
    "\n",
    "graph = Graph()\n",
    "for i in range(1, N+1):\n",
    "    graph.add_vertex(i)\n",
    "for v1, v2 in AB:\n",
    "    graph.add_edge(v1, v2)\n",
    "\n",
    "visited = [False] * (N+1)\n",
    "\n",
    "max_group_size = 1\n",
    "for i in range(1, N+1):\n",
    "    print(f'{i=} !!!')\n",
    "    if visited[i] == False:\n",
    "        group_size = bfs(i)\n",
    "        print(f'{group_size=}')\n",
    "        max_group_size = max(max_group_size, group_size)\n",
    "    print()\n",
    "    \n",
    "print(max_group_size)"
   ]
  },
  {
   "cell_type": "markdown",
   "metadata": {},
   "source": [
    "## submit"
   ]
  },
  {
   "cell_type": "code",
   "execution_count": 17,
   "metadata": {},
   "outputs": [
    {
     "name": "stdin",
     "output_type": "stream",
     "text": [
      " 10 4\n",
      " 3 1\n",
      " 4 1\n",
      " 5 9\n",
      " 2 6\n"
     ]
    },
    {
     "name": "stdout",
     "output_type": "stream",
     "text": [
      "3\n"
     ]
    }
   ],
   "source": [
    "from collections import deque\n",
    "\n",
    "class Graph():\n",
    "    def __init__(self):\n",
    "        \"\"\" ノードのつながりを辞書型で表現する \"\"\"\n",
    "        self.adjacency_dict = {}\n",
    "\n",
    "    def add_vertex(self, v):\n",
    "        \"\"\" ノードを追加する \"\"\"\n",
    "        self.adjacency_dict[v] = []\n",
    "    def add_edge(self, v1, v2):\n",
    "        \"\"\" ノード同士をつなぐ。\"\"\"\n",
    "        # 無向グラフの場合は双方向。もし有向グラフなら片側のみ。\n",
    "        self.adjacency_dict[v1].append(v2)\n",
    "        self.adjacency_dict[v2].append(v1)\n",
    "    def next_vertices(self, v):\n",
    "        \"\"\" 隣接したノードを返す \"\"\"\n",
    "        return self.adjacency_dict[v]\n",
    "\n",
    "def bfs(start):\n",
    "    visited[start] = True\n",
    "    q = deque()\n",
    "    q.append(start)\n",
    "\n",
    "    group_size = 1\n",
    "    while q:\n",
    "        v_now = q.popleft()\n",
    "        for v_next in graph.next_vertices(v_now):\n",
    "            if visited[v_next] == False:\n",
    "                visited[v_next] = True\n",
    "                q.append(v_next)\n",
    "                group_size += 1\n",
    "\n",
    "    return group_size\n",
    "    \n",
    "\n",
    "N, M = map(int, input().split())\n",
    "AB = [list(map(int, input().split())) for _ in range(M)]\n",
    "\n",
    "graph = Graph()\n",
    "for i in range(1, N+1):\n",
    "    graph.add_vertex(i)\n",
    "for v1, v2 in AB:\n",
    "    graph.add_edge(v1, v2)\n",
    "\n",
    "visited = [False] * (N+1)\n",
    "\n",
    "max_group_size = 1\n",
    "for i in range(1, N+1):\n",
    "    if visited[i] == False:\n",
    "        group_size = bfs(i)\n",
    "        max_group_size = max(max_group_size, group_size)\n",
    "    \n",
    "print(max_group_size)"
   ]
  },
  {
   "cell_type": "code",
   "execution_count": null,
   "metadata": {},
   "outputs": [],
   "source": []
  }
 ],
 "metadata": {
  "kernelspec": {
   "display_name": "Python 3",
   "language": "python",
   "name": "python3"
  },
  "language_info": {
   "codemirror_mode": {
    "name": "ipython",
    "version": 3
   },
   "file_extension": ".py",
   "mimetype": "text/x-python",
   "name": "python",
   "nbconvert_exporter": "python",
   "pygments_lexer": "ipython3",
   "version": "3.8.1"
  }
 },
 "nbformat": 4,
 "nbformat_minor": 4
}
