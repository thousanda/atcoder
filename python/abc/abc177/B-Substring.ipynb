{
 "cells": [
  {
   "cell_type": "markdown",
   "metadata": {},
   "source": [
    "## debug"
   ]
  },
  {
   "cell_type": "code",
   "execution_count": 11,
   "metadata": {},
   "outputs": [
    {
     "name": "stdin",
     "output_type": "stream",
     "text": [
      " codeforces\n",
      " atcoder\n"
     ]
    },
    {
     "name": "stdout",
     "output_type": "stream",
     "text": [
      "codefor\n",
      "6\n",
      "odeforc\n",
      "7\n",
      "deforce\n",
      "6\n",
      "eforces\n",
      "6\n",
      "6\n"
     ]
    }
   ],
   "source": [
    "S = input()\n",
    "T = input()\n",
    "\n",
    "len_diff = len(S) - len(T)\n",
    "\n",
    "min_diff = len(S)\n",
    "\n",
    "for i in range(len_diff + 1):\n",
    "    s = S[i:i+len(T)]\n",
    "    print(s)\n",
    "    diff = 0\n",
    "    for j in range(len(T)):\n",
    "        if s[j] != T[j]:\n",
    "            diff += 1\n",
    "    print(diff)\n",
    "    min_diff = min(min_diff, diff)\n",
    "    \n",
    "print(min_diff)"
   ]
  },
  {
   "cell_type": "markdown",
   "metadata": {},
   "source": [
    "## submit"
   ]
  },
  {
   "cell_type": "code",
   "execution_count": 12,
   "metadata": {},
   "outputs": [
    {
     "name": "stdin",
     "output_type": "stream",
     "text": [
      " codeforces\n",
      " atcoder\n"
     ]
    },
    {
     "name": "stdout",
     "output_type": "stream",
     "text": [
      "6\n"
     ]
    }
   ],
   "source": [
    "S = input()\n",
    "T = input()\n",
    "\n",
    "len_diff = len(S) - len(T)\n",
    "\n",
    "min_diff = len(S)\n",
    "\n",
    "for i in range(len_diff + 1):\n",
    "    s = S[i:i+len(T)]\n",
    "    diff = 0\n",
    "    for j in range(len(T)):\n",
    "        if s[j] != T[j]:\n",
    "            diff += 1\n",
    "    min_diff = min(min_diff, diff)\n",
    "    \n",
    "print(min_diff)"
   ]
  }
 ],
 "metadata": {
  "kernelspec": {
   "display_name": "Python 3",
   "language": "python",
   "name": "python3"
  },
  "language_info": {
   "codemirror_mode": {
    "name": "ipython",
    "version": 3
   },
   "file_extension": ".py",
   "mimetype": "text/x-python",
   "name": "python",
   "nbconvert_exporter": "python",
   "pygments_lexer": "ipython3",
   "version": "3.8.1"
  }
 },
 "nbformat": 4,
 "nbformat_minor": 4
}
