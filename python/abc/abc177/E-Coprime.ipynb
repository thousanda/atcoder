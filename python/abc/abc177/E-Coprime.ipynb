{
 "cells": [
  {
   "cell_type": "code",
   "execution_count": 1,
   "metadata": {},
   "outputs": [
    {
     "data": {
      "application/vnd.jupyter.widget-view+json": {
       "model_id": "5a704b0c120c4f8f927942e27f98772b",
       "version_major": 2,
       "version_minor": 0
      },
      "text/plain": [
       "Textarea(value='')"
      ]
     },
     "metadata": {},
     "output_type": "display_data"
    }
   ],
   "source": [
    "from ipywidgets import Textarea\n",
    "\n",
    "def get_input(change):\n",
    "    global Input\n",
    "    Input=change[\"new\"].splitlines()\n",
    "textarea = Textarea()\n",
    "textarea.observe(get_input, names='value')\n",
    "display(textarea)"
   ]
  },
  {
   "cell_type": "markdown",
   "metadata": {},
   "source": [
    "こんなの思いつかない\n",
    "https://atcoder.jp/contests/abc177/submissions/16370100"
   ]
  },
  {
   "cell_type": "markdown",
   "metadata": {},
   "source": [
    "# はじめにエラトステネスの篩で素数を列挙 => 同じ素数で割れる要素が複数あったらpairwise coprimeではない\n",
    "# setwise coprimeとnot coprimeの切り分けは、全要素のGCDが1か否かで判断"
   ]
  },
  {
   "cell_type": "markdown",
   "metadata": {},
   "source": [
    "これで解けると思ったけど半分くらいTLE。あと、ひとつREのやつもある"
   ]
  },
  {
   "cell_type": "markdown",
   "metadata": {},
   "source": [
    "## debug"
   ]
  },
  {
   "cell_type": "code",
   "execution_count": 30,
   "metadata": {},
   "outputs": [
    {
     "name": "stdout",
     "output_type": "stream",
     "text": [
      "pairwise coprime\n"
     ]
    },
    {
     "ename": "SystemExit",
     "evalue": "",
     "output_type": "error",
     "traceback": [
      "An exception has occurred, use %tb to see the full traceback.\n",
      "\u001b[0;31mSystemExit\u001b[0m\n"
     ]
    },
    {
     "name": "stderr",
     "output_type": "stream",
     "text": [
      "/Users/kokisenda/work/for_python/venvs/python3.8.1/lib/python3.8/site-packages/IPython/core/interactiveshell.py:3339: UserWarning: To exit: use 'exit', 'quit', or Ctrl-D.\n",
      "  warn(\"To exit: use 'exit', 'quit', or Ctrl-D.\", stacklevel=1)\n"
     ]
    }
   ],
   "source": [
    "from math import gcd\n",
    "import sys\n",
    "\n",
    "def sieve(N):\n",
    "    # 昇順リストの用意\n",
    "    A_list = [i for i in range(2, N+1)]\n",
    "    limit = A_list[-1]\n",
    "\n",
    "    # ふるいにかけられたかどうかを示すbooleanの辞書\n",
    "    sieve = {i: True for i in A_list}\n",
    "\n",
    "    # 順にふるいにかける\n",
    "    for a in A_list:\n",
    "        if not sieve[a]:\n",
    "            continue\n",
    "        for i in range(2*a, limit+1, a):  # 2a, 3a, 4a, ..., と調べる\n",
    "            if i in sieve:\n",
    "                sieve[i] = False\n",
    "\n",
    "    # 結果をまとめる\n",
    "    primes = []\n",
    "    for a in A_list:\n",
    "        if sieve[a]:\n",
    "            primes.append(a)\n",
    "    return primes\n",
    "\n",
    "\n",
    "N = int(Input[0])\n",
    "A = list(map(int, Input[1].split()))\n",
    "\n",
    "\n",
    "# 素数列挙\n",
    "primes = sieve(max(A))\n",
    "\n",
    "# 順番に素数で割っていって、同じ素数で割れるものが見つかったらpairsiwe coprimeではない\n",
    "for p in primes:\n",
    "    divided_times = 0\n",
    "    for a in A:\n",
    "        if a % p == 0:\n",
    "            divided_times += 1\n",
    "    if divided_times >= 2:\n",
    "        break\n",
    "else:\n",
    "    print('pairwise coprime')\n",
    "    sys.exit()\n",
    "\n",
    "# pairwise coprimeではない場合、以下の処理に進む\n",
    "# globalなGCDを求めて、1ならsetwise coprime\n",
    "global_gcd = gcd(A[0], A[1])\n",
    "for a in A[2:]:\n",
    "    global_gcd = gcd(global_gcd, a)\n",
    "    \n",
    "if global_gcd == 1:\n",
    "    print('setwise coprime')\n",
    "else:\n",
    "    print('not coprime')"
   ]
  },
  {
   "cell_type": "markdown",
   "metadata": {},
   "source": [
    "## submit"
   ]
  },
  {
   "cell_type": "code",
   "execution_count": 28,
   "metadata": {},
   "outputs": [
    {
     "name": "stdin",
     "output_type": "stream",
     "text": [
      " 3\n",
      " 6 10 16\n"
     ]
    },
    {
     "name": "stdout",
     "output_type": "stream",
     "text": [
      "not coprime\n"
     ]
    }
   ],
   "source": [
    "from math import gcd\n",
    "import sys\n",
    "\n",
    "def sieve(N):\n",
    "    # 昇順リストの用意\n",
    "    A_list = [i for i in range(2, N+1)]\n",
    "    limit = A_list[-1]\n",
    "\n",
    "    # ふるいにかけられたかどうかを示すbooleanの辞書\n",
    "    sieve = {i: True for i in A_list}\n",
    "\n",
    "    # 順にふるいにかける\n",
    "    for a in A_list:\n",
    "        if not sieve[a]:\n",
    "            continue\n",
    "        for i in range(2*a, limit+1, a):  # 2a, 3a, 4a, ..., と調べる\n",
    "            if i in sieve:\n",
    "                sieve[i] = False\n",
    "\n",
    "    # 結果をまとめる\n",
    "    primes = []\n",
    "    for a in A_list:\n",
    "        if sieve[a]:\n",
    "            primes.append(a)\n",
    "    return primes\n",
    "\n",
    "\n",
    "N = int(input())\n",
    "A = list(map(int, input().split()))\n",
    "\n",
    "\n",
    "# 素数列挙\n",
    "primes = sieve(max(A))\n",
    "\n",
    "# 順番に素数で割っていって、同じ素数で割れるものが見つかったらpairsiwe coprimeではない\n",
    "for p in primes:\n",
    "    divided_times = 0\n",
    "    for a in A:\n",
    "        if a % p == 0:\n",
    "            divided_times += 1\n",
    "    if divided_times >= 2:\n",
    "        break\n",
    "else:\n",
    "    print('pairwise coprime')\n",
    "    sys.exit()\n",
    "\n",
    "# pairwise coprimeではない場合、以下の処理に進む\n",
    "# globalなGCDを求めて、1ならsetwise coprime\n",
    "global_gcd = gcd(A[0], A[1])\n",
    "for a in A[2:]:\n",
    "    global_gcd = gcd(global_gcd, a)\n",
    "    \n",
    "if global_gcd == 1:\n",
    "    print('setwise coprime')\n",
    "else:\n",
    "    print('not coprime')"
   ]
  },
  {
   "cell_type": "code",
   "execution_count": null,
   "metadata": {},
   "outputs": [],
   "source": []
  },
  {
   "cell_type": "markdown",
   "metadata": {},
   "source": [
    "# コンテスト中に書いたもの\n",
    "半分くらいAC、一部WA、残りTLE"
   ]
  },
  {
   "cell_type": "markdown",
   "metadata": {},
   "source": [
    "## debug"
   ]
  },
  {
   "cell_type": "code",
   "execution_count": 15,
   "metadata": {},
   "outputs": [
    {
     "name": "stdout",
     "output_type": "stream",
     "text": [
      "pairwise corprime\n"
     ]
    }
   ],
   "source": [
    "from math import gcd\n",
    "import sys\n",
    "\n",
    "def sieve(N):\n",
    "    # 昇順リストの用意\n",
    "    A_list = [i for i in range(2, N+1)]\n",
    "    limit = A_list[-1]\n",
    "\n",
    "    # ふるいにかけられたかどうかを示すbooleanの辞書\n",
    "    sieve = {i: True for i in A_list}\n",
    "\n",
    "    # 順にふるいにかける\n",
    "    for a in A_list:\n",
    "        if not sieve[a]:\n",
    "            continue\n",
    "        for i in range(2*a, limit+1, a):  # 2a, 3a, 4a, ..., と調べる\n",
    "            if i in sieve:\n",
    "                sieve[i] = False\n",
    "\n",
    "    # 結果をまとめる\n",
    "    primes = []\n",
    "    for a in A_list:\n",
    "        if sieve[a]:\n",
    "            primes.append(a)\n",
    "    return primes\n",
    "\n",
    "\n",
    "N = int(Input[0])\n",
    "A = list(map(int, Input[1].split()))\n",
    "\n",
    "\n",
    "sorted_A = sorted(A)\n",
    "\n",
    "is_pairwise = True  #同じ数が含まれるかどうか\n",
    "global_gcd = A[0]\n",
    "for i in range(1, N):\n",
    "    if A[i-1] == A[i]:\n",
    "        is_pairwise = False\n",
    "    global_gcd = gcd(global_gcd, A[i])\n",
    "    \n",
    "if global_gcd > 1:\n",
    "    print('not coprime')\n",
    "    sys.exit()\n",
    "elif not is_pairwise:\n",
    "    print('setwise coprime')\n",
    "    sys.exit()\n",
    "else:\n",
    "    # 素数列挙\n",
    "    primes = sieve(A[-1])\n",
    "    \n",
    "    for p in primes:\n",
    "        divided_once = False\n",
    "        for a in sorted_A:\n",
    "            if a % p == 0:\n",
    "                if divided_once:\n",
    "                    print('setwise coprime')\n",
    "                    sys.exit()\n",
    "                divided_once = True\n",
    "    print('pairwise coprime')"
   ]
  },
  {
   "cell_type": "markdown",
   "metadata": {},
   "source": [
    "## submit"
   ]
  },
  {
   "cell_type": "code",
   "execution_count": 20,
   "metadata": {},
   "outputs": [
    {
     "name": "stdin",
     "output_type": "stream",
     "text": [
      " 3\n",
      " 6 10 16\n"
     ]
    },
    {
     "name": "stdout",
     "output_type": "stream",
     "text": [
      "not coprime\n"
     ]
    },
    {
     "ename": "SystemExit",
     "evalue": "",
     "output_type": "error",
     "traceback": [
      "An exception has occurred, use %tb to see the full traceback.\n",
      "\u001b[0;31mSystemExit\u001b[0m\n"
     ]
    }
   ],
   "source": [
    "from math import gcd\n",
    "import sys\n",
    "\n",
    "def sieve(N):\n",
    "    # 昇順リストの用意\n",
    "    A_list = [i for i in range(2, N+1)]\n",
    "    limit = A_list[-1]\n",
    "\n",
    "    # ふるいにかけられたかどうかを示すbooleanの辞書\n",
    "    sieve = {i: True for i in A_list}\n",
    "\n",
    "    # 順にふるいにかける\n",
    "    for a in A_list:\n",
    "        if not sieve[a]:\n",
    "            continue\n",
    "        for i in range(2*a, limit+1, a):  # 2a, 3a, 4a, ..., と調べる\n",
    "            if i in sieve:\n",
    "                sieve[i] = False\n",
    "\n",
    "    # 結果をまとめる\n",
    "    primes = []\n",
    "    for a in A_list:\n",
    "        if sieve[a]:\n",
    "            primes.append(a)\n",
    "    return primes\n",
    "\n",
    "\n",
    "N = int(input())\n",
    "A = list(map(int, input().split()))\n",
    "\n",
    "\n",
    "sorted_A = sorted(A)\n",
    "\n",
    "is_pairwise = True  #同じ数が含まれるかどうか\n",
    "global_gcd = A[0]\n",
    "for i in range(1, N):\n",
    "    if A[i-1] == A[i]:\n",
    "        is_pairwise = False\n",
    "    global_gcd = gcd(global_gcd, A[i])\n",
    "    \n",
    "if global_gcd > 1:\n",
    "    print('not coprime')\n",
    "    sys.exit()\n",
    "elif not is_pairwise:\n",
    "    print('setwise coprime')\n",
    "    sys.exit()\n",
    "else:\n",
    "    if A[-1] < 4:\n",
    "        print('pairwise coprime')\n",
    "        sys.exit()\n",
    "    # 素数列挙\n",
    "    primes = sieve(A[-1])\n",
    "    \n",
    "    for p in primes:\n",
    "        divided_once = False\n",
    "        for a in sorted_A:\n",
    "            if a % p == 0:\n",
    "                if divided_once:\n",
    "                    print('setwise coprime')\n",
    "                    sys.exit()\n",
    "                divided_once = True\n",
    "    print('pairwise coprime')"
   ]
  },
  {
   "cell_type": "code",
   "execution_count": null,
   "metadata": {},
   "outputs": [],
   "source": []
  }
 ],
 "metadata": {
  "kernelspec": {
   "display_name": "Python 3",
   "language": "python",
   "name": "python3"
  },
  "language_info": {
   "codemirror_mode": {
    "name": "ipython",
    "version": 3
   },
   "file_extension": ".py",
   "mimetype": "text/x-python",
   "name": "python",
   "nbconvert_exporter": "python",
   "pygments_lexer": "ipython3",
   "version": "3.8.1"
  }
 },
 "nbformat": 4,
 "nbformat_minor": 4
}
