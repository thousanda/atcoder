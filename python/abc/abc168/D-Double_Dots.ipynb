{
 "cells": [
  {
   "cell_type": "code",
   "execution_count": 1,
   "metadata": {},
   "outputs": [
    {
     "data": {
      "application/vnd.jupyter.widget-view+json": {
       "model_id": "5d9b25c2573c4c5997ff25183ed4d250",
       "version_major": 2,
       "version_minor": 0
      },
      "text/plain": [
       "Textarea(value='')"
      ]
     },
     "metadata": {},
     "output_type": "display_data"
    }
   ],
   "source": [
    "from ipywidgets import Textarea\n",
    "\n",
    "def get_input(change):\n",
    "    global Input\n",
    "    Input=change[\"new\"].splitlines()\n",
    "\n",
    "textarea = Textarea()\n",
    "textarea.observe(get_input, names='value')\n",
    "display(textarea)"
   ]
  },
  {
   "cell_type": "code",
   "execution_count": 22,
   "metadata": {},
   "outputs": [],
   "source": [
    "N, M = map(int, Input[0].split())\n",
    "AB = [list(map(int, i.split())) for i in Input[1:]]"
   ]
  },
  {
   "cell_type": "markdown",
   "metadata": {},
   "source": [
    "## debug"
   ]
  },
  {
   "cell_type": "code",
   "execution_count": 15,
   "metadata": {},
   "outputs": [],
   "source": [
    "class Cave():\n",
    "    def __init__(self):\n",
    "        self.graph = {}\n",
    "    def add_room(self, r):\n",
    "        self.graph[r] = []\n",
    "    def add_passage(self, r1, r2):\n",
    "        self.graph[r1].append(r2)\n",
    "        self.graph[r2].append(r1)\n",
    "    def next_rooms(self, r):\n",
    "        return self.graph[r]\n",
    "    def __str__(self):\n",
    "        return self.graph.__str__()"
   ]
  },
  {
   "cell_type": "code",
   "execution_count": 40,
   "metadata": {},
   "outputs": [
    {
     "name": "stdout",
     "output_type": "stream",
     "text": [
      "1\n",
      "next romms: [6, 5]\n",
      "6\n",
      "5\n",
      "next romms: [1, 4, 2, 5]\n",
      "4\n",
      "2\n",
      "next romms: [3, 1, 4, 6]\n",
      "3\n",
      "next romms: [3, 2, 6, 5]\n",
      "next romms: [4, 6]\n",
      "next romms: [4, 5]\n",
      "[2, 3, 4, 5, 6]\n",
      "[6, 5, 6, 1, 1]\n"
     ]
    }
   ],
   "source": [
    "from collections import deque\n",
    "\n",
    "cave = Cave()\n",
    "for i in range(1, N+1):\n",
    "    cave.add_room(i)\n",
    "for r1, r2 in AB:\n",
    "    cave.add_passage(r1, r2)\n",
    "\n",
    "visited = [0]*(N+1)\n",
    "    \n",
    "q = deque()\n",
    "q.append(1)\n",
    "visited[1] = -1\n",
    "print(1)\n",
    "\n",
    "while q:\n",
    "    r_now = q.popleft()\n",
    "    print(f'next romms: {cave.next_rooms(r_now)}')\n",
    "    for r_next in cave.next_rooms(r_now):\n",
    "        if visited[r_next] == 0:\n",
    "            print(r_next)\n",
    "            visited[r_next] = r_now\n",
    "            q.append(r_next)\n",
    "print([i+2 for i in range(N-1)])\n",
    "print(visited[2:])"
   ]
  },
  {
   "cell_type": "markdown",
   "metadata": {},
   "source": [
    "## submit"
   ]
  },
  {
   "cell_type": "code",
   "execution_count": 42,
   "metadata": {},
   "outputs": [
    {
     "name": "stdin",
     "output_type": "stream",
     "text": [
      " 4 4\n",
      " 1 2\n",
      " 2 3\n",
      " 3 4\n",
      " 4 2\n"
     ]
    },
    {
     "name": "stdout",
     "output_type": "stream",
     "text": [
      "1\n",
      "Yes\n",
      "1\n",
      "2\n",
      "2\n"
     ]
    }
   ],
   "source": [
    "from collections import deque\n",
    "\n",
    "class Cave():\n",
    "    def __init__(self):\n",
    "        self.graph = {}\n",
    "    def add_room(self, r):\n",
    "        self.graph[r] = []\n",
    "    def add_passage(self, r1, r2):\n",
    "        self.graph[r1].append(r2)\n",
    "        self.graph[r2].append(r1)\n",
    "    def next_rooms(self, r):\n",
    "        return self.graph[r]\n",
    "    def __str__(self):\n",
    "        return self.graph.__str__()\n",
    "\n",
    "def main():\n",
    "    N, M = map(int, input().split())\n",
    "    AB = [list(map(int, input().split())) for _ in range(M)]\n",
    "\n",
    "    cave = Cave()\n",
    "    for i in range(1, N+1):\n",
    "        cave.add_room(i)\n",
    "    for r1, r2 in AB:\n",
    "        cave.add_passage(r1, r2)\n",
    "\n",
    "    q = deque()\n",
    "    q.append(1)\n",
    "    visited = [0]*(N+1)\n",
    "    visited[1] = -1\n",
    "\n",
    "    while q:\n",
    "        r_now = q.popleft()\n",
    "        for r_next in cave.next_rooms(r_now):\n",
    "            if visited[r_next] == 0:\n",
    "                visited[r_next] = r_now\n",
    "                q.append(r_next)\n",
    "\n",
    "    print('Yes')\n",
    "    for i in visited[2:]:\n",
    "        print(i)\n",
    "main()"
   ]
  },
  {
   "cell_type": "code",
   "execution_count": null,
   "metadata": {},
   "outputs": [],
   "source": []
  }
 ],
 "metadata": {
  "kernelspec": {
   "display_name": "Python 3",
   "language": "python",
   "name": "python3"
  },
  "language_info": {
   "codemirror_mode": {
    "name": "ipython",
    "version": 3
   },
   "file_extension": ".py",
   "mimetype": "text/x-python",
   "name": "python",
   "nbconvert_exporter": "python",
   "pygments_lexer": "ipython3",
   "version": "3.8.1"
  }
 },
 "nbformat": 4,
 "nbformat_minor": 4
}
