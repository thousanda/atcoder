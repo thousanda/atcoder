{
 "cells": [
  {
   "cell_type": "code",
   "execution_count": 1,
   "metadata": {},
   "outputs": [
    {
     "data": {
      "application/vnd.jupyter.widget-view+json": {
       "model_id": "6dacd6636f6f469f94dfff496831f7a3",
       "version_major": 2,
       "version_minor": 0
      },
      "text/plain": [
       "Textarea(value='')"
      ]
     },
     "metadata": {},
     "output_type": "display_data"
    }
   ],
   "source": [
    "from ipywidgets import Textarea\n",
    "\n",
    "def get_input(change):\n",
    "    global Input\n",
    "    Input=change[\"new\"]\n",
    "\n",
    "textarea = Textarea()\n",
    "textarea.observe(get_input, names='value')\n",
    "display(textarea)"
   ]
  },
  {
   "cell_type": "code",
   "execution_count": 19,
   "metadata": {},
   "outputs": [],
   "source": [
    "A, B, H, M = map(int, Input.split())"
   ]
  },
  {
   "cell_type": "markdown",
   "metadata": {},
   "source": [
    "## debug"
   ]
  },
  {
   "cell_type": "code",
   "execution_count": 20,
   "metadata": {},
   "outputs": [
    {
     "name": "stdout",
     "output_type": "stream",
     "text": [
      "320.0 240\n",
      "9 16 0.17364817766693041\n",
      "4.564257194330056\n"
     ]
    }
   ],
   "source": [
    "from math import radians, cos\n",
    "angle_h = (H + M/60) * 30\n",
    "angle_m = M * 6\n",
    "\n",
    "print(angle_h, angle_m)\n",
    "\n",
    "theta = min(abs(angle_h-angle_m), 360 - abs(angle_h-angle_m))\n",
    "# 余弦定理\n",
    "r2 = A**2 + B**2 - 2*A*B*cos(radians(theta))\n",
    "print(A**2, B**2, cos(radians(theta)))\n",
    "print(r2**(1/2))"
   ]
  },
  {
   "cell_type": "markdown",
   "metadata": {},
   "source": [
    "## submit"
   ]
  },
  {
   "cell_type": "code",
   "execution_count": 18,
   "metadata": {},
   "outputs": [
    {
     "name": "stdin",
     "output_type": "stream",
     "text": [
      " 3 4 10 40\n"
     ]
    },
    {
     "name": "stdout",
     "output_type": "stream",
     "text": [
      "4.564257194330056\n"
     ]
    }
   ],
   "source": [
    "from math import radians, cos\n",
    "\n",
    "A, B, H, M = map(int, input().split())\n",
    "\n",
    "angle_h = (H + M/60) * 30\n",
    "angle_m = M * 6\n",
    "theta = min(abs(angle_h-angle_m), 360 - abs(angle_h-angle_m))\n",
    "r2 = A**2 + B**2 - 2*A*B*cos(radians(theta))\n",
    "print(r2**(1/2))"
   ]
  },
  {
   "cell_type": "code",
   "execution_count": null,
   "metadata": {},
   "outputs": [],
   "source": []
  }
 ],
 "metadata": {
  "kernelspec": {
   "display_name": "Python 3",
   "language": "python",
   "name": "python3"
  },
  "language_info": {
   "codemirror_mode": {
    "name": "ipython",
    "version": 3
   },
   "file_extension": ".py",
   "mimetype": "text/x-python",
   "name": "python",
   "nbconvert_exporter": "python",
   "pygments_lexer": "ipython3",
   "version": "3.8.1"
  }
 },
 "nbformat": 4,
 "nbformat_minor": 4
}
