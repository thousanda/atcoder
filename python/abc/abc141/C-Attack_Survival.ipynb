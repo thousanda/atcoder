{
 "cells": [
  {
   "cell_type": "code",
   "execution_count": 1,
   "metadata": {},
   "outputs": [
    {
     "data": {
      "application/vnd.jupyter.widget-view+json": {
       "model_id": "81093e0b003a4291a50a4ff4d7b9263a",
       "version_major": 2,
       "version_minor": 0
      },
      "text/plain": [
       "Textarea(value='')"
      ]
     },
     "metadata": {},
     "output_type": "display_data"
    }
   ],
   "source": [
    "from ipywidgets import Textarea\n",
    "\n",
    "def get_input(change):\n",
    "    global Input\n",
    "    Input=change[\"new\"].splitlines()\n",
    "textarea = Textarea()\n",
    "textarea.observe(get_input, names='value')\n",
    "display(textarea)"
   ]
  },
  {
   "cell_type": "code",
   "execution_count": 10,
   "metadata": {},
   "outputs": [],
   "source": [
    "N, K, Q = map(int, Input[0].split())\n",
    "A = [int(i) for i in Input[1:]]"
   ]
  },
  {
   "cell_type": "markdown",
   "metadata": {},
   "source": [
    "## debug"
   ]
  },
  {
   "cell_type": "code",
   "execution_count": 12,
   "metadata": {},
   "outputs": [
    {
     "name": "stdout",
     "output_type": "stream",
     "text": [
      "A=[3, 1, 4, 1, 5, 9, 2, 6, 5, 3, 5, 8, 9, 7, 9]\n",
      "A_dict={3: 2, 1: 2, 4: 1, 5: 3, 9: 3, 2: 1, 6: 1, 8: 1, 7: 1}\n",
      "    win=2, score=-3\n",
      "No\n",
      "    win=1, score=-4\n",
      "No\n",
      "    win=2, score=-3\n",
      "No\n",
      "    win=1, score=-4\n",
      "No\n",
      "    win=3, score=-2\n",
      "Yes\n",
      "    win=1, score=-4\n",
      "No\n",
      "    win=1, score=-4\n",
      "No\n",
      "    win=1, score=-4\n",
      "No\n",
      "    win=3, score=-2\n",
      "Yes\n",
      "    win=0, score=-5\n",
      "No\n"
     ]
    }
   ],
   "source": [
    "print(f'{A=}')\n",
    "A_dict = {}\n",
    "for a in A:\n",
    "    if a in A_dict:\n",
    "        A_dict[a] += 1\n",
    "    else:\n",
    "        A_dict[a] = 1\n",
    "print(f'{A_dict=}')\n",
    "\n",
    "for i in range(1, N+1):\n",
    "    win = A_dict[i] if i in A_dict else 0\n",
    "    print(f'    {win=}, score={N-Q+win}')\n",
    "    if K - Q + win > 0:\n",
    "        print('Yes')\n",
    "    else:\n",
    "        print('No')"
   ]
  },
  {
   "cell_type": "markdown",
   "metadata": {},
   "source": [
    "## submit"
   ]
  },
  {
   "cell_type": "code",
   "execution_count": 20,
   "metadata": {},
   "outputs": [
    {
     "name": "stdin",
     "output_type": "stream",
     "text": [
      " 6 3 4\n",
      " 3\n",
      " 1\n",
      " 3\n",
      " 2\n"
     ]
    },
    {
     "name": "stdout",
     "output_type": "stream",
     "text": [
      "No\n",
      "No\n",
      "Yes\n",
      "No\n",
      "No\n",
      "No\n"
     ]
    }
   ],
   "source": [
    "def main():\n",
    "    N, K, Q = map(int, input().split())\n",
    "    A = [int(input()) for _ in range(Q)]\n",
    "    \n",
    "    A_dict = {}\n",
    "    for a in A:\n",
    "        if a in A_dict:\n",
    "            A_dict[a] += 1\n",
    "        else:\n",
    "            A_dict[a] = 1\n",
    "    \n",
    "    for i in range(1, N+1):\n",
    "        win = A_dict[i] if i in A_dict else 0\n",
    "        if K - Q + win > 0:\n",
    "            print('Yes')\n",
    "        else:\n",
    "            print('No')\n",
    "main()"
   ]
  }
 ],
 "metadata": {
  "kernelspec": {
   "display_name": "Python 3",
   "language": "python",
   "name": "python3"
  },
  "language_info": {
   "codemirror_mode": {
    "name": "ipython",
    "version": 3
   },
   "file_extension": ".py",
   "mimetype": "text/x-python",
   "name": "python",
   "nbconvert_exporter": "python",
   "pygments_lexer": "ipython3",
   "version": "3.8.1"
  }
 },
 "nbformat": 4,
 "nbformat_minor": 4
}
