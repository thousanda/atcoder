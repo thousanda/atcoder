{
 "cells": [
  {
   "cell_type": "code",
   "execution_count": 1,
   "metadata": {},
   "outputs": [
    {
     "data": {
      "application/vnd.jupyter.widget-view+json": {
       "model_id": "687bab1032e34affb4b3b5eb8e3be17a",
       "version_major": 2,
       "version_minor": 0
      },
      "text/plain": [
       "Textarea(value='')"
      ]
     },
     "metadata": {},
     "output_type": "display_data"
    }
   ],
   "source": [
    "from ipywidgets import Textarea\n",
    "\n",
    "def get_input(change):\n",
    "    global Input\n",
    "    Input=change[\"new\"].splitlines()\n",
    "textarea = Textarea()\n",
    "textarea.observe(get_input, names='value')\n",
    "display(textarea)"
   ]
  },
  {
   "cell_type": "markdown",
   "metadata": {},
   "source": [
    "## 最大値を2で割ることをM回繰り返すだけ\n",
    "## priority queueを使うと最大値の取り出しが速い"
   ]
  },
  {
   "cell_type": "markdown",
   "metadata": {},
   "source": [
    "## debug"
   ]
  },
  {
   "cell_type": "code",
   "execution_count": 8,
   "metadata": {},
   "outputs": [
    {
     "name": "stdout",
     "output_type": "stream",
     "text": [
      "[13, 2, 8]\n",
      "max_value=13 => 6\n",
      "[8, 2, 6]\n",
      "max_value=8 => 4\n",
      "[6, 2, 4]\n",
      "max_value=6 => 3\n",
      "[4, 2, 3]\n",
      "9\n"
     ]
    }
   ],
   "source": [
    "from heapq import heappush as hpush\n",
    "from heapq import heappop as hpop\n",
    "\n",
    "N, M = map(int, Input[0].split())\n",
    "A = list(map(int, Input[1].split()))\n",
    "\n",
    "class Descending_HeapQueue:\n",
    "    def __init__(self, hq=[]):\n",
    "        self.hq = []\n",
    "        for i in hq:\n",
    "            self.push(i)\n",
    "    def push(self, n):\n",
    "        hpush(self.hq, -n)\n",
    "    def pop(self):\n",
    "        return -hpop(self.hq)\n",
    "    def sum(self):\n",
    "        return -sum(self.hq)\n",
    "    def __str__(self):\n",
    "        return [-i for i in self.hq].__str__()\n",
    "\n",
    "dhq = Descending_HeapQueue(A)\n",
    "print(dhq)\n",
    "\n",
    "for _ in range(M):\n",
    "    max_value = dhq.pop()\n",
    "    print(f'{max_value=} => {max_value//2}')\n",
    "    dhq.push(max_value//2)\n",
    "    print(dhq)\n",
    "    \n",
    "print(dhq.sum())"
   ]
  },
  {
   "cell_type": "markdown",
   "metadata": {},
   "source": [
    "## submit"
   ]
  },
  {
   "cell_type": "code",
   "execution_count": 11,
   "metadata": {},
   "outputs": [
    {
     "name": "stdin",
     "output_type": "stream",
     "text": [
      " 10 1\n",
      " 1000000000 1000000000 1000000000 1000000000 1000000000 1000000000 1000000000 1000000000 1000000000 1000000000\n"
     ]
    },
    {
     "name": "stdout",
     "output_type": "stream",
     "text": [
      "9500000000\n"
     ]
    }
   ],
   "source": [
    "from heapq import heappush as hpush\n",
    "from heapq import heappop as hpop\n",
    "\n",
    "class Descending_HeapQueue:\n",
    "    def __init__(self, hq=[]):\n",
    "        self.hq = []\n",
    "        for i in hq:\n",
    "            self.push(i)\n",
    "    def push(self, n):\n",
    "        hpush(self.hq, -n)\n",
    "    def pop(self):\n",
    "        return -hpop(self.hq)\n",
    "    def sum(self):\n",
    "        return -sum(self.hq)\n",
    "    def __str__(self):\n",
    "        return [-i for i in self.hq].__str__()\n",
    "\n",
    "def main():\n",
    "    N, M = map(int, input().split())\n",
    "    A = list(map(int, input().split()))\n",
    "    dhq = Descending_HeapQueue(A)\n",
    "    for _ in range(M):\n",
    "        dhq.push(dhq.pop() // 2)\n",
    "    print(dhq.sum())\n",
    "main()"
   ]
  }
 ],
 "metadata": {
  "kernelspec": {
   "display_name": "Python 3",
   "language": "python",
   "name": "python3"
  },
  "language_info": {
   "codemirror_mode": {
    "name": "ipython",
    "version": 3
   },
   "file_extension": ".py",
   "mimetype": "text/x-python",
   "name": "python",
   "nbconvert_exporter": "python",
   "pygments_lexer": "ipython3",
   "version": "3.8.1"
  }
 },
 "nbformat": 4,
 "nbformat_minor": 4
}
