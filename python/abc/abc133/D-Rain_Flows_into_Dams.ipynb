{
 "cells": [
  {
   "cell_type": "code",
   "execution_count": 1,
   "metadata": {},
   "outputs": [
    {
     "data": {
      "application/vnd.jupyter.widget-view+json": {
       "model_id": "5a444e70b67a4c90a12a771aebeb37b8",
       "version_major": 2,
       "version_minor": 0
      },
      "text/plain": [
       "Textarea(value='')"
      ]
     },
     "metadata": {},
     "output_type": "display_data"
    }
   ],
   "source": [
    "from ipywidgets import Textarea\n",
    "\n",
    "def get_input(change):\n",
    "    global Input\n",
    "    Input=change[\"new\"].splitlines()\n",
    "textarea = Textarea()\n",
    "textarea.observe(get_input, names='value')\n",
    "display(textarea)"
   ]
  },
  {
   "cell_type": "code",
   "execution_count": 2,
   "metadata": {},
   "outputs": [],
   "source": [
    "N = int(Input[0])\n",
    "A = list(map(int, Input[1].split()))"
   ]
  },
  {
   "cell_type": "markdown",
   "metadata": {},
   "source": [
    "# 三角形の内心みたいな感じで解く\n",
    "ダムの制約が，内接円との接点と頂点の距離が等しくなることに相当する．  \n",
    "$A_i$ は各辺の長さに相当する．  \n",
    "ここでは、山 $i$ に $R_i$ の雨が降ったとする．\n",
    "### step 1\n",
    "$R_1 = 2x$ のとして，\n",
    "$A_i (i = 1, 2, 3)$ が与えられたとき，この条件で解くと，  \n",
    "$x = A_3 - \\{A_2 - (A_1 - x)\\}$  \n",
    "$x = A_3 - A_2 + A_1 - x$  \n",
    "$2x = A_3 - A_2 + A_1$  \n",
    "この式でまずxを求める．\n",
    "### step 2\n",
    "$R_i (i >= 2)$ は  \n",
    "$R_2 = (A_1 - x) * 2$  \n",
    "$R_3 = (A_2 - R_2 / 2)$  \n",
    "と繰り返し計算していくことで求まる．  \n",
    "  \n",
    "高校数学感あって楽しかった"
   ]
  },
  {
   "cell_type": "markdown",
   "metadata": {},
   "source": [
    "## debug"
   ]
  },
  {
   "cell_type": "code",
   "execution_count": 16,
   "metadata": {},
   "outputs": [
    {
     "name": "stdout",
     "output_type": "stream",
     "text": [
      "A[i]=2, twox=2\n",
      "A[i]=2, twox=0\n",
      "A[i]=4, twox=4\n",
      "4 0 4\n"
     ]
    }
   ],
   "source": [
    "R = [None]*N\n",
    "\n",
    "twox = 0\n",
    "for i in range(N):\n",
    "    twox += A[i] * (-1)**i  # index starts with 0\n",
    "    print(f'{A[i]=}, {twox=}')\n",
    "\n",
    "R[0] = int(twox)\n",
    "for i in range(1, N):\n",
    "    R[i] = int((A[i-1] - R[i-1]/2)*2)\n",
    "\n",
    "print(' '.join(map(str, R)))"
   ]
  },
  {
   "cell_type": "code",
   "execution_count": null,
   "metadata": {},
   "outputs": [],
   "source": []
  },
  {
   "cell_type": "markdown",
   "metadata": {},
   "source": [
    "## submit"
   ]
  },
  {
   "cell_type": "code",
   "execution_count": 3,
   "metadata": {},
   "outputs": [
    {
     "name": "stdin",
     "output_type": "stream",
     "text": [
      " 3\n",
      " 2 2 4\n"
     ]
    }
   ],
   "source": [
    "def main():\n",
    "    N = int(input())\n",
    "    A = list(map(int, input().split()))\n",
    "    R = [None]*N\n",
    "    twox = 0\n",
    "    for i in range(N):\n",
    "        twox += A[i] * (-1)**i\n",
    "    R[0] = int(twox)\n",
    "    for i in range(1, N):\n",
    "        R[i] = int((A[i-1] - R[i-1]/2)*2)\n",
    "    print(' '.join(map(str, R)))\n",
    "main()"
   ]
  },
  {
   "cell_type": "code",
   "execution_count": null,
   "metadata": {},
   "outputs": [],
   "source": []
  }
 ],
 "metadata": {
  "kernelspec": {
   "display_name": "Python 3",
   "language": "python",
   "name": "python3"
  },
  "language_info": {
   "codemirror_mode": {
    "name": "ipython",
    "version": 3
   },
   "file_extension": ".py",
   "mimetype": "text/x-python",
   "name": "python",
   "nbconvert_exporter": "python",
   "pygments_lexer": "ipython3",
   "version": "3.8.1"
  }
 },
 "nbformat": 4,
 "nbformat_minor": 4
}
