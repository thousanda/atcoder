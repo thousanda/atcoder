{
 "cells": [
  {
   "cell_type": "markdown",
   "metadata": {},
   "source": [
    "## debug"
   ]
  },
  {
   "cell_type": "code",
   "execution_count": 11,
   "metadata": {},
   "outputs": [
    {
     "name": "stdin",
     "output_type": "stream",
     "text": [
      " 2020 2040\n"
     ]
    }
   ],
   "source": [
    "L, R = map(int, input().split())\n",
    "ans = 2019\n",
    "for i in range(L, min(R, L+2019)):\n",
    "    for j in range(i+1, min(R+1, i+2019)):\n",
    "        ans = min(ans, (i % 2019) * (j % 2019) % 2019)"
   ]
  },
  {
   "cell_type": "markdown",
   "metadata": {},
   "source": [
    "## submit"
   ]
  },
  {
   "cell_type": "code",
   "execution_count": null,
   "metadata": {},
   "outputs": [],
   "source": [
    "def main():\n",
    "    L, R = map(int, input().split())\n",
    "    ans = 2019\n",
    "    for i in range(L, min(R, L+2019)):\n",
    "        for j in range(i+1, min(R+1, i+2019)):\n",
    "            ans = min(ans, (i % 2019) * (j % 2019) % 2019)\n",
    "    print(ans)\n",
    "main()"
   ]
  }
 ],
 "metadata": {
  "kernelspec": {
   "display_name": "Python 3",
   "language": "python",
   "name": "python3"
  },
  "language_info": {
   "codemirror_mode": {
    "name": "ipython",
    "version": 3
   },
   "file_extension": ".py",
   "mimetype": "text/x-python",
   "name": "python",
   "nbconvert_exporter": "python",
   "pygments_lexer": "ipython3",
   "version": "3.8.1"
  }
 },
 "nbformat": 4,
 "nbformat_minor": 4
}
