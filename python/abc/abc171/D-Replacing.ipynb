{
 "cells": [
  {
   "cell_type": "code",
   "execution_count": 1,
   "metadata": {},
   "outputs": [
    {
     "data": {
      "application/vnd.jupyter.widget-view+json": {
       "model_id": "6a44a66852164c1fad37e20f42d8443f",
       "version_major": 2,
       "version_minor": 0
      },
      "text/plain": [
       "Textarea(value='')"
      ]
     },
     "metadata": {},
     "output_type": "display_data"
    }
   ],
   "source": [
    "from ipywidgets import Textarea\n",
    "\n",
    "def get_input(change):\n",
    "    global Input\n",
    "    Input=change[\"new\"].splitlines()\n",
    "textarea = Textarea()\n",
    "textarea.observe(get_input, names='value')\n",
    "display(textarea)"
   ]
  },
  {
   "cell_type": "markdown",
   "metadata": {},
   "source": [
    "## debug"
   ]
  },
  {
   "cell_type": "code",
   "execution_count": 9,
   "metadata": {},
   "outputs": [
    {
     "name": "stdout",
     "output_type": "stream",
     "text": [
      "10\n",
      "A_map={1: 1, 2: 1, 3: 1, 4: 1}\n",
      "11\n",
      "12\n",
      "16\n"
     ]
    }
   ],
   "source": [
    "N = int(Input[0])\n",
    "A = list(map(int, Input[1].split()))\n",
    "Q = int(Input[2])\n",
    "BC = [list(map(int, i.split())) for i in Input[3:]]\n",
    "\n",
    "S = sum(A)\n",
    "print(S)\n",
    "\n",
    "A_map = {}\n",
    "for a in A:\n",
    "    if a in A_map:\n",
    "        A_map[a] += 1\n",
    "    else:\n",
    "        A_map[a] = 1\n",
    "print(f'{A_map=}')\n",
    "\n",
    "for b,c in BC:\n",
    "    # なかったらスキップ\n",
    "    if b not in A_map:\n",
    "        print(S)\n",
    "        continue\n",
    "    \n",
    "    # bが何個あるか(num)取り出してcにnum個足す\n",
    "    num = A_map.pop(b)\n",
    "    if c in A_map:\n",
    "        A_map[c] += num\n",
    "    else:\n",
    "        A_map[c] = num\n",
    "    \n",
    "    # Sの更新\n",
    "    S -= b * num\n",
    "    S += c * num\n",
    "    print(S)"
   ]
  },
  {
   "cell_type": "code",
   "execution_count": null,
   "metadata": {},
   "outputs": [],
   "source": []
  },
  {
   "cell_type": "code",
   "execution_count": null,
   "metadata": {},
   "outputs": [],
   "source": []
  },
  {
   "cell_type": "markdown",
   "metadata": {},
   "source": [
    "## submit"
   ]
  },
  {
   "cell_type": "code",
   "execution_count": 11,
   "metadata": {},
   "outputs": [
    {
     "name": "stdin",
     "output_type": "stream",
     "text": [
      " 2\n",
      " 1 2\n",
      " 3\n",
      " 1 100\n",
      " 2 100\n",
      " 100 1000\n"
     ]
    },
    {
     "name": "stdout",
     "output_type": "stream",
     "text": [
      "102\n",
      "200\n",
      "2000\n"
     ]
    }
   ],
   "source": [
    "def main():\n",
    "    N = int(input())\n",
    "    A = list(map(int, input().split()))\n",
    "    Q = int(input())\n",
    "    BC = [list(map(int, input().split())) for _ in range(Q)]\n",
    "    \n",
    "    S = sum(A)\n",
    "\n",
    "    A_map = {}\n",
    "    for a in A:\n",
    "        if a in A_map:\n",
    "            A_map[a] += 1\n",
    "        else:\n",
    "            A_map[a] = 1\n",
    "\n",
    "    for b,c in BC:\n",
    "        if b not in A_map:\n",
    "            print(S)\n",
    "            continue\n",
    "\n",
    "        num = A_map.pop(b)\n",
    "        if c in A_map:\n",
    "            A_map[c] += num\n",
    "        else:\n",
    "            A_map[c] = num\n",
    "\n",
    "        S -= b * num\n",
    "        S += c * num\n",
    "        print(S)\n",
    "main()"
   ]
  }
 ],
 "metadata": {
  "kernelspec": {
   "display_name": "Python 3",
   "language": "python",
   "name": "python3"
  },
  "language_info": {
   "codemirror_mode": {
    "name": "ipython",
    "version": 3
   },
   "file_extension": ".py",
   "mimetype": "text/x-python",
   "name": "python",
   "nbconvert_exporter": "python",
   "pygments_lexer": "ipython3",
   "version": "3.8.1"
  }
 },
 "nbformat": 4,
 "nbformat_minor": 4
}
