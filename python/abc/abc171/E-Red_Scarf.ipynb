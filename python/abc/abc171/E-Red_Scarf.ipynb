{
 "cells": [
  {
   "cell_type": "code",
   "execution_count": 1,
   "metadata": {},
   "outputs": [
    {
     "data": {
      "application/vnd.jupyter.widget-view+json": {
       "model_id": "5908d5dde8384f7789d121e52f67e957",
       "version_major": 2,
       "version_minor": 0
      },
      "text/plain": [
       "Textarea(value='')"
      ]
     },
     "metadata": {},
     "output_type": "display_data"
    }
   ],
   "source": [
    "from ipywidgets import Textarea\n",
    "\n",
    "def get_input(change):\n",
    "    global Input\n",
    "    Input=change[\"new\"].splitlines()\n",
    "textarea = Textarea()\n",
    "textarea.observe(get_input, names='value')\n",
    "display(textarea)"
   ]
  },
  {
   "cell_type": "code",
   "execution_count": 4,
   "metadata": {},
   "outputs": [],
   "source": [
    "N = int(Input[0])\n",
    "A = list(map(int, Input[1].split()))"
   ]
  },
  {
   "cell_type": "code",
   "execution_count": 12,
   "metadata": {},
   "outputs": [
    {
     "name": "stdout",
     "output_type": "stream",
     "text": [
      "a=20: 0b10100\n",
      "a=11: 0b1011\n",
      "a=9: 0b1001\n",
      "a=24: 0b11000\n",
      "xor_all=14: 0b1110\n",
      "\n",
      "26\n",
      "5\n",
      "7\n",
      "22\n"
     ]
    }
   ],
   "source": [
    "for a in A:\n",
    "    print(f'{a=}: {bin(a)}')\n",
    "    \n",
    "# 全a_nのxorをとる\n",
    "xor_all = A[0]\n",
    "for a in A[1:]:\n",
    "    xor_all ^= a\n",
    "print(f'{xor_all=}: {bin(xor_all)}')\n",
    "\n",
    "print()\n",
    "# 答えは (自分以外全てのxor) xor (全要素のxor)\n",
    "for a in A:\n",
    "    print(a ^ xor_all)"
   ]
  },
  {
   "cell_type": "code",
   "execution_count": 10,
   "metadata": {},
   "outputs": [
    {
     "data": {
      "text/plain": [
       "'0b11'"
      ]
     },
     "execution_count": 10,
     "metadata": {},
     "output_type": "execute_result"
    }
   ],
   "source": [
    "bin(0b0 ^ 0b1 ^ 0b10)"
   ]
  },
  {
   "cell_type": "code",
   "execution_count": null,
   "metadata": {},
   "outputs": [],
   "source": []
  },
  {
   "cell_type": "code",
   "execution_count": 13,
   "metadata": {},
   "outputs": [
    {
     "name": "stdin",
     "output_type": "stream",
     "text": [
      " 4\n",
      " 20 11 9 24\n"
     ]
    },
    {
     "name": "stdout",
     "output_type": "stream",
     "text": [
      "\n",
      "26\n",
      "5\n",
      "7\n",
      "22\n"
     ]
    }
   ],
   "source": [
    "def main():\n",
    "    N = int(input())\n",
    "    A = list(map(int, input().split()))\n",
    "    \n",
    "    xor_all = A[0]\n",
    "    for a in A[1:]:\n",
    "        xor_all ^= a\n",
    "\n",
    "    print()\n",
    "    for a in A:\n",
    "        print(a ^ xor_all)\n",
    "\n",
    "main()"
   ]
  },
  {
   "cell_type": "code",
   "execution_count": null,
   "metadata": {},
   "outputs": [],
   "source": []
  }
 ],
 "metadata": {
  "kernelspec": {
   "display_name": "Python 3",
   "language": "python",
   "name": "python3"
  },
  "language_info": {
   "codemirror_mode": {
    "name": "ipython",
    "version": 3
   },
   "file_extension": ".py",
   "mimetype": "text/x-python",
   "name": "python",
   "nbconvert_exporter": "python",
   "pygments_lexer": "ipython3",
   "version": "3.8.1"
  }
 },
 "nbformat": 4,
 "nbformat_minor": 4
}
