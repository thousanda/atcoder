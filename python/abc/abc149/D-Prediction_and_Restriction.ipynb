{
 "cells": [
  {
   "cell_type": "code",
   "execution_count": 1,
   "metadata": {},
   "outputs": [
    {
     "data": {
      "application/vnd.jupyter.widget-view+json": {
       "model_id": "ee0375e0b0e340d8a96ffe9edb99101a",
       "version_major": 2,
       "version_minor": 0
      },
      "text/plain": [
       "Textarea(value='')"
      ]
     },
     "metadata": {},
     "output_type": "display_data"
    }
   ],
   "source": [
    "from ipywidgets import Textarea\n",
    "\n",
    "def get_input(change):\n",
    "    global Input\n",
    "    Input=change[\"new\"].splitlines()\n",
    "textarea = Textarea()\n",
    "textarea.observe(get_input, names='value')\n",
    "display(textarea)"
   ]
  },
  {
   "cell_type": "markdown",
   "metadata": {},
   "source": [
    "## debug"
   ]
  },
  {
   "cell_type": "code",
   "execution_count": 19,
   "metadata": {},
   "outputs": [
    {
     "name": "stdout",
     "output_type": "stream",
     "text": [
      "0\n",
      "  0, r\n",
      "OK\n",
      "  5, p\n",
      "OK\n",
      "  10, p\n",
      "  15, p\n",
      "OK\n",
      "  20, p\n",
      "  25, p\n",
      "OK\n",
      "ans=825\n",
      "1\n",
      "  1, s\n",
      "OK\n",
      "  6, s\n",
      "  11, s\n",
      "OK\n",
      "  16, p\n",
      "OK\n",
      "  21, r\n",
      "OK\n",
      "  26, r\n",
      "ans=1832\n",
      "2\n",
      "  2, p\n",
      "OK\n",
      "  7, p\n",
      "  12, p\n",
      "OK\n",
      "  17, r\n",
      "OK\n",
      "  22, p\n",
      "OK\n",
      "  27, p\n",
      "ans=2657\n",
      "3\n",
      "  3, s\n",
      "OK\n",
      "  8, s\n",
      "  13, s\n",
      "OK\n",
      "  18, p\n",
      "OK\n",
      "  23, s\n",
      "OK\n",
      "  28, s\n",
      "ans=3866\n",
      "4\n",
      "  4, s\n",
      "OK\n",
      "  9, r\n",
      "OK\n",
      "  14, p\n",
      "OK\n",
      "  19, s\n",
      "OK\n",
      "  24, s\n",
      "  29, r\n",
      "OK\n",
      "ans=4996\n"
     ]
    }
   ],
   "source": [
    "N, K = map(int, Input[0].split())\n",
    "R, S, P = map(int, Input[1].split())\n",
    "T = Input[2]\n",
    "\n",
    "scores = {'r': P, 's': R, 'p': S, 'default': 0}\n",
    "win_flag = [False]*(N+1)\n",
    "ans = 0\n",
    "\n",
    "# Kの剰余で別々に考えていい\n",
    "for i_k in range(K):\n",
    "    print(i_k)\n",
    "    prev = 'default'\n",
    "    for i_n in range(i_k, N, K):\n",
    "        print(f'  {i_n}, {T[i_n]}')\n",
    "        # K個前と違う手 もしくは K個前で勝たないことにした 場合\n",
    "        #   => 点がもらえる\n",
    "        if (T[i_n] != prev) or (not win_flag[i_n-K]):\n",
    "            win_flag[i_n] = True\n",
    "            ans += scores[T[i_n]]\n",
    "            print('OK')\n",
    "        prev = T[i_n]\n",
    "    print(f'{ans=}')"
   ]
  },
  {
   "cell_type": "markdown",
   "metadata": {},
   "source": [
    "## submit"
   ]
  },
  {
   "cell_type": "code",
   "execution_count": 23,
   "metadata": {},
   "outputs": [
    {
     "name": "stdin",
     "output_type": "stream",
     "text": [
      " 5 2\n",
      " 8 7 6\n",
      " rsrpr\n"
     ]
    },
    {
     "name": "stdout",
     "output_type": "stream",
     "text": [
      "27\n"
     ]
    }
   ],
   "source": [
    "N, K = map(int, input().split())\n",
    "R, S, P = map(int, input().split())\n",
    "T = input()\n",
    "\n",
    "scores = {'r': P, 's': R, 'p': S, 'default': 0}\n",
    "win_flag = [False]*(N+1)\n",
    "ans = 0\n",
    "\n",
    "# Kの剰余で別々に考えていい\n",
    "for i_k in range(K):\n",
    "    prev = 'default'\n",
    "    for i_n in range(i_k, N, K):\n",
    "        # K個前と違う手 もしくは K個前で勝たないことにした 場合\n",
    "        #   => 点がもらえる\n",
    "        if (T[i_n] != prev) or (not win_flag[i_n-K]):\n",
    "            win_flag[i_n] = True\n",
    "            ans += scores[T[i_n]]\n",
    "        prev = T[i_n]\n",
    "\n",
    "print(ans)"
   ]
  }
 ],
 "metadata": {
  "kernelspec": {
   "display_name": "Python 3",
   "language": "python",
   "name": "python3"
  },
  "language_info": {
   "codemirror_mode": {
    "name": "ipython",
    "version": 3
   },
   "file_extension": ".py",
   "mimetype": "text/x-python",
   "name": "python",
   "nbconvert_exporter": "python",
   "pygments_lexer": "ipython3",
   "version": "3.8.1"
  }
 },
 "nbformat": 4,
 "nbformat_minor": 4
}
