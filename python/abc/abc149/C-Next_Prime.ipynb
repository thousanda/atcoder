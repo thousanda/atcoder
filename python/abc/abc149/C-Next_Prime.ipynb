{
 "cells": [
  {
   "cell_type": "markdown",
   "metadata": {},
   "source": [
    "# エラトステネスの篩\n",
    " - Nと2Nの間には必ず素数がある気がするから、篩におく数も最大2N-1で十分\n",
    " - ある数Nが素数か判断するために試し割りをする数は2からN/2まで  \n",
    " => Nから2N-1までの数を用意して、2からN-1までの数の倍数をふるい落とす\n",
    "\n",
    "(今回は、入力値に関係なくNの最大値 (10^5) の2倍までの数をふるいに用意した)"
   ]
  },
  {
   "cell_type": "code",
   "execution_count": 20,
   "metadata": {},
   "outputs": [
    {
     "name": "stdin",
     "output_type": "stream",
     "text": [
      " 2\n"
     ]
    },
    {
     "name": "stdout",
     "output_type": "stream",
     "text": [
      "i=0: n=False\n",
      "i=1: n=False\n",
      "i=2: n=True\n",
      "i=3: n=True\n",
      "i=4: n=True\n",
      "i=5: n=True\n",
      "i=6: n=True\n",
      "i=7: n=True\n",
      "2\n"
     ]
    }
   ],
   "source": [
    "N = int(input())\n",
    "\n",
    "candidates = [True]*(2*(10**5))\n",
    "candidates[0] = candidates[1] = False\n",
    "\n",
    "for i in range(2, N):\n",
    "    for j in range(i, 2*(10**5), i):\n",
    "        candidates[j] = False\n",
    "\n",
    "# 検証用 #\n",
    "for i, n in enumerate(candidates):\n",
    "    print(f'{i=}: {n=}')\n",
    "    if i == N+5:\n",
    "        break\n",
    "###\n",
    "\n",
    "for n, n_is_prime in enumerate(candidates):\n",
    "    if n_is_prime:\n",
    "        print(n)\n",
    "        break"
   ]
  },
  {
   "cell_type": "code",
   "execution_count": 21,
   "metadata": {},
   "outputs": [
    {
     "name": "stdin",
     "output_type": "stream",
     "text": [
      " 100000\n"
     ]
    },
    {
     "name": "stdout",
     "output_type": "stream",
     "text": [
      "100003\n"
     ]
    }
   ],
   "source": [
    "N = int(input())\n",
    "\n",
    "candidates = [True]*(2*(10**5))\n",
    "candidates[0] = candidates[1] = False\n",
    "\n",
    "for i in range(2, N):\n",
    "    for j in range(i, 2*(10**5), i):\n",
    "        candidates[j] = False\n",
    "\n",
    "for n, n_is_prime in enumerate(candidates):\n",
    "    if n_is_prime:\n",
    "        print(n)\n",
    "        break"
   ]
  }
 ],
 "metadata": {
  "kernelspec": {
   "display_name": "Python 3",
   "language": "python",
   "name": "python3"
  },
  "language_info": {
   "codemirror_mode": {
    "name": "ipython",
    "version": 3
   },
   "file_extension": ".py",
   "mimetype": "text/x-python",
   "name": "python",
   "nbconvert_exporter": "python",
   "pygments_lexer": "ipython3",
   "version": "3.8.1"
  }
 },
 "nbformat": 4,
 "nbformat_minor": 4
}
