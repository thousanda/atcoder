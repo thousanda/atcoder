{
 "cells": [
  {
   "cell_type": "markdown",
   "metadata": {},
   "source": [
    "(1, 2), (2, 1) じゃなくて (0, 1), (1, 0) 進むことにして  \n",
    "→と↑の並び方を考えるタイプの「同じものを含む順列」にする"
   ]
  },
  {
   "cell_type": "code",
   "execution_count": 19,
   "metadata": {},
   "outputs": [
    {
     "name": "stdin",
     "output_type": "stream",
     "text": [
      " 999999 999999\n"
     ]
    },
    {
     "name": "stdout",
     "output_type": "stream",
     "text": [
      "answer\n",
      "333333 333333\n",
      "151840682\n"
     ]
    }
   ],
   "source": [
    "import sys\n",
    "MOD = 10**9 + 7\n",
    "\n",
    "def mod_inv(n, m):\n",
    "    return pow(n, m-2, m)\n",
    "\n",
    "def nCr_mod_m(n, r, m):\n",
    "    if r < 0 or n < r:\n",
    "        return 0\n",
    "    # n!\n",
    "    fact = fact_prev = 1 # 0! = 1! = 1\n",
    "    for i in range(2, n+1):\n",
    "        fact = fact_prev * i % m\n",
    "        fact_prev = fact\n",
    "    # n!^(-1)\n",
    "    fact_inv = [0]*(max(r, n-r)+1)\n",
    "    fact_inv[0] = fact_inv[1] = 1  # 1 = 1 mod m\n",
    "    for i in range(2, max(r, n-r)+1):\n",
    "        fact_inv[i] = fact_inv[i-1] * mod_inv(i, m) % m\n",
    "    return (fact * fact_inv[r] % m) * fact_inv[n-r] % m\n",
    "\n",
    "\n",
    "X, Y = map(int, input().split())\n",
    "\n",
    "# 1回でx方向y方向合わせると3進むので、合わせて3の倍数の所にしか行けない\n",
    "# x方向 or y方向に特化して進んでも、行かなかった方向の2倍までしか行けない\n",
    "if ((X+Y)%3 != 0) or (min(X,Y)*2 < max(X,Y)):\n",
    "    print(0)\n",
    "    sys.exit()\n",
    "    \n",
    "base = (X + Y) // 3\n",
    "\n",
    "x = X - base\n",
    "y = Y - base\n",
    "print(x, y)\n",
    "\n",
    "# あとは x+yCx (or x+yCy) を計算するだけ\n",
    "print(nCr_mod_m(x+y, x, MOD))"
   ]
  },
  {
   "cell_type": "markdown",
   "metadata": {},
   "source": [
    "## submit"
   ]
  },
  {
   "cell_type": "code",
   "execution_count": 22,
   "metadata": {},
   "outputs": [
    {
     "name": "stdin",
     "output_type": "stream",
     "text": [
      " 999999 999999\n"
     ]
    },
    {
     "name": "stdout",
     "output_type": "stream",
     "text": [
      "333333 333333\n",
      "151840682\n"
     ]
    }
   ],
   "source": [
    "import sys\n",
    "MOD = 10**9 + 7\n",
    "\n",
    "def mod_inv(n, m):\n",
    "    return pow(n, m-2, m)\n",
    "\n",
    "def nCr_mod_m(n, r, m):\n",
    "    if r < 0 or n < r:\n",
    "        return 0\n",
    "    # n!\n",
    "    fact = fact_prev = 1 # 0! = 1! = 1\n",
    "    for i in range(2, n+1):\n",
    "        fact = fact_prev * i % m\n",
    "        fact_prev = fact\n",
    "    # n!^(-1)\n",
    "    fact_inv = [0]*(max(r, n-r)+1)\n",
    "    fact_inv[0] = fact_inv[1] = 1  # 1 = 1 mod m\n",
    "    for i in range(2, max(r, n-r)+1):\n",
    "        fact_inv[i] = fact_inv[i-1] * mod_inv(i, m) % m\n",
    "    return (fact * fact_inv[r] % m) * fact_inv[n-r] % m\n",
    "\n",
    "def main():\n",
    "    X, Y = map(int, input().split())\n",
    "    if ((X+Y)%3 != 0) or (min(X,Y)*2 < max(X,Y)):\n",
    "        print(0)\n",
    "        sys.exit()\n",
    "\n",
    "    base = (X + Y) // 3\n",
    "    x = X - base\n",
    "    y = Y - base\n",
    "\n",
    "    print(nCr_mod_m(x+y, x, MOD))\n",
    "main()"
   ]
  }
 ],
 "metadata": {
  "kernelspec": {
   "display_name": "Python 3",
   "language": "python",
   "name": "python3"
  },
  "language_info": {
   "codemirror_mode": {
    "name": "ipython",
    "version": 3
   },
   "file_extension": ".py",
   "mimetype": "text/x-python",
   "name": "python",
   "nbconvert_exporter": "python",
   "pygments_lexer": "ipython3",
   "version": "3.8.1"
  }
 },
 "nbformat": 4,
 "nbformat_minor": 4
}
