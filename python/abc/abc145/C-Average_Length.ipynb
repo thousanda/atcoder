{
 "cells": [
  {
   "cell_type": "code",
   "execution_count": 1,
   "metadata": {},
   "outputs": [
    {
     "data": {
      "application/vnd.jupyter.widget-view+json": {
       "model_id": "4bc4342f6ba74e34af6c41de8d51cf40",
       "version_major": 2,
       "version_minor": 0
      },
      "text/plain": [
       "Textarea(value='')"
      ]
     },
     "metadata": {},
     "output_type": "display_data"
    }
   ],
   "source": [
    "from ipywidgets import Textarea\n",
    "\n",
    "def get_input(change):\n",
    "    global Input\n",
    "    Input=change[\"new\"].splitlines()\n",
    "textarea = Textarea()\n",
    "textarea.observe(get_input, names='value')\n",
    "display(textarea)"
   ]
  },
  {
   "cell_type": "markdown",
   "metadata": {},
   "source": [
    "# 制限がゆるいので全探索"
   ]
  },
  {
   "cell_type": "markdown",
   "metadata": {},
   "source": [
    "## debug"
   ]
  },
  {
   "cell_type": "code",
   "execution_count": 27,
   "metadata": {},
   "outputs": [
    {
     "name": "stdout",
     "output_type": "stream",
     "text": [
      "Coordinates\n",
      "[[-879, 981], [-866, 890]]\n",
      "Calculate distances\n",
      "dist(0, 1) = 91.92388155425118\n",
      "Full search\n",
      "(0, 1)\n",
      "91.92388155425118\n",
      "(1, 0)\n",
      "91.92388155425118\n",
      "91.92388155425118\n"
     ]
    }
   ],
   "source": [
    "from itertools import combinations, permutations\n",
    "\n",
    "N = int(Input[0])\n",
    "xy = [list(map(int, i.split())) for i in Input[1:]]\n",
    "\n",
    "print('Coordinates')\n",
    "print(xy)\n",
    "\n",
    "dists = {i: {j: 0 for j in range(N)} for i in range(N)}\n",
    "print('Calculate distances')\n",
    "for i,j in combinations(range(N), 2):\n",
    "    x1, y1 = xy[i]\n",
    "    x2, y2 = xy[j]\n",
    "    dists[i][j] = dists[j][i] = ((x1 - x2)**2 + (y1 - y2)**2)**(0.5)\n",
    "    print(f'dist({i}, {j}) = {dists[i][j]}')\n",
    "\n",
    "print('Full search')\n",
    "factorial_of_N = 0\n",
    "total_dist = 0.0\n",
    "for route in permutations(range(N)):\n",
    "    print(route)\n",
    "    prev_i = route[0]\n",
    "    factorial_of_N += 1\n",
    "    for i in route[1:]:\n",
    "        print(dists[prev_i][i])\n",
    "        total_dist += dists[prev_i][i]\n",
    "        prev_i = i\n",
    "print(total_dist / factorial_of_N)"
   ]
  },
  {
   "cell_type": "markdown",
   "metadata": {},
   "source": [
    "## submit"
   ]
  },
  {
   "cell_type": "code",
   "execution_count": 31,
   "metadata": {},
   "outputs": [
    {
     "name": "stdin",
     "output_type": "stream",
     "text": [
      " 3\n",
      " 0 0\n",
      " 0 1\n",
      " 1 0\n"
     ]
    },
    {
     "name": "stdout",
     "output_type": "stream",
     "text": [
      "2.276142374915397\n"
     ]
    }
   ],
   "source": [
    "from itertools import combinations, permutations\n",
    "\n",
    "N = int(input())\n",
    "xy = [list(map(int, input().split())) for _ in range(N)]\n",
    "\n",
    "\n",
    "dists = {i: {j: 0 for j in range(N)} for i in range(N)}\n",
    "for i,j in combinations(range(N), 2):\n",
    "    x1, y1 = xy[i]\n",
    "    x2, y2 = xy[j]\n",
    "    dists[i][j] = dists[j][i] = ((x1 - x2)**2 + (y1 - y2)**2)**(0.5)\n",
    "\n",
    "factorial_of_N = 0\n",
    "total_dist = 0.0\n",
    "for route in permutations(range(N)):\n",
    "    prev_i = route[0]\n",
    "    factorial_of_N += 1\n",
    "    for i in route[1:]:\n",
    "        total_dist += dists[prev_i][i]\n",
    "        prev_i = i\n",
    "\n",
    "print(total_dist / factorial_of_N)"
   ]
  }
 ],
 "metadata": {
  "kernelspec": {
   "display_name": "Python 3",
   "language": "python",
   "name": "python3"
  },
  "language_info": {
   "codemirror_mode": {
    "name": "ipython",
    "version": 3
   },
   "file_extension": ".py",
   "mimetype": "text/x-python",
   "name": "python",
   "nbconvert_exporter": "python",
   "pygments_lexer": "ipython3",
   "version": "3.8.1"
  }
 },
 "nbformat": 4,
 "nbformat_minor": 4
}
