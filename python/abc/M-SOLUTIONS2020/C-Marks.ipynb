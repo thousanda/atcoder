{
 "cells": [
  {
   "cell_type": "code",
   "execution_count": 1,
   "metadata": {},
   "outputs": [
    {
     "data": {
      "application/vnd.jupyter.widget-view+json": {
       "model_id": "0a533d45c256424eb1c0e984f5523c4d",
       "version_major": 2,
       "version_minor": 0
      },
      "text/plain": [
       "Textarea(value='')"
      ]
     },
     "metadata": {},
     "output_type": "display_data"
    }
   ],
   "source": [
    "from ipywidgets import Textarea\n",
    "\n",
    "def get_input(change):\n",
    "    global Input\n",
    "    Input=change[\"new\"].splitlines()\n",
    "textarea = Textarea()\n",
    "textarea.observe(get_input, names='value')\n",
    "display(textarea)"
   ]
  },
  {
   "cell_type": "markdown",
   "metadata": {},
   "source": [
    "# 掛け算したら大きくなりそうだったからlogとって和で考えた"
   ]
  },
  {
   "cell_type": "markdown",
   "metadata": {},
   "source": [
    "# ひとつshiftするときに、捨てるやつと新しくもらうやつの大小関係を比較するだけでよかった気がする"
   ]
  },
  {
   "cell_type": "markdown",
   "metadata": {},
   "source": [
    "## debug"
   ]
  },
  {
   "cell_type": "code",
   "execution_count": 20,
   "metadata": {},
   "outputs": [
    {
     "name": "stdout",
     "output_type": "stream",
     "text": [
      "[1.0986122886681098, 0.0, 1.3862943611198906, 0.0, 1.6094379124341003, 2.1972245773362196, 0.6931471805599453, 1.791759469228055, 1.6094379124341003, 1.0986122886681098, 1.6094379124341003, 2.0794415416798357, 2.1972245773362196, 1.9459101490553132, 2.1972245773362196]\n",
      "i=0, -3, +6\n",
      "i=1, -1, +5\n",
      "i=2, -4, +3\n",
      "i=3, -1, +5\n",
      "i=4, -5, +8\n",
      "i=5, -9, +9\n",
      "i=6, -2, +7\n",
      "i=7, -6, +9\n",
      "[6.984716320118265, 7.67786350067821, 9.28730141311231, 8.999619340660528, 10.609057253094628, 11.079060882340364, 11.079060882340364, 12.331823850835733, 12.737288958943898]\n",
      "Yes\n",
      "Yes\n",
      "No\n",
      "Yes\n",
      "Yes\n",
      "No\n",
      "Yes\n",
      "Yes\n"
     ]
    }
   ],
   "source": [
    "import math\n",
    "\n",
    "N, K = map(int, Input[0].split())\n",
    "A = list(map(int, Input[1].split()))\n",
    "\n",
    "log_A = [math.log(a) for a in A]\n",
    "print(log_A)\n",
    "\n",
    "evaluations = [0]*(N-K+1)\n",
    "evaluations[0] = sum(log_A[:K])\n",
    "\n",
    "for i in range(N-K):\n",
    "    print(f'{i=}, -{A[i]}, +{A[K+i]}')\n",
    "    evaluations[i+1] = evaluations[i] - log_A[i] + log_A[K+i]\n",
    "    \n",
    "print(evaluations)\n",
    "\n",
    "for i in range(N-K):\n",
    "    if evaluations[i] < evaluations[i+1]:\n",
    "        print('Yes')\n",
    "    else:\n",
    "        print('No')"
   ]
  },
  {
   "cell_type": "code",
   "execution_count": null,
   "metadata": {},
   "outputs": [],
   "source": []
  },
  {
   "cell_type": "markdown",
   "metadata": {},
   "source": [
    "## submit"
   ]
  },
  {
   "cell_type": "code",
   "execution_count": 21,
   "metadata": {},
   "outputs": [
    {
     "name": "stdin",
     "output_type": "stream",
     "text": [
      " 15 7\n",
      " 3 1 4 1 5 9 2 6 5 3 5 8 9 7 9\n"
     ]
    },
    {
     "name": "stdout",
     "output_type": "stream",
     "text": [
      "Yes\n",
      "Yes\n",
      "No\n",
      "Yes\n",
      "Yes\n",
      "No\n",
      "Yes\n",
      "Yes\n"
     ]
    }
   ],
   "source": [
    "import math\n",
    "\n",
    "N, K = map(int, input().split())\n",
    "A = list(map(int, input().split()))\n",
    "\n",
    "log_A = [math.log(a) for a in A]\n",
    "\n",
    "evaluations = [0]*(N-K+1)\n",
    "evaluations[0] = sum(log_A[:K])\n",
    "\n",
    "for i in range(N-K):\n",
    "    evaluations[i+1] = evaluations[i] - log_A[i] + log_A[K+i]\n",
    "    \n",
    "for i in range(N-K):\n",
    "    if evaluations[i] < evaluations[i+1]:\n",
    "        print('Yes')\n",
    "    else:\n",
    "        print('No')"
   ]
  }
 ],
 "metadata": {
  "kernelspec": {
   "display_name": "Python 3",
   "language": "python",
   "name": "python3"
  },
  "language_info": {
   "codemirror_mode": {
    "name": "ipython",
    "version": 3
   },
   "file_extension": ".py",
   "mimetype": "text/x-python",
   "name": "python",
   "nbconvert_exporter": "python",
   "pygments_lexer": "ipython3",
   "version": "3.8.1"
  }
 },
 "nbformat": 4,
 "nbformat_minor": 4
}
