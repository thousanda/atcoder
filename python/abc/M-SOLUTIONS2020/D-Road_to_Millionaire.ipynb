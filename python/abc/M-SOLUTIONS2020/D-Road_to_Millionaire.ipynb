{
 "cells": [
  {
   "cell_type": "code",
   "execution_count": 1,
   "metadata": {},
   "outputs": [
    {
     "data": {
      "application/vnd.jupyter.widget-view+json": {
       "model_id": "8b0acae60c3b46f18443feeff5cebc20",
       "version_major": 2,
       "version_minor": 0
      },
      "text/plain": [
       "Textarea(value='')"
      ]
     },
     "metadata": {},
     "output_type": "display_data"
    }
   ],
   "source": [
    "from ipywidgets import Textarea\n",
    "\n",
    "def get_input(change):\n",
    "    global Input\n",
    "    Input=change[\"new\"].splitlines()\n",
    "textarea = Textarea()\n",
    "textarea.observe(get_input, names='value')\n",
    "display(textarea)"
   ]
  },
  {
   "cell_type": "markdown",
   "metadata": {},
   "source": [
    "# 「その日の最初に全部売る -> 明日、今日より高いなら買えるだけ買う」っていう方針で貪欲できるらしい"
   ]
  },
  {
   "cell_type": "markdown",
   "metadata": {},
   "source": [
    "# 最初に極大極小の場所を求める\n",
    " - 極小なら買えるだけ買う\n",
    " - 極大なら全部売る"
   ]
  },
  {
   "cell_type": "markdown",
   "metadata": {},
   "source": [
    "## debug"
   ]
  },
  {
   "cell_type": "code",
   "execution_count": 16,
   "metadata": {},
   "outputs": [
    {
     "name": "stdout",
     "output_type": "stream",
     "text": [
      "is_ascending=True\n",
      "1000 0\n",
      "buy!!!\n",
      "58 6\n",
      "sell!!!\n",
      "1216 0\n"
     ]
    }
   ],
   "source": [
    "class M_Kun:\n",
    "    def __init__(self):\n",
    "        self.money = 1000\n",
    "        self.stock = 0\n",
    "        \n",
    "    def buy(self, value):\n",
    "        num = self.money // value\n",
    "        self.money -= value * num\n",
    "        self.stock += num\n",
    "        \n",
    "    def sell(self, value):\n",
    "        self.money += value * self.stock\n",
    "        self.stock = 0\n",
    "\n",
    "\n",
    "N = int(Input[0])\n",
    "A = list(map(int, Input[1].split()))\n",
    "\n",
    "\n",
    "# 極大極小を判定\n",
    "local_min = [False]*N\n",
    "local_max = [False]*N\n",
    "\n",
    "# スタートが増加か判定\n",
    "is_ascending = False\n",
    "for a in A[1:]:\n",
    "    if a > A[0]:\n",
    "        is_ascending = True\n",
    "        break\n",
    "    elif a < A[0]:\n",
    "        break\n",
    "print(f'{is_ascending=}')\n",
    "\n",
    "# 左端の極大 or 極小\n",
    "if is_ascending:\n",
    "    local_min[0] = True\n",
    "else:\n",
    "    local_max[0] = True\n",
    "\n",
    "for i in range(N-1):\n",
    "    if A[i] == A[i+1]:\n",
    "        continue\n",
    "    # 増加中で前より小さいなら極大\n",
    "    elif is_ascending and A[i] > A[i+1]:\n",
    "        local_max[i] = True\n",
    "        is_ascending = False\n",
    "    # 減少中で前より大きいなら極小\n",
    "    elif (not is_ascending) and A[i] < A[i+1]:\n",
    "        local_min[i] = True\n",
    "        is_ascending = True\n",
    "        \n",
    "# 増加中なら最後が極大\n",
    "# 減少中でも最後は買っちゃだめだから極小フラグは立てない\n",
    "if is_ascending:\n",
    "    local_max[-1] = True\n",
    "    \n",
    "\n",
    "m_kun = M_Kun()\n",
    "print(m_kun.money, m_kun.stock)\n",
    "\n",
    "for i in range(N):\n",
    "    if local_min[i]:\n",
    "        print('buy!!!')\n",
    "        m_kun.buy(A[i])\n",
    "    if local_max[i]:\n",
    "        print('sell!!!')\n",
    "        m_kun.sell(A[i])\n",
    "        \n",
    "    print(m_kun.money, m_kun.stock)\n",
    "\n",
    "        "
   ]
  },
  {
   "cell_type": "markdown",
   "metadata": {},
   "source": [
    "## submit"
   ]
  },
  {
   "cell_type": "code",
   "execution_count": 25,
   "metadata": {},
   "outputs": [
    {
     "name": "stdin",
     "output_type": "stream",
     "text": [
      " 2\n",
      " 157 193\n"
     ]
    },
    {
     "name": "stdout",
     "output_type": "stream",
     "text": [
      "1216\n"
     ]
    }
   ],
   "source": [
    "import sys\n",
    "\n",
    "#def input():\n",
    "#    return sys.stdin.readline()[:-1]\n",
    "\n",
    "class M_Kun:\n",
    "    def __init__(self):\n",
    "        self.money = 1000\n",
    "        self.stock = 0\n",
    "        \n",
    "    def buy(self, value):\n",
    "        num = self.money // value\n",
    "        self.money -= value * num\n",
    "        self.stock += num\n",
    "        \n",
    "    def sell(self, value):\n",
    "        self.money += value * self.stock\n",
    "        self.stock = 0\n",
    "\n",
    "\n",
    "def main():\n",
    "    N = int(input())\n",
    "    A = list(map(int, input().split()))\n",
    "\n",
    "    local_min = [False]*N\n",
    "    local_max = [False]*N\n",
    "\n",
    "    is_ascending = False\n",
    "    for a in A[1:]:\n",
    "        if a > A[0]:\n",
    "            is_ascending = True\n",
    "            break\n",
    "        elif a < A[0]:\n",
    "            break\n",
    "\n",
    "    if is_ascending:\n",
    "        local_min[0] = True\n",
    "    else:\n",
    "        local_max[0] = True\n",
    "\n",
    "    for i in range(N-1):\n",
    "        if A[i] == A[i+1]:\n",
    "            continue\n",
    "        elif is_ascending and A[i] > A[i+1]:\n",
    "            local_max[i] = True\n",
    "            is_ascending = False\n",
    "        elif (not is_ascending) and A[i] < A[i+1]:\n",
    "            local_min[i] = True\n",
    "            is_ascending = True\n",
    "\n",
    "    if is_ascending:\n",
    "        local_max[-1] = True\n",
    "\n",
    "\n",
    "    m_kun = M_Kun()\n",
    "\n",
    "    for i in range(N):\n",
    "        if local_min[i]:\n",
    "            m_kun.buy(A[i])\n",
    "        if local_max[i]:\n",
    "            m_kun.sell(A[i])\n",
    "\n",
    "    print(m_kun.money)\n",
    "    \n",
    "main()"
   ]
  },
  {
   "cell_type": "code",
   "execution_count": null,
   "metadata": {},
   "outputs": [],
   "source": []
  },
  {
   "cell_type": "code",
   "execution_count": null,
   "metadata": {},
   "outputs": [],
   "source": []
  }
 ],
 "metadata": {
  "kernelspec": {
   "display_name": "Python 3",
   "language": "python",
   "name": "python3"
  },
  "language_info": {
   "codemirror_mode": {
    "name": "ipython",
    "version": 3
   },
   "file_extension": ".py",
   "mimetype": "text/x-python",
   "name": "python",
   "nbconvert_exporter": "python",
   "pygments_lexer": "ipython3",
   "version": "3.8.1"
  }
 },
 "nbformat": 4,
 "nbformat_minor": 4
}
