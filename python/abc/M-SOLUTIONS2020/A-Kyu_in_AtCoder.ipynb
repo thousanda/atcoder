{
 "cells": [
  {
   "cell_type": "code",
   "execution_count": null,
   "metadata": {},
   "outputs": [],
   "source": [
    "x = int(input())\n",
    "\n",
    "if x <= 599:\n",
    "    ans = 8\n",
    "elif x <= 799:\n",
    "    ans = 7\n",
    "elif x <= 999:\n",
    "    ans = 6\n",
    "elif x <= 1199:\n",
    "    ans = 5\n",
    "elif x <= 1399:\n",
    "    ans = 4\n",
    "elif x <= 1599:\n",
    "    ans = 3\n",
    "elif x <= 1799:\n",
    "    ans = 2\n",
    "else:\n",
    "    ans = 1\n",
    "\n",
    "print(ans)"
   ]
  }
 ],
 "metadata": {
  "kernelspec": {
   "display_name": "Python 3",
   "language": "python",
   "name": "python3"
  },
  "language_info": {
   "codemirror_mode": {
    "name": "ipython",
    "version": 3
   },
   "file_extension": ".py",
   "mimetype": "text/x-python",
   "name": "python",
   "nbconvert_exporter": "python",
   "pygments_lexer": "ipython3",
   "version": "3.8.1"
  }
 },
 "nbformat": 4,
 "nbformat_minor": 4
}
