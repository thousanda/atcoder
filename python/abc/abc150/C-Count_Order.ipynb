{
 "cells": [
  {
   "cell_type": "code",
   "execution_count": 3,
   "metadata": {},
   "outputs": [
    {
     "data": {
      "application/vnd.jupyter.widget-view+json": {
       "model_id": "7e61d422c4bb4ad3972c07ea1dc48bdd",
       "version_major": 2,
       "version_minor": 0
      },
      "text/plain": [
       "Textarea(value='')"
      ]
     },
     "metadata": {},
     "output_type": "display_data"
    }
   ],
   "source": [
    "from ipywidgets import Textarea\n",
    "\n",
    "def get_input(change):\n",
    "    global Input\n",
    "    Input=change[\"new\"].splitlines()\n",
    "textarea = Textarea()\n",
    "textarea.observe(get_input, names='value')\n",
    "display(textarea)"
   ]
  },
  {
   "cell_type": "code",
   "execution_count": 19,
   "metadata": {},
   "outputs": [
    {
     "name": "stdout",
     "output_type": "stream",
     "text": [
      "0 (0, 1, 2)\n",
      "1 (0, 2, 1)\n",
      "P\n",
      "2 (1, 0, 2)\n",
      "3 (1, 2, 0)\n",
      "4 (2, 0, 1)\n",
      "Q\n",
      "5 (2, 1, 0)\n",
      "1 4\n",
      "3\n"
     ]
    }
   ],
   "source": [
    "from itertools import permutations\n",
    "\n",
    "def same(l1, l2, n):\n",
    "    for i in range(n):\n",
    "        if l1[i] != l2[i]:\n",
    "            return False\n",
    "    return True\n",
    "\n",
    "N = int(Input[0])\n",
    "P = list(map(int, Input[1].split()))\n",
    "Q = list(map(int, Input[2].split()))\n",
    "\n",
    "P = [p-1 for p in P]\n",
    "Q = [q-1 for q in Q]\n",
    "\n",
    "for i,pattern in enumerate(permutations(range(N))):\n",
    "    print(i, pattern)\n",
    "    if same(P, pattern, N):\n",
    "        print('P')\n",
    "        i_p = i\n",
    "    if same(Q, pattern, N):\n",
    "        print('Q')\n",
    "        i_q = i\n",
    "\n",
    "print(i_p, i_q)\n",
    "print(abs(i_p - i_q))"
   ]
  },
  {
   "cell_type": "code",
   "execution_count": 24,
   "metadata": {},
   "outputs": [
    {
     "name": "stdin",
     "output_type": "stream",
     "text": [
      " 3\n",
      " 1 2 3\n",
      " 1 2 3\n"
     ]
    },
    {
     "name": "stdout",
     "output_type": "stream",
     "text": [
      "0\n"
     ]
    }
   ],
   "source": [
    "from itertools import permutations\n",
    "\n",
    "def same(l1, l2, n):\n",
    "    for i in range(n):\n",
    "        if l1[i] != l2[i]:\n",
    "            return False\n",
    "    return True\n",
    "\n",
    "N = int(input())\n",
    "P = list(map(int, input().split()))\n",
    "Q = list(map(int, input().split()))\n",
    "\n",
    "P = [p-1 for p in P]\n",
    "Q = [q-1 for q in Q]\n",
    "\n",
    "for i,pattern in enumerate(permutations(range(N))):\n",
    "    if same(P, pattern, N):\n",
    "        i_p = i\n",
    "    if same(Q, pattern, N):\n",
    "        i_q = i\n",
    "\n",
    "print(abs(i_p - i_q))"
   ]
  }
 ],
 "metadata": {
  "kernelspec": {
   "display_name": "Python 3",
   "language": "python",
   "name": "python3"
  },
  "language_info": {
   "codemirror_mode": {
    "name": "ipython",
    "version": 3
   },
   "file_extension": ".py",
   "mimetype": "text/x-python",
   "name": "python",
   "nbconvert_exporter": "python",
   "pygments_lexer": "ipython3",
   "version": "3.8.1"
  }
 },
 "nbformat": 4,
 "nbformat_minor": 4
}
