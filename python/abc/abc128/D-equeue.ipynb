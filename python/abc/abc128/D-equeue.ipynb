{
 "cells": [
  {
   "cell_type": "code",
   "execution_count": 2,
   "metadata": {},
   "outputs": [
    {
     "data": {
      "application/vnd.jupyter.widget-view+json": {
       "model_id": "b707915874d74855999bb7622a8e72bf",
       "version_major": 2,
       "version_minor": 0
      },
      "text/plain": [
       "Textarea(value='')"
      ]
     },
     "metadata": {},
     "output_type": "display_data"
    }
   ],
   "source": [
    "from ipywidgets import Textarea\n",
    "\n",
    "def get_input(change):\n",
    "    global Input\n",
    "    Input=change[\"new\"].splitlines()\n",
    "\n",
    "textarea = Textarea()\n",
    "textarea.observe(get_input, names='value')\n",
    "display(textarea)"
   ]
  },
  {
   "cell_type": "code",
   "execution_count": 80,
   "metadata": {},
   "outputs": [],
   "source": [
    "N, K = map(int, Input[0].split())\n",
    "V = tuple(map(int, Input[1].split()))"
   ]
  },
  {
   "cell_type": "code",
   "execution_count": 7,
   "metadata": {},
   "outputs": [
    {
     "name": "stdin",
     "output_type": "stream",
     "text": [
      " 6 4\n",
      " -10 8 2 1 2 6\n"
     ]
    }
   ],
   "source": [
    "N, K = map(int, input().split())\n",
    "V = list(map(int, input().split()))"
   ]
  },
  {
   "cell_type": "code",
   "execution_count": 81,
   "metadata": {},
   "outputs": [
    {
     "name": "stdout",
     "output_type": "stream",
     "text": [
      "(-6, -100, 50, -2, -5, -3)\n",
      "\n",
      "---------\n",
      "[num_take=0]\n",
      "deque=[-6, -100, 50, -2, -5, -3]\n",
      "left_right=[]\n",
      "gems=[]\n",
      "num_put=0, [0]\n",
      "\n",
      "\n",
      "\n",
      "---------\n",
      "[num_take=1]\n",
      "deque=[-6, -100, 50, -2, -5, -3]\n",
      "left_right=[1]\n",
      "right: gem=-3, deque=[-6, -100, 50, -2, -5]\n",
      "gems=[-3]\n",
      "num_put=0, [-3]\n",
      "\n",
      "\n",
      "deque=[-6, -100, 50, -2, -5, -3]\n",
      "left_right=[0]\n",
      "left: gem=-6, deque=[-100, 50, -2, -5, -3]\n",
      "gems=[-6]\n",
      "num_put=0, [-6]\n",
      "\n",
      "\n",
      "\n",
      "---------\n",
      "[num_take=2]\n",
      "deque=[-6, -100, 50, -2, -5, -3]\n",
      "left_right=[1, 1]\n",
      "right: gem=-3, deque=[-6, -100, 50, -2, -5]\n",
      "right: gem=-5, deque=[-6, -100, 50, -2]\n",
      "gems=[-5, -3]\n",
      "num_put=0, [-8]\n",
      "num_put=1, [-3]\n",
      "\n",
      "\n",
      "deque=[-6, -100, 50, -2, -5, -3]\n",
      "left_right=[0, 1]\n",
      "left: gem=-6, deque=[-100, 50, -2, -5, -3]\n",
      "right: gem=-3, deque=[-100, 50, -2, -5]\n",
      "gems=[-6, -3]\n",
      "num_put=0, [-9]\n",
      "num_put=1, [-3]\n",
      "\n",
      "\n",
      "deque=[-6, -100, 50, -2, -5, -3]\n",
      "left_right=[0, 0]\n",
      "left: gem=-6, deque=[-100, 50, -2, -5, -3]\n",
      "left: gem=-100, deque=[50, -2, -5, -3]\n",
      "gems=[-100, -6]\n",
      "num_put=0, [-106]\n",
      "num_put=1, [-6]\n",
      "\n",
      "\n",
      "\n",
      "---------\n",
      "[num_take=3]\n",
      "deque=[-6, -100, 50, -2, -5, -3]\n",
      "left_right=[1, 1, 1]\n",
      "right: gem=-3, deque=[-6, -100, 50, -2, -5]\n",
      "right: gem=-5, deque=[-6, -100, 50, -2]\n",
      "right: gem=-2, deque=[-6, -100, 50]\n",
      "gems=[-5, -3, -2]\n",
      "num_put=0, [-10]\n",
      "\n",
      "\n",
      "deque=[-6, -100, 50, -2, -5, -3]\n",
      "left_right=[0, 1, 1]\n",
      "left: gem=-6, deque=[-100, 50, -2, -5, -3]\n",
      "right: gem=-3, deque=[-100, 50, -2, -5]\n",
      "right: gem=-5, deque=[-100, 50, -2]\n",
      "gems=[-6, -5, -3]\n",
      "num_put=0, [-14]\n",
      "\n",
      "\n",
      "deque=[-6, -100, 50, -2, -5, -3]\n",
      "left_right=[0, 0, 1]\n",
      "left: gem=-6, deque=[-100, 50, -2, -5, -3]\n",
      "left: gem=-100, deque=[50, -2, -5, -3]\n",
      "right: gem=-3, deque=[50, -2, -5]\n",
      "gems=[-100, -6, -3]\n",
      "num_put=0, [-109]\n",
      "\n",
      "\n",
      "deque=[-6, -100, 50, -2, -5, -3]\n",
      "left_right=[0, 0, 0]\n",
      "left: gem=-6, deque=[-100, 50, -2, -5, -3]\n",
      "left: gem=-100, deque=[50, -2, -5, -3]\n",
      "left: gem=50, deque=[-2, -5, -3]\n",
      "gems=[-100, -6, 50]\n",
      "num_put=0, [-56]\n",
      "\n",
      "\n",
      "0\n"
     ]
    }
   ],
   "source": [
    "## debug\n",
    "\n",
    "max_value = 0\n",
    "print(V)\n",
    "for num_take in range(min(N, K)+1):  # いくつ取ろうかな\n",
    "    print(f'\\n---------\\n[{num_take=}]')  # 取る数\n",
    "    # 戻せる数の最大値は「残り手数」と「取った数-1(全部戻したら取ってない場合と同じ)」の小さい方)\n",
    "    max_put = min(K - num_take, max(num_take-1, 0))\n",
    "    for i in range(num_take+1):  # num_takeのうち、leftから取る数は i 個\n",
    "        deque = list(V)\n",
    "        gems = []  # 回収した宝石リスト\n",
    "        print(f'{deque=}')\n",
    "        left_right = [0 for _ in range(i)] + [1 for _ in range(num_take-i)]\n",
    "        print(f'{left_right=}')  # 取りかた\n",
    "        for which in left_right:  # 宝石をひとつずつ取っていく\n",
    "            if len(deque) > 0:\n",
    "                if which == 0:\n",
    "                    gem = deque.pop(0)\n",
    "                    gems.append(gem)\n",
    "                    print(f'left: {gem=}, {deque=}')\n",
    "                else:\n",
    "                    gem = deque.pop(-1)\n",
    "                    gems.append(gem)\n",
    "                    print(f'right: {gem=}, {deque=}')\n",
    "        gems.sort()\n",
    "        print(f'{gems=}')\n",
    "\n",
    "        # 価値が小さい方から順に返す\n",
    "        for num_put in range(max_put+1):\n",
    "            print(f'{num_put=}, {[sum(gems[num_put:])]}')\n",
    "        '''\n",
    "        value = max([sum(gems[num_put:]) for num_put in range(max_put+1)])\n",
    "        max_value = max(max_value, value)\n",
    "        '''\n",
    "        print('\\n')\n",
    "print(max_value)"
   ]
  },
  {
   "cell_type": "markdown",
   "metadata": {},
   "source": [
    "# submit"
   ]
  },
  {
   "cell_type": "code",
   "execution_count": 82,
   "metadata": {},
   "outputs": [
    {
     "name": "stdout",
     "output_type": "stream",
     "text": [
      "0\n"
     ]
    }
   ],
   "source": [
    "max_value = 0\n",
    "for num_take in range(min(N, K)+1):\n",
    "    max_put = min(K - num_take, max(num_take-1, 0))\n",
    "    for i in range(num_take+1):\n",
    "        deque = list(V)\n",
    "        gems = []\n",
    "        left_right = [0 for _ in range(i)] + [1 for _ in range(num_take-i)]\n",
    "        for which in left_right:\n",
    "            if len(deque) > 0:\n",
    "                if which == 0:\n",
    "                    gems.append(deque.pop(0))\n",
    "                else:\n",
    "                    gems.append(deque.pop(-1))\n",
    "        gems.sort()\n",
    "\n",
    "        value = max([sum(gems[num_put:]) for num_put in range(max_put+1)])\n",
    "        max_value = max(max_value, value)\n",
    "        \n",
    "print(max_value)"
   ]
  },
  {
   "cell_type": "code",
   "execution_count": null,
   "metadata": {},
   "outputs": [],
   "source": []
  }
 ],
 "metadata": {
  "kernelspec": {
   "display_name": "Python 3",
   "language": "python",
   "name": "python3"
  },
  "language_info": {
   "codemirror_mode": {
    "name": "ipython",
    "version": 3
   },
   "file_extension": ".py",
   "mimetype": "text/x-python",
   "name": "python",
   "nbconvert_exporter": "python",
   "pygments_lexer": "ipython3",
   "version": "3.8.1"
  }
 },
 "nbformat": 4,
 "nbformat_minor": 4
}
