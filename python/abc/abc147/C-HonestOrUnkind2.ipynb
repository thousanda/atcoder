{
 "cells": [
  {
   "cell_type": "code",
   "execution_count": 1,
   "metadata": {},
   "outputs": [
    {
     "data": {
      "application/vnd.jupyter.widget-view+json": {
       "model_id": "d09ae410ddd9459b9827db48617d6bb3",
       "version_major": 2,
       "version_minor": 0
      },
      "text/plain": [
       "Textarea(value='')"
      ]
     },
     "metadata": {},
     "output_type": "display_data"
    }
   ],
   "source": [
    "from ipywidgets import Textarea\n",
    "\n",
    "def get_input(change):\n",
    "    global Input\n",
    "    Input=change[\"new\"].splitlines()\n",
    "textarea = Textarea()\n",
    "textarea.observe(get_input, names='value')\n",
    "display(textarea)"
   ]
  },
  {
   "cell_type": "markdown",
   "metadata": {},
   "source": [
    "## debug"
   ]
  },
  {
   "cell_type": "code",
   "execution_count": 24,
   "metadata": {},
   "outputs": [
    {
     "name": "stdout",
     "output_type": "stream",
     "text": [
      "(1, 1)\n",
      "2 0\n",
      "1 0\n",
      "(0, 1)\n",
      "1 0\n",
      "finish!!!\n",
      "(0, 1)\n",
      "1\n"
     ]
    }
   ],
   "source": [
    "from itertools import product\n",
    "\n",
    "N = int(Input[0])\n",
    "all_testimonies = []\n",
    "p = 1\n",
    "for i in range(N):\n",
    "    A = int(Input[p])\n",
    "    p += 1\n",
    "    testimony = [list(map(int, Input[p+j].split())) for j in range(A)]\n",
    "    p += A\n",
    "    all_testimonies.append({'A': A, 'test': testimony})\n",
    "    \n",
    "# bit全探索?\n",
    "# １なら正直，0なら不親切\n",
    "for bits in sorted(product(*[range(2) for _ in range(N)]), key=lambda x: sum(x), reverse=True):\n",
    "    print(bits)\n",
    "    valid = True\n",
    "    for i,testimony in enumerate(all_testimonies):\n",
    "        person_is_honest = bool(bits[i])\n",
    "        if person_is_honest:\n",
    "            for j,y in testimony['test']:\n",
    "                print(j, y)\n",
    "                if bits[j-1] == y:\n",
    "                    continue\n",
    "                valid = False\n",
    "    if valid:\n",
    "        print('finish!!!')\n",
    "        print(bits)\n",
    "        print(sum(bits))\n",
    "        break\n",
    "else:\n",
    "    print(0)"
   ]
  },
  {
   "cell_type": "code",
   "execution_count": null,
   "metadata": {},
   "outputs": [],
   "source": []
  },
  {
   "cell_type": "markdown",
   "metadata": {},
   "source": [
    "## submit"
   ]
  },
  {
   "cell_type": "code",
   "execution_count": 25,
   "metadata": {},
   "outputs": [
    {
     "name": "stdin",
     "output_type": "stream",
     "text": [
      " 3\n",
      " 1\n",
      " 2 1\n",
      " 1\n",
      " 1 1\n",
      " 1\n",
      " 2 0\n"
     ]
    },
    {
     "name": "stdout",
     "output_type": "stream",
     "text": [
      "2\n"
     ]
    }
   ],
   "source": [
    "from itertools import product\n",
    "\n",
    "\n",
    "N = int(input())\n",
    "all_testimonies = []\n",
    "for i in range(N):\n",
    "    A = int(input())\n",
    "    testimony = [list(map(int, input().split())) for _ in range(A)]\n",
    "    all_testimonies.append({'A': A, 'test': testimony})\n",
    "    \n",
    "    \n",
    "# bit全探索\n",
    "for bits in sorted(product(*[range(2) for _ in range(N)]), key=lambda x: sum(x), reverse=True):\n",
    "    valid = True\n",
    "    for i,testimony in enumerate(all_testimonies):\n",
    "        person_is_honest = bool(bits[i])\n",
    "        if person_is_honest:\n",
    "            for j,y in testimony['test']:\n",
    "                if bits[j-1] == y:\n",
    "                    continue\n",
    "                valid = False\n",
    "    if valid:\n",
    "        print(sum(bits))\n",
    "        break"
   ]
  },
  {
   "cell_type": "code",
   "execution_count": null,
   "metadata": {},
   "outputs": [],
   "source": []
  },
  {
   "cell_type": "code",
   "execution_count": null,
   "metadata": {},
   "outputs": [],
   "source": []
  }
 ],
 "metadata": {
  "kernelspec": {
   "display_name": "Python 3",
   "language": "python",
   "name": "python3"
  },
  "language_info": {
   "codemirror_mode": {
    "name": "ipython",
    "version": 3
   },
   "file_extension": ".py",
   "mimetype": "text/x-python",
   "name": "python",
   "nbconvert_exporter": "python",
   "pygments_lexer": "ipython3",
   "version": "3.8.1"
  }
 },
 "nbformat": 4,
 "nbformat_minor": 4
}
