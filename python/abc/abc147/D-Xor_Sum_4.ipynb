{
 "cells": [
  {
   "cell_type": "code",
   "execution_count": 1,
   "metadata": {},
   "outputs": [
    {
     "data": {
      "application/vnd.jupyter.widget-view+json": {
       "model_id": "589f29c76a0247f6869b1139905e8fc8",
       "version_major": 2,
       "version_minor": 0
      },
      "text/plain": [
       "Textarea(value='')"
      ]
     },
     "metadata": {},
     "output_type": "display_data"
    }
   ],
   "source": [
    "from ipywidgets import Textarea\n",
    "\n",
    "def get_input(change):\n",
    "    global Input\n",
    "    Input=change[\"new\"].splitlines()\n",
    "textarea = Textarea()\n",
    "textarea.observe(get_input, names='value')\n",
    "display(textarea)"
   ]
  },
  {
   "cell_type": "markdown",
   "metadata": {},
   "source": [
    "# 桁ごとに考える\n",
    "\n",
    "d桁目に1が立っている数がいくつあるか数える (num個とする)  \n",
    "各桁において、片方が0，もう片方が1の組み合わせの時にxorは1になるので、  \n",
    "0の個数 x 1の個数 x 2^d という感じのやつを全桁でやって和をとる  \n",
    " => (N-num) * num * 2**d"
   ]
  },
  {
   "cell_type": "markdown",
   "metadata": {},
   "source": [
    "## debug"
   ]
  },
  {
   "cell_type": "code",
   "execution_count": 32,
   "metadata": {},
   "outputs": [
    {
     "name": "stdout",
     "output_type": "stream",
     "text": [
      "103715602\n"
     ]
    }
   ],
   "source": [
    "MOD = 10**9 + 7\n",
    "\n",
    "N = int(Input[0])\n",
    "A = list(map(int, Input[1].split()))\n",
    "\n",
    "num_per_digit = [0]*60\n",
    "\n",
    "for i in range(60):\n",
    "    num = 0\n",
    "    for j,a in enumerate(A):\n",
    "        num += a % 2\n",
    "        A[j] //= 2\n",
    "    num_per_digit[i] = num\n",
    "\n",
    "result = 0    \n",
    "for d,num in enumerate(num_per_digit):\n",
    "    result = (result + num * (N - num) * pow(2, d, MOD)) % MOD\n",
    "    \n",
    "print(result)"
   ]
  },
  {
   "cell_type": "code",
   "execution_count": null,
   "metadata": {},
   "outputs": [],
   "source": []
  },
  {
   "cell_type": "markdown",
   "metadata": {},
   "source": [
    "## submit"
   ]
  },
  {
   "cell_type": "code",
   "execution_count": 33,
   "metadata": {},
   "outputs": [
    {
     "name": "stdin",
     "output_type": "stream",
     "text": [
      " 10\n",
      " 3 14 159 2653 58979 323846 2643383 27950288 419716939 9375105820\n"
     ]
    },
    {
     "name": "stdout",
     "output_type": "stream",
     "text": [
      "103715602\n"
     ]
    }
   ],
   "source": [
    "MOD = 10**9 + 7\n",
    "\n",
    "N = int(input())\n",
    "A = list(map(int, input().split()))\n",
    "\n",
    "num_per_digit = [0]*60\n",
    "\n",
    "for i in range(60):\n",
    "    num = 0\n",
    "    for j,a in enumerate(A):\n",
    "        num += a % 2\n",
    "        A[j] //= 2\n",
    "    num_per_digit[i] = num\n",
    "\n",
    "result = 0    \n",
    "for d,num in enumerate(num_per_digit):\n",
    "    result = (result + num * (N - num) * pow(2, d, MOD)) % MOD\n",
    "    \n",
    "print(result)"
   ]
  }
 ],
 "metadata": {
  "kernelspec": {
   "display_name": "Python 3",
   "language": "python",
   "name": "python3"
  },
  "language_info": {
   "codemirror_mode": {
    "name": "ipython",
    "version": 3
   },
   "file_extension": ".py",
   "mimetype": "text/x-python",
   "name": "python",
   "nbconvert_exporter": "python",
   "pygments_lexer": "ipython3",
   "version": "3.8.1"
  }
 },
 "nbformat": 4,
 "nbformat_minor": 4
}
