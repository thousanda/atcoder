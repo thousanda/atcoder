{
 "cells": [
  {
   "cell_type": "code",
   "execution_count": 60,
   "metadata": {},
   "outputs": [
    {
     "name": "stdin",
     "output_type": "stream",
     "text": [
      " 3 2\n",
      " 5 1 4\n",
      " 2 3\n",
      " 1 5\n"
     ]
    }
   ],
   "source": [
    "N, M = map(int, input().split())\n",
    "A = sorted(list(map(int, input().split())), reverse=True)\n",
    "BC = sorted(\n",
    "    [list(map(int, input().split())) for _ in range(M)],\n",
    "    reverse=True,\n",
    "    key=lambda x: x[1]\n",
    ")"
   ]
  },
  {
   "cell_type": "code",
   "execution_count": 72,
   "metadata": {},
   "outputs": [],
   "source": [
    "N = 10\n",
    "M = 3\n",
    "A = sorted([1, 8, 5, 7, 100, 4, 52, 33, 13, 5], reverse=True)\n",
    "BC = sorted([[3, 10], [4, 30], [1, 4]],\n",
    "           reverse=True,\n",
    "           key=lambda x: x[1]\n",
    "           )"
   ]
  },
  {
   "cell_type": "code",
   "execution_count": 73,
   "metadata": {},
   "outputs": [
    {
     "name": "stdout",
     "output_type": "stream",
     "text": [
      "338\n"
     ]
    }
   ],
   "source": [
    "BClist = []\n",
    "for m in range(M):\n",
    "    b, c = BC[m]\n",
    "    BClist.extend([c for _ in range(b)])\n",
    "    if len(BClist) > N:\n",
    "        break\n",
    "\n",
    "final_list = [None]*N\n",
    "i_a = 0\n",
    "i_bc = 0\n",
    "for n in range(N):\n",
    "    if i_bc >= len(BClist):\n",
    "        final_list[n] = A[i_a]\n",
    "        i_a += 1\n",
    "    else:\n",
    "        if A[i_a] > BClist[i_bc]:\n",
    "            final_list[n] = A[i_a]\n",
    "            i_a += 1\n",
    "        else:\n",
    "            final_list[n] = BClist[i_bc]\n",
    "            i_bc += 1\n",
    "print(sum(final_list))"
   ]
  },
  {
   "cell_type": "code",
   "execution_count": null,
   "metadata": {},
   "outputs": [],
   "source": []
  },
  {
   "cell_type": "code",
   "execution_count": 38,
   "metadata": {},
   "outputs": [
    {
     "name": "stdout",
     "output_type": "stream",
     "text": [
      "338\n"
     ]
    }
   ],
   "source": [
    "# This answer was TLE\n",
    "\n",
    "for b, c in BC:\n",
    "    for i in range(b):\n",
    "        if A[i] < c:\n",
    "            A[i] = c\n",
    "        else:\n",
    "            break\n",
    "    A.sort()\n",
    "    \n",
    "print(sum(A))"
   ]
  }
 ],
 "metadata": {
  "kernelspec": {
   "display_name": "Python 3",
   "language": "python",
   "name": "python3"
  },
  "language_info": {
   "codemirror_mode": {
    "name": "ipython",
    "version": 3
   },
   "file_extension": ".py",
   "mimetype": "text/x-python",
   "name": "python",
   "nbconvert_exporter": "python",
   "pygments_lexer": "ipython3",
   "version": "3.8.1"
  }
 },
 "nbformat": 4,
 "nbformat_minor": 4
}
