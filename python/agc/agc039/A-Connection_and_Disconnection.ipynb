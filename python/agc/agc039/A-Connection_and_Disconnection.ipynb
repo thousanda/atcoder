{
 "cells": [
  {
   "cell_type": "code",
   "execution_count": 1,
   "metadata": {},
   "outputs": [
    {
     "data": {
      "application/vnd.jupyter.widget-view+json": {
       "model_id": "8641b27cc1ee4fdc976749a31e66df23",
       "version_major": 2,
       "version_minor": 0
      },
      "text/plain": [
       "Textarea(value='')"
      ]
     },
     "metadata": {},
     "output_type": "display_data"
    }
   ],
   "source": [
    "from ipywidgets import Textarea\n",
    "\n",
    "def get_input(change):\n",
    "    global Input\n",
    "    Input=change[\"new\"].splitlines()\n",
    "textarea = Textarea()\n",
    "textarea.observe(get_input, names='value')\n",
    "display(textarea)"
   ]
  },
  {
   "cell_type": "code",
   "execution_count": 39,
   "metadata": {},
   "outputs": [],
   "source": [
    "S = Input[0]\n",
    "K = int(Input[1])"
   ]
  },
  {
   "cell_type": "markdown",
   "metadata": {},
   "source": [
    "# Run Length Encoding\n",
    "してから、先頭と末尾の文字列が同じかどうかを考えた"
   ]
  },
  {
   "cell_type": "markdown",
   "metadata": {},
   "source": [
    "## debug"
   ]
  },
  {
   "cell_type": "code",
   "execution_count": 41,
   "metadata": {},
   "outputs": [
    {
     "name": "stdout",
     "output_type": "stream",
     "text": [
      "prev='c', s='o'\n",
      "different char! lengths=[['c', 1]]\n",
      "prev='o', s='o'\n",
      "same char! length=2\n",
      "prev='o', s='o'\n",
      "same char! length=3\n",
      "prev='o', s='o'\n",
      "same char! length=4\n",
      "prev='o', s='o'\n",
      "same char! length=5\n",
      "prev='o', s='o'\n",
      "same char! length=6\n",
      "prev='o', s='o'\n",
      "same char! length=7\n",
      "prev='o', s='o'\n",
      "same char! length=8\n",
      "prev='o', s='o'\n",
      "same char! length=9\n",
      "prev='o', s='n'\n",
      "different char! lengths=[['c', 1], ['o', 9]]\n",
      "prev='n', s='t'\n",
      "different char! lengths=[['c', 1], ['o', 9], ['n', 1]]\n",
      "prev='t', s='e'\n",
      "different char! lengths=[['c', 1], ['o', 9], ['n', 1], ['t', 1]]\n",
      "prev='e', s='e'\n",
      "same char! length=2\n",
      "prev='e', s='e'\n",
      "same char! length=3\n",
      "prev='e', s='e'\n",
      "same char! length=4\n",
      "prev='e', s='e'\n",
      "same char! length=5\n",
      "prev='e', s='e'\n",
      "same char! length=6\n",
      "prev='e', s='e'\n",
      "same char! length=7\n",
      "prev='e', s='e'\n",
      "same char! length=8\n",
      "prev='e', s='e'\n",
      "same char! length=9\n",
      "prev='e', s='e'\n",
      "same char! length=10\n",
      "prev='e', s='s'\n",
      "different char! lengths=[['c', 1], ['o', 9], ['n', 1], ['t', 1], ['e', 10]]\n",
      "prev='s', s='t'\n",
      "different char! lengths=[['c', 1], ['o', 9], ['n', 1], ['t', 1], ['e', 10], ['s', 1]]\n",
      "final one is appended lengths=[['c', 1], ['o', 9], ['n', 1], ['t', 1], ['e', 10], ['s', 1], ['t', 1]]\n",
      "head and tail are different\n",
      "8999939997\n"
     ]
    }
   ],
   "source": [
    "#T = S*K\n",
    "\n",
    "# 連続した同じ文字の個数をカウントしてく (Run length encoding)\n",
    "lengths = []\n",
    "s = S[0]\n",
    "prev = S[0]\n",
    "length = 1\n",
    "for s in S[1:]:\n",
    "    print(F'{prev=}, {s=}')\n",
    "    if s == prev:\n",
    "        length += 1\n",
    "        print(f'same char! {length=}')\n",
    "    else:\n",
    "        lengths.append([prev, length])\n",
    "        length = 1\n",
    "        print(f'different char! {lengths=}')\n",
    "    prev = s\n",
    "lengths.append([s, length])\n",
    "print(f'final one is appended {lengths=}')\n",
    "\n",
    "# 文字が一種類なら 入力文字数*K 同じ文字が続く\n",
    "if len(lengths) == 1:\n",
    "    print(f'one char pattern')\n",
    "    ans = lengths[0][1] * K // 2\n",
    "# 分割されるなら、最初最後が同じか否かで場合わけ\n",
    "else:\n",
    "    if lengths[0][0] == lengths[-1][0]:\n",
    "        print('head and tail are same')\n",
    "        joint_len = lengths[0][1] + lengths[-1][1]\n",
    "        ans = lengths[0][1] // 2\n",
    "        print(ans)\n",
    "        ans += sum([i[1]//2 for i in lengths[1:-1]]) * K\n",
    "        print(ans)\n",
    "        ans += joint_len // 2 * (K-1)\n",
    "        print(ans)\n",
    "        ans += lengths[-1][1] // 2\n",
    "    else:\n",
    "        print('head and tail are different')\n",
    "        ans = sum([i[1]//2 for i in lengths]) * K\n",
    "print(ans)    "
   ]
  },
  {
   "cell_type": "raw",
   "metadata": {},
   "source": [
    "issiiissii"
   ]
  },
  {
   "cell_type": "raw",
   "metadata": {},
   "source": [
    "cooooooooonteeeeeeeeeest\n",
    "999993333"
   ]
  },
  {
   "cell_type": "markdown",
   "metadata": {},
   "source": [
    "## submit"
   ]
  },
  {
   "cell_type": "code",
   "execution_count": 44,
   "metadata": {},
   "outputs": [
    {
     "name": "stdin",
     "output_type": "stream",
     "text": [
      " issii\n",
      " 2\n"
     ]
    },
    {
     "name": "stdout",
     "output_type": "stream",
     "text": [
      "4\n"
     ]
    }
   ],
   "source": [
    "def main():\n",
    "    S = input()\n",
    "    K = int(input())\n",
    "    \n",
    "    lengths = []\n",
    "    s = S[0]\n",
    "    prev = S[0]\n",
    "    length = 1\n",
    "    for s in S[1:]:\n",
    "        if s == prev:\n",
    "            length += 1\n",
    "        else:\n",
    "            lengths.append([prev, length])\n",
    "            length = 1\n",
    "        prev = s\n",
    "    lengths.append([s, length])\n",
    "\n",
    "    if len(lengths) == 1:\n",
    "        ans = lengths[0][1] * K // 2\n",
    "    else:\n",
    "        if lengths[0][0] == lengths[-1][0]:\n",
    "            joint_len = lengths[0][1] + lengths[-1][1]\n",
    "            ans = lengths[0][1] // 2\n",
    "            ans += sum([i[1]//2 for i in lengths[1:-1]]) * K\n",
    "            ans += joint_len // 2 * (K-1)\n",
    "            ans += lengths[-1][1] // 2\n",
    "        else:\n",
    "            ans = sum([i[1]//2 for i in lengths]) * K\n",
    "    print(ans)\n",
    "main()"
   ]
  }
 ],
 "metadata": {
  "kernelspec": {
   "display_name": "Python 3",
   "language": "python",
   "name": "python3"
  },
  "language_info": {
   "codemirror_mode": {
    "name": "ipython",
    "version": 3
   },
   "file_extension": ".py",
   "mimetype": "text/x-python",
   "name": "python",
   "nbconvert_exporter": "python",
   "pygments_lexer": "ipython3",
   "version": "3.8.1"
  }
 },
 "nbformat": 4,
 "nbformat_minor": 4
}
