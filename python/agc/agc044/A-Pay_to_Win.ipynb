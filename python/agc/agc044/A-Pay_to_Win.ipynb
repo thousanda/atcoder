{
 "cells": [
  {
   "cell_type": "code",
   "execution_count": 1,
   "metadata": {},
   "outputs": [
    {
     "data": {
      "application/vnd.jupyter.widget-view+json": {
       "model_id": "9f3436f690304dbdae1f24701a83a26e",
       "version_major": 2,
       "version_minor": 0
      },
      "text/plain": [
       "Textarea(value='')"
      ]
     },
     "metadata": {},
     "output_type": "display_data"
    }
   ],
   "source": [
    "from ipywidgets import Textarea\n",
    "\n",
    "def get_input(change):\n",
    "    global Input\n",
    "    Input=change[\"new\"].splitlines()\n",
    "textarea = Textarea()\n",
    "textarea.observe(get_input, names='value')\n",
    "display(textarea)"
   ]
  },
  {
   "cell_type": "code",
   "execution_count": 7,
   "metadata": {},
   "outputs": [],
   "source": [
    "T = int(Input[0])\n",
    "case = [list(map(int, i.split())) for i in Input[1:]]"
   ]
  },
  {
   "cell_type": "markdown",
   "metadata": {},
   "source": [
    "## debug"
   ]
  },
  {
   "cell_type": "code",
   "execution_count": null,
   "metadata": {},
   "outputs": [],
   "source": []
  },
  {
   "cell_type": "code",
   "execution_count": null,
   "metadata": {},
   "outputs": [],
   "source": []
  },
  {
   "cell_type": "markdown",
   "metadata": {},
   "source": [
    "# 以下、コンテスト時間中に書いたやつ"
   ]
  },
  {
   "cell_type": "markdown",
   "metadata": {},
   "source": [
    "# DP almost all search"
   ]
  },
  {
   "cell_type": "markdown",
   "metadata": {},
   "source": [
    "## debug"
   ]
  },
  {
   "cell_type": "code",
   "execution_count": 26,
   "metadata": {},
   "outputs": [],
   "source": [
    "# for debug\n",
    "class Cost_Table:\n",
    "    def __init__(self, table=None):\n",
    "        self.table = table if (table is not None) else {}\n",
    "    def update(self, num, cost):\n",
    "        if num in self.table:\n",
    "            if cost < self.table[num]:\n",
    "                self.table[num] = cost\n",
    "                print(f'{num=} cost table was updated {self.table}')\n",
    "                return True\n",
    "            else:\n",
    "                print(f'{num=} existing cost is lower ')\n",
    "                return False\n",
    "        else:\n",
    "            self.table[num] = cost\n",
    "            print(f'{num=} new cost was added {self.table}')\n",
    "            return True\n",
    "    def get_cost(self, num):\n",
    "        return self.table[num]"
   ]
  },
  {
   "cell_type": "code",
   "execution_count": 31,
   "metadata": {},
   "outputs": [],
   "source": [
    "class Cost_Table:\n",
    "    def __init__(self, table=None):\n",
    "        self.table = table if (table is not None) else {}\n",
    "    def update(self, num, cost):\n",
    "        if num in self.table:\n",
    "            if cost < self.table[num]:\n",
    "                self.table[num] = cost\n",
    "                return True\n",
    "            else:\n",
    "                return False\n",
    "        else:\n",
    "            self.table[num] = cost\n",
    "            return True\n",
    "    def get_cost(self, num):\n",
    "        return self.table[num]"
   ]
  },
  {
   "cell_type": "code",
   "execution_count": 35,
   "metadata": {},
   "outputs": [
    {
     "name": "stdout",
     "output_type": "stream",
     "text": [
      "22\n"
     ]
    }
   ],
   "source": [
    "N, A, B, C, D = case[2]\n",
    "cost_table = Cost_Table({N: 0})\n",
    "will_be_evaluated = [N]\n",
    "for n in will_be_evaluated:\n",
    "    if n < 2 or n >= N*2:\n",
    "        continue\n",
    "    accum_cost = cost_table.get_cost(n)\n",
    "    if n % 2 == 0:\n",
    "        temp = n // 2\n",
    "        table_was_updated = cost_table.update(temp, accum_cost + A)\n",
    "        if table_was_updated:\n",
    "            will_be_evaluated.append(temp)\n",
    "    if n % 3 == 0:\n",
    "        temp = n // 3\n",
    "        table_was_updated = cost_table.update(temp, accum_cost + B)\n",
    "        if table_was_updated:\n",
    "            will_be_evaluated.append(temp)\n",
    "    if n % 5 == 0:\n",
    "        temp = n // 5\n",
    "        table_was_updated = cost_table.update(temp, accum_cost + C)\n",
    "        if table_was_updated:\n",
    "            will_be_evaluated.append(temp)\n",
    "    # plus minus 1\n",
    "    table_was_updated = cost_table.update(n+1, accum_cost + D)\n",
    "    if table_was_updated:\n",
    "        will_be_evaluated.append(n+1)\n",
    "    table_was_updated = cost_table.update(n-1, accum_cost + D)\n",
    "    if table_was_updated:\n",
    "        will_be_evaluated.append(n-1)\n",
    "print(cost_table.table[1])"
   ]
  },
  {
   "cell_type": "markdown",
   "metadata": {},
   "source": [
    "# できるだけ割って無理ならプラマイ1を使う。割るより-1を何回も使う方がコストが軽いならそうする"
   ]
  },
  {
   "cell_type": "markdown",
   "metadata": {},
   "source": [
    "## debug"
   ]
  },
  {
   "cell_type": "code",
   "execution_count": 41,
   "metadata": {},
   "outputs": [
    {
     "name": "stdout",
     "output_type": "stream",
     "text": [
      "12\n",
      "11\n",
      "22\n",
      "3821859834\n",
      "22453604345\n"
     ]
    }
   ],
   "source": [
    "for N, A, B, C, D in case:\n",
    "    cost_table = Cost_Table({N: 0})\n",
    "    will_be_evaluated = [N]\n",
    "    for n in will_be_evaluated:\n",
    "        if n < 2:\n",
    "            continue\n",
    "        accum_cost = cost_table.get_cost(n)\n",
    "        if n % 2 == 0:\n",
    "            temp = n // 2\n",
    "            if A < (n-temp)*D:\n",
    "                table_was_updated = cost_table.update(temp, accum_cost + A)\n",
    "            else:\n",
    "                table_was_updated = cost_table.update(temp, accum_cost + (n-temp)*D)\n",
    "            if table_was_updated:\n",
    "                will_be_evaluated.append(temp)\n",
    "        if n % 3 == 0:\n",
    "            temp = n // 3\n",
    "            if B < (n-temp)*D:\n",
    "                table_was_updated = cost_table.update(temp, accum_cost + B)\n",
    "            else:\n",
    "                table_was_updated = cost_table.update(temp, accum_cost + (n-temp)*D)\n",
    "            if table_was_updated:\n",
    "                will_be_evaluated.append(temp)\n",
    "        if n % 5 == 0:\n",
    "            temp = n // 5\n",
    "            if C < (n-temp)*D:\n",
    "                table_was_updated = cost_table.update(temp, accum_cost + C)\n",
    "            else:\n",
    "                table_was_updated = cost_table.update(temp, accum_cost + (n-temp)*D)\n",
    "            if table_was_updated:\n",
    "                will_be_evaluated.append(temp)\n",
    "        # plus minus 1\n",
    "        if (n % 2 != 0) or (n % 3 != 0) or (n % 5 != 0):\n",
    "            table_was_updated = cost_table.update(n+1, accum_cost + D)\n",
    "            if table_was_updated:\n",
    "                will_be_evaluated.append(n+1)\n",
    "            table_was_updated = cost_table.update(n-1, accum_cost + D)\n",
    "            if table_was_updated:\n",
    "                will_be_evaluated.append(n-1)\n",
    "    print(cost_table.table[1])"
   ]
  },
  {
   "cell_type": "markdown",
   "metadata": {},
   "source": [
    "## submit"
   ]
  },
  {
   "cell_type": "code",
   "execution_count": 44,
   "metadata": {},
   "outputs": [
    {
     "name": "stdin",
     "output_type": "stream",
     "text": [
      " 5\n",
      " 11 1 2 4 8\n",
      " 11 1 2 2 8\n",
      " 21 10 8 5 4\n",
      " 11 1 2 4 8\n",
      " 11 1 2 4 8\n"
     ]
    },
    {
     "name": "stdout",
     "output_type": "stream",
     "text": [
      "12\n",
      "11\n",
      "18\n",
      "12\n",
      "12\n"
     ]
    }
   ],
   "source": [
    "class Cost_Table:\n",
    "    def __init__(self, table=None):\n",
    "        self.table = table if (table is not None) else {}\n",
    "    def update(self, num, cost):\n",
    "        if num in self.table:\n",
    "            if cost < self.table[num]:\n",
    "                self.table[num] = cost\n",
    "                return True\n",
    "            else:\n",
    "                return False\n",
    "        else:\n",
    "            self.table[num] = cost\n",
    "            return True\n",
    "    def get_cost(self, num):\n",
    "        return self.table[num]\n",
    "    \n",
    "def main():\n",
    "    T = int(input())\n",
    "    case = [list(map(int, input().split())) for i in range(T)]\n",
    "    for N, A, B, C, D in case:\n",
    "        cost_table = Cost_Table({N: 0})\n",
    "        will_be_evaluated = [N]\n",
    "        for n in will_be_evaluated:\n",
    "            if n < 2:\n",
    "                continue\n",
    "            accum_cost = cost_table.get_cost(n)\n",
    "            if n % 2 == 0:\n",
    "                temp = n // 2\n",
    "                if A < (n-temp)*D:\n",
    "                    table_was_updated = cost_table.update(temp, accum_cost + A)\n",
    "                else:\n",
    "                    table_was_updated = cost_table.update(temp, accum_cost + (n-temp)*D)\n",
    "                if table_was_updated:\n",
    "                    will_be_evaluated.append(temp)\n",
    "            if n % 3 == 0:\n",
    "                temp = n // 3\n",
    "                if B < (n-temp)*D:\n",
    "                    table_was_updated = cost_table.update(temp, accum_cost + B)\n",
    "                else:\n",
    "                    table_was_updated = cost_table.update(temp, accum_cost + (n-temp)*D)\n",
    "                if table_was_updated:\n",
    "                    will_be_evaluated.append(temp)\n",
    "            if n % 5 == 0:\n",
    "                temp = n // 5\n",
    "                if C < (n-temp)*D:\n",
    "                    table_was_updated = cost_table.update(temp, accum_cost + C)\n",
    "                else:\n",
    "                    table_was_updated = cost_table.update(temp, accum_cost + (n-temp)*D)\n",
    "                if table_was_updated:\n",
    "                    will_be_evaluated.append(temp)\n",
    "            # plus minus 1\n",
    "            if (n % 2 != 0) or (n % 3 != 0) or (n % 5 != 0):\n",
    "                table_was_updated = cost_table.update(n+1, accum_cost + D)\n",
    "                if table_was_updated:\n",
    "                    will_be_evaluated.append(n+1)\n",
    "                table_was_updated = cost_table.update(n-1, accum_cost + D)\n",
    "                if table_was_updated:\n",
    "                    will_be_evaluated.append(n-1)\n",
    "        print(cost_table.table[1])\n",
    "main()"
   ]
  }
 ],
 "metadata": {
  "kernelspec": {
   "display_name": "Python 3",
   "language": "python",
   "name": "python3"
  },
  "language_info": {
   "codemirror_mode": {
    "name": "ipython",
    "version": 3
   },
   "file_extension": ".py",
   "mimetype": "text/x-python",
   "name": "python",
   "nbconvert_exporter": "python",
   "pygments_lexer": "ipython3",
   "version": "3.8.1"
  }
 },
 "nbformat": 4,
 "nbformat_minor": 4
}
