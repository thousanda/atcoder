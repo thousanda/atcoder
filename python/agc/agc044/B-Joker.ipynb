{
 "cells": [
  {
   "cell_type": "code",
   "execution_count": 1,
   "metadata": {},
   "outputs": [
    {
     "data": {
      "application/vnd.jupyter.widget-view+json": {
       "model_id": "31a73bf1a5014121b7958d190512280d",
       "version_major": 2,
       "version_minor": 0
      },
      "text/plain": [
       "Textarea(value='')"
      ]
     },
     "metadata": {},
     "output_type": "display_data"
    }
   ],
   "source": [
    "from ipywidgets import Textarea\n",
    "\n",
    "def get_input(change):\n",
    "    global Input\n",
    "    Input=change[\"new\"].splitlines()\n",
    "textarea = Textarea()\n",
    "textarea.observe(get_input, names='value')\n",
    "display(textarea)"
   ]
  },
  {
   "cell_type": "code",
   "execution_count": 46,
   "metadata": {},
   "outputs": [],
   "source": [
    "N = int(Input[0])\n",
    "P = list(map(int, Input[1].split()))"
   ]
  },
  {
   "cell_type": "markdown",
   "metadata": {},
   "source": [
    "## debug"
   ]
  },
  {
   "cell_type": "code",
   "execution_count": null,
   "metadata": {},
   "outputs": [],
   "source": []
  },
  {
   "cell_type": "code",
   "execution_count": null,
   "metadata": {},
   "outputs": [],
   "source": []
  },
  {
   "cell_type": "markdown",
   "metadata": {},
   "source": [
    "# 以下、コンテスト時間中に書いたやつ"
   ]
  },
  {
   "cell_type": "code",
   "execution_count": 57,
   "metadata": {},
   "outputs": [
    {
     "name": "stdout",
     "output_type": "stream",
     "text": [
      "p=11 (1, 4), left=4, right=1, up=1, down=4\n",
      "hate=1\n",
      "p=21 (3, 2), left=2, right=3, up=3, down=2\n",
      "hate=2\n",
      "p=35 (5, 4), left=4, right=1, up=4, down=0\n",
      "hate=0\n",
      "p=22 (3, 3), left=2, right=2, up=3, down=2\n",
      "hate=2\n",
      "p=7 (1, 0), left=0, right=4, up=1, down=4\n",
      "hate=0\n",
      "p=36 (5, 5), left=4, right=0, up=5, down=0\n",
      "hate=0\n",
      "p=27 (4, 2), left=2, right=3, up=3, down=1\n",
      "hate=1\n",
      "p=34 (5, 3), left=3, right=0, up=4, down=0\n",
      "hate=0\n",
      "p=8 (1, 1), left=0, right=3, up=1, down=4\n",
      "hate=0\n",
      "p=20 (3, 1), left=1, right=2, up=2, down=2\n",
      "hate=1\n",
      "p=15 (2, 2), left=2, right=3, up=2, down=1\n",
      "hate=1\n",
      "p=13 (2, 0), left=0, right=4, up=1, down=3\n",
      "hate=0\n",
      "p=16 (2, 3), left=1, right=2, up=2, down=1\n",
      "hate=1\n",
      "p=1 (0, 0), left=0, right=5, up=0, down=3\n",
      "hate=0\n",
      "p=24 (3, 5), left=2, right=0, up=3, down=1\n",
      "hate=0\n",
      "p=3 (0, 2), left=1, right=3, up=0, down=2\n",
      "hate=0\n",
      "p=2 (0, 1), left=0, right=3, up=0, down=3\n",
      "hate=0\n",
      "p=17 (2, 4), left=1, right=1, up=1, down=2\n",
      "hate=1\n",
      "p=26 (4, 1), left=1, right=3, up=1, down=1\n",
      "hate=1\n",
      "p=9 (1, 2), left=0, right=2, up=0, down=1\n",
      "hate=0\n",
      "p=18 (2, 5), left=1, right=0, up=2, down=1\n",
      "hate=0\n",
      "p=32 (5, 1), left=1, right=1, up=1, down=0\n",
      "hate=0\n",
      "p=31 (5, 0), left=0, right=1, up=2, down=0\n",
      "hate=0\n",
      "p=23 (3, 4), left=1, right=0, up=1, down=1\n",
      "hate=0\n",
      "p=19 (3, 0), left=0, right=0, up=0, down=1\n",
      "hate=0\n",
      "p=14 (2, 1), left=0, right=0, up=0, down=0\n",
      "hate=0\n",
      "p=4 (0, 3), left=0, right=2, up=0, down=2\n",
      "hate=0\n",
      "p=25 (4, 0), left=0, right=3, up=0, down=0\n",
      "hate=0\n",
      "p=10 (1, 3), left=0, right=1, up=0, down=1\n",
      "hate=0\n",
      "p=29 (4, 4), left=1, right=1, up=1, down=0\n",
      "hate=0\n",
      "p=28 (4, 3), left=0, right=1, up=0, down=0\n",
      "hate=0\n",
      "p=33 (5, 2), left=0, right=0, up=0, down=0\n",
      "hate=0\n",
      "p=12 (1, 5), left=0, right=0, up=1, down=1\n",
      "hate=0\n",
      "p=6 (0, 5), left=1, right=0, up=0, down=1\n",
      "hate=0\n",
      "p=5 (0, 4), left=0, right=0, up=0, down=0\n",
      "hate=0\n",
      "p=30 (4, 5), left=0, right=0, up=0, down=0\n",
      "hate=0\n",
      "11\n"
     ]
    }
   ],
   "source": [
    "import numpy as np\n",
    "\n",
    "ans = 0\n",
    "seat = np.ones([N, N], dtype=np.int)\n",
    "for p in P:\n",
    "    j = (p-1) % N\n",
    "    i = (p-1-j) // N\n",
    "    left = sum(seat[i, :j])\n",
    "    right = sum(seat[i, j+1:])\n",
    "    up = sum(seat[:, j][:i])\n",
    "    down = sum(seat[:, j][i+1:])\n",
    "    print(f'{p=} ({i}, {j}), {left=}, {right=}, {up=}, {down=}')\n",
    "    hate = min(left, right, up, down)\n",
    "    print(f'{hate=}')\n",
    "    ans += hate\n",
    "    seat[i][j] = 0\n",
    "print(ans)"
   ]
  },
  {
   "cell_type": "code",
   "execution_count": 59,
   "metadata": {},
   "outputs": [
    {
     "name": "stdin",
     "output_type": "stream",
     "text": [
      " 6\n",
      " 11 21 35 22 7 36 27 34 8 20 15 13 16 1 24 3 2 17 26 9 18 32 31 23 19 14 4 25 10 29 28 33 12 6 5 30\n"
     ]
    },
    {
     "name": "stdout",
     "output_type": "stream",
     "text": [
      "11\n"
     ]
    }
   ],
   "source": [
    "import numpy as np\n",
    "def main():\n",
    "    N = int(input())\n",
    "    P = list(map(int, input().split()))\n",
    "\n",
    "    ans = 0\n",
    "    seat = np.ones([N, N], dtype=np.int)\n",
    "    for p in P:\n",
    "        j = (p-1) % N\n",
    "        i = (p-1-j) // N\n",
    "        left = sum(seat[i, :j])\n",
    "        right = sum(seat[i, j+1:])\n",
    "        up = sum(seat[:, j][:i])\n",
    "        down = sum(seat[:, j][i+1:])\n",
    "        hate = min(left, right, up, down)\n",
    "        ans += hate\n",
    "        seat[i][j] = 0\n",
    "    print(ans)\n",
    "main()"
   ]
  }
 ],
 "metadata": {
  "kernelspec": {
   "display_name": "Python 3",
   "language": "python",
   "name": "python3"
  },
  "language_info": {
   "codemirror_mode": {
    "name": "ipython",
    "version": 3
   },
   "file_extension": ".py",
   "mimetype": "text/x-python",
   "name": "python",
   "nbconvert_exporter": "python",
   "pygments_lexer": "ipython3",
   "version": "3.8.1"
  }
 },
 "nbformat": 4,
 "nbformat_minor": 4
}
