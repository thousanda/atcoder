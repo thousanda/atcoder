{
 "cells": [
  {
   "cell_type": "code",
   "execution_count": 1,
   "metadata": {},
   "outputs": [
    {
     "data": {
      "application/vnd.jupyter.widget-view+json": {
       "model_id": "0dca73c1e54c4676bce5d863e2d2decc",
       "version_major": 2,
       "version_minor": 0
      },
      "text/plain": [
       "Textarea(value='')"
      ]
     },
     "metadata": {},
     "output_type": "display_data"
    }
   ],
   "source": [
    "from ipywidgets import Textarea\n",
    "\n",
    "def get_input(change):\n",
    "    global Input\n",
    "    Input=change[\"new\"].splitlines()\n",
    "textarea = Textarea()\n",
    "textarea.observe(get_input, names='value')\n",
    "display(textarea)"
   ]
  },
  {
   "cell_type": "code",
   "execution_count": 44,
   "metadata": {},
   "outputs": [],
   "source": [
    "S = Input[0]"
   ]
  },
  {
   "cell_type": "markdown",
   "metadata": {},
   "source": [
    "# Greedy\n",
    "計算される数字は合ってるけど、厳密には問題に合った考え方になってない"
   ]
  },
  {
   "cell_type": "markdown",
   "metadata": {},
   "source": [
    "## debug"
   ]
  },
  {
   "cell_type": "code",
   "execution_count": 46,
   "metadata": {},
   "outputs": [
    {
     "name": "stdout",
     "output_type": "stream",
     "text": [
      "i=0, S[i]=a, chars=a, buf=''\n",
      "i=1, S[i]='a', chars='a', buf='a'\n",
      "Oops, add next char to chars\n",
      "i=2, S[i]='a', chars='aa', buf='a'\n",
      "ans++ buf='aa'\n",
      "i=3, S[i]='c', chars='c', buf='aa'\n",
      "ans++ buf='c'\n",
      "i=4, S[i]='c', chars='c', buf='c'\n",
      "Oops, add next char to chars\n",
      "i=5, S[i]='a', chars='ca', buf='c'\n",
      "ans++ buf='ca'\n",
      "i=6, S[i]='c', chars='c', buf='ca'\n",
      "ans++ buf='c'\n",
      "i=7, S[i]='a', chars='a', buf='c'\n",
      "ans++ buf='a'\n",
      "i=8, S[i]='b', chars='b', buf='a'\n",
      "ans++ buf='b'\n",
      "i=9, S[i]='a', chars='a', buf='b'\n",
      "ans++ buf='a'\n",
      "i=10, S[i]='a', chars='a', buf='a'\n",
      "Oops, add next char to chars\n",
      "i=11, S[i]='b', chars='ab', buf='a'\n",
      "ans++ buf='ab'\n",
      "i=12, S[i]='a', chars='a', buf='ab'\n",
      "ans++ buf='a'\n",
      "i=13, S[i]='b', chars='b', buf='a'\n",
      "ans++ buf='b'\n",
      "i=14, S[i]='c', chars='c', buf='b'\n",
      "ans++ buf='c'\n",
      "12\n"
     ]
    }
   ],
   "source": [
    "N = len(S)\n",
    "ans = 1\n",
    "\n",
    "i = 1\n",
    "chars = ''\n",
    "buf = S[0]\n",
    "print(f'i=0, S[i]={S[0]}, chars={S[0]}, buf=\\'\\'')\n",
    "while i < N:\n",
    "    chars += S[i]\n",
    "    print(f'{i=}, {S[i]=}, {chars=}, {buf=}')\n",
    "    if buf == chars:\n",
    "        print(f'Oops, add next char to chars')\n",
    "    else:\n",
    "        ans += 1\n",
    "        buf = chars\n",
    "        print(f'ans++ {buf=}')\n",
    "        chars = ''\n",
    "    i += 1\n",
    "print(ans)"
   ]
  },
  {
   "cell_type": "markdown",
   "metadata": {},
   "source": [
    "## submit"
   ]
  },
  {
   "cell_type": "code",
   "execution_count": 48,
   "metadata": {},
   "outputs": [
    {
     "name": "stdin",
     "output_type": "stream",
     "text": [
      " aabbaa\n"
     ]
    },
    {
     "name": "stdout",
     "output_type": "stream",
     "text": [
      "4\n"
     ]
    }
   ],
   "source": [
    "def main():\n",
    "    S = input()\n",
    "\n",
    "    N = len(S)\n",
    "    ans = 1\n",
    "\n",
    "    i = 1\n",
    "    chars = ''\n",
    "    buf = S[0]\n",
    "    while i < N:\n",
    "        chars += S[i]\n",
    "        if buf == chars:\n",
    "            pass\n",
    "        else:\n",
    "            ans += 1\n",
    "            buf = chars\n",
    "            chars = ''\n",
    "        i += 1\n",
    "    print(ans)\n",
    "main()"
   ]
  },
  {
   "cell_type": "code",
   "execution_count": null,
   "metadata": {},
   "outputs": [],
   "source": []
  }
 ],
 "metadata": {
  "kernelspec": {
   "display_name": "Python 3",
   "language": "python",
   "name": "python3"
  },
  "language_info": {
   "codemirror_mode": {
    "name": "ipython",
    "version": 3
   },
   "file_extension": ".py",
   "mimetype": "text/x-python",
   "name": "python",
   "nbconvert_exporter": "python",
   "pygments_lexer": "ipython3",
   "version": "3.8.1"
  }
 },
 "nbformat": 4,
 "nbformat_minor": 4
}
