{
 "cells": [
  {
   "cell_type": "code",
   "execution_count": 1,
   "metadata": {},
   "outputs": [
    {
     "data": {
      "application/vnd.jupyter.widget-view+json": {
       "model_id": "4a94a765dfc5488ab8b6a25ec49e8a0c",
       "version_major": 2,
       "version_minor": 0
      },
      "text/plain": [
       "Textarea(value='')"
      ]
     },
     "metadata": {},
     "output_type": "display_data"
    }
   ],
   "source": [
    "from ipywidgets import Textarea\n",
    "\n",
    "def get_input(change):\n",
    "    global Input\n",
    "    Input=change[\"new\"].splitlines()\n",
    "textarea = Textarea()\n",
    "textarea.observe(get_input, names='value')\n",
    "display(textarea)"
   ]
  },
  {
   "cell_type": "code",
   "execution_count": 17,
   "metadata": {},
   "outputs": [
    {
     "name": "stdout",
     "output_type": "stream",
     "text": [
      "2\n",
      "  n-k=-2\n",
      "  1 0\n",
      "  num=0\n",
      "3\n",
      "  n-k=-1\n",
      "  2 0\n",
      "  num=0\n",
      "----------\n",
      "4\n",
      "  n-k=0\n",
      "  3 0\n",
      "  num=0\n",
      "5\n",
      "  n-k=1\n",
      "  2 0\n",
      "  num=0\n",
      "6\n",
      "  n-k=2\n",
      "  1 1\n",
      "  num=1\n",
      "1\n"
     ]
    }
   ],
   "source": [
    "def count_cd(sum_cd):\n",
    "    if sum_cd <= N+1:\n",
    "        return max(sum_cd - 1, 0)\n",
    "\n",
    "    return 2*N - sum_cd + 1\n",
    "\n",
    "N = 3\n",
    "k = 4\n",
    "\n",
    "ans = 0\n",
    "\n",
    "for n in range(2, N+1):\n",
    "    print(n)\n",
    "    count_ab = n - 1\n",
    "    print(f'  {n-k=}')\n",
    "    num = count_ab * count_cd(n - k)\n",
    "    print(' ', count_ab, count_cd(n-k))\n",
    "    print(f'  {num=}')\n",
    "    ans += num\n",
    "\n",
    "print('----------')\n",
    "    \n",
    "for n in range(N+1, 2*N+1):\n",
    "    print(n)\n",
    "    count_ab = 2*N - n + 1\n",
    "    print(f'  {n-k=}')\n",
    "    num = count_ab * count_cd(n - k)\n",
    "    print(' ', count_ab, count_cd(n-k))\n",
    "    print(f'  {num=}')\n",
    "    ans += num\n",
    "\n",
    "print(ans)"
   ]
  },
  {
   "cell_type": "code",
   "execution_count": 20,
   "metadata": {},
   "outputs": [
    {
     "name": "stdin",
     "output_type": "stream",
     "text": [
      " 2525 -425\n"
     ]
    },
    {
     "name": "stdout",
     "output_type": "stream",
     "text": [
      "10314607400\n"
     ]
    }
   ],
   "source": [
    "def count_cd(sum_cd):\n",
    "    if sum_cd <= N+1:\n",
    "        return min(max(sum_cd - 1, 0), 2*N)\n",
    "\n",
    "    return 2*N - sum_cd + 1\n",
    "\n",
    "\n",
    "N, K = map(int, input().split())\n",
    "k = abs(K)\n",
    "\n",
    "ans = 0\n",
    "\n",
    "for n in range(2, N+1):\n",
    "    count_ab = n - 1\n",
    "    num = count_ab * count_cd(n - k)\n",
    "    ans += num\n",
    "\n",
    "for n in range(N+1, 2*N+1):\n",
    "    count_ab = 2*N - n + 1\n",
    "    num = count_ab * count_cd(n - k)\n",
    "    ans += num\n",
    "\n",
    "print(ans)"
   ]
  },
  {
   "cell_type": "code",
   "execution_count": null,
   "metadata": {},
   "outputs": [],
   "source": []
  },
  {
   "cell_type": "code",
   "execution_count": null,
   "metadata": {},
   "outputs": [],
   "source": []
  },
  {
   "cell_type": "code",
   "execution_count": null,
   "metadata": {},
   "outputs": [],
   "source": [
    "map(int, input().split())\n",
    "list(map(int, input().split()))\n",
    "[list(map(int, input().split())) for _ in range(N)]"
   ]
  }
 ],
 "metadata": {
  "kernelspec": {
   "display_name": "Python 3",
   "language": "python",
   "name": "python3"
  },
  "language_info": {
   "codemirror_mode": {
    "name": "ipython",
    "version": 3
   },
   "file_extension": ".py",
   "mimetype": "text/x-python",
   "name": "python",
   "nbconvert_exporter": "python",
   "pygments_lexer": "ipython3",
   "version": "3.8.1"
  }
 },
 "nbformat": 4,
 "nbformat_minor": 4
}
