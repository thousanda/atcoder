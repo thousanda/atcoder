{
 "cells": [
  {
   "cell_type": "code",
   "execution_count": 1,
   "metadata": {},
   "outputs": [
    {
     "data": {
      "application/vnd.jupyter.widget-view+json": {
       "model_id": "51908b0f363f4075a73dccf20a62333d",
       "version_major": 2,
       "version_minor": 0
      },
      "text/plain": [
       "Textarea(value='')"
      ]
     },
     "metadata": {},
     "output_type": "display_data"
    }
   ],
   "source": [
    "from ipywidgets import Textarea\n",
    "\n",
    "def get_input(change):\n",
    "    global Input\n",
    "    Input=change[\"new\"].splitlines()\n",
    "textarea = Textarea()\n",
    "textarea.observe(get_input, names='value')\n",
    "display(textarea)"
   ]
  },
  {
   "cell_type": "code",
   "execution_count": 2,
   "metadata": {},
   "outputs": [],
   "source": [
    "N, K = map(int, Input[0].split())\n",
    "A = list(map(int, Input[1].split()))"
   ]
  },
  {
   "cell_type": "markdown",
   "metadata": {},
   "source": [
    "# imos法 and サチったら止める"
   ]
  },
  {
   "cell_type": "code",
   "execution_count": null,
   "metadata": {},
   "outputs": [],
   "source": []
  },
  {
   "cell_type": "code",
   "execution_count": null,
   "metadata": {},
   "outputs": [],
   "source": []
  },
  {
   "cell_type": "code",
   "execution_count": null,
   "metadata": {},
   "outputs": [],
   "source": []
  },
  {
   "cell_type": "code",
   "execution_count": null,
   "metadata": {},
   "outputs": [],
   "source": []
  },
  {
   "cell_type": "markdown",
   "metadata": {},
   "source": [
    "# 以下、問題の通りに実装すると O(KN^2) でTLE"
   ]
  },
  {
   "cell_type": "code",
   "execution_count": 11,
   "metadata": {},
   "outputs": [
    {
     "name": "stdout",
     "output_type": "stream",
     "text": [
      "i=0, a=1, l=0, r=1\n",
      "[1, 1, 0, 0, 0]\n",
      "i=1, a=0, l=1, r=1\n",
      "[1, 2, 0, 0, 0]\n",
      "i=2, a=0, l=2, r=2\n",
      "[1, 2, 1, 0, 0]\n",
      "i=3, a=1, l=2, r=4\n",
      "[1, 2, 2, 1, 1]\n",
      "i=4, a=0, l=4, r=4\n",
      "[1, 2, 2, 1, 2]\n",
      "\n",
      "i=0, a=1, l=0, r=1\n",
      "[1, 1, 0, 0, 0]\n",
      "i=1, a=2, l=0, r=3\n",
      "[2, 2, 1, 1, 0]\n",
      "i=2, a=2, l=0, r=4\n",
      "[3, 3, 2, 2, 1]\n",
      "i=3, a=1, l=2, r=4\n",
      "[3, 3, 3, 3, 2]\n",
      "i=4, a=2, l=2, r=4\n",
      "[3, 3, 4, 4, 3]\n",
      "\n"
     ]
    }
   ],
   "source": [
    "A_ = list(A)\n",
    "for k in range(2):\n",
    "    B = [0]*(N)\n",
    "    for i in range(N):\n",
    "        a = A_[i]\n",
    "        l = max(0, i-a)\n",
    "        r = min(N-1, i+a)\n",
    "        print(f'{i=}, {a=}, {l=}, {r=}')\n",
    "        for j in range(l, r+1):\n",
    "            B[j] += 1\n",
    "        print(B)\n",
    "    A_ = list(B)\n",
    "    print()"
   ]
  },
  {
   "cell_type": "code",
   "execution_count": 14,
   "metadata": {},
   "outputs": [
    {
     "name": "stdin",
     "output_type": "stream",
     "text": [
      " 5 2\n",
      " 1 0 0 1 0\n"
     ]
    },
    {
     "name": "stdout",
     "output_type": "stream",
     "text": [
      "3 3 4 4 3\n"
     ]
    }
   ],
   "source": [
    "import sys\n",
    "def input():\n",
    "    return sys.stdin.readline()[:-1]\n",
    "\n",
    "def main():\n",
    "    N, K = map(int, input().split())\n",
    "    A = list(map(int, input().split()))\n",
    "\n",
    "    A_ = list(A)\n",
    "    for k in range(K):\n",
    "        B = [0]*(N)\n",
    "        for i in range(N):\n",
    "            a = A_[i]\n",
    "            l = max(0, i-a)\n",
    "            r = min(N-1, i+a)\n",
    "            for j in range(l, r+1):\n",
    "                B[j] += 1\n",
    "        A_ = list(B)\n",
    "    print(*A_)\n",
    "main()"
   ]
  }
 ],
 "metadata": {
  "kernelspec": {
   "display_name": "Python 3",
   "language": "python",
   "name": "python3"
  },
  "language_info": {
   "codemirror_mode": {
    "name": "ipython",
    "version": 3
   },
   "file_extension": ".py",
   "mimetype": "text/x-python",
   "name": "python",
   "nbconvert_exporter": "python",
   "pygments_lexer": "ipython3",
   "version": "3.8.1"
  }
 },
 "nbformat": 4,
 "nbformat_minor": 4
}
