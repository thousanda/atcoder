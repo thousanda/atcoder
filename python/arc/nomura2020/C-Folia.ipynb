{
 "cells": [
  {
   "cell_type": "code",
   "execution_count": 1,
   "metadata": {},
   "outputs": [
    {
     "data": {
      "application/vnd.jupyter.widget-view+json": {
       "model_id": "4fb7893a648e482db9d11dc7ff018e69",
       "version_major": 2,
       "version_minor": 0
      },
      "text/plain": [
       "Textarea(value='')"
      ]
     },
     "metadata": {},
     "output_type": "display_data"
    }
   ],
   "source": [
    "from ipywidgets import Textarea\n",
    "\n",
    "def get_input(change):\n",
    "    global Input\n",
    "    Input=change[\"new\"].splitlines()\n",
    "\n",
    "textarea = Textarea()\n",
    "textarea.observe(get_input, names='value')\n",
    "display(textarea)"
   ]
  },
  {
   "cell_type": "code",
   "execution_count": 52,
   "metadata": {},
   "outputs": [],
   "source": [
    "N = int(Input[0])\n",
    "A = list(map(int, Input[1].split()))"
   ]
  },
  {
   "cell_type": "code",
   "execution_count": null,
   "metadata": {},
   "outputs": [],
   "source": []
  },
  {
   "cell_type": "code",
   "execution_count": null,
   "metadata": {},
   "outputs": [],
   "source": []
  },
  {
   "cell_type": "code",
   "execution_count": null,
   "metadata": {},
   "outputs": [],
   "source": []
  },
  {
   "cell_type": "markdown",
   "metadata": {},
   "source": [
    "# 以下、コンテスト中に書いたやつ"
   ]
  },
  {
   "cell_type": "code",
   "execution_count": 67,
   "metadata": {},
   "outputs": [
    {
     "name": "stdout",
     "output_type": "stream",
     "text": [
      "perfect=[1, 2, 4, 8]\n",
      "n=0\n",
      "[2, 4, 8]\n",
      "0\n",
      "perfect=[1, 2, 4, 8]\n",
      "\n",
      "n=1\n",
      "[2, 4]\n",
      "1\n",
      "perfect=[1, 2, 2, 4]\n",
      "\n",
      "n=2\n",
      "[2]\n",
      "1\n",
      "perfect=[1, 2, 2, 2]\n",
      "\n"
     ]
    }
   ],
   "source": [
    "# 完全二分木から引いてく TLE\n",
    "perfect = [2**n for n in range(N+1)]\n",
    "print(f'{perfect=}')\n",
    "total = sum(perfect)\n",
    "for n in range(N):\n",
    "    print(f'{n=}')\n",
    "    if perfect[n] <= A[n]:\n",
    "        print(-1)\n",
    "        break\n",
    "    remain = N - n\n",
    "    deleted = [2**(i+1) for i in range(remain)]\n",
    "    print(deleted)\n",
    "    print(A[n])\n",
    "    for i in range(remain):\n",
    "        perfect[n+i+1] -= deleted[i]*A[n]\n",
    "    print(f'{perfect=}')\n",
    "    print()\n",
    "    #sum(deleted) * (perfect[n])"
   ]
  },
  {
   "cell_type": "code",
   "execution_count": 68,
   "metadata": {},
   "outputs": [
    {
     "name": "stdin",
     "output_type": "stream",
     "text": [
      " 3\n",
      " 0 1 1 2\n"
     ]
    },
    {
     "name": "stdout",
     "output_type": "stream",
     "text": [
      "7\n"
     ]
    }
   ],
   "source": [
    "def main():\n",
    "    N = int(input())\n",
    "    A = list(map(int, input().split()))\n",
    "    perfect = [2**n for n in range(N+1)]\n",
    "    for n in range(N):\n",
    "        if perfect[n] <= A[n]:\n",
    "            print(-1)\n",
    "            break\n",
    "        remain = N - n\n",
    "        deleted = [2**(i+1) for i in range(remain)]\n",
    "        for i in range(remain):\n",
    "            perfect[n+i+1] -= deleted[i]*A[n]\n",
    "    else:\n",
    "        print(sum(perfect))\n",
    "main()"
   ]
  },
  {
   "cell_type": "code",
   "execution_count": null,
   "metadata": {},
   "outputs": [],
   "source": []
  },
  {
   "cell_type": "code",
   "execution_count": null,
   "metadata": {},
   "outputs": [],
   "source": []
  },
  {
   "cell_type": "code",
   "execution_count": null,
   "metadata": {},
   "outputs": [],
   "source": []
  },
  {
   "cell_type": "code",
   "execution_count": 45,
   "metadata": {},
   "outputs": [
    {
     "name": "stdout",
     "output_type": "stream",
     "text": [
      "[{1}, set(), set(), set(), set()]\n",
      "\n",
      "tree[0] = {1}, A[0] = 0\n",
      "  ver_i=1: notleef=1\n",
      "   => minimum=1, maximum=2\n",
      "\n",
      "tree[1] = {1, 2}, A[1] = 0\n",
      "  ver_i=1: notleef=1\n",
      "   => minimum=1, maximum=2\n",
      "  ver_i=2: notleef=2\n",
      "   => minimum=2, maximum=4\n",
      "\n",
      "tree[2] = {1, 2, 3, 4}, A[2] = 1\n",
      "  ver_i=1: notleef=0\n",
      "   => owari\n",
      "  ver_i=2: notleef=1\n",
      "   => minimum=1, maximum=2\n",
      "  ver_i=3: notleef=2\n",
      "   => minimum=2, maximum=4\n",
      "  ver_i=4: notleef=3\n",
      "   => minimum=3, maximum=6\n",
      "\n",
      "tree[3] = {1, 2, 3, 4, 5, 6}, A[3] = 0\n",
      "  ver_i=1: notleef=1\n",
      "   => minimum=1, maximum=2\n",
      "  ver_i=2: notleef=2\n",
      "   => minimum=2, maximum=4\n",
      "  ver_i=3: notleef=3\n",
      "   => minimum=3, maximum=6\n",
      "  ver_i=4: notleef=4\n",
      "   => minimum=4, maximum=8\n",
      "  ver_i=5: notleef=5\n",
      "   => minimum=5, maximum=10\n",
      "  ver_i=6: notleef=6\n",
      "   => minimum=6, maximum=12\n",
      "\n",
      "[{1}, {1, 2}, {2, 3, 4}, {1, 2, 3, 4, 5, 6}, {1, 2, 3, 4, 5, 6, 7, 8, 9, 10, 11, 12}] [0, 0, 1, 0, 2]\n",
      "OK\n",
      "[{1}, {1, 2}, {2, 3, 4}, {1, 2, 3, 4, 5, 6}, {2}]\n",
      "15\n"
     ]
    }
   ],
   "source": [
    "if A[0] >= 2:\n",
    "    print(-1)\n",
    "    print('owari')\n",
    "\n",
    "if N == 0:\n",
    "    if A[0] == 1:\n",
    "        print(1)\n",
    "    else:\n",
    "        print(-1)\n",
    "    print('owari')\n",
    "\n",
    "# tree = [None]*(N+1)\n",
    "tree = [set() for _ in range(N+1)]\n",
    "tree[0].add(1)\n",
    "print(tree)\n",
    "print()\n",
    "\n",
    "for i in range(N):\n",
    "    print(f'tree[{i}] = {tree[i]}, A[{i}] = {A[i]}')\n",
    "    unsuitable = set()\n",
    "    for ver_i in tree[i]:\n",
    "        notleef = ver_i - A[i]\n",
    "        print(f'  {ver_i=}: {notleef=}')\n",
    "        if notleef <= 0:\n",
    "            print('   => owari')\n",
    "            unsuitable.add(ver_i)\n",
    "            continue\n",
    "        minimum = notleef\n",
    "        maximum = 2 * notleef\n",
    "        print(f'   => {minimum=}, {maximum=}')\n",
    "        tree[i+1] = tree[i+1] | set([j for j in range(minimum, maximum+1)])\n",
    "    tree[i] -= unsuitable\n",
    "    print()\n",
    "print(tree, A)\n",
    "\n",
    "if A[-1] in tree[-1]:\n",
    "    tree[-1] = set([A[-1]])\n",
    "    print('OK')\n",
    "else:\n",
    "    print(-1)\n",
    "    \n",
    "print(tree)\n",
    "print(sum([max(i) for i in tree]))"
   ]
  },
  {
   "cell_type": "code",
   "execution_count": null,
   "metadata": {},
   "outputs": [],
   "source": []
  },
  {
   "cell_type": "code",
   "execution_count": null,
   "metadata": {},
   "outputs": [],
   "source": [
    "import sys\n",
    "\n",
    "def main():\n",
    "    N = int(input())\n",
    "    A = list(map(int, input().split()))\n",
    "\n",
    "    if A[0] >= 2:\n",
    "        print(-1)\n",
    "        sys.exit()\n",
    "\n",
    "    if N == 0:\n",
    "        if A[0] == 1:\n",
    "            print(1)\n",
    "        else:\n",
    "            print(-1)\n",
    "        sys.exit()\n",
    "\n",
    "    tree = [set() for _ in range(N+1)]\n",
    "    tree[0].add(1)\n",
    "\n",
    "    for i in range(N):\n",
    "        unsuitable = set()\n",
    "        for ver_i in tree[i]:\n",
    "            notleef = ver_i - A[i]\n",
    "            if notleef <= 0:\n",
    "                print(-1)\n",
    "                sys.exit()\n",
    "                unsuitable.add(ver_i)\n",
    "                continue\n",
    "            minimum = notleef\n",
    "            maximum = 2 * notleef\n",
    "            tree[i+1] = tree[i+1] | set([j for j in range(minimum, maximum+1)])\n",
    "        tree[i] -= unsuitable\n",
    "        print()\n",
    "\n",
    "    if A[-1] in tree[-1]:\n",
    "        tree[-1] = set([A[-1]])\n",
    "    else:\n",
    "        print(-1)\n",
    "        sys.exit()\n",
    "        \n",
    "    print(sum([max(i) for i in tree]))\n",
    "\n",
    "main()"
   ]
  }
 ],
 "metadata": {
  "kernelspec": {
   "display_name": "Python 3",
   "language": "python",
   "name": "python3"
  },
  "language_info": {
   "codemirror_mode": {
    "name": "ipython",
    "version": 3
   },
   "file_extension": ".py",
   "mimetype": "text/x-python",
   "name": "python",
   "nbconvert_exporter": "python",
   "pygments_lexer": "ipython3",
   "version": "3.8.1"
  }
 },
 "nbformat": 4,
 "nbformat_minor": 4
}
