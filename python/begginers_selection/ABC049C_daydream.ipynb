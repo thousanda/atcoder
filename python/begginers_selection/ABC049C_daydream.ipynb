{
 "cells": [
  {
   "cell_type": "code",
   "execution_count": 16,
   "metadata": {},
   "outputs": [
    {
     "name": "stdin",
     "output_type": "stream",
     "text": [
      " dreameraserdreamer\n"
     ]
    }
   ],
   "source": [
    "string = input()"
   ]
  },
  {
   "cell_type": "code",
   "execution_count": 19,
   "metadata": {},
   "outputs": [
    {
     "name": "stdout",
     "output_type": "stream",
     "text": [
      "YES\n"
     ]
    }
   ],
   "source": [
    "remain = [string]\n",
    "next_remain = []\n",
    "\n",
    "def is_last_word(string):\n",
    "    return string in ['dream', 'dreamer', 'erase', 'eraser']\n",
    "\n",
    "was_broken = False\n",
    "while True:\n",
    "    for s in remain:\n",
    "        if is_last_word(s):\n",
    "            print('YES')\n",
    "            was_broken = True\n",
    "            break\n",
    "\n",
    "        if s.startswith('dream'):\n",
    "            next_remain.append(s[5:])\n",
    "            if s.startswith('dreamer'):\n",
    "                next_remain.append(s[7:])\n",
    "        elif s.startswith('erase'):\n",
    "            next_remain.append(s[5:])\n",
    "            if s.startswith('eraser'):\n",
    "                next_remain.append(s[6:])\n",
    "    else:\n",
    "        if next_remain == []:\n",
    "            print('NO')\n",
    "            break\n",
    "        remain = next_remain\n",
    "        next_remain = []\n",
    "    \n",
    "    if was_broken:\n",
    "        break"
   ]
  },
  {
   "cell_type": "code",
   "execution_count": null,
   "metadata": {},
   "outputs": [],
   "source": []
  }
 ],
 "metadata": {
  "kernelspec": {
   "display_name": "Python 3",
   "language": "python",
   "name": "python3"
  },
  "language_info": {
   "codemirror_mode": {
    "name": "ipython",
    "version": 3
   },
   "file_extension": ".py",
   "mimetype": "text/x-python",
   "name": "python",
   "nbconvert_exporter": "python",
   "pygments_lexer": "ipython3",
   "version": "3.8.1"
  }
 },
 "nbformat": 4,
 "nbformat_minor": 4
}
