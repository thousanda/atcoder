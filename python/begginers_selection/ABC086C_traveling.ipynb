{
 "cells": [
  {
   "cell_type": "code",
   "execution_count": 9,
   "metadata": {},
   "outputs": [
    {
     "name": "stdin",
     "output_type": "stream",
     "text": [
      " 3\n",
      " 3 1 0\n",
      " 7 0 0\n",
      " 100 0 3\n"
     ]
    }
   ],
   "source": [
    "N = int(input())\n",
    "plans = [list(map(int, input().split())) for _ in range(N)]"
   ]
  },
  {
   "cell_type": "code",
   "execution_count": 10,
   "metadata": {},
   "outputs": [
    {
     "name": "stdout",
     "output_type": "stream",
     "text": [
      "duration=3, x_diff=1, y_diff=0, l1dist=1\n",
      "duration=4, x_diff=1, y_diff=0, l1dist=1\n",
      "NO\n"
     ]
    }
   ],
   "source": [
    "t = 0\n",
    "x = 0\n",
    "y = 0\n",
    "for plan in plans:\n",
    "    duration = plan[0] - t\n",
    "    x_diff = abs(x - plan[1])\n",
    "    y_diff = abs(y - plan[2])\n",
    "    l1dist = x_diff + y_diff\n",
    "\n",
    "    print(f'{duration=}, {x_diff=}, {y_diff=}, {l1dist=}')\n",
    "    \n",
    "    if l1dist > duration:\n",
    "        print('No')\n",
    "        break\n",
    "    \n",
    "    if (duration % 2 == 0) ^ (l1dist % 2 == 0):\n",
    "            print('No')\n",
    "            break\n",
    "            \n",
    "    t, x, y = plan\n",
    "else:\n",
    "    print('Yes')"
   ]
  },
  {
   "cell_type": "code",
   "execution_count": null,
   "metadata": {},
   "outputs": [],
   "source": []
  }
 ],
 "metadata": {
  "kernelspec": {
   "display_name": "Python 3",
   "language": "python",
   "name": "python3"
  },
  "language_info": {
   "codemirror_mode": {
    "name": "ipython",
    "version": 3
   },
   "file_extension": ".py",
   "mimetype": "text/x-python",
   "name": "python",
   "nbconvert_exporter": "python",
   "pygments_lexer": "ipython3",
   "version": "3.8.1"
  }
 },
 "nbformat": 4,
 "nbformat_minor": 4
}
