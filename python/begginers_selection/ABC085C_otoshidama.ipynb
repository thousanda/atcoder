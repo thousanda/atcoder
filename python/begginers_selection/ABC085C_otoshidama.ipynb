{
 "cells": [
  {
   "cell_type": "code",
   "execution_count": 10,
   "metadata": {},
   "outputs": [
    {
     "name": "stdin",
     "output_type": "stream",
     "text": [
      " 2000 20000000\n"
     ]
    }
   ],
   "source": [
    "num_bills, total_yen = map(int, input().split())"
   ]
  },
  {
   "cell_type": "code",
   "execution_count": 12,
   "metadata": {},
   "outputs": [
    {
     "name": "stdout",
     "output_type": "stream",
     "text": [
      "2000 0 0\n"
     ]
    }
   ],
   "source": [
    "was_break = False\n",
    "\n",
    "# 10k\n",
    "for i in range(0, num_bills+1):\n",
    "    # 5k\n",
    "    for j in range(0, num_bills-i+1):\n",
    "        # 1k\n",
    "        k = num_bills - i - j\n",
    "        yen = 10000*i + 5000*j + 1000*k\n",
    "        \n",
    "        if yen == total_yen:\n",
    "            print('{} {} {}'.format(i, j, k))\n",
    "            was_break = True\n",
    "            break\n",
    "    if was_break:\n",
    "        break\n",
    "else:\n",
    "    print('-1 -1 -1')"
   ]
  },
  {
   "cell_type": "code",
   "execution_count": null,
   "metadata": {},
   "outputs": [],
   "source": []
  }
 ],
 "metadata": {
  "kernelspec": {
   "display_name": "Python 3",
   "language": "python",
   "name": "python3"
  },
  "language_info": {
   "codemirror_mode": {
    "name": "ipython",
    "version": 3
   },
   "file_extension": ".py",
   "mimetype": "text/x-python",
   "name": "python",
   "nbconvert_exporter": "python",
   "pygments_lexer": "ipython3",
   "version": "3.8.1"
  }
 },
 "nbformat": 4,
 "nbformat_minor": 4
}
